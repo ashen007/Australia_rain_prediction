{
 "cells": [
  {
   "cell_type": "code",
   "execution_count": 1,
   "metadata": {
    "collapsed": true
   },
   "outputs": [],
   "source": [
    "import scipy.stats as ss\n",
    "import numpy as np\n",
    "import pandas as pd\n",
    "import plotly.graph_objs as go\n",
    "import plotly.express as px"
   ]
  },
  {
   "cell_type": "code",
   "execution_count": 26,
   "outputs": [
    {
     "data": {
      "text/plain": "             Date Location  MinTemp    MaxTemp  Rainfall  Evaporation  \\\n0      2008-12-01   Albury     13.4  22.900000       0.6          1.4   \n1      2008-12-02   Albury      7.4  25.100000       0.0          0.8   \n2      2008-12-03   Albury     12.9  25.700000       0.0          6.2   \n3      2008-12-04   Albury      9.2  28.000000       0.0          3.8   \n4      2008-12-05   Albury     17.5  32.300000       1.0          3.6   \n...           ...      ...      ...        ...       ...          ...   \n145455 2017-06-21    Uluru      2.8  23.400000       0.0          5.0   \n145456 2017-06-22    Uluru      3.6  25.300000       0.0          5.4   \n145457 2017-06-23    Uluru      5.4  26.900000       0.0          3.2   \n145458 2017-06-24    Uluru      7.8  27.000000       0.0          1.6   \n145459 2017-06-25    Uluru     14.9  30.383195       0.0          8.0   \n\n        Sunshine WindGustDir  WindGustSpeed WindDir9am  ... Humidity3pm  \\\n0            9.5           W           44.0          W  ...        22.0   \n1            0.3         WNW           44.0        NNW  ...        25.0   \n2            4.7         WSW           46.0          W  ...        30.0   \n3            3.0          NE           24.0         SE  ...        16.0   \n4           11.6           W           41.0        ENE  ...        33.0   \n...          ...         ...            ...        ...  ...         ...   \n145455      10.8           E           31.0         SE  ...        24.0   \n145456       5.6         NNW           22.0         SE  ...        21.0   \n145457       0.0           N           37.0         SE  ...        24.0   \n145458       6.6          SE           28.0        SSE  ...        24.0   \n145459      10.9           E           54.0        ESE  ...        36.0   \n\n        Pressure9am  Pressure3pm  Cloud9am  Cloud3pm  Temp9am  Temp3pm  \\\n0            1007.7       1007.1       8.0       4.0     16.9     21.8   \n1            1010.6       1007.8       7.0       0.0     17.2     24.3   \n2            1007.6       1008.7       0.0       2.0     21.0     23.2   \n3            1017.6       1012.8       4.0       3.0     18.1     26.5   \n4            1010.8       1006.0       7.0       8.0     17.8     29.7   \n...             ...          ...       ...       ...      ...      ...   \n145455       1024.6       1020.3       8.0       7.0     10.1     22.4   \n145456       1023.5       1019.1       4.0       7.0     10.9     24.5   \n145457       1021.0       1016.8       4.0       0.0     12.5     26.1   \n145458       1019.4       1016.5       3.0       2.0     15.1     26.0   \n145459       1020.2       1017.9       8.0       8.0     15.0     20.9   \n\n        RainToday  RainTomorrow  sort_dir  \n0              No            No        12  \n1              No            No        13  \n2              No            No        11  \n3              No            No         2  \n4              No            No        12  \n...           ...           ...       ...  \n145455         No            No         4  \n145456         No            No        15  \n145457         No            No         0  \n145458         No            No         6  \n145459         No           Yes         4  \n\n[145460 rows x 24 columns]",
      "text/html": "<div>\n<style scoped>\n    .dataframe tbody tr th:only-of-type {\n        vertical-align: middle;\n    }\n\n    .dataframe tbody tr th {\n        vertical-align: top;\n    }\n\n    .dataframe thead th {\n        text-align: right;\n    }\n</style>\n<table border=\"1\" class=\"dataframe\">\n  <thead>\n    <tr style=\"text-align: right;\">\n      <th></th>\n      <th>Date</th>\n      <th>Location</th>\n      <th>MinTemp</th>\n      <th>MaxTemp</th>\n      <th>Rainfall</th>\n      <th>Evaporation</th>\n      <th>Sunshine</th>\n      <th>WindGustDir</th>\n      <th>WindGustSpeed</th>\n      <th>WindDir9am</th>\n      <th>...</th>\n      <th>Humidity3pm</th>\n      <th>Pressure9am</th>\n      <th>Pressure3pm</th>\n      <th>Cloud9am</th>\n      <th>Cloud3pm</th>\n      <th>Temp9am</th>\n      <th>Temp3pm</th>\n      <th>RainToday</th>\n      <th>RainTomorrow</th>\n      <th>sort_dir</th>\n    </tr>\n  </thead>\n  <tbody>\n    <tr>\n      <th>0</th>\n      <td>2008-12-01</td>\n      <td>Albury</td>\n      <td>13.4</td>\n      <td>22.900000</td>\n      <td>0.6</td>\n      <td>1.4</td>\n      <td>9.5</td>\n      <td>W</td>\n      <td>44.0</td>\n      <td>W</td>\n      <td>...</td>\n      <td>22.0</td>\n      <td>1007.7</td>\n      <td>1007.1</td>\n      <td>8.0</td>\n      <td>4.0</td>\n      <td>16.9</td>\n      <td>21.8</td>\n      <td>No</td>\n      <td>No</td>\n      <td>12</td>\n    </tr>\n    <tr>\n      <th>1</th>\n      <td>2008-12-02</td>\n      <td>Albury</td>\n      <td>7.4</td>\n      <td>25.100000</td>\n      <td>0.0</td>\n      <td>0.8</td>\n      <td>0.3</td>\n      <td>WNW</td>\n      <td>44.0</td>\n      <td>NNW</td>\n      <td>...</td>\n      <td>25.0</td>\n      <td>1010.6</td>\n      <td>1007.8</td>\n      <td>7.0</td>\n      <td>0.0</td>\n      <td>17.2</td>\n      <td>24.3</td>\n      <td>No</td>\n      <td>No</td>\n      <td>13</td>\n    </tr>\n    <tr>\n      <th>2</th>\n      <td>2008-12-03</td>\n      <td>Albury</td>\n      <td>12.9</td>\n      <td>25.700000</td>\n      <td>0.0</td>\n      <td>6.2</td>\n      <td>4.7</td>\n      <td>WSW</td>\n      <td>46.0</td>\n      <td>W</td>\n      <td>...</td>\n      <td>30.0</td>\n      <td>1007.6</td>\n      <td>1008.7</td>\n      <td>0.0</td>\n      <td>2.0</td>\n      <td>21.0</td>\n      <td>23.2</td>\n      <td>No</td>\n      <td>No</td>\n      <td>11</td>\n    </tr>\n    <tr>\n      <th>3</th>\n      <td>2008-12-04</td>\n      <td>Albury</td>\n      <td>9.2</td>\n      <td>28.000000</td>\n      <td>0.0</td>\n      <td>3.8</td>\n      <td>3.0</td>\n      <td>NE</td>\n      <td>24.0</td>\n      <td>SE</td>\n      <td>...</td>\n      <td>16.0</td>\n      <td>1017.6</td>\n      <td>1012.8</td>\n      <td>4.0</td>\n      <td>3.0</td>\n      <td>18.1</td>\n      <td>26.5</td>\n      <td>No</td>\n      <td>No</td>\n      <td>2</td>\n    </tr>\n    <tr>\n      <th>4</th>\n      <td>2008-12-05</td>\n      <td>Albury</td>\n      <td>17.5</td>\n      <td>32.300000</td>\n      <td>1.0</td>\n      <td>3.6</td>\n      <td>11.6</td>\n      <td>W</td>\n      <td>41.0</td>\n      <td>ENE</td>\n      <td>...</td>\n      <td>33.0</td>\n      <td>1010.8</td>\n      <td>1006.0</td>\n      <td>7.0</td>\n      <td>8.0</td>\n      <td>17.8</td>\n      <td>29.7</td>\n      <td>No</td>\n      <td>No</td>\n      <td>12</td>\n    </tr>\n    <tr>\n      <th>...</th>\n      <td>...</td>\n      <td>...</td>\n      <td>...</td>\n      <td>...</td>\n      <td>...</td>\n      <td>...</td>\n      <td>...</td>\n      <td>...</td>\n      <td>...</td>\n      <td>...</td>\n      <td>...</td>\n      <td>...</td>\n      <td>...</td>\n      <td>...</td>\n      <td>...</td>\n      <td>...</td>\n      <td>...</td>\n      <td>...</td>\n      <td>...</td>\n      <td>...</td>\n      <td>...</td>\n    </tr>\n    <tr>\n      <th>145455</th>\n      <td>2017-06-21</td>\n      <td>Uluru</td>\n      <td>2.8</td>\n      <td>23.400000</td>\n      <td>0.0</td>\n      <td>5.0</td>\n      <td>10.8</td>\n      <td>E</td>\n      <td>31.0</td>\n      <td>SE</td>\n      <td>...</td>\n      <td>24.0</td>\n      <td>1024.6</td>\n      <td>1020.3</td>\n      <td>8.0</td>\n      <td>7.0</td>\n      <td>10.1</td>\n      <td>22.4</td>\n      <td>No</td>\n      <td>No</td>\n      <td>4</td>\n    </tr>\n    <tr>\n      <th>145456</th>\n      <td>2017-06-22</td>\n      <td>Uluru</td>\n      <td>3.6</td>\n      <td>25.300000</td>\n      <td>0.0</td>\n      <td>5.4</td>\n      <td>5.6</td>\n      <td>NNW</td>\n      <td>22.0</td>\n      <td>SE</td>\n      <td>...</td>\n      <td>21.0</td>\n      <td>1023.5</td>\n      <td>1019.1</td>\n      <td>4.0</td>\n      <td>7.0</td>\n      <td>10.9</td>\n      <td>24.5</td>\n      <td>No</td>\n      <td>No</td>\n      <td>15</td>\n    </tr>\n    <tr>\n      <th>145457</th>\n      <td>2017-06-23</td>\n      <td>Uluru</td>\n      <td>5.4</td>\n      <td>26.900000</td>\n      <td>0.0</td>\n      <td>3.2</td>\n      <td>0.0</td>\n      <td>N</td>\n      <td>37.0</td>\n      <td>SE</td>\n      <td>...</td>\n      <td>24.0</td>\n      <td>1021.0</td>\n      <td>1016.8</td>\n      <td>4.0</td>\n      <td>0.0</td>\n      <td>12.5</td>\n      <td>26.1</td>\n      <td>No</td>\n      <td>No</td>\n      <td>0</td>\n    </tr>\n    <tr>\n      <th>145458</th>\n      <td>2017-06-24</td>\n      <td>Uluru</td>\n      <td>7.8</td>\n      <td>27.000000</td>\n      <td>0.0</td>\n      <td>1.6</td>\n      <td>6.6</td>\n      <td>SE</td>\n      <td>28.0</td>\n      <td>SSE</td>\n      <td>...</td>\n      <td>24.0</td>\n      <td>1019.4</td>\n      <td>1016.5</td>\n      <td>3.0</td>\n      <td>2.0</td>\n      <td>15.1</td>\n      <td>26.0</td>\n      <td>No</td>\n      <td>No</td>\n      <td>6</td>\n    </tr>\n    <tr>\n      <th>145459</th>\n      <td>2017-06-25</td>\n      <td>Uluru</td>\n      <td>14.9</td>\n      <td>30.383195</td>\n      <td>0.0</td>\n      <td>8.0</td>\n      <td>10.9</td>\n      <td>E</td>\n      <td>54.0</td>\n      <td>ESE</td>\n      <td>...</td>\n      <td>36.0</td>\n      <td>1020.2</td>\n      <td>1017.9</td>\n      <td>8.0</td>\n      <td>8.0</td>\n      <td>15.0</td>\n      <td>20.9</td>\n      <td>No</td>\n      <td>Yes</td>\n      <td>4</td>\n    </tr>\n  </tbody>\n</table>\n<p>145460 rows × 24 columns</p>\n</div>"
     },
     "execution_count": 26,
     "metadata": {},
     "output_type": "execute_result"
    }
   ],
   "source": [
    "weather_data = pd.read_pickle('data/aus_weather_cln_without_encoding.pkl')\n",
    "weather_data"
   ],
   "metadata": {
    "collapsed": false,
    "pycharm": {
     "name": "#%%\n"
    }
   }
  },
  {
   "cell_type": "code",
   "execution_count": 3,
   "outputs": [],
   "source": [
    "weather_data['Date'] = pd.to_datetime(weather_data['Date'])"
   ],
   "metadata": {
    "collapsed": false,
    "pycharm": {
     "name": "#%%\n"
    }
   }
  },
  {
   "cell_type": "code",
   "execution_count": 4,
   "outputs": [
    {
     "data": {
      "text/plain": "Index(['Date', 'Location', 'MinTemp', 'MaxTemp', 'Rainfall', 'Evaporation',\n       'Sunshine', 'WindGustDir', 'WindGustSpeed', 'WindDir9am', 'WindDir3pm',\n       'WindSpeed9am', 'WindSpeed3pm', 'Humidity9am', 'Humidity3pm',\n       'Pressure9am', 'Pressure3pm', 'Cloud9am', 'Cloud3pm', 'Temp9am',\n       'Temp3pm', 'RainToday', 'RainTomorrow'],\n      dtype='object')"
     },
     "execution_count": 4,
     "metadata": {},
     "output_type": "execute_result"
    }
   ],
   "source": [
    "weather_data.columns"
   ],
   "metadata": {
    "collapsed": false,
    "pycharm": {
     "name": "#%%\n"
    }
   }
  },
  {
   "cell_type": "code",
   "execution_count": 5,
   "outputs": [
    {
     "data": {
      "text/plain": "array([2008, 2009, 2010, 2011, 2012, 2013, 2014, 2015, 2016, 2017, 2007],\n      dtype=int64)"
     },
     "execution_count": 5,
     "metadata": {},
     "output_type": "execute_result"
    }
   ],
   "source": [
    "weather_data['Date'].dt.year.unique()"
   ],
   "metadata": {
    "collapsed": false,
    "pycharm": {
     "name": "#%%\n"
    }
   }
  },
  {
   "cell_type": "code",
   "execution_count": 6,
   "outputs": [
    {
     "data": {
      "text/plain": "0         winter\n1         winter\n2         winter\n3         winter\n4         winter\n           ...  \n145455    summer\n145456    summer\n145457    summer\n145458    summer\n145459    summer\nName: Date, Length: 145460, dtype: object"
     },
     "execution_count": 6,
     "metadata": {},
     "output_type": "execute_result"
    }
   ],
   "source": [
    "def seasons(month):\n",
    "    if 3 <= month <= 5:\n",
    "        return 'spring'\n",
    "    if 6 <= month <= 8:\n",
    "        return 'summer'\n",
    "    if 9 <= month <= 11:\n",
    "        return 'autumn'\n",
    "\n",
    "    return 'winter'\n",
    "\n",
    "\n",
    "weather_data['Date'].dt.month.apply(seasons)"
   ],
   "metadata": {
    "collapsed": false,
    "pycharm": {
     "name": "#%%\n"
    }
   }
  },
  {
   "cell_type": "code",
   "execution_count": 10,
   "outputs": [
    {
     "data": {
      "text/plain": "             Date Location  MinTemp    MaxTemp  Rainfall  Evaporation  \\\n0      2008-12-01   Albury     13.4  22.900000       0.6          1.4   \n1      2008-12-02   Albury      7.4  25.100000       0.0          0.8   \n2      2008-12-03   Albury     12.9  25.700000       0.0          6.2   \n3      2008-12-04   Albury      9.2  28.000000       0.0          3.8   \n4      2008-12-05   Albury     17.5  32.300000       1.0          3.6   \n...           ...      ...      ...        ...       ...          ...   \n145455 2017-06-21    Uluru      2.8  23.400000       0.0          5.0   \n145456 2017-06-22    Uluru      3.6  25.300000       0.0          5.4   \n145457 2017-06-23    Uluru      5.4  26.900000       0.0          3.2   \n145458 2017-06-24    Uluru      7.8  27.000000       0.0          1.6   \n145459 2017-06-25    Uluru     14.9  30.383195       0.0          8.0   \n\n        Sunshine WindGustDir  WindGustSpeed WindDir9am  ... Humidity3pm  \\\n0            9.5           W           44.0          W  ...        22.0   \n1            0.3         WNW           44.0        NNW  ...        25.0   \n2            4.7         WSW           46.0          W  ...        30.0   \n3            3.0          NE           24.0         SE  ...        16.0   \n4           11.6           W           41.0        ENE  ...        33.0   \n...          ...         ...            ...        ...  ...         ...   \n145455      10.8           E           31.0         SE  ...        24.0   \n145456       5.6         NNW           22.0         SE  ...        21.0   \n145457       0.0           N           37.0         SE  ...        24.0   \n145458       6.6          SE           28.0        SSE  ...        24.0   \n145459      10.9           E           54.0        ESE  ...        36.0   \n\n        Pressure9am  Pressure3pm  Cloud9am  Cloud3pm  Temp9am  Temp3pm  \\\n0            1007.7       1007.1       8.0       4.0     16.9     21.8   \n1            1010.6       1007.8       7.0       0.0     17.2     24.3   \n2            1007.6       1008.7       0.0       2.0     21.0     23.2   \n3            1017.6       1012.8       4.0       3.0     18.1     26.5   \n4            1010.8       1006.0       7.0       8.0     17.8     29.7   \n...             ...          ...       ...       ...      ...      ...   \n145455       1024.6       1020.3       8.0       7.0     10.1     22.4   \n145456       1023.5       1019.1       4.0       7.0     10.9     24.5   \n145457       1021.0       1016.8       4.0       0.0     12.5     26.1   \n145458       1019.4       1016.5       3.0       2.0     15.1     26.0   \n145459       1020.2       1017.9       8.0       8.0     15.0     20.9   \n\n        RainToday  RainTomorrow  Year  \n0              No            No  2008  \n1              No            No  2008  \n2              No            No  2008  \n3              No            No  2008  \n4              No            No  2008  \n...           ...           ...   ...  \n145455         No            No  2017  \n145456         No            No  2017  \n145457         No            No  2017  \n145458         No            No  2017  \n145459         No           Yes  2017  \n\n[145460 rows x 24 columns]",
      "text/html": "<div>\n<style scoped>\n    .dataframe tbody tr th:only-of-type {\n        vertical-align: middle;\n    }\n\n    .dataframe tbody tr th {\n        vertical-align: top;\n    }\n\n    .dataframe thead th {\n        text-align: right;\n    }\n</style>\n<table border=\"1\" class=\"dataframe\">\n  <thead>\n    <tr style=\"text-align: right;\">\n      <th></th>\n      <th>Date</th>\n      <th>Location</th>\n      <th>MinTemp</th>\n      <th>MaxTemp</th>\n      <th>Rainfall</th>\n      <th>Evaporation</th>\n      <th>Sunshine</th>\n      <th>WindGustDir</th>\n      <th>WindGustSpeed</th>\n      <th>WindDir9am</th>\n      <th>...</th>\n      <th>Humidity3pm</th>\n      <th>Pressure9am</th>\n      <th>Pressure3pm</th>\n      <th>Cloud9am</th>\n      <th>Cloud3pm</th>\n      <th>Temp9am</th>\n      <th>Temp3pm</th>\n      <th>RainToday</th>\n      <th>RainTomorrow</th>\n      <th>Year</th>\n    </tr>\n  </thead>\n  <tbody>\n    <tr>\n      <th>0</th>\n      <td>2008-12-01</td>\n      <td>Albury</td>\n      <td>13.4</td>\n      <td>22.900000</td>\n      <td>0.6</td>\n      <td>1.4</td>\n      <td>9.5</td>\n      <td>W</td>\n      <td>44.0</td>\n      <td>W</td>\n      <td>...</td>\n      <td>22.0</td>\n      <td>1007.7</td>\n      <td>1007.1</td>\n      <td>8.0</td>\n      <td>4.0</td>\n      <td>16.9</td>\n      <td>21.8</td>\n      <td>No</td>\n      <td>No</td>\n      <td>2008</td>\n    </tr>\n    <tr>\n      <th>1</th>\n      <td>2008-12-02</td>\n      <td>Albury</td>\n      <td>7.4</td>\n      <td>25.100000</td>\n      <td>0.0</td>\n      <td>0.8</td>\n      <td>0.3</td>\n      <td>WNW</td>\n      <td>44.0</td>\n      <td>NNW</td>\n      <td>...</td>\n      <td>25.0</td>\n      <td>1010.6</td>\n      <td>1007.8</td>\n      <td>7.0</td>\n      <td>0.0</td>\n      <td>17.2</td>\n      <td>24.3</td>\n      <td>No</td>\n      <td>No</td>\n      <td>2008</td>\n    </tr>\n    <tr>\n      <th>2</th>\n      <td>2008-12-03</td>\n      <td>Albury</td>\n      <td>12.9</td>\n      <td>25.700000</td>\n      <td>0.0</td>\n      <td>6.2</td>\n      <td>4.7</td>\n      <td>WSW</td>\n      <td>46.0</td>\n      <td>W</td>\n      <td>...</td>\n      <td>30.0</td>\n      <td>1007.6</td>\n      <td>1008.7</td>\n      <td>0.0</td>\n      <td>2.0</td>\n      <td>21.0</td>\n      <td>23.2</td>\n      <td>No</td>\n      <td>No</td>\n      <td>2008</td>\n    </tr>\n    <tr>\n      <th>3</th>\n      <td>2008-12-04</td>\n      <td>Albury</td>\n      <td>9.2</td>\n      <td>28.000000</td>\n      <td>0.0</td>\n      <td>3.8</td>\n      <td>3.0</td>\n      <td>NE</td>\n      <td>24.0</td>\n      <td>SE</td>\n      <td>...</td>\n      <td>16.0</td>\n      <td>1017.6</td>\n      <td>1012.8</td>\n      <td>4.0</td>\n      <td>3.0</td>\n      <td>18.1</td>\n      <td>26.5</td>\n      <td>No</td>\n      <td>No</td>\n      <td>2008</td>\n    </tr>\n    <tr>\n      <th>4</th>\n      <td>2008-12-05</td>\n      <td>Albury</td>\n      <td>17.5</td>\n      <td>32.300000</td>\n      <td>1.0</td>\n      <td>3.6</td>\n      <td>11.6</td>\n      <td>W</td>\n      <td>41.0</td>\n      <td>ENE</td>\n      <td>...</td>\n      <td>33.0</td>\n      <td>1010.8</td>\n      <td>1006.0</td>\n      <td>7.0</td>\n      <td>8.0</td>\n      <td>17.8</td>\n      <td>29.7</td>\n      <td>No</td>\n      <td>No</td>\n      <td>2008</td>\n    </tr>\n    <tr>\n      <th>...</th>\n      <td>...</td>\n      <td>...</td>\n      <td>...</td>\n      <td>...</td>\n      <td>...</td>\n      <td>...</td>\n      <td>...</td>\n      <td>...</td>\n      <td>...</td>\n      <td>...</td>\n      <td>...</td>\n      <td>...</td>\n      <td>...</td>\n      <td>...</td>\n      <td>...</td>\n      <td>...</td>\n      <td>...</td>\n      <td>...</td>\n      <td>...</td>\n      <td>...</td>\n      <td>...</td>\n    </tr>\n    <tr>\n      <th>145455</th>\n      <td>2017-06-21</td>\n      <td>Uluru</td>\n      <td>2.8</td>\n      <td>23.400000</td>\n      <td>0.0</td>\n      <td>5.0</td>\n      <td>10.8</td>\n      <td>E</td>\n      <td>31.0</td>\n      <td>SE</td>\n      <td>...</td>\n      <td>24.0</td>\n      <td>1024.6</td>\n      <td>1020.3</td>\n      <td>8.0</td>\n      <td>7.0</td>\n      <td>10.1</td>\n      <td>22.4</td>\n      <td>No</td>\n      <td>No</td>\n      <td>2017</td>\n    </tr>\n    <tr>\n      <th>145456</th>\n      <td>2017-06-22</td>\n      <td>Uluru</td>\n      <td>3.6</td>\n      <td>25.300000</td>\n      <td>0.0</td>\n      <td>5.4</td>\n      <td>5.6</td>\n      <td>NNW</td>\n      <td>22.0</td>\n      <td>SE</td>\n      <td>...</td>\n      <td>21.0</td>\n      <td>1023.5</td>\n      <td>1019.1</td>\n      <td>4.0</td>\n      <td>7.0</td>\n      <td>10.9</td>\n      <td>24.5</td>\n      <td>No</td>\n      <td>No</td>\n      <td>2017</td>\n    </tr>\n    <tr>\n      <th>145457</th>\n      <td>2017-06-23</td>\n      <td>Uluru</td>\n      <td>5.4</td>\n      <td>26.900000</td>\n      <td>0.0</td>\n      <td>3.2</td>\n      <td>0.0</td>\n      <td>N</td>\n      <td>37.0</td>\n      <td>SE</td>\n      <td>...</td>\n      <td>24.0</td>\n      <td>1021.0</td>\n      <td>1016.8</td>\n      <td>4.0</td>\n      <td>0.0</td>\n      <td>12.5</td>\n      <td>26.1</td>\n      <td>No</td>\n      <td>No</td>\n      <td>2017</td>\n    </tr>\n    <tr>\n      <th>145458</th>\n      <td>2017-06-24</td>\n      <td>Uluru</td>\n      <td>7.8</td>\n      <td>27.000000</td>\n      <td>0.0</td>\n      <td>1.6</td>\n      <td>6.6</td>\n      <td>SE</td>\n      <td>28.0</td>\n      <td>SSE</td>\n      <td>...</td>\n      <td>24.0</td>\n      <td>1019.4</td>\n      <td>1016.5</td>\n      <td>3.0</td>\n      <td>2.0</td>\n      <td>15.1</td>\n      <td>26.0</td>\n      <td>No</td>\n      <td>No</td>\n      <td>2017</td>\n    </tr>\n    <tr>\n      <th>145459</th>\n      <td>2017-06-25</td>\n      <td>Uluru</td>\n      <td>14.9</td>\n      <td>30.383195</td>\n      <td>0.0</td>\n      <td>8.0</td>\n      <td>10.9</td>\n      <td>E</td>\n      <td>54.0</td>\n      <td>ESE</td>\n      <td>...</td>\n      <td>36.0</td>\n      <td>1020.2</td>\n      <td>1017.9</td>\n      <td>8.0</td>\n      <td>8.0</td>\n      <td>15.0</td>\n      <td>20.9</td>\n      <td>No</td>\n      <td>Yes</td>\n      <td>2017</td>\n    </tr>\n  </tbody>\n</table>\n<p>145460 rows × 24 columns</p>\n</div>"
     },
     "execution_count": 10,
     "metadata": {},
     "output_type": "execute_result"
    }
   ],
   "source": [
    "weather_data['Year'] = weather_data['Date'].dt.year\n",
    "weather_data"
   ],
   "metadata": {
    "collapsed": false,
    "pycharm": {
     "name": "#%%\n"
    }
   }
  },
  {
   "cell_type": "code",
   "execution_count": 7,
   "outputs": [
    {
     "data": {
      "text/plain": "    direction strength  frequency\n0           N      0-1        0.5\n1         NNE      0-1        0.6\n2          NE      0-1        0.5\n3         ENE      0-1        0.4\n4           E      0-1        0.4\n..        ...      ...        ...\n123       WSW       6+        0.1\n124         W       6+        0.9\n125       WNW       6+        2.2\n126        NW       6+        1.5\n127       NNW       6+        0.2\n\n[128 rows x 3 columns]",
      "text/html": "<div>\n<style scoped>\n    .dataframe tbody tr th:only-of-type {\n        vertical-align: middle;\n    }\n\n    .dataframe tbody tr th {\n        vertical-align: top;\n    }\n\n    .dataframe thead th {\n        text-align: right;\n    }\n</style>\n<table border=\"1\" class=\"dataframe\">\n  <thead>\n    <tr style=\"text-align: right;\">\n      <th></th>\n      <th>direction</th>\n      <th>strength</th>\n      <th>frequency</th>\n    </tr>\n  </thead>\n  <tbody>\n    <tr>\n      <th>0</th>\n      <td>N</td>\n      <td>0-1</td>\n      <td>0.5</td>\n    </tr>\n    <tr>\n      <th>1</th>\n      <td>NNE</td>\n      <td>0-1</td>\n      <td>0.6</td>\n    </tr>\n    <tr>\n      <th>2</th>\n      <td>NE</td>\n      <td>0-1</td>\n      <td>0.5</td>\n    </tr>\n    <tr>\n      <th>3</th>\n      <td>ENE</td>\n      <td>0-1</td>\n      <td>0.4</td>\n    </tr>\n    <tr>\n      <th>4</th>\n      <td>E</td>\n      <td>0-1</td>\n      <td>0.4</td>\n    </tr>\n    <tr>\n      <th>...</th>\n      <td>...</td>\n      <td>...</td>\n      <td>...</td>\n    </tr>\n    <tr>\n      <th>123</th>\n      <td>WSW</td>\n      <td>6+</td>\n      <td>0.1</td>\n    </tr>\n    <tr>\n      <th>124</th>\n      <td>W</td>\n      <td>6+</td>\n      <td>0.9</td>\n    </tr>\n    <tr>\n      <th>125</th>\n      <td>WNW</td>\n      <td>6+</td>\n      <td>2.2</td>\n    </tr>\n    <tr>\n      <th>126</th>\n      <td>NW</td>\n      <td>6+</td>\n      <td>1.5</td>\n    </tr>\n    <tr>\n      <th>127</th>\n      <td>NNW</td>\n      <td>6+</td>\n      <td>0.2</td>\n    </tr>\n  </tbody>\n</table>\n<p>128 rows × 3 columns</p>\n</div>"
     },
     "execution_count": 7,
     "metadata": {},
     "output_type": "execute_result"
    }
   ],
   "source": [
    "px.data.wind()"
   ],
   "metadata": {
    "collapsed": false,
    "pycharm": {
     "name": "#%%\n"
    }
   }
  },
  {
   "cell_type": "code",
   "execution_count": 8,
   "outputs": [
    {
     "data": {
      "text/plain": "['humidity: 71.0<br>pressure: 1007.7<br>rainfall: 0.6',\n 'humidity: 44.0<br>pressure: 1010.6<br>rainfall: 0.0',\n 'humidity: 38.0<br>pressure: 1007.6<br>rainfall: 0.0',\n 'humidity: 45.0<br>pressure: 1017.6<br>rainfall: 0.0',\n 'humidity: 82.0<br>pressure: 1010.8<br>rainfall: 1.0',\n 'humidity: 55.0<br>pressure: 1009.2<br>rainfall: 0.2',\n 'humidity: 49.0<br>pressure: 1009.6<br>rainfall: 0.0',\n 'humidity: 48.0<br>pressure: 1013.4<br>rainfall: 0.0',\n 'humidity: 42.0<br>pressure: 1008.9<br>rainfall: 0.0',\n 'humidity: 58.0<br>pressure: 1007.0<br>rainfall: 1.4',\n 'humidity: 48.0<br>pressure: 1011.8<br>rainfall: 0.0',\n 'humidity: 89.0<br>pressure: 1010.5<br>rainfall: 2.2',\n 'humidity: 76.0<br>pressure: 994.3<br>rainfall: 15.6',\n 'humidity: 65.0<br>pressure: 1001.2<br>rainfall: 3.6',\n 'humidity: 57.0<br>pressure: 1009.7<br>rainfall: 0.0',\n 'humidity: 50.0<br>pressure: 1013.4<br>rainfall: 1.9141149119893643',\n 'humidity: 69.0<br>pressure: 1012.2<br>rainfall: 0.0',\n 'humidity: 80.0<br>pressure: 1005.8<br>rainfall: 16.8',\n 'humidity: 47.0<br>pressure: 1009.4<br>rainfall: 10.6',\n 'humidity: 45.0<br>pressure: 1019.2<br>rainfall: 0.0',\n 'humidity: 56.0<br>pressure: 1019.3<br>rainfall: 0.0',\n 'humidity: 38.0<br>pressure: 1013.6<br>rainfall: 0.0',\n 'humidity: 54.0<br>pressure: 1007.8<br>rainfall: 0.0',\n 'humidity: 55.0<br>pressure: 1011.0<br>rainfall: 0.0',\n 'humidity: 49.0<br>pressure: 1012.9<br>rainfall: 0.0',\n 'humidity: 45.0<br>pressure: 1010.9<br>rainfall: 0.0',\n 'humidity: 41.0<br>pressure: 1006.8<br>rainfall: 0.0',\n 'humidity: 56.0<br>pressure: 1005.2<br>rainfall: 0.0',\n 'humidity: 49.0<br>pressure: 1004.8<br>rainfall: 0.0',\n 'humidity: 78.0<br>pressure: 1005.6<br>rainfall: 1.2',\n 'humidity: 48.0<br>pressure: 1006.1<br>rainfall: 0.8',\n 'humidity: 46.0<br>pressure: 1004.5<br>rainfall: 0.0',\n 'humidity: 44.0<br>pressure: 1014.4<br>rainfall: 0.0',\n 'humidity: 43.0<br>pressure: 1018.7<br>rainfall: 0.0',\n 'humidity: 41.0<br>pressure: 1015.1<br>rainfall: 0.0',\n 'humidity: 41.0<br>pressure: 1012.6<br>rainfall: 0.0',\n 'humidity: 33.0<br>pressure: 1010.9<br>rainfall: 0.0',\n 'humidity: 34.0<br>pressure: 1007.0<br>rainfall: 0.0',\n 'humidity: 43.0<br>pressure: 1011.9<br>rainfall: 0.0',\n 'humidity: 38.0<br>pressure: 1017.8<br>rainfall: 0.0',\n 'humidity: 36.0<br>pressure: 1013.4<br>rainfall: 0.0',\n 'humidity: 52.0<br>pressure: 1009.9<br>rainfall: 0.0',\n 'humidity: 48.0<br>pressure: 1014.1<br>rainfall: 0.0',\n 'humidity: 51.0<br>pressure: 1015.7<br>rainfall: 0.0',\n 'humidity: 40.0<br>pressure: 1011.6<br>rainfall: 0.0',\n 'humidity: 34.0<br>pressure: 1008.4<br>rainfall: 0.0',\n 'humidity: 46.0<br>pressure: 1014.1<br>rainfall: 0.0',\n 'humidity: 35.0<br>pressure: 1019.7<br>rainfall: 0.0',\n 'humidity: 34.0<br>pressure: 1019.7<br>rainfall: 0.0',\n 'humidity: 39.0<br>pressure: 1015.8<br>rainfall: 0.0',\n 'humidity: 36.0<br>pressure: 1010.1<br>rainfall: 0.0',\n 'humidity: 48.0<br>pressure: 1009.6<br>rainfall: 0.8',\n 'humidity: 60.0<br>pressure: 1005.3<br>rainfall: 0.6',\n 'humidity: 43.0<br>pressure: 1007.9<br>rainfall: 6.4',\n 'humidity: 41.0<br>pressure: 1005.4<br>rainfall: 0.0',\n 'humidity: 44.0<br>pressure: 1016.5<br>rainfall: 0.0',\n 'humidity: 48.0<br>pressure: 1017.7<br>rainfall: 0.0',\n 'humidity: 48.0<br>pressure: 1017.8<br>rainfall: 0.0',\n 'humidity: 45.0<br>pressure: 1014.9<br>rainfall: 0.0',\n 'humidity: 38.0<br>pressure: 1015.7<br>rainfall: 0.0',\n 'humidity: 37.0<br>pressure: 1014.6<br>rainfall: 0.0',\n 'humidity: 33.0<br>pressure: 1014.2<br>rainfall: 0.0',\n 'humidity: 27.0<br>pressure: 1012.5<br>rainfall: 0.0',\n 'humidity: 32.0<br>pressure: 1011.7<br>rainfall: 0.2',\n 'humidity: 51.0<br>pressure: 1009.2<br>rainfall: 0.0',\n 'humidity: 53.0<br>pressure: 1008.8<br>rainfall: 0.0',\n 'humidity: 48.0<br>pressure: 1005.9<br>rainfall: 0.0',\n 'humidity: 39.0<br>pressure: 1008.0<br>rainfall: 0.0',\n 'humidity: 36.0<br>pressure: 1008.2<br>rainfall: 0.0',\n 'humidity: 20.0<br>pressure: 1007.0<br>rainfall: 0.0',\n 'humidity: 66.0<br>pressure: 1009.3<br>rainfall: 0.4',\n 'humidity: 50.0<br>pressure: 1011.6<br>rainfall: 0.0',\n 'humidity: 45.0<br>pressure: 1012.8<br>rainfall: 0.0',\n 'humidity: 58.0<br>pressure: 1017.0<br>rainfall: 0.0',\n 'humidity: 41.0<br>pressure: 1023.3<br>rainfall: 3.0',\n 'humidity: 37.0<br>pressure: 1022.5<br>rainfall: 0.0',\n 'humidity: 50.0<br>pressure: 1016.2<br>rainfall: 0.0',\n 'humidity: 43.0<br>pressure: 1017.7<br>rainfall: 0.0',\n 'humidity: 46.0<br>pressure: 1017.2<br>rainfall: 0.0',\n 'humidity: 44.0<br>pressure: 1012.4<br>rainfall: 0.0',\n 'humidity: 53.0<br>pressure: 1007.8<br>rainfall: 0.0',\n 'humidity: 45.0<br>pressure: 1010.1<br>rainfall: 0.0',\n 'humidity: 63.0<br>pressure: 1012.5<br>rainfall: 0.0',\n 'humidity: 49.0<br>pressure: 1015.6<br>rainfall: 0.0',\n 'humidity: 48.0<br>pressure: 1013.0<br>rainfall: 0.0',\n 'humidity: 54.0<br>pressure: 1014.0<br>rainfall: 0.0',\n 'humidity: 49.0<br>pressure: 1016.6<br>rainfall: 0.0',\n 'humidity: 43.0<br>pressure: 1017.8<br>rainfall: 0.0',\n 'humidity: 53.0<br>pressure: 1016.2<br>rainfall: 0.0',\n 'humidity: 44.0<br>pressure: 1007.5<br>rainfall: 0.0',\n 'humidity: 53.0<br>pressure: 1010.5<br>rainfall: 0.0',\n 'humidity: 53.0<br>pressure: 1014.1<br>rainfall: 0.0',\n 'humidity: 58.0<br>pressure: 1014.7<br>rainfall: 0.0',\n 'humidity: 57.0<br>pressure: 1014.5<br>rainfall: 0.2',\n 'humidity: 60.0<br>pressure: 1013.7<br>rainfall: 0.0',\n 'humidity: 52.0<br>pressure: 1014.5<br>rainfall: 0.0',\n 'humidity: 58.0<br>pressure: 1015.2<br>rainfall: 0.0',\n 'humidity: 54.0<br>pressure: 1017.0<br>rainfall: 0.0',\n 'humidity: 49.0<br>pressure: 1019.7<br>rainfall: 0.0',\n 'humidity: 51.0<br>pressure: 1019.5<br>rainfall: 0.0',\n 'humidity: 57.0<br>pressure: 1021.3<br>rainfall: 1.2',\n 'humidity: 52.0<br>pressure: 1019.5<br>rainfall: 0.0',\n 'humidity: 82.0<br>pressure: 1017.4<br>rainfall: 5.8',\n 'humidity: 82.0<br>pressure: 1012.7<br>rainfall: 3.0',\n 'humidity: 62.0<br>pressure: 1013.4<br>rainfall: 11.6',\n 'humidity: 78.0<br>pressure: 1013.3<br>rainfall: 0.0',\n 'humidity: 78.0<br>pressure: 1015.6<br>rainfall: 0.0',\n 'humidity: 76.0<br>pressure: 1017.4<br>rainfall: 0.0',\n 'humidity: 56.0<br>pressure: 1016.3<br>rainfall: 0.0',\n 'humidity: 50.0<br>pressure: 1016.5<br>rainfall: 0.0',\n 'humidity: 47.0<br>pressure: 1017.0<br>rainfall: 0.0',\n 'humidity: 56.0<br>pressure: 1014.8<br>rainfall: 0.0',\n 'humidity: 63.0<br>pressure: 1013.7<br>rainfall: 0.0',\n 'humidity: 62.0<br>pressure: 1016.5<br>rainfall: 0.0',\n 'humidity: 69.0<br>pressure: 1017.4<br>rainfall: 0.4',\n 'humidity: 87.0<br>pressure: 1019.1<br>rainfall: 1.8',\n 'humidity: 63.0<br>pressure: 1023.0<br>rainfall: 0.0',\n 'humidity: 60.0<br>pressure: 1023.8<br>rainfall: 0.0',\n 'humidity: 60.0<br>pressure: 1022.4<br>rainfall: 0.0',\n 'humidity: 57.0<br>pressure: 1023.0<br>rainfall: 0.0',\n 'humidity: 61.0<br>pressure: 1023.2<br>rainfall: 0.0',\n 'humidity: 59.0<br>pressure: 1022.6<br>rainfall: 0.0',\n 'humidity: 59.0<br>pressure: 1022.6<br>rainfall: 0.0',\n 'humidity: 92.0<br>pressure: 1018.8<br>rainfall: 8.6',\n 'humidity: 60.0<br>pressure: 1019.8<br>rainfall: 12.6',\n 'humidity: 72.0<br>pressure: 1020.4<br>rainfall: 0.0',\n 'humidity: 58.0<br>pressure: 1021.8<br>rainfall: 0.0',\n 'humidity: 55.0<br>pressure: 1026.7<br>rainfall: 0.0',\n 'humidity: 60.0<br>pressure: 1027.1<br>rainfall: 0.0',\n 'humidity: 67.0<br>pressure: 1024.2<br>rainfall: 0.0',\n 'humidity: 59.0<br>pressure: 1021.5<br>rainfall: 0.0',\n 'humidity: 75.0<br>pressure: 1024.4<br>rainfall: 8.4',\n 'humidity: 88.0<br>pressure: 1024.1<br>rainfall: 6.2',\n 'humidity: 65.0<br>pressure: 1023.0<br>rainfall: 0.0',\n 'humidity: 68.0<br>pressure: 1016.3<br>rainfall: 0.0',\n 'humidity: 44.0<br>pressure: 1008.2<br>rainfall: 0.0',\n 'humidity: 65.0<br>pressure: 1016.3<br>rainfall: 0.0',\n 'humidity: 59.0<br>pressure: 1018.5<br>rainfall: 0.0',\n 'humidity: 73.0<br>pressure: 1022.8<br>rainfall: 0.0',\n 'humidity: 54.0<br>pressure: 1022.7<br>rainfall: 0.0',\n 'humidity: 58.0<br>pressure: 1023.6<br>rainfall: 0.0',\n 'humidity: 68.0<br>pressure: 1025.2<br>rainfall: 0.0',\n 'humidity: 73.0<br>pressure: 1026.0<br>rainfall: 0.0',\n 'humidity: 68.0<br>pressure: 1021.3<br>rainfall: 0.0',\n 'humidity: 74.0<br>pressure: 1008.9<br>rainfall: 0.0',\n 'humidity: 83.0<br>pressure: 1004.8<br>rainfall: 20.0',\n 'humidity: 77.0<br>pressure: 1004.0<br>rainfall: 21.0',\n 'humidity: 82.0<br>pressure: 1013.8<br>rainfall: 3.2',\n 'humidity: 83.0<br>pressure: 1018.0<br>rainfall: 4.8',\n 'humidity: 62.0<br>pressure: 1023.1<br>rainfall: 0.0',\n 'humidity: 70.0<br>pressure: 1023.4<br>rainfall: 0.0',\n 'humidity: 77.0<br>pressure: 1026.0<br>rainfall: 0.0',\n 'humidity: 81.0<br>pressure: 1026.9<br>rainfall: 0.0',\n 'humidity: 75.0<br>pressure: 1028.7<br>rainfall: 0.0',\n 'humidity: 86.0<br>pressure: 1029.8<br>rainfall: 0.0',\n 'humidity: 71.0<br>pressure: 1031.4<br>rainfall: 0.0',\n 'humidity: 82.0<br>pressure: 1028.5<br>rainfall: 0.0',\n 'humidity: 86.0<br>pressure: 1026.2<br>rainfall: 0.0',\n 'humidity: 68.0<br>pressure: 1028.8<br>rainfall: 0.0',\n 'humidity: 78.0<br>pressure: 1026.0<br>rainfall: 0.0',\n 'humidity: 69.0<br>pressure: 1025.1<br>rainfall: 0.0',\n 'humidity: 89.0<br>pressure: 1025.6<br>rainfall: 0.0',\n 'humidity: 81.0<br>pressure: 1022.3<br>rainfall: 0.0',\n 'humidity: 86.0<br>pressure: 1018.4<br>rainfall: 0.0',\n 'humidity: 77.0<br>pressure: 1015.3<br>rainfall: 0.0',\n 'humidity: 82.0<br>pressure: 1015.0<br>rainfall: 0.0',\n 'humidity: 82.0<br>pressure: 1011.8<br>rainfall: 1.8',\n 'humidity: 83.0<br>pressure: 1022.5<br>rainfall: 0.0',\n 'humidity: 82.0<br>pressure: 1024.7<br>rainfall: 0.0',\n 'humidity: 87.0<br>pressure: 1023.6<br>rainfall: 0.0',\n 'humidity: 75.0<br>pressure: 1022.8<br>rainfall: 0.0',\n 'humidity: 81.0<br>pressure: 1025.2<br>rainfall: 0.0',\n 'humidity: 75.0<br>pressure: 1025.2<br>rainfall: 0.0',\n 'humidity: 71.0<br>pressure: 1022.2<br>rainfall: 0.0',\n 'humidity: 69.0<br>pressure: 1025.0<br>rainfall: 0.0',\n 'humidity: 77.0<br>pressure: 1024.6<br>rainfall: 0.0',\n 'humidity: 97.0<br>pressure: 1021.4<br>rainfall: 4.2',\n 'humidity: 99.0<br>pressure: 1021.7<br>rainfall: 0.8',\n 'humidity: 91.0<br>pressure: 1023.4<br>rainfall: 0.0',\n 'humidity: 67.0<br>pressure: 1025.6<br>rainfall: 0.0',\n 'humidity: 65.0<br>pressure: 1030.3<br>rainfall: 0.0',\n 'humidity: 73.0<br>pressure: 1034.1<br>rainfall: 0.0',\n 'humidity: 88.0<br>pressure: 1031.9<br>rainfall: 1.2',\n 'humidity: 78.0<br>pressure: 1029.3<br>rainfall: 1.4',\n 'humidity: 85.0<br>pressure: 1023.5<br>rainfall: 4.8',\n 'humidity: 99.0<br>pressure: 1021.0<br>rainfall: 8.0',\n 'humidity: 86.0<br>pressure: 1017.9<br>rainfall: 0.0',\n 'humidity: 99.0<br>pressure: 1015.2<br>rainfall: 0.2',\n 'humidity: 93.0<br>pressure: 1007.5<br>rainfall: 14.4',\n 'humidity: 88.0<br>pressure: 1009.6<br>rainfall: 4.6',\n 'humidity: 92.0<br>pressure: 1011.1<br>rainfall: 2.0',\n 'humidity: 77.0<br>pressure: 1017.6<br>rainfall: 5.6',\n 'humidity: 84.0<br>pressure: 1025.1<br>rainfall: 0.0',\n 'humidity: 99.0<br>pressure: 1025.7<br>rainfall: 0.0',\n 'humidity: 86.0<br>pressure: 1018.3<br>rainfall: 0.0',\n 'humidity: 82.0<br>pressure: 1011.8<br>rainfall: 0.0',\n 'humidity: 99.0<br>pressure: 1013.9<br>rainfall: 0.4',\n 'humidity: 83.0<br>pressure: 1022.3<br>rainfall: 0.0',\n 'humidity: 94.0<br>pressure: 1029.7<br>rainfall: 0.0',\n 'humidity: 99.0<br>pressure: 1031.6<br>rainfall: 0.0',\n 'humidity: 93.0<br>pressure: 1030.8<br>rainfall: 0.0',\n 'humidity: 85.0<br>pressure: 1025.7<br>rainfall: 0.0',\n 'humidity: 99.0<br>pressure: 1021.9<br>rainfall: 1.6',\n 'humidity: 99.0<br>pressure: 1020.7<br>rainfall: 5.6',\n 'humidity: 99.0<br>pressure: 1020.2<br>rainfall: 0.0',\n 'humidity: 81.0<br>pressure: 1014.9<br>rainfall: 6.0',\n 'humidity: 99.0<br>pressure: 1015.5<br>rainfall: 0.0',\n 'humidity: 99.0<br>pressure: 1011.6<br>rainfall: 4.4',\n 'humidity: 79.0<br>pressure: 1007.8<br>rainfall: 0.0',\n 'humidity: 98.0<br>pressure: 1007.5<br>rainfall: 5.4',\n 'humidity: 91.0<br>pressure: 1011.4<br>rainfall: 3.6',\n 'humidity: 78.0<br>pressure: 1007.6<br>rainfall: 2.0',\n 'humidity: 85.0<br>pressure: 1006.5<br>rainfall: 8.4',\n 'humidity: 88.0<br>pressure: 1009.4<br>rainfall: 5.0',\n 'humidity: 82.0<br>pressure: 1008.6<br>rainfall: 7.8',\n 'humidity: 91.0<br>pressure: 1016.3<br>rainfall: 0.0',\n 'humidity: 80.0<br>pressure: 1019.9<br>rainfall: 0.0',\n 'humidity: 99.0<br>pressure: 1022.4<br>rainfall: 0.0',\n 'humidity: 91.0<br>pressure: 1026.0<br>rainfall: 0.0',\n 'humidity: 84.0<br>pressure: 1030.4<br>rainfall: 0.0',\n 'humidity: 84.0<br>pressure: 1032.0<br>rainfall: 0.2',\n 'humidity: 93.0<br>pressure: 1028.7<br>rainfall: 0.0',\n 'humidity: 96.0<br>pressure: 1020.5<br>rainfall: 0.6',\n 'humidity: 77.0<br>pressure: 1010.4<br>rainfall: 0.6',\n 'humidity: 82.0<br>pressure: 1007.6<br>rainfall: 1.0',\n 'humidity: 94.0<br>pressure: 1006.6<br>rainfall: 6.8',\n 'humidity: 99.0<br>pressure: 1010.5<br>rainfall: 1.8',\n 'humidity: 95.0<br>pressure: 1015.6<br>rainfall: 0.0',\n 'humidity: 88.0<br>pressure: 1022.4<br>rainfall: 0.2',\n 'humidity: 98.0<br>pressure: 1023.0<br>rainfall: 0.0',\n 'humidity: 94.0<br>pressure: 1021.6<br>rainfall: 0.6',\n 'humidity: 95.0<br>pressure: 1023.1<br>rainfall: 0.2',\n 'humidity: 87.0<br>pressure: 1019.7<br>rainfall: 0.0',\n 'humidity: 74.0<br>pressure: 1009.5<br>rainfall: 0.0',\n 'humidity: 83.0<br>pressure: 1015.1<br>rainfall: 9.8',\n 'humidity: 87.0<br>pressure: 1027.3<br>rainfall: 0.0',\n 'humidity: 95.0<br>pressure: 1026.8<br>rainfall: 0.0',\n 'humidity: 85.0<br>pressure: 1018.0<br>rainfall: 0.0',\n 'humidity: 99.0<br>pressure: 1019.9<br>rainfall: 0.0',\n 'humidity: 89.0<br>pressure: 1024.0<br>rainfall: 3.8',\n 'humidity: 98.0<br>pressure: 1026.0<br>rainfall: 2.4',\n 'humidity: 99.0<br>pressure: 1025.8<br>rainfall: 0.2',\n 'humidity: 81.0<br>pressure: 1021.3<br>rainfall: 5.2',\n 'humidity: 99.0<br>pressure: 1026.8<br>rainfall: 0.2',\n 'humidity: 94.0<br>pressure: 1027.9<br>rainfall: 0.8',\n 'humidity: 79.0<br>pressure: 1023.1<br>rainfall: 0.8',\n 'humidity: 91.0<br>pressure: 1021.7<br>rainfall: 0.0',\n 'humidity: 98.0<br>pressure: 1022.2<br>rainfall: 5.4',\n 'humidity: 99.0<br>pressure: 1021.9<br>rainfall: 0.4',\n 'humidity: 79.0<br>pressure: 1012.8<br>rainfall: 0.8',\n 'humidity: 78.0<br>pressure: 1026.4<br>rainfall: 4.2',\n 'humidity: 91.0<br>pressure: 1021.6<br>rainfall: 0.0',\n 'humidity: 72.0<br>pressure: 1018.6<br>rainfall: 0.2',\n 'humidity: 62.0<br>pressure: 1009.0<br>rainfall: 0.4',\n 'humidity: 99.0<br>pressure: 1011.5<br>rainfall: 4.8',\n 'humidity: 94.0<br>pressure: 1015.7<br>rainfall: 0.2',\n 'humidity: 99.0<br>pressure: 1021.1<br>rainfall: 1.2',\n 'humidity: 99.0<br>pressure: 1021.2<br>rainfall: 0.2',\n 'humidity: 79.0<br>pressure: 1012.2<br>rainfall: 1.6',\n 'humidity: 73.0<br>pressure: 1018.2<br>rainfall: 3.2',\n 'humidity: 85.0<br>pressure: 1029.8<br>rainfall: 0.0',\n 'humidity: 99.0<br>pressure: 1027.7<br>rainfall: 0.0',\n 'humidity: 78.0<br>pressure: 1019.7<br>rainfall: 0.0',\n 'humidity: 72.0<br>pressure: 1004.0<br>rainfall: 1.0',\n 'humidity: 90.0<br>pressure: 1012.0<br>rainfall: 6.6',\n 'humidity: 94.0<br>pressure: 1011.5<br>rainfall: 3.8',\n 'humidity: 68.0<br>pressure: 1004.1<br>rainfall: 1.2',\n 'humidity: 75.0<br>pressure: 1009.6<br>rainfall: 2.0',\n 'humidity: 83.0<br>pressure: 1016.1<br>rainfall: 3.6',\n 'humidity: 72.0<br>pressure: 1018.5<br>rainfall: 0.4',\n 'humidity: 87.0<br>pressure: 1016.9<br>rainfall: 0.0',\n 'humidity: 81.0<br>pressure: 1002.6<br>rainfall: 4.2',\n 'humidity: 77.0<br>pressure: 1014.2<br>rainfall: 13.4',\n 'humidity: 90.0<br>pressure: 1018.9<br>rainfall: 1.4',\n 'humidity: 96.0<br>pressure: 1023.2<br>rainfall: 3.0',\n 'humidity: 82.0<br>pressure: 1024.9<br>rainfall: 0.0',\n 'humidity: 80.0<br>pressure: 1016.6<br>rainfall: 0.0',\n 'humidity: 85.0<br>pressure: 1014.4<br>rainfall: 1.4',\n 'humidity: 81.0<br>pressure: 1019.5<br>rainfall: 0.0',\n 'humidity: 79.0<br>pressure: 1018.4<br>rainfall: 0.0',\n 'humidity: 73.0<br>pressure: 1005.0<br>rainfall: 0.0',\n 'humidity: 90.0<br>pressure: 1009.9<br>rainfall: 0.0',\n 'humidity: 82.0<br>pressure: 1012.8<br>rainfall: 0.0',\n 'humidity: 71.0<br>pressure: 1017.8<br>rainfall: 0.0',\n 'humidity: 83.0<br>pressure: 1022.2<br>rainfall: 1.9141149119893643',\n 'humidity: 70.0<br>pressure: 1020.0<br>rainfall: 0.0',\n 'humidity: 44.0<br>pressure: 1017.0<br>rainfall: 0.0',\n 'humidity: 60.0<br>pressure: 1022.6<br>rainfall: 0.0',\n 'humidity: 68.0<br>pressure: 1022.5<br>rainfall: 0.0',\n 'humidity: 74.0<br>pressure: 1022.2<br>rainfall: 0.0',\n 'humidity: 76.0<br>pressure: 1013.8<br>rainfall: 0.0',\n 'humidity: 75.0<br>pressure: 1021.2<br>rainfall: 10.2',\n 'humidity: 98.0<br>pressure: 1018.8<br>rainfall: 0.0',\n 'humidity: 79.0<br>pressure: 1014.6<br>rainfall: 0.4',\n 'humidity: 73.0<br>pressure: 1014.5<br>rainfall: 0.2',\n 'humidity: 77.0<br>pressure: 1002.6<br>rainfall: 8.4',\n 'humidity: 82.0<br>pressure: 997.8<br>rainfall: 28.8',\n 'humidity: 72.0<br>pressure: 1015.1<br>rainfall: 1.4',\n 'humidity: 60.0<br>pressure: 1009.3<br>rainfall: 0.0',\n 'humidity: 79.0<br>pressure: 1005.2<br>rainfall: 6.0',\n 'humidity: 78.0<br>pressure: 1009.8<br>rainfall: 1.6',\n 'humidity: 79.0<br>pressure: 1012.3<br>rainfall: 0.0',\n 'humidity: 73.0<br>pressure: 1015.6<br>rainfall: 0.0',\n 'humidity: 75.0<br>pressure: 1018.0<br>rainfall: 0.0',\n 'humidity: 76.0<br>pressure: 1012.4<br>rainfall: 0.0',\n 'humidity: 68.0<br>pressure: 1009.6<br>rainfall: 0.0',\n 'humidity: 87.0<br>pressure: 1014.0<br>rainfall: 3.2',\n 'humidity: 85.0<br>pressure: 1020.6<br>rainfall: 1.8',\n 'humidity: 85.0<br>pressure: 1020.7<br>rainfall: 0.2',\n 'humidity: 85.0<br>pressure: 1020.2<br>rainfall: 0.0',\n 'humidity: 90.0<br>pressure: 1018.7<br>rainfall: 3.6',\n 'humidity: 65.0<br>pressure: 1024.0<br>rainfall: 0.0',\n 'humidity: 63.0<br>pressure: 1027.7<br>rainfall: 0.0',\n 'humidity: 55.0<br>pressure: 1029.5<br>rainfall: 0.0',\n 'humidity: 68.0<br>pressure: 1022.6<br>rainfall: 0.0',\n 'humidity: 88.0<br>pressure: 1007.9<br>rainfall: 0.0',\n 'humidity: 70.0<br>pressure: 1001.9<br>rainfall: 2.0',\n 'humidity: 88.0<br>pressure: 1000.5<br>rainfall: 7.0',\n 'humidity: 79.0<br>pressure: 1008.5<br>rainfall: 1.4',\n 'humidity: 77.0<br>pressure: 1016.0<br>rainfall: 6.8',\n 'humidity: 83.0<br>pressure: 1022.7<br>rainfall: 0.0',\n 'humidity: 72.0<br>pressure: 1026.9<br>rainfall: 0.0',\n 'humidity: 78.0<br>pressure: 1026.6<br>rainfall: 0.0',\n 'humidity: 71.0<br>pressure: 1022.9<br>rainfall: 0.0',\n 'humidity: 73.0<br>pressure: 1018.9<br>rainfall: 0.0',\n 'humidity: 67.0<br>pressure: 1020.8<br>rainfall: 0.0',\n 'humidity: 70.0<br>pressure: 1019.6<br>rainfall: 0.0',\n 'humidity: 68.0<br>pressure: 1019.5<br>rainfall: 0.0',\n 'humidity: 68.0<br>pressure: 1014.7<br>rainfall: 0.0',\n 'humidity: 52.0<br>pressure: 1023.8<br>rainfall: 0.0',\n 'humidity: 64.0<br>pressure: 1027.5<br>rainfall: 0.0',\n 'humidity: 67.0<br>pressure: 1025.4<br>rainfall: 0.0',\n 'humidity: 65.0<br>pressure: 1023.4<br>rainfall: 0.0',\n 'humidity: 75.0<br>pressure: 1022.8<br>rainfall: 0.0',\n 'humidity: 65.0<br>pressure: 1022.3<br>rainfall: 0.0',\n 'humidity: 66.0<br>pressure: 1021.6<br>rainfall: 0.0',\n 'humidity: 66.0<br>pressure: 1018.8<br>rainfall: 0.0',\n 'humidity: 46.0<br>pressure: 1009.8<br>rainfall: 0.0',\n 'humidity: 59.0<br>pressure: 1017.1<br>rainfall: 0.0',\n 'humidity: 67.0<br>pressure: 1020.5<br>rainfall: 0.0',\n 'humidity: 55.0<br>pressure: 1025.0<br>rainfall: 0.0',\n 'humidity: 57.0<br>pressure: 1028.5<br>rainfall: 0.0',\n 'humidity: 55.0<br>pressure: 1029.1<br>rainfall: 0.0',\n 'humidity: 48.0<br>pressure: 1025.4<br>rainfall: 0.0',\n 'humidity: 49.0<br>pressure: 1021.0<br>rainfall: 0.0',\n 'humidity: 43.0<br>pressure: 1021.4<br>rainfall: 0.0',\n 'humidity: 49.0<br>pressure: 1018.9<br>rainfall: 0.0',\n 'humidity: 42.0<br>pressure: 1017.2<br>rainfall: 0.0',\n 'humidity: 55.0<br>pressure: 1015.6<br>rainfall: 0.0',\n 'humidity: 57.0<br>pressure: 1009.8<br>rainfall: 0.0',\n 'humidity: 46.0<br>pressure: 1007.0<br>rainfall: 0.0',\n 'humidity: 38.0<br>pressure: 1008.0<br>rainfall: 0.0',\n 'humidity: 53.0<br>pressure: 1010.0<br>rainfall: 0.0',\n 'humidity: 29.0<br>pressure: 1006.8<br>rainfall: 0.0',\n 'humidity: 45.0<br>pressure: 1007.6<br>rainfall: 0.0',\n 'humidity: 95.0<br>pressure: 1010.8<br>rainfall: 10.6',\n 'humidity: 98.0<br>pressure: 1003.7<br>rainfall: 25.8',\n 'humidity: 63.0<br>pressure: 1020.7<br>rainfall: 0.4',\n 'humidity: 60.0<br>pressure: 1024.6<br>rainfall: 0.0',\n 'humidity: 60.0<br>pressure: 1020.8<br>rainfall: 0.0',\n 'humidity: 48.0<br>pressure: 1012.2<br>rainfall: 0.0',\n 'humidity: 82.0<br>pressure: 1010.7<br>rainfall: 10.2',\n 'humidity: 48.0<br>pressure: 1006.5<br>rainfall: 0.0',\n 'humidity: 94.0<br>pressure: 1000.5<br>rainfall: 9.4',\n 'humidity: 82.0<br>pressure: 1010.3<br>rainfall: 2.4',\n 'humidity: 43.0<br>pressure: 1018.4<br>rainfall: 0.0',\n 'humidity: 48.0<br>pressure: 1022.0<br>rainfall: 0.0',\n 'humidity: 57.0<br>pressure: 1019.2<br>rainfall: 0.0',\n 'humidity: 42.0<br>pressure: 1015.9<br>rainfall: 0.0',\n 'humidity: 44.0<br>pressure: 1015.1<br>rainfall: 0.0',\n 'humidity: 58.0<br>pressure: 1015.9<br>rainfall: 0.0',\n 'humidity: 47.0<br>pressure: 1012.3<br>rainfall: 0.0',\n 'humidity: 58.0<br>pressure: 1006.9<br>rainfall: 0.0',\n 'humidity: 64.0<br>pressure: 1011.6<br>rainfall: 1.2',\n 'humidity: 52.0<br>pressure: 1008.9<br>rainfall: 0.0',\n 'humidity: 62.0<br>pressure: 1016.9<br>rainfall: 1.0',\n 'humidity: 52.0<br>pressure: 1019.2<br>rainfall: 0.0',\n 'humidity: 52.0<br>pressure: 1017.6<br>rainfall: 0.0',\n 'humidity: 48.0<br>pressure: 1018.7<br>rainfall: 0.0',\n 'humidity: 51.0<br>pressure: 1019.4<br>rainfall: 0.0',\n 'humidity: 45.0<br>pressure: 1017.0<br>rainfall: 0.0',\n 'humidity: 40.0<br>pressure: 1008.9<br>rainfall: 0.0',\n 'humidity: 60.0<br>pressure: 1015.0<br>rainfall: 3.0',\n 'humidity: 45.0<br>pressure: 1016.2<br>rainfall: 0.0',\n 'humidity: 52.0<br>pressure: 1018.1<br>rainfall: 0.0',\n 'humidity: 48.0<br>pressure: 1013.5<br>rainfall: 0.0',\n 'humidity: 44.0<br>pressure: 1010.9<br>rainfall: 0.0',\n 'humidity: 41.0<br>pressure: 1012.4<br>rainfall: 0.0',\n 'humidity: 21.0<br>pressure: 1006.5<br>rainfall: 0.0',\n 'humidity: 84.0<br>pressure: 1009.8<br>rainfall: 9.8',\n 'humidity: 56.0<br>pressure: 1014.7<br>rainfall: 0.0',\n 'humidity: 61.0<br>pressure: 1016.3<br>rainfall: 0.0',\n 'humidity: 58.0<br>pressure: 1015.2<br>rainfall: 0.0',\n 'humidity: 46.0<br>pressure: 1020.0<br>rainfall: 0.0',\n 'humidity: 41.0<br>pressure: 1022.0<br>rainfall: 0.0',\n 'humidity: 41.0<br>pressure: 1016.8<br>rainfall: 0.0',\n 'humidity: 70.0<br>pressure: 1012.2<br>rainfall: 5.0',\n 'humidity: 88.0<br>pressure: 1007.8<br>rainfall: 12.4',\n 'humidity: 57.0<br>pressure: 1014.4<br>rainfall: 0.0',\n 'humidity: 55.0<br>pressure: 1017.5<br>rainfall: 0.0',\n 'humidity: 46.0<br>pressure: 1014.9<br>rainfall: 0.0',\n 'humidity: 49.0<br>pressure: 1014.1<br>rainfall: 0.0',\n 'humidity: 45.0<br>pressure: 1014.9<br>rainfall: 0.0',\n 'humidity: 50.0<br>pressure: 1018.0<br>rainfall: 0.0',\n 'humidity: 48.0<br>pressure: 1017.2<br>rainfall: 0.0',\n 'humidity: 38.0<br>pressure: 1015.4<br>rainfall: 0.0',\n 'humidity: 39.0<br>pressure: 1013.8<br>rainfall: 0.0',\n 'humidity: 48.0<br>pressure: 1007.7<br>rainfall: 0.2',\n 'humidity: 56.0<br>pressure: 1009.8<br>rainfall: 0.4',\n 'humidity: 55.0<br>pressure: 1016.1<br>rainfall: 3.0',\n 'humidity: 51.0<br>pressure: 1015.6<br>rainfall: 0.0',\n 'humidity: 50.0<br>pressure: 1009.6<br>rainfall: 0.0',\n 'humidity: 51.0<br>pressure: 1006.9<br>rainfall: 0.0',\n 'humidity: 44.0<br>pressure: 1007.7<br>rainfall: 0.0',\n 'humidity: 47.0<br>pressure: 1011.5<br>rainfall: 0.0',\n 'humidity: 52.0<br>pressure: 1011.8<br>rainfall: 0.0',\n 'humidity: 39.0<br>pressure: 1010.7<br>rainfall: 0.0',\n 'humidity: 40.0<br>pressure: 1008.8<br>rainfall: 0.0',\n 'humidity: 43.0<br>pressure: 1006.7<br>rainfall: 0.0',\n 'humidity: 50.0<br>pressure: 1013.2<br>rainfall: 0.0',\n 'humidity: 47.0<br>pressure: 1011.4<br>rainfall: 0.0',\n 'humidity: 35.0<br>pressure: 1010.0<br>rainfall: 0.0',\n 'humidity: 45.0<br>pressure: 1011.4<br>rainfall: 0.0',\n 'humidity: 51.0<br>pressure: 1008.5<br>rainfall: 0.0',\n 'humidity: 46.0<br>pressure: 1009.0<br>rainfall: 0.0',\n 'humidity: 48.0<br>pressure: 1015.3<br>rainfall: 0.0',\n 'humidity: 39.0<br>pressure: 1014.2<br>rainfall: 0.0',\n 'humidity: 46.0<br>pressure: 1014.0<br>rainfall: 0.0',\n 'humidity: 61.0<br>pressure: 1016.1<br>rainfall: 8.6',\n 'humidity: 36.0<br>pressure: 1014.0<br>rainfall: 0.0',\n 'humidity: 51.0<br>pressure: 1010.8<br>rainfall: 0.0',\n 'humidity: 83.0<br>pressure: 1009.9<br>rainfall: 52.2',\n 'humidity: 55.0<br>pressure: 1016.4<br>rainfall: 5.6',\n 'humidity: 53.0<br>pressure: 1020.8<br>rainfall: 0.0',\n 'humidity: 66.0<br>pressure: 1020.8<br>rainfall: 0.0',\n 'humidity: 58.0<br>pressure: 1020.9<br>rainfall: 0.0',\n 'humidity: 64.0<br>pressure: 1018.8<br>rainfall: 1.9141149119893643',\n 'humidity: 76.0<br>pressure: 1015.8<br>rainfall: 0.0',\n 'humidity: 81.0<br>pressure: 1008.5<br>rainfall: 1.9141149119893643',\n 'humidity: 82.0<br>pressure: 1009.9<br>rainfall: 0.0',\n 'humidity: 80.0<br>pressure: 1006.8<br>rainfall: 0.0',\n 'humidity: 76.0<br>pressure: 1008.6<br>rainfall: 0.0',\n 'humidity: 48.0<br>pressure: 1014.7<br>rainfall: 0.0',\n 'humidity: 66.0<br>pressure: 1015.9<br>rainfall: 0.0',\n 'humidity: 33.0<br>pressure: 1020.4<br>rainfall: 1.9141149119893643',\n 'humidity: 54.0<br>pressure: 1023.6<br>rainfall: 0.0',\n 'humidity: 70.0<br>pressure: 1018.9<br>rainfall: 0.0',\n 'humidity: 71.0<br>pressure: 1015.3<br>rainfall: 0.6',\n 'humidity: 83.0<br>pressure: 1014.6<br>rainfall: 3.6',\n 'humidity: 56.0<br>pressure: 1017.3<br>rainfall: 0.2',\n 'humidity: 57.0<br>pressure: 1020.3<br>rainfall: 0.0',\n 'humidity: 61.0<br>pressure: 1023.9<br>rainfall: 0.0',\n 'humidity: 54.0<br>pressure: 1024.6<br>rainfall: 0.0',\n 'humidity: 70.0<br>pressure: 1019.4<br>rainfall: 1.9141149119893643',\n 'humidity: 84.0<br>pressure: 1016.7<br>rainfall: 1.4',\n 'humidity: 50.0<br>pressure: 1018.5<br>rainfall: 0.0',\n 'humidity: 58.0<br>pressure: 1019.3<br>rainfall: 1.9141149119893643',\n 'humidity: 61.0<br>pressure: 1018.6<br>rainfall: 0.0',\n 'humidity: 70.0<br>pressure: 1014.2<br>rainfall: 0.0',\n 'humidity: 74.0<br>pressure: 1008.8<br>rainfall: 0.0',\n 'humidity: 87.0<br>pressure: 1010.0<br>rainfall: 20.6',\n 'humidity: 89.0<br>pressure: 1013.3<br>rainfall: 5.8',\n 'humidity: 79.0<br>pressure: 1008.7<br>rainfall: 66.0',\n 'humidity: 90.0<br>pressure: 1014.4<br>rainfall: 6.2',\n 'humidity: 69.0<br>pressure: 1023.7<br>rainfall: 0.0',\n 'humidity: 56.0<br>pressure: 1031.4<br>rainfall: 1.9141149119893643',\n 'humidity: 72.0<br>pressure: 1036.3<br>rainfall: 0.0',\n 'humidity: 80.0<br>pressure: 1035.2<br>rainfall: 0.0',\n 'humidity: 75.0<br>pressure: 1030.0<br>rainfall: 0.0',\n 'humidity: 72.0<br>pressure: 1025.5<br>rainfall: 0.0',\n 'humidity: 73.0<br>pressure: 1023.8<br>rainfall: 0.0',\n 'humidity: 76.0<br>pressure: 1025.6<br>rainfall: 0.0',\n 'humidity: 73.0<br>pressure: 1025.4<br>rainfall: 0.0',\n 'humidity: 79.0<br>pressure: 1020.4<br>rainfall: 0.0',\n 'humidity: 77.0<br>pressure: 1020.2<br>rainfall: 0.0',\n 'humidity: 78.0<br>pressure: 1018.7<br>rainfall: 0.0',\n 'humidity: 69.0<br>pressure: 1020.8<br>rainfall: 0.0',\n 'humidity: 79.0<br>pressure: 1021.2<br>rainfall: 0.0',\n 'humidity: 81.0<br>pressure: 1022.0<br>rainfall: 0.0',\n 'humidity: 75.0<br>pressure: 1021.8<br>rainfall: 0.0',\n 'humidity: 80.0<br>pressure: 1019.2<br>rainfall: 0.0',\n 'humidity: 73.0<br>pressure: 1019.8<br>rainfall: 0.0',\n 'humidity: 79.0<br>pressure: 1016.4<br>rainfall: 0.0',\n 'humidity: 94.0<br>pressure: 1015.8<br>rainfall: 11.0',\n 'humidity: 91.0<br>pressure: 1019.6<br>rainfall: 0.4',\n 'humidity: 71.0<br>pressure: 1021.2<br>rainfall: 0.0',\n 'humidity: 82.0<br>pressure: 1020.0<br>rainfall: 0.0',\n 'humidity: 78.0<br>pressure: 1019.8<br>rainfall: 0.0',\n 'humidity: 71.0<br>pressure: 1020.7<br>rainfall: 0.0',\n 'humidity: 58.0<br>pressure: 1022.1<br>rainfall: 0.0',\n 'humidity: 76.0<br>pressure: 1020.7<br>rainfall: 0.0',\n 'humidity: 75.0<br>pressure: 1017.9<br>rainfall: 0.0',\n 'humidity: 87.0<br>pressure: 1012.8<br>rainfall: 3.0',\n 'humidity: 84.0<br>pressure: 1016.7<br>rainfall: 3.2',\n 'humidity: 73.0<br>pressure: 1016.1<br>rainfall: 0.0',\n 'humidity: 84.0<br>pressure: 1011.6<br>rainfall: 0.2',\n 'humidity: 86.0<br>pressure: 1010.1<br>rainfall: 7.0',\n 'humidity: 71.0<br>pressure: 1018.1<br>rainfall: 0.0',\n 'humidity: 82.0<br>pressure: 1023.8<br>rainfall: 0.0',\n 'humidity: 81.0<br>pressure: 1023.6<br>rainfall: 0.0',\n 'humidity: 79.0<br>pressure: 1022.6<br>rainfall: 0.0',\n 'humidity: 79.0<br>pressure: 1026.5<br>rainfall: 0.0',\n 'humidity: 74.0<br>pressure: 1027.8<br>rainfall: 0.0',\n 'humidity: 67.0<br>pressure: 1027.1<br>rainfall: 0.0',\n 'humidity: 81.0<br>pressure: 1025.7<br>rainfall: 0.0',\n 'humidity: 79.0<br>pressure: 1024.6<br>rainfall: 0.0',\n 'humidity: 74.0<br>pressure: 1022.8<br>rainfall: 0.0',\n 'humidity: 74.0<br>pressure: 1023.6<br>rainfall: 0.0',\n 'humidity: 89.0<br>pressure: 1020.5<br>rainfall: 0.0',\n 'humidity: 95.0<br>pressure: 1013.4<br>rainfall: 3.6',\n 'humidity: 72.0<br>pressure: 1016.2<br>rainfall: 17.0',\n 'humidity: 78.0<br>pressure: 1026.5<br>rainfall: 0.0',\n 'humidity: 84.0<br>pressure: 1020.9<br>rainfall: 0.0',\n 'humidity: 84.0<br>pressure: 1022.0<br>rainfall: 1.6',\n 'humidity: 79.0<br>pressure: 1021.9<br>rainfall: 0.4',\n 'humidity: 99.0<br>pressure: 1026.8<br>rainfall: 0.0',\n 'humidity: 84.0<br>pressure: 1027.9<br>rainfall: 0.2',\n 'humidity: 97.0<br>pressure: 1026.7<br>rainfall: 0.0',\n 'humidity: 83.0<br>pressure: 1027.1<br>rainfall: 0.0',\n 'humidity: 92.0<br>pressure: 1017.8<br>rainfall: 0.2',\n 'humidity: 84.0<br>pressure: 1016.1<br>rainfall: 3.0',\n 'humidity: 78.0<br>pressure: 1022.3<br>rainfall: 0.0',\n 'humidity: 89.0<br>pressure: 1024.7<br>rainfall: 0.0',\n 'humidity: 84.0<br>pressure: 1023.7<br>rainfall: 0.0',\n 'humidity: 99.0<br>pressure: 1023.4<br>rainfall: 0.0',\n 'humidity: 99.0<br>pressure: 1020.8<br>rainfall: 0.0',\n 'humidity: 77.0<br>pressure: 1012.5<br>rainfall: 0.0',\n 'humidity: 81.0<br>pressure: 1022.8<br>rainfall: 0.0',\n 'humidity: 79.0<br>pressure: 1024.1<br>rainfall: 0.0',\n 'humidity: 99.0<br>pressure: 1021.2<br>rainfall: 0.2',\n 'humidity: 83.0<br>pressure: 1019.9<br>rainfall: 0.0',\n 'humidity: 84.0<br>pressure: 1021.6<br>rainfall: 0.0',\n 'humidity: 92.0<br>pressure: 1021.1<br>rainfall: 0.0',\n 'humidity: 90.0<br>pressure: 1020.9<br>rainfall: 0.0',\n 'humidity: 86.0<br>pressure: 1024.1<br>rainfall: 0.0',\n 'humidity: 88.0<br>pressure: 1023.8<br>rainfall: 0.0',\n 'humidity: 92.0<br>pressure: 1022.3<br>rainfall: 0.0',\n 'humidity: 76.0<br>pressure: 1023.3<br>rainfall: 0.0',\n 'humidity: 76.0<br>pressure: 1023.5<br>rainfall: 0.0',\n 'humidity: 74.0<br>pressure: 1017.6<br>rainfall: 0.0',\n 'humidity: 88.0<br>pressure: 1008.7<br>rainfall: 10.4',\n 'humidity: 71.0<br>pressure: 1008.9<br>rainfall: 13.4',\n 'humidity: 92.0<br>pressure: 1019.6<br>rainfall: 0.2',\n 'humidity: 96.0<br>pressure: 1019.4<br>rainfall: 0.0',\n 'humidity: 99.0<br>pressure: 1005.7<br>rainfall: 28.0',\n 'humidity: 99.0<br>pressure: 1004.7<br>rainfall: 5.8',\n 'humidity: 54.0<br>pressure: 1015.2<br>rainfall: 0.0',\n 'humidity: 89.0<br>pressure: 1020.7<br>rainfall: 0.0',\n 'humidity: 93.0<br>pressure: 1022.3<br>rainfall: 0.0',\n 'humidity: 79.0<br>pressure: 1026.5<br>rainfall: 0.0',\n 'humidity: 82.0<br>pressure: 1023.6<br>rainfall: 0.0',\n 'humidity: 99.0<br>pressure: 1018.7<br>rainfall: 0.0',\n 'humidity: 97.0<br>pressure: 1020.6<br>rainfall: 0.0',\n 'humidity: 80.0<br>pressure: 1026.7<br>rainfall: 0.0',\n 'humidity: 89.0<br>pressure: 1023.7<br>rainfall: 0.0',\n 'humidity: 81.0<br>pressure: 1012.9<br>rainfall: 0.0',\n 'humidity: 85.0<br>pressure: 1021.2<br>rainfall: 2.4',\n 'humidity: 82.0<br>pressure: 1023.0<br>rainfall: 0.0',\n 'humidity: 95.0<br>pressure: 1025.4<br>rainfall: 0.0',\n 'humidity: 83.0<br>pressure: 1031.8<br>rainfall: 0.0',\n 'humidity: 85.0<br>pressure: 1035.2<br>rainfall: 0.0',\n 'humidity: 92.0<br>pressure: 1032.3<br>rainfall: 0.0',\n 'humidity: 91.0<br>pressure: 1027.4<br>rainfall: 0.0',\n 'humidity: 82.0<br>pressure: 1010.0<br>rainfall: 11.6',\n 'humidity: 88.0<br>pressure: 1019.6<br>rainfall: 2.2',\n 'humidity: 95.0<br>pressure: 1019.4<br>rainfall: 1.8',\n 'humidity: 98.0<br>pressure: 1027.2<br>rainfall: 0.0',\n 'humidity: 99.0<br>pressure: 1034.5<br>rainfall: 0.4',\n 'humidity: 94.0<br>pressure: 1037.3<br>rainfall: 0.0',\n 'humidity: 89.0<br>pressure: 1036.9<br>rainfall: 0.0',\n 'humidity: 85.0<br>pressure: 1030.1<br>rainfall: 0.0',\n 'humidity: 83.0<br>pressure: 1021.9<br>rainfall: 0.0',\n 'humidity: 86.0<br>pressure: 1020.5<br>rainfall: 10.2',\n 'humidity: 99.0<br>pressure: 1024.3<br>rainfall: 0.2',\n 'humidity: 99.0<br>pressure: 1022.7<br>rainfall: 0.0',\n 'humidity: 71.0<br>pressure: 1021.2<br>rainfall: 0.0',\n 'humidity: 81.0<br>pressure: 1020.7<br>rainfall: 0.2',\n 'humidity: 99.0<br>pressure: 1025.2<br>rainfall: 1.2',\n 'humidity: 99.0<br>pressure: 1027.6<br>rainfall: 0.2',\n 'humidity: 99.0<br>pressure: 1030.5<br>rainfall: 0.0',\n 'humidity: 99.0<br>pressure: 1032.5<br>rainfall: 0.0',\n 'humidity: 99.0<br>pressure: 1027.5<br>rainfall: 0.2',\n 'humidity: 94.0<br>pressure: 1020.9<br>rainfall: 5.6',\n 'humidity: 99.0<br>pressure: 1026.9<br>rainfall: 0.0',\n 'humidity: 99.0<br>pressure: 1029.5<br>rainfall: 0.4',\n 'humidity: 90.0<br>pressure: 1030.9<br>rainfall: 0.0',\n 'humidity: 96.0<br>pressure: 1024.1<br>rainfall: 0.0',\n 'humidity: 99.0<br>pressure: 1020.6<br>rainfall: 13.4',\n 'humidity: 99.0<br>pressure: 1024.3<br>rainfall: 0.2',\n 'humidity: 98.0<br>pressure: 1016.8<br>rainfall: 0.0',\n 'humidity: 82.0<br>pressure: 1009.2<br>rainfall: 21.4',\n 'humidity: 85.0<br>pressure: 1020.2<br>rainfall: 11.0',\n 'humidity: 99.0<br>pressure: 1028.7<br>rainfall: 0.0',\n 'humidity: 99.0<br>pressure: 1029.2<br>rainfall: 0.0',\n 'humidity: 96.0<br>pressure: 1023.1<br>rainfall: 0.0',\n 'humidity: 99.0<br>pressure: 1018.8<br>rainfall: 1.6',\n 'humidity: 99.0<br>pressure: 1025.4<br>rainfall: 0.2',\n 'humidity: 99.0<br>pressure: 1029.3<br>rainfall: 0.0',\n 'humidity: 89.0<br>pressure: 1032.7<br>rainfall: 0.0',\n 'humidity: 99.0<br>pressure: 1035.5<br>rainfall: 0.0',\n 'humidity: 99.0<br>pressure: 1032.1<br>rainfall: 0.0',\n 'humidity: 99.0<br>pressure: 1031.7<br>rainfall: 0.2',\n 'humidity: 99.0<br>pressure: 1035.9<br>rainfall: 0.2',\n 'humidity: 85.0<br>pressure: 1036.1<br>rainfall: 0.2',\n 'humidity: 80.0<br>pressure: 1027.8<br>rainfall: 0.0',\n 'humidity: 99.0<br>pressure: 1018.5<br>rainfall: 6.2',\n 'humidity: 91.0<br>pressure: 1015.5<br>rainfall: 0.0',\n 'humidity: 100.0<br>pressure: 1013.7<br>rainfall: 2.2',\n 'humidity: 86.0<br>pressure: 1016.3<br>rainfall: 4.2',\n 'humidity: 85.0<br>pressure: 1019.5<br>rainfall: 18.6',\n 'humidity: 86.0<br>pressure: 1023.2<br>rainfall: 0.0',\n 'humidity: 94.0<br>pressure: 1019.8<br>rainfall: 0.0',\n 'humidity: 97.0<br>pressure: 1019.5<br>rainfall: 1.9141149119893643',\n 'humidity: 99.0<br>pressure: 1024.5<br>rainfall: 0.2',\n 'humidity: 83.0<br>pressure: 1026.9<br>rainfall: 0.2',\n 'humidity: 86.0<br>pressure: 1022.2<br>rainfall: 0.0',\n 'humidity: 79.0<br>pressure: 1022.4<br>rainfall: 0.0',\n 'humidity: 86.0<br>pressure: 1013.9<br>rainfall: 7.2',\n 'humidity: 96.0<br>pressure: 1006.2<br>rainfall: 8.2',\n 'humidity: 91.0<br>pressure: 1005.7<br>rainfall: 10.8',\n 'humidity: 99.0<br>pressure: 1016.7<br>rainfall: 0.0',\n 'humidity: 85.0<br>pressure: 1014.4<br>rainfall: 0.0',\n 'humidity: 83.0<br>pressure: 1004.5<br>rainfall: 1.8',\n 'humidity: 94.0<br>pressure: 1013.8<br>rainfall: 10.2',\n 'humidity: 87.0<br>pressure: 1024.1<br>rainfall: 3.8',\n 'humidity: 92.0<br>pressure: 1016.9<br>rainfall: 0.2',\n 'humidity: 85.0<br>pressure: 1008.2<br>rainfall: 15.4',\n 'humidity: 82.0<br>pressure: 1015.7<br>rainfall: 2.0',\n 'humidity: 86.0<br>pressure: 1018.7<br>rainfall: 0.0',\n 'humidity: 87.0<br>pressure: 1024.0<br>rainfall: 0.2',\n 'humidity: 91.0<br>pressure: 1017.7<br>rainfall: 0.2',\n 'humidity: 90.0<br>pressure: 1013.2<br>rainfall: 1.8',\n 'humidity: 87.0<br>pressure: 1010.9<br>rainfall: 1.8',\n 'humidity: 84.0<br>pressure: 1003.1<br>rainfall: 9.6',\n 'humidity: 75.0<br>pressure: 1009.5<br>rainfall: 4.0',\n 'humidity: 99.0<br>pressure: 1024.4<br>rainfall: 0.0',\n 'humidity: 85.0<br>pressure: 1029.6<br>rainfall: 0.0',\n 'humidity: 84.0<br>pressure: 1028.9<br>rainfall: 0.0',\n 'humidity: 89.0<br>pressure: 1024.8<br>rainfall: 0.0',\n 'humidity: 86.0<br>pressure: 1015.8<br>rainfall: 0.0',\n 'humidity: 92.0<br>pressure: 1016.5<br>rainfall: 0.8',\n 'humidity: 65.0<br>pressure: 1022.1<br>rainfall: 0.0',\n 'humidity: 96.0<br>pressure: 1004.7<br>rainfall: 21.8',\n 'humidity: 81.0<br>pressure: 1011.7<br>rainfall: 20.8',\n 'humidity: 89.0<br>pressure: 1019.7<br>rainfall: 2.4',\n 'humidity: 83.0<br>pressure: 1026.2<br>rainfall: 1.2',\n 'humidity: 74.0<br>pressure: 1026.9<br>rainfall: 0.0',\n 'humidity: 76.0<br>pressure: 1015.6<br>rainfall: 0.0',\n 'humidity: 91.0<br>pressure: 1004.5<br>rainfall: 24.8',\n 'humidity: 88.0<br>pressure: 1020.2<br>rainfall: 3.2',\n 'humidity: 84.0<br>pressure: 1022.5<br>rainfall: 0.0',\n 'humidity: 88.0<br>pressure: 1017.1<br>rainfall: 0.4',\n 'humidity: 76.0<br>pressure: 1014.7<br>rainfall: 0.0',\n 'humidity: 68.0<br>pressure: 1015.2<br>rainfall: 0.0',\n 'humidity: 64.0<br>pressure: 1019.2<br>rainfall: 0.0',\n 'humidity: 76.0<br>pressure: 1024.0<br>rainfall: 0.2',\n 'humidity: 67.0<br>pressure: 1021.8<br>rainfall: 0.0',\n 'humidity: 90.0<br>pressure: 1022.7<br>rainfall: 0.0',\n 'humidity: 79.0<br>pressure: 1026.1<br>rainfall: 0.0',\n 'humidity: 81.0<br>pressure: 1025.2<br>rainfall: 0.0',\n 'humidity: 70.0<br>pressure: 1025.8<br>rainfall: 0.0',\n 'humidity: 76.0<br>pressure: 1024.4<br>rainfall: 0.0',\n 'humidity: 96.0<br>pressure: 1023.9<br>rainfall: 0.0',\n 'humidity: 84.0<br>pressure: 1018.6<br>rainfall: 0.0',\n 'humidity: 75.0<br>pressure: 1020.5<br>rainfall: 0.0',\n 'humidity: 83.0<br>pressure: 1014.1<br>rainfall: 0.0',\n 'humidity: 65.0<br>pressure: 1016.0<br>rainfall: 0.0',\n 'humidity: 66.0<br>pressure: 1021.4<br>rainfall: 0.0',\n 'humidity: 59.0<br>pressure: 1026.3<br>rainfall: 0.0',\n 'humidity: 71.0<br>pressure: 1027.5<br>rainfall: 0.0',\n 'humidity: 61.0<br>pressure: 1028.2<br>rainfall: 0.0',\n 'humidity: 72.0<br>pressure: 1028.4<br>rainfall: 0.0',\n 'humidity: 85.0<br>pressure: 1024.6<br>rainfall: 0.0',\n 'humidity: 78.0<br>pressure: 1021.9<br>rainfall: 0.0',\n 'humidity: 80.0<br>pressure: 1019.8<br>rainfall: 0.0',\n 'humidity: 64.0<br>pressure: 1020.0<br>rainfall: 10.0',\n 'humidity: 59.0<br>pressure: 1025.3<br>rainfall: 0.0',\n 'humidity: 83.0<br>pressure: 1025.7<br>rainfall: 0.0',\n 'humidity: 71.0<br>pressure: 1029.4<br>rainfall: 0.0',\n 'humidity: 60.0<br>pressure: 1030.9<br>rainfall: 0.0',\n 'humidity: 91.0<br>pressure: 1027.7<br>rainfall: 0.8',\n 'humidity: 92.0<br>pressure: 1017.9<br>rainfall: 11.4',\n 'humidity: 92.0<br>pressure: 1013.6<br>rainfall: 19.0',\n 'humidity: 93.0<br>pressure: 989.8<br>rainfall: 22.2',\n 'humidity: 72.0<br>pressure: 1004.6<br>rainfall: 32.8',\n 'humidity: 77.0<br>pressure: 1016.1<br>rainfall: 0.0',\n 'humidity: 74.0<br>pressure: 1019.9<br>rainfall: 0.0',\n 'humidity: 78.0<br>pressure: 1026.0<br>rainfall: 0.0',\n 'humidity: 80.0<br>pressure: 1028.7<br>rainfall: 0.0',\n 'humidity: 75.0<br>pressure: 1024.5<br>rainfall: 0.0',\n 'humidity: 77.0<br>pressure: 1020.9<br>rainfall: 0.0',\n 'humidity: 81.0<br>pressure: 1016.8<br>rainfall: 0.4',\n 'humidity: 65.0<br>pressure: 1020.6<br>rainfall: 2.4',\n 'humidity: 77.0<br>pressure: 1022.4<br>rainfall: 0.0',\n 'humidity: 80.0<br>pressure: 1017.9<br>rainfall: 0.0',\n 'humidity: 81.0<br>pressure: 1016.2<br>rainfall: 1.6',\n 'humidity: 73.0<br>pressure: 1019.8<br>rainfall: 0.0',\n 'humidity: 70.0<br>pressure: 1017.2<br>rainfall: 0.0',\n 'humidity: 95.0<br>pressure: 1010.7<br>rainfall: 3.4',\n 'humidity: 78.0<br>pressure: 1011.3<br>rainfall: 50.8',\n 'humidity: 79.0<br>pressure: 1016.5<br>rainfall: 1.2',\n 'humidity: 73.0<br>pressure: 1016.3<br>rainfall: 0.0',\n 'humidity: 63.0<br>pressure: 1019.3<br>rainfall: 0.0',\n 'humidity: 61.0<br>pressure: 1020.8<br>rainfall: 0.0',\n 'humidity: 53.0<br>pressure: 1023.0<br>rainfall: 0.0',\n 'humidity: 59.0<br>pressure: 1022.6<br>rainfall: 0.0',\n 'humidity: 73.0<br>pressure: 1018.3<br>rainfall: 0.0',\n 'humidity: 71.0<br>pressure: 1013.8<br>rainfall: 2.2',\n 'humidity: 69.0<br>pressure: 1024.3<br>rainfall: 0.0',\n 'humidity: 76.0<br>pressure: 1019.9<br>rainfall: 0.0',\n 'humidity: 73.0<br>pressure: 1014.3<br>rainfall: 0.6',\n 'humidity: 60.0<br>pressure: 1012.5<br>rainfall: 0.0',\n 'humidity: 63.0<br>pressure: 1012.1<br>rainfall: 0.0',\n 'humidity: 93.0<br>pressure: 1013.9<br>rainfall: 52.6',\n 'humidity: 84.0<br>pressure: 1014.3<br>rainfall: 2.4',\n 'humidity: 56.0<br>pressure: 1015.4<br>rainfall: 0.0',\n 'humidity: 65.0<br>pressure: 1017.5<br>rainfall: 0.0',\n 'humidity: 68.0<br>pressure: 1015.7<br>rainfall: 0.0',\n 'humidity: 56.0<br>pressure: 1020.9<br>rainfall: 0.0',\n 'humidity: 63.0<br>pressure: 1026.0<br>rainfall: 0.0',\n 'humidity: 70.0<br>pressure: 1022.1<br>rainfall: 0.0',\n 'humidity: 59.0<br>pressure: 1022.7<br>rainfall: 0.0',\n 'humidity: 49.0<br>pressure: 1023.5<br>rainfall: 0.0',\n 'humidity: 46.0<br>pressure: 1021.8<br>rainfall: 0.0',\n 'humidity: 47.0<br>pressure: 1018.2<br>rainfall: 0.0',\n 'humidity: 92.0<br>pressure: 1018.1<br>rainfall: 4.0',\n 'humidity: 77.0<br>pressure: 1012.6<br>rainfall: 19.2',\n 'humidity: 86.0<br>pressure: 1007.6<br>rainfall: 18.8',\n 'humidity: 69.0<br>pressure: 1013.6<br>rainfall: 14.8',\n 'humidity: 69.0<br>pressure: 1015.0<br>rainfall: 1.6',\n 'humidity: 72.0<br>pressure: 1014.1<br>rainfall: 12.0',\n 'humidity: 70.0<br>pressure: 1015.0<br>rainfall: 0.6',\n 'humidity: 71.0<br>pressure: 1014.6<br>rainfall: 18.4',\n 'humidity: 65.0<br>pressure: 1012.6<br>rainfall: 1.2',\n 'humidity: 63.0<br>pressure: 1011.5<br>rainfall: 0.0',\n 'humidity: 63.0<br>pressure: 1012.7<br>rainfall: 0.0',\n 'humidity: 50.0<br>pressure: 1011.5<br>rainfall: 0.0',\n 'humidity: 82.0<br>pressure: 1009.4<br>rainfall: 3.2',\n 'humidity: 85.0<br>pressure: 1009.1<br>rainfall: 25.6',\n 'humidity: 59.0<br>pressure: 1010.1<br>rainfall: 0.0',\n 'humidity: 59.0<br>pressure: 1009.2<br>rainfall: 0.0',\n 'humidity: 54.0<br>pressure: 1005.6<br>rainfall: 0.0',\n 'humidity: 65.0<br>pressure: 1014.3<br>rainfall: 0.0',\n 'humidity: 67.0<br>pressure: 1015.0<br>rainfall: 0.0',\n 'humidity: 57.0<br>pressure: 1008.7<br>rainfall: 0.0',\n 'humidity: 72.0<br>pressure: 1004.6<br>rainfall: 0.4',\n 'humidity: 62.0<br>pressure: 1005.3<br>rainfall: 0.0',\n 'humidity: 64.0<br>pressure: 1002.4<br>rainfall: 1.0',\n 'humidity: 71.0<br>pressure: 998.8<br>rainfall: 3.0',\n 'humidity: 79.0<br>pressure: 1002.3<br>rainfall: 6.2',\n 'humidity: 68.0<br>pressure: 1010.5<br>rainfall: 1.6',\n 'humidity: 71.0<br>pressure: 1018.4<br>rainfall: 0.0',\n 'humidity: 62.0<br>pressure: 1018.1<br>rainfall: 0.0',\n 'humidity: 47.0<br>pressure: 1022.3<br>rainfall: 0.0',\n 'humidity: 60.0<br>pressure: 1014.6<br>rainfall: 0.0',\n 'humidity: 75.0<br>pressure: 1005.4<br>rainfall: 1.0',\n 'humidity: 57.0<br>pressure: 1006.7<br>rainfall: 0.0',\n 'humidity: 49.0<br>pressure: 1016.8<br>rainfall: 0.0',\n 'humidity: 57.0<br>pressure: 1015.6<br>rainfall: 0.0',\n 'humidity: 55.0<br>pressure: 1015.8<br>rainfall: 0.0',\n 'humidity: 55.0<br>pressure: 1014.3<br>rainfall: 0.0',\n 'humidity: 46.0<br>pressure: 1011.1<br>rainfall: 0.0',\n 'humidity: 45.0<br>pressure: 1010.9<br>rainfall: 0.6',\n 'humidity: 56.0<br>pressure: 1011.8<br>rainfall: 0.0',\n 'humidity: 53.0<br>pressure: 1011.6<br>rainfall: 0.0',\n 'humidity: 57.0<br>pressure: 1006.2<br>rainfall: 0.0',\n 'humidity: 48.0<br>pressure: 1010.3<br>rainfall: 0.0',\n 'humidity: 51.0<br>pressure: 1012.7<br>rainfall: 0.0',\n 'humidity: 66.0<br>pressure: 1012.0<br>rainfall: 0.0',\n 'humidity: 55.0<br>pressure: 1013.8<br>rainfall: 0.0',\n 'humidity: 68.0<br>pressure: 1013.6<br>rainfall: 35.0',\n 'humidity: 81.0<br>pressure: 1011.7<br>rainfall: 1.4',\n 'humidity: 66.0<br>pressure: 1006.9<br>rainfall: 5.0',\n 'humidity: 86.0<br>pressure: 1009.5<br>rainfall: 14.2',\n 'humidity: 61.0<br>pressure: 1006.0<br>rainfall: 2.4',\n 'humidity: 83.0<br>pressure: 1009.4<br>rainfall: 13.8',\n 'humidity: 71.0<br>pressure: 1009.7<br>rainfall: 0.0',\n 'humidity: 70.0<br>pressure: 1004.4<br>rainfall: 0.0',\n 'humidity: 64.0<br>pressure: 1007.4<br>rainfall: 0.0',\n 'humidity: 70.0<br>pressure: 1009.1<br>rainfall: 0.0',\n 'humidity: 63.0<br>pressure: 1011.8<br>rainfall: 0.0',\n 'humidity: 60.0<br>pressure: 1012.4<br>rainfall: 0.0',\n 'humidity: 60.0<br>pressure: 1013.6<br>rainfall: 0.0',\n 'humidity: 53.0<br>pressure: 1010.4<br>rainfall: 0.0',\n 'humidity: 68.0<br>pressure: 1002.5<br>rainfall: 0.0',\n 'humidity: 60.0<br>pressure: 1008.0<br>rainfall: 0.0',\n 'humidity: 63.0<br>pressure: 1008.2<br>rainfall: 0.0',\n 'humidity: 60.0<br>pressure: 1014.5<br>rainfall: 0.0',\n 'humidity: 56.0<br>pressure: 1017.8<br>rainfall: 0.0',\n 'humidity: 59.0<br>pressure: 1018.9<br>rainfall: 0.0',\n 'humidity: 68.0<br>pressure: 1019.0<br>rainfall: 0.0',\n 'humidity: 56.0<br>pressure: 1015.3<br>rainfall: 0.0',\n 'humidity: 57.0<br>pressure: 1009.0<br>rainfall: 0.0',\n 'humidity: 77.0<br>pressure: 1014.1<br>rainfall: 0.0',\n 'humidity: 74.0<br>pressure: 1012.3<br>rainfall: 3.4',\n 'humidity: 80.0<br>pressure: 1012.7<br>rainfall: 2.6',\n 'humidity: 97.0<br>pressure: 1008.6<br>rainfall: 99.2',\n 'humidity: 81.0<br>pressure: 1017.0<br>rainfall: 51.0',\n 'humidity: 58.0<br>pressure: 1023.6<br>rainfall: 0.0',\n 'humidity: 66.0<br>pressure: 1018.7<br>rainfall: 0.0',\n 'humidity: 66.0<br>pressure: 1022.0<br>rainfall: 0.0',\n 'humidity: 79.0<br>pressure: 1020.1<br>rainfall: 0.0',\n 'humidity: 98.0<br>pressure: 1013.4<br>rainfall: 39.8',\n 'humidity: 88.0<br>pressure: 1014.2<br>rainfall: 28.2',\n 'humidity: 73.0<br>pressure: 1017.6<br>rainfall: 0.0',\n 'humidity: 57.0<br>pressure: 1022.2<br>rainfall: 0.0',\n 'humidity: 69.0<br>pressure: 1022.3<br>rainfall: 0.0',\n 'humidity: 80.0<br>pressure: 1017.6<br>rainfall: 0.2',\n 'humidity: 90.0<br>pressure: 1012.9<br>rainfall: 5.8',\n 'humidity: 68.0<br>pressure: 1013.7<br>rainfall: 0.0',\n 'humidity: 91.0<br>pressure: 1005.2<br>rainfall: 12.2',\n 'humidity: 80.0<br>pressure: 1010.1<br>rainfall: 12.8',\n 'humidity: 62.0<br>pressure: 1015.2<br>rainfall: 0.0',\n 'humidity: 53.0<br>pressure: 1022.1<br>rainfall: 0.0',\n 'humidity: 66.0<br>pressure: 1024.0<br>rainfall: 0.2',\n 'humidity: 76.0<br>pressure: 1019.2<br>rainfall: 0.0',\n 'humidity: 75.0<br>pressure: 1014.1<br>rainfall: 0.0',\n 'humidity: 70.0<br>pressure: 1011.3<br>rainfall: 0.0',\n 'humidity: 87.0<br>pressure: 1009.9<br>rainfall: 0.2',\n 'humidity: 85.0<br>pressure: 1007.8<br>rainfall: 11.8',\n 'humidity: 82.0<br>pressure: 1006.5<br>rainfall: 0.0',\n 'humidity: 67.0<br>pressure: 1015.8<br>rainfall: 0.0',\n 'humidity: 77.0<br>pressure: 1012.9<br>rainfall: 0.0',\n 'humidity: 79.0<br>pressure: 1014.3<br>rainfall: 0.0',\n 'humidity: 58.0<br>pressure: 1020.6<br>rainfall: 0.0',\n 'humidity: 68.0<br>pressure: 1025.8<br>rainfall: 0.0',\n 'humidity: 73.0<br>pressure: 1023.9<br>rainfall: 0.0',\n 'humidity: 71.0<br>pressure: 1017.5<br>rainfall: 0.0',\n 'humidity: 61.0<br>pressure: 1014.8<br>rainfall: 0.0',\n 'humidity: 92.0<br>pressure: 1012.3<br>rainfall: 13.4',\n 'humidity: 90.0<br>pressure: 1015.4<br>rainfall: 10.2',\n 'humidity: 88.0<br>pressure: 1018.8<br>rainfall: 0.6',\n 'humidity: 87.0<br>pressure: 1019.8<br>rainfall: 0.6',\n 'humidity: 96.0<br>pressure: 1021.3<br>rainfall: 19.8',\n 'humidity: 81.0<br>pressure: 1020.3<br>rainfall: 0.2',\n 'humidity: 87.0<br>pressure: 1017.3<br>rainfall: 0.4',\n 'humidity: 84.0<br>pressure: 1018.7<br>rainfall: 0.2',\n 'humidity: 77.0<br>pressure: 1015.4<br>rainfall: 0.0',\n 'humidity: 74.0<br>pressure: 1013.9<br>rainfall: 0.0',\n 'humidity: 71.0<br>pressure: 1011.9<br>rainfall: 0.0',\n 'humidity: 75.0<br>pressure: 1005.4<br>rainfall: 0.0',\n 'humidity: 82.0<br>pressure: 1001.4<br>rainfall: 0.0',\n 'humidity: 76.0<br>pressure: 1005.7<br>rainfall: 0.0',\n 'humidity: 90.0<br>pressure: 1003.7<br>rainfall: 8.0',\n 'humidity: 77.0<br>pressure: 1011.8<br>rainfall: 0.0',\n 'humidity: 67.0<br>pressure: 1020.8<br>rainfall: 0.0',\n 'humidity: 69.0<br>pressure: 1025.3<br>rainfall: 0.0',\n 'humidity: 81.0<br>pressure: 1026.9<br>rainfall: 0.0',\n 'humidity: 86.0<br>pressure: 1024.0<br>rainfall: 0.0',\n 'humidity: 87.0<br>pressure: 1018.7<br>rainfall: 0.0',\n 'humidity: 83.0<br>pressure: 1022.8<br>rainfall: 0.2',\n 'humidity: 81.0<br>pressure: 1019.6<br>rainfall: 0.0',\n 'humidity: 90.0<br>pressure: 1016.5<br>rainfall: 0.0',\n 'humidity: 74.0<br>pressure: 1016.6<br>rainfall: 0.0',\n 'humidity: 85.0<br>pressure: 1019.6<br>rainfall: 0.6',\n 'humidity: 70.0<br>pressure: 1024.3<br>rainfall: 0.2',\n 'humidity: 76.0<br>pressure: 1025.4<br>rainfall: 0.0',\n 'humidity: 96.0<br>pressure: 1020.7<br>rainfall: 0.0',\n 'humidity: 94.0<br>pressure: 1016.0<br>rainfall: 0.0',\n 'humidity: 60.0<br>pressure: 1017.9<br>rainfall: 0.0',\n 'humidity: 69.0<br>pressure: 1019.3<br>rainfall: 0.0',\n 'humidity: 83.0<br>pressure: 1010.6<br>rainfall: 3.6',\n 'humidity: 94.0<br>pressure: 1015.3<br>rainfall: 0.4',\n 'humidity: 98.0<br>pressure: 1015.0<br>rainfall: 5.0',\n 'humidity: 82.0<br>pressure: 1020.7<br>rainfall: 1.8',\n 'humidity: 95.0<br>pressure: 1031.5<br>rainfall: 0.0',\n 'humidity: 99.0<br>pressure: 1033.0<br>rainfall: 0.0',\n 'humidity: 85.0<br>pressure: 1031.8<br>rainfall: 0.0',\n 'humidity: 99.0<br>pressure: 1032.0<br>rainfall: 0.0',\n 'humidity: 91.0<br>pressure: 1031.5<br>rainfall: 0.0',\n 'humidity: 93.0<br>pressure: 1028.7<br>rainfall: 0.0',\n 'humidity: 85.0<br>pressure: 1025.4<br>rainfall: 0.0',\n 'humidity: 94.0<br>pressure: 1017.0<br>rainfall: 0.0',\n 'humidity: 88.0<br>pressure: 1002.9<br>rainfall: 17.4',\n 'humidity: 85.0<br>pressure: 1007.8<br>rainfall: 3.6',\n 'humidity: 74.0<br>pressure: 1017.3<br>rainfall: 0.0',\n 'humidity: 75.0<br>pressure: 1020.5<br>rainfall: 0.0',\n 'humidity: 99.0<br>pressure: 1021.9<br>rainfall: 0.0',\n 'humidity: 99.0<br>pressure: 1025.4<br>rainfall: 0.0',\n 'humidity: 99.0<br>pressure: 1026.5<br>rainfall: 0.0',\n 'humidity: 76.0<br>pressure: 1025.9<br>rainfall: 0.0',\n 'humidity: 73.0<br>pressure: 1024.8<br>rainfall: 0.0',\n 'humidity: 86.0<br>pressure: 1028.0<br>rainfall: 0.0',\n 'humidity: 99.0<br>pressure: 1027.8<br>rainfall: 0.0',\n 'humidity: 97.0<br>pressure: 1020.6<br>rainfall: 0.0',\n 'humidity: 95.0<br>pressure: 1016.3<br>rainfall: 8.8',\n 'humidity: 98.0<br>pressure: 1018.7<br>rainfall: 0.0',\n 'humidity: 77.0<br>pressure: 1017.9<br>rainfall: 2.0',\n 'humidity: 97.0<br>pressure: 1019.3<br>rainfall: 0.0',\n 'humidity: 89.0<br>pressure: 1019.2<br>rainfall: 2.6',\n 'humidity: 89.0<br>pressure: 1018.1<br>rainfall: 0.0',\n 'humidity: 85.0<br>pressure: 1021.3<br>rainfall: 0.0',\n 'humidity: 82.0<br>pressure: 1028.7<br>rainfall: 0.0',\n 'humidity: 76.0<br>pressure: 1029.1<br>rainfall: 0.2',\n 'humidity: 91.0<br>pressure: 1027.3<br>rainfall: 0.0',\n 'humidity: 78.0<br>pressure: 1025.3<br>rainfall: 0.0',\n 'humidity: 82.0<br>pressure: 1027.0<br>rainfall: 0.0',\n 'humidity: 89.0<br>pressure: 1023.6<br>rainfall: 0.0',\n 'humidity: 92.0<br>pressure: 1010.6<br>rainfall: 1.0',\n 'humidity: 91.0<br>pressure: 1015.1<br>rainfall: 0.2',\n 'humidity: 99.0<br>pressure: 1017.7<br>rainfall: 0.0',\n 'humidity: 86.0<br>pressure: 1015.4<br>rainfall: 3.6',\n 'humidity: 93.0<br>pressure: 1002.0<br>rainfall: 10.6',\n 'humidity: 93.0<br>pressure: 1013.3<br>rainfall: 0.6',\n 'humidity: 85.0<br>pressure: 1020.2<br>rainfall: 3.4',\n 'humidity: 99.0<br>pressure: 1028.3<br>rainfall: 0.0',\n 'humidity: 99.0<br>pressure: 1031.0<br>rainfall: 0.4',\n 'humidity: 99.0<br>pressure: 1029.2<br>rainfall: 0.0',\n 'humidity: 99.0<br>pressure: 1030.5<br>rainfall: 0.0',\n 'humidity: 98.0<br>pressure: 1035.7<br>rainfall: 0.0',\n 'humidity: 81.0<br>pressure: 1037.4<br>rainfall: 0.0',\n 'humidity: 92.0<br>pressure: 1038.9<br>rainfall: 0.0',\n 'humidity: 99.0<br>pressure: 1033.6<br>rainfall: 0.0',\n 'humidity: 99.0<br>pressure: 1026.7<br>rainfall: 0.0',\n 'humidity: 98.0<br>pressure: 1018.7<br>rainfall: 0.0',\n 'humidity: 85.0<br>pressure: 1013.2<br>rainfall: 15.4',\n 'humidity: 84.0<br>pressure: 1010.1<br>rainfall: 3.8',\n 'humidity: 94.0<br>pressure: 1010.8<br>rainfall: 1.2',\n 'humidity: 85.0<br>pressure: 1013.9<br>rainfall: 4.4',\n 'humidity: 93.0<br>pressure: 1026.0<br>rainfall: 0.0',\n 'humidity: 94.0<br>pressure: 1022.2<br>rainfall: 4.2',\n 'humidity: 78.0<br>pressure: 1017.7<br>rainfall: 0.0',\n 'humidity: 85.0<br>pressure: 1022.2<br>rainfall: 6.6',\n 'humidity: 83.0<br>pressure: 1025.4<br>rainfall: 0.0',\n 'humidity: 91.0<br>pressure: 1021.6<br>rainfall: 0.0',\n 'humidity: 99.0<br>pressure: 1029.3<br>rainfall: 4.0',\n 'humidity: 95.0<br>pressure: 1036.6<br>rainfall: 0.0',\n 'humidity: 78.0<br>pressure: 1031.3<br>rainfall: 0.0',\n 'humidity: 86.0<br>pressure: 1024.0<br>rainfall: 0.0',\n 'humidity: 92.0<br>pressure: 1018.8<br>rainfall: 8.8',\n 'humidity: 99.0<br>pressure: 1020.4<br>rainfall: 1.8',\n 'humidity: 99.0<br>pressure: 1021.5<br>rainfall: 0.2',\n 'humidity: 75.0<br>pressure: 1022.2<br>rainfall: 0.0',\n 'humidity: 56.0<br>pressure: 1023.5<br>rainfall: 0.0',\n 'humidity: 72.0<br>pressure: 1024.7<br>rainfall: 0.0',\n 'humidity: 93.0<br>pressure: 1021.0<br>rainfall: 0.2',\n 'humidity: 99.0<br>pressure: 1016.6<br>rainfall: 16.2',\n 'humidity: 99.0<br>pressure: 1022.3<br>rainfall: 2.2',\n 'humidity: 99.0<br>pressure: 1030.1<br>rainfall: 0.0',\n 'humidity: 99.0<br>pressure: 1031.0<br>rainfall: 0.0',\n 'humidity: 92.0<br>pressure: 1028.9<br>rainfall: 0.0',\n 'humidity: 89.0<br>pressure: 1024.6<br>rainfall: 0.2',\n 'humidity: 96.0<br>pressure: 1021.7<br>rainfall: 1.0',\n 'humidity: 92.0<br>pressure: 1021.6<br>rainfall: 0.0',\n 'humidity: 90.0<br>pressure: 1022.2<br>rainfall: 0.0',\n 'humidity: 92.0<br>pressure: 1022.2<br>rainfall: 0.2',\n 'humidity: 64.0<br>pressure: 1024.0<br>rainfall: 0.0',\n 'humidity: 65.0<br>pressure: 1023.0<br>rainfall: 0.0',\n 'humidity: 99.0<br>pressure: 1019.4<br>rainfall: 14.6',\n 'humidity: 96.0<br>pressure: 1016.4<br>rainfall: 4.2',\n 'humidity: 95.0<br>pressure: 1011.9<br>rainfall: 8.2',\n 'humidity: 89.0<br>pressure: 1010.2<br>rainfall: 1.2',\n 'humidity: 89.0<br>pressure: 1009.3<br>rainfall: 3.6',\n 'humidity: 84.0<br>pressure: 1012.0<br>rainfall: 2.8',\n 'humidity: 74.0<br>pressure: 1020.7<br>rainfall: 0.0',\n 'humidity: 91.0<br>pressure: 1025.0<br>rainfall: 0.0',\n 'humidity: 88.0<br>pressure: 1027.1<br>rainfall: 0.0',\n 'humidity: 86.0<br>pressure: 1025.6<br>rainfall: 1.2',\n 'humidity: 80.0<br>pressure: 1020.8<br>rainfall: 0.2',\n 'humidity: 95.0<br>pressure: 1011.8<br>rainfall: 5.6',\n 'humidity: 90.0<br>pressure: 1010.7<br>rainfall: 30.8',\n 'humidity: 88.0<br>pressure: 1021.0<br>rainfall: 0.8',\n 'humidity: 62.0<br>pressure: 1031.5<br>rainfall: 0.0',\n 'humidity: 79.0<br>pressure: 1037.3<br>rainfall: 0.0',\n 'humidity: 79.0<br>pressure: 1039.9<br>rainfall: 0.0',\n 'humidity: 99.0<br>pressure: 1037.3<br>rainfall: 0.0',\n 'humidity: 99.0<br>pressure: 1031.4<br>rainfall: 0.0',\n 'humidity: 99.0<br>pressure: 1025.6<br>rainfall: 0.0',\n 'humidity: 99.0<br>pressure: 1025.6<br>rainfall: 0.0',\n 'humidity: 71.0<br>pressure: 1023.7<br>rainfall: 0.0',\n 'humidity: 72.0<br>pressure: 1022.8<br>rainfall: 0.0',\n 'humidity: 80.0<br>pressure: 1019.2<br>rainfall: 0.0',\n 'humidity: 99.0<br>pressure: 1024.3<br>rainfall: 0.0',\n 'humidity: 87.0<br>pressure: 1025.4<br>rainfall: 0.0',\n 'humidity: 82.0<br>pressure: 1025.6<br>rainfall: 0.0',\n 'humidity: 65.0<br>pressure: 1028.4<br>rainfall: 0.0',\n 'humidity: 71.0<br>pressure: 1028.4<br>rainfall: 0.0',\n 'humidity: 65.0<br>pressure: 1024.2<br>rainfall: 0.0',\n 'humidity: 86.0<br>pressure: 1024.5<br>rainfall: 3.2',\n 'humidity: 55.0<br>pressure: 1014.9<br>rainfall: 5.0',\n 'humidity: 78.0<br>pressure: 1021.3<br>rainfall: 1.0',\n 'humidity: 74.0<br>pressure: 1022.7<br>rainfall: 0.0',\n 'humidity: 70.0<br>pressure: 1013.1<br>rainfall: 0.0',\n 'humidity: 79.0<br>pressure: 1015.9<br>rainfall: 0.2',\n 'humidity: 68.94234385195384<br>pressure: 1017.7091413136724<br>rainfall: 1.9141149119893643',\n 'humidity: 68.94234385195384<br>pressure: 1017.7091413136724<br>rainfall: 1.9141149119893643',\n 'humidity: 71.20721532749494<br>pressure: 1025.815640728137<br>rainfall: 1.9141149119893643',\n 'humidity: 83.0<br>pressure: 1021.7<br>rainfall: 1.9141149119893643',\n 'humidity: 72.0<br>pressure: 1023.3<br>rainfall: 0.0',\n 'humidity: 78.0<br>pressure: 1017.8<br>rainfall: 0.0',\n 'humidity: 78.0<br>pressure: 1017.5<br>rainfall: 0.0',\n 'humidity: 52.0<br>pressure: 1015.6<br>rainfall: 0.0',\n 'humidity: 70.0<br>pressure: 1015.5<br>rainfall: 0.0',\n 'humidity: 73.0<br>pressure: 1008.8<br>rainfall: 1.0',\n 'humidity: 99.0<br>pressure: 1022.6<br>rainfall: 3.6',\n 'humidity: 81.0<br>pressure: 1023.4<br>rainfall: 0.0',\n 'humidity: 65.0<br>pressure: 1017.9<br>rainfall: 0.0',\n 'humidity: 69.0<br>pressure: 1020.3<br>rainfall: 0.0',\n 'humidity: 53.0<br>pressure: 1022.2<br>rainfall: 1.0',\n 'humidity: 65.0<br>pressure: 1025.0<br>rainfall: 0.0',\n ...]"
     },
     "execution_count": 8,
     "metadata": {},
     "output_type": "execute_result"
    }
   ],
   "source": [
    "hover_text = []\n",
    "\n",
    "for index, row in weather_data[['Humidity9am', 'Pressure9am', 'Rainfall']].iterrows():\n",
    "    hover_text.append(('humidity: {h}<br>' +\n",
    "                       'pressure: {p}<br>' +\n",
    "                       'rainfall: {r}').format(h=row['Humidity9am'],\n",
    "                                               p=row['Pressure9am'],\n",
    "                                               r=row['Rainfall']))\n",
    "\n",
    "hover_text"
   ],
   "metadata": {
    "collapsed": false,
    "pycharm": {
     "name": "#%%\n"
    }
   }
  },
  {
   "cell_type": "code",
   "execution_count": 9,
   "outputs": [
    {
     "data": {
      "text/plain": "0    112853\n1     32607\nName: RainToday, dtype: int64"
     },
     "execution_count": 9,
     "metadata": {},
     "output_type": "execute_result"
    }
   ],
   "source": [
    "weather_data['RainToday'].apply(lambda x: 1 if x == 'Yes' else 0).value_counts()"
   ],
   "metadata": {
    "collapsed": false,
    "pycharm": {
     "name": "#%%\n"
    }
   }
  },
  {
   "cell_type": "code",
   "execution_count": 16,
   "outputs": [
    {
     "data": {
      "text/plain": "       WindGustDir\n0                W\n1              WNW\n2              WSW\n3               NE\n4                W\n...            ...\n145455           E\n145456         NNW\n145457           N\n145458          SE\n145459           E\n\n[145460 rows x 1 columns]",
      "text/html": "<div>\n<style scoped>\n    .dataframe tbody tr th:only-of-type {\n        vertical-align: middle;\n    }\n\n    .dataframe tbody tr th {\n        vertical-align: top;\n    }\n\n    .dataframe thead th {\n        text-align: right;\n    }\n</style>\n<table border=\"1\" class=\"dataframe\">\n  <thead>\n    <tr style=\"text-align: right;\">\n      <th></th>\n      <th>WindGustDir</th>\n    </tr>\n  </thead>\n  <tbody>\n    <tr>\n      <th>0</th>\n      <td>W</td>\n    </tr>\n    <tr>\n      <th>1</th>\n      <td>WNW</td>\n    </tr>\n    <tr>\n      <th>2</th>\n      <td>WSW</td>\n    </tr>\n    <tr>\n      <th>3</th>\n      <td>NE</td>\n    </tr>\n    <tr>\n      <th>4</th>\n      <td>W</td>\n    </tr>\n    <tr>\n      <th>...</th>\n      <td>...</td>\n    </tr>\n    <tr>\n      <th>145455</th>\n      <td>E</td>\n    </tr>\n    <tr>\n      <th>145456</th>\n      <td>NNW</td>\n    </tr>\n    <tr>\n      <th>145457</th>\n      <td>N</td>\n    </tr>\n    <tr>\n      <th>145458</th>\n      <td>SE</td>\n    </tr>\n    <tr>\n      <th>145459</th>\n      <td>E</td>\n    </tr>\n  </tbody>\n</table>\n<p>145460 rows × 1 columns</p>\n</div>"
     },
     "execution_count": 16,
     "metadata": {},
     "output_type": "execute_result"
    }
   ],
   "source": [
    "weather_data[['WindGustDir']]"
   ],
   "metadata": {
    "collapsed": false,
    "pycharm": {
     "name": "#%%\n"
    }
   }
  },
  {
   "cell_type": "code",
   "execution_count": 17,
   "outputs": [
    {
     "data": {
      "text/plain": "[12,\n 13,\n 11,\n 2,\n 12,\n 13,\n 12,\n 12,\n 15,\n 12,\n 0,\n 1,\n 12,\n 10,\n 1,\n 13,\n 3,\n 12,\n 7,\n 7,\n 8,\n 2,\n 13,\n 0,\n 12,\n 11,\n 11,\n 13,\n 13,\n 13,\n 12,\n 13,\n 12,\n 7,\n 13,\n 13,\n 12,\n 12,\n 12,\n 2,\n 2,\n 8,\n 10,\n 15,\n 14,\n 13,\n 10,\n 6,\n 13,\n 13,\n 15,\n 15,\n 14,\n 13,\n 12,\n 11,\n 8,\n 1,\n 0,\n 10,\n 1,\n 5,\n 10,\n 10,\n 6,\n 15,\n 11,\n 12,\n 15,\n 14,\n 6,\n 7,\n 7,\n 6,\n 7,\n 2,\n 1,\n 4,\n 0,\n 14,\n 11,\n 9,\n 7,\n 14,\n 14,\n 13,\n 13,\n 5,\n 12,\n 11,\n 12,\n 15,\n 13,\n 13,\n 10,\n 11,\n 12,\n 7,\n 1,\n 2,\n 2,\n 12,\n 3,\n 10,\n 13,\n 12,\n 13,\n 14,\n 11,\n 7,\n 15,\n 2,\n 14,\n 8,\n 3,\n 11,\n 13,\n 15,\n 8,\n 3,\n 11,\n 6,\n 2,\n 12,\n 12,\n 11,\n 12,\n 6,\n 7,\n 3,\n 12,\n 12,\n 11,\n 1,\n 13,\n 12,\n 12,\n 13,\n 12,\n 6,\n 7,\n 5,\n 5,\n 2,\n 13,\n 12,\n 15,\n 14,\n 13,\n 7,\n 10,\n 10,\n 10,\n 8,\n 12,\n 5,\n 10,\n 10,\n 12,\n 12,\n 6,\n 5,\n 12,\n 13,\n 13,\n 13,\n 12,\n 12,\n 4,\n 7,\n 4,\n 6,\n 6,\n 4,\n 6,\n 2,\n 4,\n 12,\n 7,\n 5,\n 6,\n 14,\n 6,\n 6,\n 6,\n 3,\n 12,\n 5,\n 15,\n 13,\n 12,\n 13,\n 6,\n 5,\n 3,\n 1,\n 5,\n 6,\n 11,\n 0,\n 5,\n 1,\n 3,\n 6,\n 12,\n 5,\n 15,\n 6,\n 7,\n 12,\n 2,\n 14,\n 14,\n 13,\n 12,\n 13,\n 12,\n 3,\n 4,\n 4,\n 5,\n 4,\n 2,\n 15,\n 13,\n 12,\n 11,\n 13,\n 0,\n 0,\n 1,\n 14,\n 0,\n 12,\n 13,\n 14,\n 2,\n 7,\n 0,\n 13,\n 13,\n 15,\n 12,\n 12,\n 15,\n 15,\n 7,\n 1,\n 0,\n 13,\n 13,\n 5,\n 6,\n 1,\n 12,\n 14,\n 11,\n 1,\n 12,\n 13,\n 13,\n 4,\n 0,\n 13,\n 2,\n 1,\n 13,\n 12,\n 14,\n 0,\n 15,\n 12,\n 13,\n 14,\n 13,\n 5,\n 2,\n 14,\n 13,\n 2,\n 12,\n 12,\n 12,\n 1,\n 0,\n 2,\n 1,\n 10,\n 8,\n 4,\n 13,\n 13,\n 15,\n 12,\n 2,\n 1,\n 12,\n 14,\n 15,\n 13,\n 12,\n 12,\n 14,\n 15,\n 9,\n 6,\n 7,\n 1,\n 12,\n 6,\n 8,\n 5,\n 7,\n 6,\n 12,\n 12,\n 0,\n 12,\n 13,\n 12,\n 11,\n 14,\n 2,\n 15,\n 7,\n 11,\n 13,\n 11,\n 6,\n 6,\n 3,\n 12,\n 15,\n 11,\n 7,\n 13,\n 8,\n 12,\n 13,\n 2,\n 7,\n 8,\n 7,\n 11,\n 10,\n 5,\n 11,\n 6,\n 12,\n 12,\n 12,\n 7,\n 0,\n 14,\n 14,\n 2,\n 15,\n 12,\n 13,\n 6,\n 0,\n 0,\n 12,\n 13,\n 6,\n 4,\n 13,\n 12,\n 11,\n 12,\n 12,\n 12,\n 10,\n 13,\n 12,\n 10,\n 11,\n 10,\n 7,\n 9,\n 15,\n 14,\n 12,\n 11,\n 15,\n 14,\n 11,\n 4,\n 1,\n 6,\n 0,\n 3,\n 6,\n 7,\n 0,\n 0,\n 1,\n 12,\n 12,\n 10,\n 12,\n 13,\n 7,\n 0,\n 12,\n 11,\n 2,\n 15,\n 10,\n 9,\n 15,\n 12,\n 13,\n 10,\n 12,\n 12,\n 12,\n 15,\n 11,\n 9,\n 13,\n 11,\n 12,\n 14,\n 7,\n 2,\n 2,\n 4,\n 3,\n 4,\n 15,\n 6,\n 6,\n 6,\n 15,\n 9,\n 9,\n 10,\n 10,\n 2,\n 6,\n 5,\n 6,\n 8,\n 5,\n 1,\n 14,\n 9,\n 4,\n 12,\n 6,\n 15,\n 13,\n 2,\n 12,\n 7,\n 7,\n 3,\n 2,\n 2,\n 11,\n 6,\n 14,\n 14,\n 9,\n 7,\n 1,\n 6,\n 6,\n 4,\n 3,\n 9,\n 7,\n 12,\n 12,\n 12,\n 13,\n 13,\n 8,\n 15,\n 13,\n 4,\n 12,\n 13,\n 9,\n 7,\n 13,\n 6,\n 2,\n 6,\n 6,\n 2,\n 0,\n 14,\n 4,\n 13,\n 13,\n 10,\n 10,\n 7,\n 6,\n 7,\n 5,\n 9,\n 5,\n 3,\n 14,\n 11,\n 15,\n 15,\n 12,\n 7,\n 3,\n 14,\n 12,\n 5,\n 0,\n 9,\n 15,\n 13,\n 12,\n 12,\n 12,\n 7,\n 3,\n 3,\n 11,\n 12,\n 12,\n 6,\n 6,\n 5,\n 5,\n 13,\n 12,\n 0,\n 7,\n 5,\n 15,\n 5,\n 4,\n 7,\n 7,\n 3,\n 0,\n 6,\n 7,\n 6,\n 12,\n 7,\n 12,\n 10,\n 10,\n 8,\n 13,\n 13,\n 12,\n 12,\n 12,\n 5,\n 5,\n 7,\n 15,\n 12,\n 12,\n 13,\n 14,\n 12,\n 6,\n 4,\n 3,\n 1,\n 13,\n 12,\n 15,\n 0,\n 0,\n 1,\n 5,\n 15,\n 4,\n 6,\n 7,\n 1,\n 5,\n 3,\n 0,\n 0,\n 6,\n 13,\n 14,\n 13,\n 3,\n 4,\n 3,\n 14,\n 13,\n 12,\n 10,\n 12,\n 12,\n 12,\n 11,\n 7,\n 5,\n 14,\n 1,\n 12,\n 13,\n 12,\n 13,\n 13,\n 11,\n 14,\n 5,\n 7,\n 4,\n 15,\n 1,\n 10,\n 12,\n 3,\n 13,\n 12,\n 4,\n 3,\n 14,\n 12,\n 13,\n 0,\n 14,\n 13,\n 13,\n 14,\n 14,\n 11,\n 11,\n 13,\n 0,\n 14,\n 7,\n 6,\n 0,\n 15,\n 14,\n 10,\n 1,\n 3,\n 12,\n 13,\n 0,\n 12,\n 11,\n 11,\n 11,\n 10,\n 12,\n 12,\n 12,\n 12,\n 12,\n 12,\n 2,\n 14,\n 11,\n 13,\n 12,\n 12,\n 15,\n 2,\n 2,\n 2,\n 2,\n 2,\n 12,\n 11,\n 12,\n 0,\n 2,\n 4,\n 1,\n 11,\n 12,\n 13,\n 12,\n 13,\n 12,\n 13,\n 6,\n 0,\n 1,\n 12,\n 7,\n 13,\n 13,\n 13,\n 2,\n 2,\n 2,\n 15,\n 12,\n 10,\n 13,\n 7,\n 3,\n 3,\n 12,\n 14,\n 9,\n 11,\n 0,\n 1,\n 3,\n 0,\n 12,\n 12,\n 12,\n 12,\n 6,\n 2,\n 0,\n 3,\n 0,\n 0,\n 12,\n 11,\n 0,\n 1,\n 7,\n 6,\n 6,\n 14,\n 1,\n 11,\n 7,\n 3,\n 1,\n 15,\n 12,\n 13,\n 13,\n 14,\n 13,\n 3,\n 1,\n 12,\n 14,\n 13,\n 12,\n 11,\n 11,\n 10,\n 10,\n 2,\n 7,\n 10,\n 12,\n 7,\n 14,\n 10,\n 0,\n 3,\n 12,\n 13,\n 7,\n 7,\n 1,\n 1,\n 3,\n 3,\n 3,\n 2,\n 2,\n 2,\n 2,\n 11,\n 11,\n 11,\n 12,\n 2,\n 4,\n 0,\n 2,\n 3,\n 11,\n 10,\n 10,\n 11,\n 4,\n 14,\n 7,\n 8,\n 14,\n 1,\n 13,\n 13,\n 14,\n 11,\n 7,\n 6,\n 1,\n 0,\n 10,\n 13,\n 7,\n 3,\n 5,\n 3,\n 5,\n 5,\n 1,\n 13,\n 12,\n 10,\n 11,\n 11,\n 13,\n 12,\n 13,\n 6,\n 11,\n 13,\n 11,\n 12,\n 6,\n 4,\n 6,\n 2,\n 1,\n 0,\n 4,\n 3,\n 10,\n 7,\n 4,\n 10,\n 13,\n 6,\n 1,\n 6,\n 4,\n 13,\n 12,\n 13,\n 13,\n 7,\n 8,\n 4,\n 2,\n 10,\n 7,\n 2,\n 13,\n 7,\n 12,\n 6,\n 9,\n 6,\n 13,\n 7,\n 14,\n 12,\n 11,\n 12,\n 12,\n 12,\n 12,\n 4,\n 4,\n 8,\n 6,\n 5,\n 3,\n 13,\n 13,\n 6,\n 11,\n 12,\n 11,\n 7,\n 7,\n 6,\n 2,\n 0,\n 14,\n 12,\n 0,\n 11,\n 10,\n 13,\n 11,\n 7,\n 7,\n 6,\n 7,\n 7,\n 8,\n 5,\n 13,\n 14,\n 14,\n 0,\n 15,\n 14,\n 12,\n 13,\n 6,\n 2,\n 1,\n 7,\n 3,\n 6,\n 4,\n 0,\n 6,\n 12,\n 13,\n 14,\n 13,\n 13,\n 13,\n 13,\n 12,\n 14,\n 12,\n 10,\n 4,\n 6,\n 12,\n 13,\n 11,\n 6,\n 6,\n 7,\n 12,\n 4,\n 14,\n 13,\n 15,\n 6,\n 4,\n 6,\n 4,\n 2,\n 3,\n 1,\n 1,\n 5,\n 11,\n 13,\n 11,\n 12,\n 13,\n 7,\n 10,\n 5,\n 7,\n 3,\n 2,\n 2,\n 13,\n 6,\n 6,\n 10,\n 11,\n 8,\n 3,\n 0,\n 13,\n 11,\n 11,\n 12,\n 13,\n 13,\n 8,\n 5,\n 2,\n 3,\n 0,\n 12,\n 14,\n 13,\n 8,\n 12,\n 5,\n 12,\n 15,\n 12,\n 12,\n 11,\n 2,\n 15,\n 13,\n 12,\n 12,\n 3,\n 12,\n 6,\n 7,\n 3,\n ...]"
     },
     "execution_count": 17,
     "metadata": {},
     "output_type": "execute_result"
    }
   ],
   "source": [
    "dir = ['N', 'NNE', 'NE', 'ENE', 'E', 'ESE', 'SE', 'SSE', 'S', 'SSW', 'SW', 'WSW', 'W', 'WNW', 'NW', 'NNW']\n",
    "dir_sort = []\n",
    "\n",
    "for index, values in weather_data.iterrows():\n",
    "    if values['WindGustDir'] in dir:\n",
    "        dir_sort.append(dir.index(values['WindGustDir']))\n",
    "\n",
    "dir_sort"
   ],
   "metadata": {
    "collapsed": false,
    "pycharm": {
     "name": "#%%\n"
    }
   }
  },
  {
   "cell_type": "code",
   "execution_count": 21,
   "outputs": [
    {
     "data": {
      "text/plain": "             Date      Location   MinTemp    MaxTemp  Rainfall  Evaporation  \\\n115105 2010-05-01    PearceRAAF  12.30385  26.051238       0.0          3.4   \n83663  2016-07-17      Dartmoor   2.60000  13.100000       0.4          2.0   \n20911  2016-11-30     NorahHead  19.20000  25.600000       0.0          1.6   \n83666  2016-07-20      Dartmoor   9.00000  17.000000       0.6          0.4   \n83672  2016-07-26      Dartmoor   3.00000   9.600000       9.8          1.8   \n...           ...           ...       ...        ...       ...          ...   \n132573 2016-03-25        Hobart  11.40000  21.000000       0.0          3.4   \n132578 2016-03-30        Hobart  10.70000  21.100000       0.0          3.6   \n132579 2016-03-31        Hobart  10.10000  24.800000       0.0          3.8   \n76490  2013-05-19      Portland   6.10000  15.700000       1.6          0.6   \n101782 2015-05-17  MountGambier   1.00000  17.900000       0.0          0.4   \n\n        Sunshine WindGustDir  WindGustSpeed WindDir9am  ...  Pressure9am  \\\n115105       3.6           N           44.0        WSW  ...  1017.709141   \n83663       10.2           N           41.0        NNE  ...  1026.300000   \n20911        7.8           N           63.0          S  ...  1012.600000   \n83666        6.9           N           13.0         NW  ...  1023.000000   \n83672       10.5           N           35.0        NNW  ...  1011.500000   \n...          ...         ...            ...        ...  ...          ...   \n132573       3.4         NNW           43.0        NNW  ...  1013.900000   \n132578       7.8         NNW           28.0         SE  ...  1019.600000   \n132579       8.8         NNW           44.0         NW  ...  1015.100000   \n76490        4.5         NNW           26.0          N  ...  1018.800000   \n101782       9.7         NNW           26.0          N  ...  1032.800000   \n\n        Pressure3pm  Cloud9am  Cloud3pm    Temp9am   Temp3pm  RainToday  \\\n115105  1015.320915       8.0       8.0  16.976107  21.72656         No   \n83663   1021.100000       8.0       7.0   6.300000  10.80000         No   \n20911   1010.000000       6.0       2.0  22.900000  24.30000         No   \n83666   1020.300000       8.0       4.0   9.600000  16.00000         No   \n83672   1006.400000       8.0       5.0   5.000000   9.10000        Yes   \n...             ...       ...       ...        ...       ...        ...   \n132573  1012.700000       7.0       7.0  13.900000  19.80000         No   \n132578  1016.900000       7.0       6.0  13.800000  18.00000         No   \n132579  1011.600000       1.0       5.0  14.300000  23.70000         No   \n76490   1014.800000       2.0       8.0   9.200000  14.70000        Yes   \n101782  1029.900000       0.0       1.0   7.900000  17.50000         No   \n\n        RainTomorrow  Year  sort_dir  \n115105            No  2010         0  \n83663             No  2016         0  \n20911             No  2016         0  \n83666            Yes  2016         0  \n83672            Yes  2016         0  \n...              ...   ...       ...  \n132573            No  2016        15  \n132578            No  2016        15  \n132579            No  2016        15  \n76490            Yes  2013        15  \n101782            No  2015        15  \n\n[145460 rows x 25 columns]",
      "text/html": "<div>\n<style scoped>\n    .dataframe tbody tr th:only-of-type {\n        vertical-align: middle;\n    }\n\n    .dataframe tbody tr th {\n        vertical-align: top;\n    }\n\n    .dataframe thead th {\n        text-align: right;\n    }\n</style>\n<table border=\"1\" class=\"dataframe\">\n  <thead>\n    <tr style=\"text-align: right;\">\n      <th></th>\n      <th>Date</th>\n      <th>Location</th>\n      <th>MinTemp</th>\n      <th>MaxTemp</th>\n      <th>Rainfall</th>\n      <th>Evaporation</th>\n      <th>Sunshine</th>\n      <th>WindGustDir</th>\n      <th>WindGustSpeed</th>\n      <th>WindDir9am</th>\n      <th>...</th>\n      <th>Pressure9am</th>\n      <th>Pressure3pm</th>\n      <th>Cloud9am</th>\n      <th>Cloud3pm</th>\n      <th>Temp9am</th>\n      <th>Temp3pm</th>\n      <th>RainToday</th>\n      <th>RainTomorrow</th>\n      <th>Year</th>\n      <th>sort_dir</th>\n    </tr>\n  </thead>\n  <tbody>\n    <tr>\n      <th>115105</th>\n      <td>2010-05-01</td>\n      <td>PearceRAAF</td>\n      <td>12.30385</td>\n      <td>26.051238</td>\n      <td>0.0</td>\n      <td>3.4</td>\n      <td>3.6</td>\n      <td>N</td>\n      <td>44.0</td>\n      <td>WSW</td>\n      <td>...</td>\n      <td>1017.709141</td>\n      <td>1015.320915</td>\n      <td>8.0</td>\n      <td>8.0</td>\n      <td>16.976107</td>\n      <td>21.72656</td>\n      <td>No</td>\n      <td>No</td>\n      <td>2010</td>\n      <td>0</td>\n    </tr>\n    <tr>\n      <th>83663</th>\n      <td>2016-07-17</td>\n      <td>Dartmoor</td>\n      <td>2.60000</td>\n      <td>13.100000</td>\n      <td>0.4</td>\n      <td>2.0</td>\n      <td>10.2</td>\n      <td>N</td>\n      <td>41.0</td>\n      <td>NNE</td>\n      <td>...</td>\n      <td>1026.300000</td>\n      <td>1021.100000</td>\n      <td>8.0</td>\n      <td>7.0</td>\n      <td>6.300000</td>\n      <td>10.80000</td>\n      <td>No</td>\n      <td>No</td>\n      <td>2016</td>\n      <td>0</td>\n    </tr>\n    <tr>\n      <th>20911</th>\n      <td>2016-11-30</td>\n      <td>NorahHead</td>\n      <td>19.20000</td>\n      <td>25.600000</td>\n      <td>0.0</td>\n      <td>1.6</td>\n      <td>7.8</td>\n      <td>N</td>\n      <td>63.0</td>\n      <td>S</td>\n      <td>...</td>\n      <td>1012.600000</td>\n      <td>1010.000000</td>\n      <td>6.0</td>\n      <td>2.0</td>\n      <td>22.900000</td>\n      <td>24.30000</td>\n      <td>No</td>\n      <td>No</td>\n      <td>2016</td>\n      <td>0</td>\n    </tr>\n    <tr>\n      <th>83666</th>\n      <td>2016-07-20</td>\n      <td>Dartmoor</td>\n      <td>9.00000</td>\n      <td>17.000000</td>\n      <td>0.6</td>\n      <td>0.4</td>\n      <td>6.9</td>\n      <td>N</td>\n      <td>13.0</td>\n      <td>NW</td>\n      <td>...</td>\n      <td>1023.000000</td>\n      <td>1020.300000</td>\n      <td>8.0</td>\n      <td>4.0</td>\n      <td>9.600000</td>\n      <td>16.00000</td>\n      <td>No</td>\n      <td>Yes</td>\n      <td>2016</td>\n      <td>0</td>\n    </tr>\n    <tr>\n      <th>83672</th>\n      <td>2016-07-26</td>\n      <td>Dartmoor</td>\n      <td>3.00000</td>\n      <td>9.600000</td>\n      <td>9.8</td>\n      <td>1.8</td>\n      <td>10.5</td>\n      <td>N</td>\n      <td>35.0</td>\n      <td>NNW</td>\n      <td>...</td>\n      <td>1011.500000</td>\n      <td>1006.400000</td>\n      <td>8.0</td>\n      <td>5.0</td>\n      <td>5.000000</td>\n      <td>9.10000</td>\n      <td>Yes</td>\n      <td>Yes</td>\n      <td>2016</td>\n      <td>0</td>\n    </tr>\n    <tr>\n      <th>...</th>\n      <td>...</td>\n      <td>...</td>\n      <td>...</td>\n      <td>...</td>\n      <td>...</td>\n      <td>...</td>\n      <td>...</td>\n      <td>...</td>\n      <td>...</td>\n      <td>...</td>\n      <td>...</td>\n      <td>...</td>\n      <td>...</td>\n      <td>...</td>\n      <td>...</td>\n      <td>...</td>\n      <td>...</td>\n      <td>...</td>\n      <td>...</td>\n      <td>...</td>\n      <td>...</td>\n    </tr>\n    <tr>\n      <th>132573</th>\n      <td>2016-03-25</td>\n      <td>Hobart</td>\n      <td>11.40000</td>\n      <td>21.000000</td>\n      <td>0.0</td>\n      <td>3.4</td>\n      <td>3.4</td>\n      <td>NNW</td>\n      <td>43.0</td>\n      <td>NNW</td>\n      <td>...</td>\n      <td>1013.900000</td>\n      <td>1012.700000</td>\n      <td>7.0</td>\n      <td>7.0</td>\n      <td>13.900000</td>\n      <td>19.80000</td>\n      <td>No</td>\n      <td>No</td>\n      <td>2016</td>\n      <td>15</td>\n    </tr>\n    <tr>\n      <th>132578</th>\n      <td>2016-03-30</td>\n      <td>Hobart</td>\n      <td>10.70000</td>\n      <td>21.100000</td>\n      <td>0.0</td>\n      <td>3.6</td>\n      <td>7.8</td>\n      <td>NNW</td>\n      <td>28.0</td>\n      <td>SE</td>\n      <td>...</td>\n      <td>1019.600000</td>\n      <td>1016.900000</td>\n      <td>7.0</td>\n      <td>6.0</td>\n      <td>13.800000</td>\n      <td>18.00000</td>\n      <td>No</td>\n      <td>No</td>\n      <td>2016</td>\n      <td>15</td>\n    </tr>\n    <tr>\n      <th>132579</th>\n      <td>2016-03-31</td>\n      <td>Hobart</td>\n      <td>10.10000</td>\n      <td>24.800000</td>\n      <td>0.0</td>\n      <td>3.8</td>\n      <td>8.8</td>\n      <td>NNW</td>\n      <td>44.0</td>\n      <td>NW</td>\n      <td>...</td>\n      <td>1015.100000</td>\n      <td>1011.600000</td>\n      <td>1.0</td>\n      <td>5.0</td>\n      <td>14.300000</td>\n      <td>23.70000</td>\n      <td>No</td>\n      <td>No</td>\n      <td>2016</td>\n      <td>15</td>\n    </tr>\n    <tr>\n      <th>76490</th>\n      <td>2013-05-19</td>\n      <td>Portland</td>\n      <td>6.10000</td>\n      <td>15.700000</td>\n      <td>1.6</td>\n      <td>0.6</td>\n      <td>4.5</td>\n      <td>NNW</td>\n      <td>26.0</td>\n      <td>N</td>\n      <td>...</td>\n      <td>1018.800000</td>\n      <td>1014.800000</td>\n      <td>2.0</td>\n      <td>8.0</td>\n      <td>9.200000</td>\n      <td>14.70000</td>\n      <td>Yes</td>\n      <td>Yes</td>\n      <td>2013</td>\n      <td>15</td>\n    </tr>\n    <tr>\n      <th>101782</th>\n      <td>2015-05-17</td>\n      <td>MountGambier</td>\n      <td>1.00000</td>\n      <td>17.900000</td>\n      <td>0.0</td>\n      <td>0.4</td>\n      <td>9.7</td>\n      <td>NNW</td>\n      <td>26.0</td>\n      <td>N</td>\n      <td>...</td>\n      <td>1032.800000</td>\n      <td>1029.900000</td>\n      <td>0.0</td>\n      <td>1.0</td>\n      <td>7.900000</td>\n      <td>17.50000</td>\n      <td>No</td>\n      <td>No</td>\n      <td>2015</td>\n      <td>15</td>\n    </tr>\n  </tbody>\n</table>\n<p>145460 rows × 25 columns</p>\n</div>"
     },
     "execution_count": 21,
     "metadata": {},
     "output_type": "execute_result"
    }
   ],
   "source": [
    "weather_data.sort_values(by='sort_dir')"
   ],
   "metadata": {
    "collapsed": false,
    "pycharm": {
     "name": "#%%\n"
    }
   }
  },
  {
   "cell_type": "code",
   "execution_count": 22,
   "outputs": [
    {
     "data": {
      "application/vnd.plotly.v1+json": {
       "config": {
        "plotlyServerURL": "https://plot.ly"
       },
       "data": [
        {
         "hovertemplate": "WindGustDir=%{theta}<br>WindGustSpeed=%{marker.color}<extra></extra>",
         "legendgroup": "",
         "marker": {
          "color": [
           28.0,
           31.0,
           39.0,
           28.0,
           46.0,
           26.0,
           31.0,
           17.0,
           35.0,
           17.0,
           13.0,
           33.0,
           39.0,
           33.0,
           48.0,
           28.0,
           13.0,
           50.0,
           15.0,
           31.0,
           17.0,
           19.0,
           15.0,
           19.0,
           31.0,
           44.0,
           15.0,
           11.0,
           22.0,
           26.0,
           13.0,
           46.0,
           41.0,
           39.0,
           15.0,
           17.0,
           30.0,
           13.0,
           17.0,
           13.0,
           24.0,
           17.0,
           11.0,
           20.0,
           17.0,
           15.0,
           22.0,
           17.0,
           17.0,
           28.0,
           24.0,
           35.0,
           17.0,
           19.0,
           22.0,
           24.0,
           35.0,
           44.0,
           31.0,
           28.0,
           24.0,
           22.0,
           19.0,
           31.0,
           39.0,
           19.0,
           24.0,
           13.0,
           30.0,
           13.0,
           28.0,
           20.0,
           31.0,
           17.0,
           35.0,
           54.0,
           33.0,
           37.0,
           28.0,
           28.0,
           17.0,
           24.0,
           20.0,
           20.0,
           20.0,
           15.0,
           19.0,
           19.0,
           22.0,
           50.0,
           26.0,
           24.0,
           35.0,
           22.0,
           11.0,
           26.0,
           30.0,
           20.0,
           39.0,
           24.0,
           33.0,
           20.0,
           41.0,
           50.0,
           31.0,
           30.0,
           43.0,
           17.0,
           17.0,
           35.0,
           17.0,
           43.0,
           15.0,
           39.0,
           37.0,
           50.0,
           72.0,
           52.0,
           26.0,
           33.0,
           69.0,
           43.0,
           54.0,
           28.0,
           81.0,
           44.0,
           44.0,
           44.0,
           52.0,
           33.0,
           44.0,
           17.0,
           24.0,
           52.0,
           15.0,
           52.0,
           22.0,
           44.0,
           20.0,
           37.0,
           17.0,
           39.0,
           24.0,
           56.0,
           67.0,
           39.0,
           17.0,
           17.0,
           33.0,
           39.0,
           24.0,
           20.0,
           39.0,
           39.0,
           39.0,
           26.0,
           35.0,
           31.0,
           39.0,
           33.0,
           31.0,
           20.0,
           24.0,
           41.0,
           37.0,
           35.0,
           39.0,
           22.0,
           37.0,
           35.0,
           28.0,
           13.0,
           19.0,
           26.0,
           30.0,
           28.0
          ],
          "coloraxis": "coloraxis"
         },
         "name": "",
         "showlegend": false,
         "subplot": "polar",
         "theta": [
          "N",
          "N",
          "N",
          "N",
          "N",
          "N",
          "N",
          "N",
          "NNE",
          "NNE",
          "NNE",
          "NNE",
          "NNE",
          "NNE",
          "NNE",
          "NE",
          "NE",
          "NE",
          "NE",
          "NE",
          "ENE",
          "ENE",
          "ENE",
          "ENE",
          "ENE",
          "ENE",
          "ENE",
          "ENE",
          "ENE",
          "ENE",
          "ENE",
          "ENE",
          "ENE",
          "E",
          "E",
          "E",
          "E",
          "E",
          "E",
          "E",
          "ESE",
          "ESE",
          "ESE",
          "ESE",
          "ESE",
          "ESE",
          "ESE",
          "ESE",
          "ESE",
          "ESE",
          "SE",
          "SE",
          "SE",
          "SE",
          "SE",
          "SE",
          "SE",
          "SE",
          "SE",
          "SE",
          "SE",
          "SE",
          "SE",
          "SE",
          "SE",
          "SE",
          "SE",
          "SE",
          "SE",
          "SE",
          "SE",
          "SE",
          "SE",
          "SE",
          "SE",
          "SE",
          "SE",
          "SE",
          "SE",
          "SE",
          "SE",
          "SSE",
          "SSE",
          "SSE",
          "SSE",
          "SSE",
          "SSE",
          "SSE",
          "SSE",
          "SSE",
          "SSE",
          "SSE",
          "SSE",
          "S",
          "S",
          "S",
          "S",
          "S",
          "SSW",
          "SSW",
          "SSW",
          "SW",
          "SW",
          "SW",
          "SW",
          "SW",
          "SW",
          "WSW",
          "WSW",
          "WSW",
          "WSW",
          "WSW",
          "WSW",
          "WSW",
          "WSW",
          "WSW",
          "WSW",
          "WSW",
          "WSW",
          "WSW",
          "WSW",
          "WSW",
          "WSW",
          "WSW",
          "WSW",
          "WSW",
          "WSW",
          "WSW",
          "WSW",
          "WSW",
          "W",
          "W",
          "W",
          "W",
          "W",
          "W",
          "W",
          "W",
          "W",
          "W",
          "W",
          "W",
          "W",
          "W",
          "W",
          "W",
          "W",
          "W",
          "W",
          "W",
          "W",
          "W",
          "WNW",
          "WNW",
          "WNW",
          "WNW",
          "WNW",
          "WNW",
          "WNW",
          "WNW",
          "WNW",
          "WNW",
          "WNW",
          "WNW",
          "WNW",
          "WNW",
          "NW",
          "NW",
          "NW",
          "NW",
          "NW",
          "NW",
          "NNW",
          "NNW",
          "NNW",
          "NNW"
         ],
         "type": "barpolar"
        }
       ],
       "layout": {
        "barmode": "relative",
        "coloraxis": {
         "colorbar": {
          "title": {
           "text": "WindGustSpeed"
          }
         },
         "colorscale": [
          [
           0.0,
           "rgb(3, 5, 18)"
          ],
          [
           0.09090909090909091,
           "rgb(25, 25, 51)"
          ],
          [
           0.18181818181818182,
           "rgb(44, 42, 87)"
          ],
          [
           0.2727272727272727,
           "rgb(58, 60, 125)"
          ],
          [
           0.36363636363636365,
           "rgb(62, 83, 160)"
          ],
          [
           0.45454545454545453,
           "rgb(62, 109, 178)"
          ],
          [
           0.5454545454545454,
           "rgb(72, 134, 187)"
          ],
          [
           0.6363636363636364,
           "rgb(89, 159, 196)"
          ],
          [
           0.7272727272727273,
           "rgb(114, 184, 205)"
          ],
          [
           0.8181818181818182,
           "rgb(149, 207, 216)"
          ],
          [
           0.9090909090909091,
           "rgb(192, 229, 232)"
          ],
          [
           1.0,
           "rgb(234, 252, 253)"
          ]
         ]
        },
        "legend": {
         "tracegroupgap": 0
        },
        "margin": {
         "t": 60
        },
        "polar": {
         "angularaxis": {
          "direction": "clockwise",
          "rotation": 90
         },
         "domain": {
          "x": [
           0.0,
           1.0
          ],
          "y": [
           0.0,
           1.0
          ]
         }
        },
        "template": {
         "data": {
          "bar": [
           {
            "error_x": {
             "color": "#2a3f5f"
            },
            "error_y": {
             "color": "#2a3f5f"
            },
            "marker": {
             "line": {
              "color": "#E5ECF6",
              "width": 0.5
             }
            },
            "type": "bar"
           }
          ],
          "barpolar": [
           {
            "marker": {
             "line": {
              "color": "#E5ECF6",
              "width": 0.5
             }
            },
            "type": "barpolar"
           }
          ],
          "carpet": [
           {
            "aaxis": {
             "endlinecolor": "#2a3f5f",
             "gridcolor": "white",
             "linecolor": "white",
             "minorgridcolor": "white",
             "startlinecolor": "#2a3f5f"
            },
            "baxis": {
             "endlinecolor": "#2a3f5f",
             "gridcolor": "white",
             "linecolor": "white",
             "minorgridcolor": "white",
             "startlinecolor": "#2a3f5f"
            },
            "type": "carpet"
           }
          ],
          "choropleth": [
           {
            "colorbar": {
             "outlinewidth": 0,
             "ticks": ""
            },
            "type": "choropleth"
           }
          ],
          "contour": [
           {
            "colorbar": {
             "outlinewidth": 0,
             "ticks": ""
            },
            "colorscale": [
             [
              0.0,
              "#0d0887"
             ],
             [
              0.1111111111111111,
              "#46039f"
             ],
             [
              0.2222222222222222,
              "#7201a8"
             ],
             [
              0.3333333333333333,
              "#9c179e"
             ],
             [
              0.4444444444444444,
              "#bd3786"
             ],
             [
              0.5555555555555556,
              "#d8576b"
             ],
             [
              0.6666666666666666,
              "#ed7953"
             ],
             [
              0.7777777777777778,
              "#fb9f3a"
             ],
             [
              0.8888888888888888,
              "#fdca26"
             ],
             [
              1.0,
              "#f0f921"
             ]
            ],
            "type": "contour"
           }
          ],
          "contourcarpet": [
           {
            "colorbar": {
             "outlinewidth": 0,
             "ticks": ""
            },
            "type": "contourcarpet"
           }
          ],
          "heatmap": [
           {
            "colorbar": {
             "outlinewidth": 0,
             "ticks": ""
            },
            "colorscale": [
             [
              0.0,
              "#0d0887"
             ],
             [
              0.1111111111111111,
              "#46039f"
             ],
             [
              0.2222222222222222,
              "#7201a8"
             ],
             [
              0.3333333333333333,
              "#9c179e"
             ],
             [
              0.4444444444444444,
              "#bd3786"
             ],
             [
              0.5555555555555556,
              "#d8576b"
             ],
             [
              0.6666666666666666,
              "#ed7953"
             ],
             [
              0.7777777777777778,
              "#fb9f3a"
             ],
             [
              0.8888888888888888,
              "#fdca26"
             ],
             [
              1.0,
              "#f0f921"
             ]
            ],
            "type": "heatmap"
           }
          ],
          "heatmapgl": [
           {
            "colorbar": {
             "outlinewidth": 0,
             "ticks": ""
            },
            "colorscale": [
             [
              0.0,
              "#0d0887"
             ],
             [
              0.1111111111111111,
              "#46039f"
             ],
             [
              0.2222222222222222,
              "#7201a8"
             ],
             [
              0.3333333333333333,
              "#9c179e"
             ],
             [
              0.4444444444444444,
              "#bd3786"
             ],
             [
              0.5555555555555556,
              "#d8576b"
             ],
             [
              0.6666666666666666,
              "#ed7953"
             ],
             [
              0.7777777777777778,
              "#fb9f3a"
             ],
             [
              0.8888888888888888,
              "#fdca26"
             ],
             [
              1.0,
              "#f0f921"
             ]
            ],
            "type": "heatmapgl"
           }
          ],
          "histogram": [
           {
            "marker": {
             "colorbar": {
              "outlinewidth": 0,
              "ticks": ""
             }
            },
            "type": "histogram"
           }
          ],
          "histogram2d": [
           {
            "colorbar": {
             "outlinewidth": 0,
             "ticks": ""
            },
            "colorscale": [
             [
              0.0,
              "#0d0887"
             ],
             [
              0.1111111111111111,
              "#46039f"
             ],
             [
              0.2222222222222222,
              "#7201a8"
             ],
             [
              0.3333333333333333,
              "#9c179e"
             ],
             [
              0.4444444444444444,
              "#bd3786"
             ],
             [
              0.5555555555555556,
              "#d8576b"
             ],
             [
              0.6666666666666666,
              "#ed7953"
             ],
             [
              0.7777777777777778,
              "#fb9f3a"
             ],
             [
              0.8888888888888888,
              "#fdca26"
             ],
             [
              1.0,
              "#f0f921"
             ]
            ],
            "type": "histogram2d"
           }
          ],
          "histogram2dcontour": [
           {
            "colorbar": {
             "outlinewidth": 0,
             "ticks": ""
            },
            "colorscale": [
             [
              0.0,
              "#0d0887"
             ],
             [
              0.1111111111111111,
              "#46039f"
             ],
             [
              0.2222222222222222,
              "#7201a8"
             ],
             [
              0.3333333333333333,
              "#9c179e"
             ],
             [
              0.4444444444444444,
              "#bd3786"
             ],
             [
              0.5555555555555556,
              "#d8576b"
             ],
             [
              0.6666666666666666,
              "#ed7953"
             ],
             [
              0.7777777777777778,
              "#fb9f3a"
             ],
             [
              0.8888888888888888,
              "#fdca26"
             ],
             [
              1.0,
              "#f0f921"
             ]
            ],
            "type": "histogram2dcontour"
           }
          ],
          "mesh3d": [
           {
            "colorbar": {
             "outlinewidth": 0,
             "ticks": ""
            },
            "type": "mesh3d"
           }
          ],
          "parcoords": [
           {
            "line": {
             "colorbar": {
              "outlinewidth": 0,
              "ticks": ""
             }
            },
            "type": "parcoords"
           }
          ],
          "pie": [
           {
            "automargin": true,
            "type": "pie"
           }
          ],
          "scatter": [
           {
            "marker": {
             "colorbar": {
              "outlinewidth": 0,
              "ticks": ""
             }
            },
            "type": "scatter"
           }
          ],
          "scatter3d": [
           {
            "line": {
             "colorbar": {
              "outlinewidth": 0,
              "ticks": ""
             }
            },
            "marker": {
             "colorbar": {
              "outlinewidth": 0,
              "ticks": ""
             }
            },
            "type": "scatter3d"
           }
          ],
          "scattercarpet": [
           {
            "marker": {
             "colorbar": {
              "outlinewidth": 0,
              "ticks": ""
             }
            },
            "type": "scattercarpet"
           }
          ],
          "scattergeo": [
           {
            "marker": {
             "colorbar": {
              "outlinewidth": 0,
              "ticks": ""
             }
            },
            "type": "scattergeo"
           }
          ],
          "scattergl": [
           {
            "marker": {
             "colorbar": {
              "outlinewidth": 0,
              "ticks": ""
             }
            },
            "type": "scattergl"
           }
          ],
          "scattermapbox": [
           {
            "marker": {
             "colorbar": {
              "outlinewidth": 0,
              "ticks": ""
             }
            },
            "type": "scattermapbox"
           }
          ],
          "scatterpolar": [
           {
            "marker": {
             "colorbar": {
              "outlinewidth": 0,
              "ticks": ""
             }
            },
            "type": "scatterpolar"
           }
          ],
          "scatterpolargl": [
           {
            "marker": {
             "colorbar": {
              "outlinewidth": 0,
              "ticks": ""
             }
            },
            "type": "scatterpolargl"
           }
          ],
          "scatterternary": [
           {
            "marker": {
             "colorbar": {
              "outlinewidth": 0,
              "ticks": ""
             }
            },
            "type": "scatterternary"
           }
          ],
          "surface": [
           {
            "colorbar": {
             "outlinewidth": 0,
             "ticks": ""
            },
            "colorscale": [
             [
              0.0,
              "#0d0887"
             ],
             [
              0.1111111111111111,
              "#46039f"
             ],
             [
              0.2222222222222222,
              "#7201a8"
             ],
             [
              0.3333333333333333,
              "#9c179e"
             ],
             [
              0.4444444444444444,
              "#bd3786"
             ],
             [
              0.5555555555555556,
              "#d8576b"
             ],
             [
              0.6666666666666666,
              "#ed7953"
             ],
             [
              0.7777777777777778,
              "#fb9f3a"
             ],
             [
              0.8888888888888888,
              "#fdca26"
             ],
             [
              1.0,
              "#f0f921"
             ]
            ],
            "type": "surface"
           }
          ],
          "table": [
           {
            "cells": {
             "fill": {
              "color": "#EBF0F8"
             },
             "line": {
              "color": "white"
             }
            },
            "header": {
             "fill": {
              "color": "#C8D4E3"
             },
             "line": {
              "color": "white"
             }
            },
            "type": "table"
           }
          ]
         },
         "layout": {
          "annotationdefaults": {
           "arrowcolor": "#2a3f5f",
           "arrowhead": 0,
           "arrowwidth": 1
          },
          "coloraxis": {
           "colorbar": {
            "outlinewidth": 0,
            "ticks": ""
           }
          },
          "colorscale": {
           "diverging": [
            [
             0,
             "#8e0152"
            ],
            [
             0.1,
             "#c51b7d"
            ],
            [
             0.2,
             "#de77ae"
            ],
            [
             0.3,
             "#f1b6da"
            ],
            [
             0.4,
             "#fde0ef"
            ],
            [
             0.5,
             "#f7f7f7"
            ],
            [
             0.6,
             "#e6f5d0"
            ],
            [
             0.7,
             "#b8e186"
            ],
            [
             0.8,
             "#7fbc41"
            ],
            [
             0.9,
             "#4d9221"
            ],
            [
             1,
             "#276419"
            ]
           ],
           "sequential": [
            [
             0.0,
             "#0d0887"
            ],
            [
             0.1111111111111111,
             "#46039f"
            ],
            [
             0.2222222222222222,
             "#7201a8"
            ],
            [
             0.3333333333333333,
             "#9c179e"
            ],
            [
             0.4444444444444444,
             "#bd3786"
            ],
            [
             0.5555555555555556,
             "#d8576b"
            ],
            [
             0.6666666666666666,
             "#ed7953"
            ],
            [
             0.7777777777777778,
             "#fb9f3a"
            ],
            [
             0.8888888888888888,
             "#fdca26"
            ],
            [
             1.0,
             "#f0f921"
            ]
           ],
           "sequentialminus": [
            [
             0.0,
             "#0d0887"
            ],
            [
             0.1111111111111111,
             "#46039f"
            ],
            [
             0.2222222222222222,
             "#7201a8"
            ],
            [
             0.3333333333333333,
             "#9c179e"
            ],
            [
             0.4444444444444444,
             "#bd3786"
            ],
            [
             0.5555555555555556,
             "#d8576b"
            ],
            [
             0.6666666666666666,
             "#ed7953"
            ],
            [
             0.7777777777777778,
             "#fb9f3a"
            ],
            [
             0.8888888888888888,
             "#fdca26"
            ],
            [
             1.0,
             "#f0f921"
            ]
           ]
          },
          "colorway": [
           "#636efa",
           "#EF553B",
           "#00cc96",
           "#ab63fa",
           "#FFA15A",
           "#19d3f3",
           "#FF6692",
           "#B6E880",
           "#FF97FF",
           "#FECB52"
          ],
          "font": {
           "color": "#2a3f5f"
          },
          "geo": {
           "bgcolor": "white",
           "lakecolor": "white",
           "landcolor": "#E5ECF6",
           "showlakes": true,
           "showland": true,
           "subunitcolor": "white"
          },
          "hoverlabel": {
           "align": "left"
          },
          "hovermode": "closest",
          "mapbox": {
           "style": "light"
          },
          "paper_bgcolor": "white",
          "plot_bgcolor": "#E5ECF6",
          "polar": {
           "angularaxis": {
            "gridcolor": "white",
            "linecolor": "white",
            "ticks": ""
           },
           "bgcolor": "#E5ECF6",
           "radialaxis": {
            "gridcolor": "white",
            "linecolor": "white",
            "ticks": ""
           }
          },
          "scene": {
           "xaxis": {
            "backgroundcolor": "#E5ECF6",
            "gridcolor": "white",
            "gridwidth": 2,
            "linecolor": "white",
            "showbackground": true,
            "ticks": "",
            "zerolinecolor": "white"
           },
           "yaxis": {
            "backgroundcolor": "#E5ECF6",
            "gridcolor": "white",
            "gridwidth": 2,
            "linecolor": "white",
            "showbackground": true,
            "ticks": "",
            "zerolinecolor": "white"
           },
           "zaxis": {
            "backgroundcolor": "#E5ECF6",
            "gridcolor": "white",
            "gridwidth": 2,
            "linecolor": "white",
            "showbackground": true,
            "ticks": "",
            "zerolinecolor": "white"
           }
          },
          "shapedefaults": {
           "line": {
            "color": "#2a3f5f"
           }
          },
          "ternary": {
           "aaxis": {
            "gridcolor": "white",
            "linecolor": "white",
            "ticks": ""
           },
           "baxis": {
            "gridcolor": "white",
            "linecolor": "white",
            "ticks": ""
           },
           "bgcolor": "#E5ECF6",
           "caxis": {
            "gridcolor": "white",
            "linecolor": "white",
            "ticks": ""
           }
          },
          "title": {
           "x": 0.05
          },
          "xaxis": {
           "automargin": true,
           "gridcolor": "white",
           "linecolor": "white",
           "ticks": "",
           "title": {
            "standoff": 15
           },
           "zerolinecolor": "white",
           "zerolinewidth": 2
          },
          "yaxis": {
           "automargin": true,
           "gridcolor": "white",
           "linecolor": "white",
           "ticks": "",
           "title": {
            "standoff": 15
           },
           "zerolinecolor": "white",
           "zerolinewidth": 2
          }
         }
        }
       }
      },
      "text/html": "<div>                            <div id=\"7f473416-7340-45e2-b2cf-f25d577964af\" class=\"plotly-graph-div\" style=\"height:525px; width:100%;\"></div>            <script type=\"text/javascript\">                require([\"plotly\"], function(Plotly) {                    window.PLOTLYENV=window.PLOTLYENV || {};                                    if (document.getElementById(\"7f473416-7340-45e2-b2cf-f25d577964af\")) {                    Plotly.newPlot(                        \"7f473416-7340-45e2-b2cf-f25d577964af\",                        [{\"hovertemplate\": \"WindGustDir=%{theta}<br>WindGustSpeed=%{marker.color}<extra></extra>\", \"legendgroup\": \"\", \"marker\": {\"color\": [28.0, 31.0, 39.0, 28.0, 46.0, 26.0, 31.0, 17.0, 35.0, 17.0, 13.0, 33.0, 39.0, 33.0, 48.0, 28.0, 13.0, 50.0, 15.0, 31.0, 17.0, 19.0, 15.0, 19.0, 31.0, 44.0, 15.0, 11.0, 22.0, 26.0, 13.0, 46.0, 41.0, 39.0, 15.0, 17.0, 30.0, 13.0, 17.0, 13.0, 24.0, 17.0, 11.0, 20.0, 17.0, 15.0, 22.0, 17.0, 17.0, 28.0, 24.0, 35.0, 17.0, 19.0, 22.0, 24.0, 35.0, 44.0, 31.0, 28.0, 24.0, 22.0, 19.0, 31.0, 39.0, 19.0, 24.0, 13.0, 30.0, 13.0, 28.0, 20.0, 31.0, 17.0, 35.0, 54.0, 33.0, 37.0, 28.0, 28.0, 17.0, 24.0, 20.0, 20.0, 20.0, 15.0, 19.0, 19.0, 22.0, 50.0, 26.0, 24.0, 35.0, 22.0, 11.0, 26.0, 30.0, 20.0, 39.0, 24.0, 33.0, 20.0, 41.0, 50.0, 31.0, 30.0, 43.0, 17.0, 17.0, 35.0, 17.0, 43.0, 15.0, 39.0, 37.0, 50.0, 72.0, 52.0, 26.0, 33.0, 69.0, 43.0, 54.0, 28.0, 81.0, 44.0, 44.0, 44.0, 52.0, 33.0, 44.0, 17.0, 24.0, 52.0, 15.0, 52.0, 22.0, 44.0, 20.0, 37.0, 17.0, 39.0, 24.0, 56.0, 67.0, 39.0, 17.0, 17.0, 33.0, 39.0, 24.0, 20.0, 39.0, 39.0, 39.0, 26.0, 35.0, 31.0, 39.0, 33.0, 31.0, 20.0, 24.0, 41.0, 37.0, 35.0, 39.0, 22.0, 37.0, 35.0, 28.0, 13.0, 19.0, 26.0, 30.0, 28.0], \"coloraxis\": \"coloraxis\"}, \"name\": \"\", \"showlegend\": false, \"subplot\": \"polar\", \"theta\": [\"N\", \"N\", \"N\", \"N\", \"N\", \"N\", \"N\", \"N\", \"NNE\", \"NNE\", \"NNE\", \"NNE\", \"NNE\", \"NNE\", \"NNE\", \"NE\", \"NE\", \"NE\", \"NE\", \"NE\", \"ENE\", \"ENE\", \"ENE\", \"ENE\", \"ENE\", \"ENE\", \"ENE\", \"ENE\", \"ENE\", \"ENE\", \"ENE\", \"ENE\", \"ENE\", \"E\", \"E\", \"E\", \"E\", \"E\", \"E\", \"E\", \"ESE\", \"ESE\", \"ESE\", \"ESE\", \"ESE\", \"ESE\", \"ESE\", \"ESE\", \"ESE\", \"ESE\", \"SE\", \"SE\", \"SE\", \"SE\", \"SE\", \"SE\", \"SE\", \"SE\", \"SE\", \"SE\", \"SE\", \"SE\", \"SE\", \"SE\", \"SE\", \"SE\", \"SE\", \"SE\", \"SE\", \"SE\", \"SE\", \"SE\", \"SE\", \"SE\", \"SE\", \"SE\", \"SE\", \"SE\", \"SE\", \"SE\", \"SE\", \"SSE\", \"SSE\", \"SSE\", \"SSE\", \"SSE\", \"SSE\", \"SSE\", \"SSE\", \"SSE\", \"SSE\", \"SSE\", \"SSE\", \"S\", \"S\", \"S\", \"S\", \"S\", \"SSW\", \"SSW\", \"SSW\", \"SW\", \"SW\", \"SW\", \"SW\", \"SW\", \"SW\", \"WSW\", \"WSW\", \"WSW\", \"WSW\", \"WSW\", \"WSW\", \"WSW\", \"WSW\", \"WSW\", \"WSW\", \"WSW\", \"WSW\", \"WSW\", \"WSW\", \"WSW\", \"WSW\", \"WSW\", \"WSW\", \"WSW\", \"WSW\", \"WSW\", \"WSW\", \"WSW\", \"W\", \"W\", \"W\", \"W\", \"W\", \"W\", \"W\", \"W\", \"W\", \"W\", \"W\", \"W\", \"W\", \"W\", \"W\", \"W\", \"W\", \"W\", \"W\", \"W\", \"W\", \"W\", \"WNW\", \"WNW\", \"WNW\", \"WNW\", \"WNW\", \"WNW\", \"WNW\", \"WNW\", \"WNW\", \"WNW\", \"WNW\", \"WNW\", \"WNW\", \"WNW\", \"NW\", \"NW\", \"NW\", \"NW\", \"NW\", \"NW\", \"NNW\", \"NNW\", \"NNW\", \"NNW\"], \"type\": \"barpolar\"}],                        {\"barmode\": \"relative\", \"coloraxis\": {\"colorbar\": {\"title\": {\"text\": \"WindGustSpeed\"}}, \"colorscale\": [[0.0, \"rgb(3, 5, 18)\"], [0.09090909090909091, \"rgb(25, 25, 51)\"], [0.18181818181818182, \"rgb(44, 42, 87)\"], [0.2727272727272727, \"rgb(58, 60, 125)\"], [0.36363636363636365, \"rgb(62, 83, 160)\"], [0.45454545454545453, \"rgb(62, 109, 178)\"], [0.5454545454545454, \"rgb(72, 134, 187)\"], [0.6363636363636364, \"rgb(89, 159, 196)\"], [0.7272727272727273, \"rgb(114, 184, 205)\"], [0.8181818181818182, \"rgb(149, 207, 216)\"], [0.9090909090909091, \"rgb(192, 229, 232)\"], [1.0, \"rgb(234, 252, 253)\"]]}, \"legend\": {\"tracegroupgap\": 0}, \"margin\": {\"t\": 60}, \"polar\": {\"angularaxis\": {\"direction\": \"clockwise\", \"rotation\": 90}, \"domain\": {\"x\": [0.0, 1.0], \"y\": [0.0, 1.0]}}, \"template\": {\"data\": {\"bar\": [{\"error_x\": {\"color\": \"#2a3f5f\"}, \"error_y\": {\"color\": \"#2a3f5f\"}, \"marker\": {\"line\": {\"color\": \"#E5ECF6\", \"width\": 0.5}}, \"type\": \"bar\"}], \"barpolar\": [{\"marker\": {\"line\": {\"color\": \"#E5ECF6\", \"width\": 0.5}}, \"type\": \"barpolar\"}], \"carpet\": [{\"aaxis\": {\"endlinecolor\": \"#2a3f5f\", \"gridcolor\": \"white\", \"linecolor\": \"white\", \"minorgridcolor\": \"white\", \"startlinecolor\": \"#2a3f5f\"}, \"baxis\": {\"endlinecolor\": \"#2a3f5f\", \"gridcolor\": \"white\", \"linecolor\": \"white\", \"minorgridcolor\": \"white\", \"startlinecolor\": \"#2a3f5f\"}, \"type\": \"carpet\"}], \"choropleth\": [{\"colorbar\": {\"outlinewidth\": 0, \"ticks\": \"\"}, \"type\": \"choropleth\"}], \"contour\": [{\"colorbar\": {\"outlinewidth\": 0, \"ticks\": \"\"}, \"colorscale\": [[0.0, \"#0d0887\"], [0.1111111111111111, \"#46039f\"], [0.2222222222222222, \"#7201a8\"], [0.3333333333333333, \"#9c179e\"], [0.4444444444444444, \"#bd3786\"], [0.5555555555555556, \"#d8576b\"], [0.6666666666666666, \"#ed7953\"], [0.7777777777777778, \"#fb9f3a\"], [0.8888888888888888, \"#fdca26\"], [1.0, \"#f0f921\"]], \"type\": \"contour\"}], \"contourcarpet\": [{\"colorbar\": {\"outlinewidth\": 0, \"ticks\": \"\"}, \"type\": \"contourcarpet\"}], \"heatmap\": [{\"colorbar\": {\"outlinewidth\": 0, \"ticks\": \"\"}, \"colorscale\": [[0.0, \"#0d0887\"], [0.1111111111111111, \"#46039f\"], [0.2222222222222222, \"#7201a8\"], [0.3333333333333333, \"#9c179e\"], [0.4444444444444444, \"#bd3786\"], [0.5555555555555556, \"#d8576b\"], [0.6666666666666666, \"#ed7953\"], [0.7777777777777778, \"#fb9f3a\"], [0.8888888888888888, \"#fdca26\"], [1.0, \"#f0f921\"]], \"type\": \"heatmap\"}], \"heatmapgl\": [{\"colorbar\": {\"outlinewidth\": 0, \"ticks\": \"\"}, \"colorscale\": [[0.0, \"#0d0887\"], [0.1111111111111111, \"#46039f\"], [0.2222222222222222, \"#7201a8\"], [0.3333333333333333, \"#9c179e\"], [0.4444444444444444, \"#bd3786\"], [0.5555555555555556, \"#d8576b\"], [0.6666666666666666, \"#ed7953\"], [0.7777777777777778, \"#fb9f3a\"], [0.8888888888888888, \"#fdca26\"], [1.0, \"#f0f921\"]], \"type\": \"heatmapgl\"}], \"histogram\": [{\"marker\": {\"colorbar\": {\"outlinewidth\": 0, \"ticks\": \"\"}}, \"type\": \"histogram\"}], \"histogram2d\": [{\"colorbar\": {\"outlinewidth\": 0, \"ticks\": \"\"}, \"colorscale\": [[0.0, \"#0d0887\"], [0.1111111111111111, \"#46039f\"], [0.2222222222222222, \"#7201a8\"], [0.3333333333333333, \"#9c179e\"], [0.4444444444444444, \"#bd3786\"], [0.5555555555555556, \"#d8576b\"], [0.6666666666666666, \"#ed7953\"], [0.7777777777777778, \"#fb9f3a\"], [0.8888888888888888, \"#fdca26\"], [1.0, \"#f0f921\"]], \"type\": \"histogram2d\"}], \"histogram2dcontour\": [{\"colorbar\": {\"outlinewidth\": 0, \"ticks\": \"\"}, \"colorscale\": [[0.0, \"#0d0887\"], [0.1111111111111111, \"#46039f\"], [0.2222222222222222, \"#7201a8\"], [0.3333333333333333, \"#9c179e\"], [0.4444444444444444, \"#bd3786\"], [0.5555555555555556, \"#d8576b\"], [0.6666666666666666, \"#ed7953\"], [0.7777777777777778, \"#fb9f3a\"], [0.8888888888888888, \"#fdca26\"], [1.0, \"#f0f921\"]], \"type\": \"histogram2dcontour\"}], \"mesh3d\": [{\"colorbar\": {\"outlinewidth\": 0, \"ticks\": \"\"}, \"type\": \"mesh3d\"}], \"parcoords\": [{\"line\": {\"colorbar\": {\"outlinewidth\": 0, \"ticks\": \"\"}}, \"type\": \"parcoords\"}], \"pie\": [{\"automargin\": true, \"type\": \"pie\"}], \"scatter\": [{\"marker\": {\"colorbar\": {\"outlinewidth\": 0, \"ticks\": \"\"}}, \"type\": \"scatter\"}], \"scatter3d\": [{\"line\": {\"colorbar\": {\"outlinewidth\": 0, \"ticks\": \"\"}}, \"marker\": {\"colorbar\": {\"outlinewidth\": 0, \"ticks\": \"\"}}, \"type\": \"scatter3d\"}], \"scattercarpet\": [{\"marker\": {\"colorbar\": {\"outlinewidth\": 0, \"ticks\": \"\"}}, \"type\": \"scattercarpet\"}], \"scattergeo\": [{\"marker\": {\"colorbar\": {\"outlinewidth\": 0, \"ticks\": \"\"}}, \"type\": \"scattergeo\"}], \"scattergl\": [{\"marker\": {\"colorbar\": {\"outlinewidth\": 0, \"ticks\": \"\"}}, \"type\": \"scattergl\"}], \"scattermapbox\": [{\"marker\": {\"colorbar\": {\"outlinewidth\": 0, \"ticks\": \"\"}}, \"type\": \"scattermapbox\"}], \"scatterpolar\": [{\"marker\": {\"colorbar\": {\"outlinewidth\": 0, \"ticks\": \"\"}}, \"type\": \"scatterpolar\"}], \"scatterpolargl\": [{\"marker\": {\"colorbar\": {\"outlinewidth\": 0, \"ticks\": \"\"}}, \"type\": \"scatterpolargl\"}], \"scatterternary\": [{\"marker\": {\"colorbar\": {\"outlinewidth\": 0, \"ticks\": \"\"}}, \"type\": \"scatterternary\"}], \"surface\": [{\"colorbar\": {\"outlinewidth\": 0, \"ticks\": \"\"}, \"colorscale\": [[0.0, \"#0d0887\"], [0.1111111111111111, \"#46039f\"], [0.2222222222222222, \"#7201a8\"], [0.3333333333333333, \"#9c179e\"], [0.4444444444444444, \"#bd3786\"], [0.5555555555555556, \"#d8576b\"], [0.6666666666666666, \"#ed7953\"], [0.7777777777777778, \"#fb9f3a\"], [0.8888888888888888, \"#fdca26\"], [1.0, \"#f0f921\"]], \"type\": \"surface\"}], \"table\": [{\"cells\": {\"fill\": {\"color\": \"#EBF0F8\"}, \"line\": {\"color\": \"white\"}}, \"header\": {\"fill\": {\"color\": \"#C8D4E3\"}, \"line\": {\"color\": \"white\"}}, \"type\": \"table\"}]}, \"layout\": {\"annotationdefaults\": {\"arrowcolor\": \"#2a3f5f\", \"arrowhead\": 0, \"arrowwidth\": 1}, \"coloraxis\": {\"colorbar\": {\"outlinewidth\": 0, \"ticks\": \"\"}}, \"colorscale\": {\"diverging\": [[0, \"#8e0152\"], [0.1, \"#c51b7d\"], [0.2, \"#de77ae\"], [0.3, \"#f1b6da\"], [0.4, \"#fde0ef\"], [0.5, \"#f7f7f7\"], [0.6, \"#e6f5d0\"], [0.7, \"#b8e186\"], [0.8, \"#7fbc41\"], [0.9, \"#4d9221\"], [1, \"#276419\"]], \"sequential\": [[0.0, \"#0d0887\"], [0.1111111111111111, \"#46039f\"], [0.2222222222222222, \"#7201a8\"], [0.3333333333333333, \"#9c179e\"], [0.4444444444444444, \"#bd3786\"], [0.5555555555555556, \"#d8576b\"], [0.6666666666666666, \"#ed7953\"], [0.7777777777777778, \"#fb9f3a\"], [0.8888888888888888, \"#fdca26\"], [1.0, \"#f0f921\"]], \"sequentialminus\": [[0.0, \"#0d0887\"], [0.1111111111111111, \"#46039f\"], [0.2222222222222222, \"#7201a8\"], [0.3333333333333333, \"#9c179e\"], [0.4444444444444444, \"#bd3786\"], [0.5555555555555556, \"#d8576b\"], [0.6666666666666666, \"#ed7953\"], [0.7777777777777778, \"#fb9f3a\"], [0.8888888888888888, \"#fdca26\"], [1.0, \"#f0f921\"]]}, \"colorway\": [\"#636efa\", \"#EF553B\", \"#00cc96\", \"#ab63fa\", \"#FFA15A\", \"#19d3f3\", \"#FF6692\", \"#B6E880\", \"#FF97FF\", \"#FECB52\"], \"font\": {\"color\": \"#2a3f5f\"}, \"geo\": {\"bgcolor\": \"white\", \"lakecolor\": \"white\", \"landcolor\": \"#E5ECF6\", \"showlakes\": true, \"showland\": true, \"subunitcolor\": \"white\"}, \"hoverlabel\": {\"align\": \"left\"}, \"hovermode\": \"closest\", \"mapbox\": {\"style\": \"light\"}, \"paper_bgcolor\": \"white\", \"plot_bgcolor\": \"#E5ECF6\", \"polar\": {\"angularaxis\": {\"gridcolor\": \"white\", \"linecolor\": \"white\", \"ticks\": \"\"}, \"bgcolor\": \"#E5ECF6\", \"radialaxis\": {\"gridcolor\": \"white\", \"linecolor\": \"white\", \"ticks\": \"\"}}, \"scene\": {\"xaxis\": {\"backgroundcolor\": \"#E5ECF6\", \"gridcolor\": \"white\", \"gridwidth\": 2, \"linecolor\": \"white\", \"showbackground\": true, \"ticks\": \"\", \"zerolinecolor\": \"white\"}, \"yaxis\": {\"backgroundcolor\": \"#E5ECF6\", \"gridcolor\": \"white\", \"gridwidth\": 2, \"linecolor\": \"white\", \"showbackground\": true, \"ticks\": \"\", \"zerolinecolor\": \"white\"}, \"zaxis\": {\"backgroundcolor\": \"#E5ECF6\", \"gridcolor\": \"white\", \"gridwidth\": 2, \"linecolor\": \"white\", \"showbackground\": true, \"ticks\": \"\", \"zerolinecolor\": \"white\"}}, \"shapedefaults\": {\"line\": {\"color\": \"#2a3f5f\"}}, \"ternary\": {\"aaxis\": {\"gridcolor\": \"white\", \"linecolor\": \"white\", \"ticks\": \"\"}, \"baxis\": {\"gridcolor\": \"white\", \"linecolor\": \"white\", \"ticks\": \"\"}, \"bgcolor\": \"#E5ECF6\", \"caxis\": {\"gridcolor\": \"white\", \"linecolor\": \"white\", \"ticks\": \"\"}}, \"title\": {\"x\": 0.05}, \"xaxis\": {\"automargin\": true, \"gridcolor\": \"white\", \"linecolor\": \"white\", \"ticks\": \"\", \"title\": {\"standoff\": 15}, \"zerolinecolor\": \"white\", \"zerolinewidth\": 2}, \"yaxis\": {\"automargin\": true, \"gridcolor\": \"white\", \"linecolor\": \"white\", \"ticks\": \"\", \"title\": {\"standoff\": 15}, \"zerolinecolor\": \"white\", \"zerolinewidth\": 2}}}},                        {\"responsive\": true}                    ).then(function(){\n                            \nvar gd = document.getElementById('7f473416-7340-45e2-b2cf-f25d577964af');\nvar x = new MutationObserver(function (mutations, observer) {{\n        var display = window.getComputedStyle(gd).display;\n        if (!display || display === 'none') {{\n            console.log([gd, 'removed!']);\n            Plotly.purge(gd);\n            observer.disconnect();\n        }}\n}});\n\n// Listen for the removal of the full notebook cells\nvar notebookContainer = gd.closest('#notebook-container');\nif (notebookContainer) {{\n    x.observe(notebookContainer, {childList: true});\n}}\n\n// Listen for the clearing of the current output cell\nvar outputEl = gd.closest('.output');\nif (outputEl) {{\n    x.observe(outputEl, {childList: true});\n}}\n\n                        })                };                });            </script>        </div>"
     },
     "metadata": {},
     "output_type": "display_data"
    }
   ],
   "source": [
    "temp = weather_data[(weather_data['Location'] == 'Albury') & (weather_data['Year'] == 2017)]\n",
    "temp = temp.sort_values(by='sort_dir')\n",
    "\n",
    "wind_rose = px.bar_polar(temp,\n",
    "                         theta='WindGustDir',\n",
    "                         color='WindGustSpeed',\n",
    "                         color_continuous_scale=px.colors.sequential.ice)\n",
    "wind_rose.show()"
   ],
   "metadata": {
    "collapsed": false,
    "pycharm": {
     "name": "#%%\n"
    }
   }
  },
  {
   "cell_type": "code",
   "execution_count": 14,
   "outputs": [
    {
     "data": {
      "text/plain": "    direction strength  frequency\n0           N      0-1       0.50\n1         NNE      0-1       0.60\n2          NE      0-1       0.50\n3         ENE      0-1       0.40\n4           E      0-1       0.40\n5         ESE      0-1       0.30\n6          SE      0-1       0.40\n7         SSE      0-1       0.40\n8           S      0-1       0.60\n9         SSW      0-1       0.40\n10         SW      0-1       0.50\n11        WSW      0-1       0.60\n12          W      0-1       0.60\n13        WNW      0-1       0.50\n14         NW      0-1       0.40\n15        NNW      0-1       0.10\n16          N      1-2       1.60\n17        NNE      1-2       1.80\n18         NE      1-2       1.50\n19        ENE      1-2       1.60\n20          E      1-2       1.60\n21        ESE      1-2       1.20\n22         SE      1-2       1.50\n23        SSE      1-2       1.70\n24          S      1-2       2.20\n25        SSW      1-2       2.00\n26         SW      1-2       2.30\n27        WSW      1-2       2.40\n28          W      1-2       2.30\n29        WNW      1-2       2.60\n30         NW      1-2       2.30\n31        NNW      1-2       0.80\n32          N      2-3       0.90\n33        NNE      2-3       1.30\n34         NE      2-3       1.60\n35        ENE      2-3       0.90\n36          E      2-3       1.00\n37        ESE      2-3       0.60\n38         SE      2-3       0.60\n39        SSE      2-3       0.90\n40          S      2-3       1.40\n41        SSW      2-3       1.70\n42         SW      2-3       1.90\n43        WSW      2-3       2.20\n44          W      2-3       1.80\n45        WNW      2-3       1.70\n46         NW      2-3       1.80\n47        NNW      2-3       0.80\n48          N      3-4       0.90\n49        NNE      3-4       0.80\n50         NE      3-4       1.20\n51        ENE      3-4       1.00\n52          E      3-4       0.80\n53        ESE      3-4       0.40\n54         SE      3-4       0.50\n55        SSE      3-4       0.50\n56          S      3-4       0.80\n57        SSW      3-4       0.90\n58         SW      3-4       1.30\n59        WSW      3-4       1.10\n60          W      3-4       1.20\n61        WNW      3-4       1.20\n62         NW      3-4       1.30\n63        NNW      3-4       1.00\n64          N      4-4       0.40\n65        NNE      4-4       0.50\n66         NE      4-4       1.20\n67        ENE      4-4       0.50\n68          E      4-4       0.40\n69        ESE      4-4       0.20\n70         SE      4-4       0.40\n71        SSE      4-4       0.40\n72          S      4-4       0.70\n73        SSW      4-4       0.60\n74         SW      4-4       0.70\n75        WSW      4-4       0.80\n76          W      4-4       0.90\n77        WNW      4-4       1.00\n78         NW      4-4       1.00\n79        NNW      4-4       0.70\n80          N      4-5       0.30\n81        NNE      4-5       0.30\n82         NE      4-5       0.60\n83        ENE      4-5       0.20\n84          E      4-5       0.10\n85        ESE      4-5       0.10\n86         SE      4-5       0.05\n87        SSE      4-5       0.10\n88          S      4-5       0.10\n89        SSW      4-5       0.20\n90         SW      4-5       0.30\n91        WSW      4-5       0.40\n92          W      4-5       0.90\n93        WNW      4-5       0.90\n94         NW      4-5       0.90\n95        NNW      4-5       0.30\n96          N      5-6       0.20\n97        NNE      5-6       0.10\n98         NE      5-6       0.10\n99        ENE      5-6       0.10\n100         E      5-6       0.10\n101       ESE      5-6       0.10\n102        SE      5-6       0.05\n103       SSE      5-6       0.05\n104         S      5-6       0.10\n105       SSW      5-6       0.05\n106        SW      5-6       0.20\n107       WSW      5-6       0.20\n108         W      5-6       0.40\n109       WNW      5-6       0.70\n110        NW      5-6       0.70\n111       NNW      5-6       0.40\n112         N       6+       0.10\n113       NNE       6+       0.10\n114        NE       6+       0.10\n115       ENE       6+       0.10\n116         E       6+       0.10\n117       ESE       6+       0.05\n118        SE       6+       0.05\n119       SSE       6+       0.05\n120         S       6+       0.05\n121       SSW       6+       0.10\n122        SW       6+       0.10\n123       WSW       6+       0.10\n124         W       6+       0.90\n125       WNW       6+       2.20\n126        NW       6+       1.50\n127       NNW       6+       0.20",
      "text/html": "<div>\n<style scoped>\n    .dataframe tbody tr th:only-of-type {\n        vertical-align: middle;\n    }\n\n    .dataframe tbody tr th {\n        vertical-align: top;\n    }\n\n    .dataframe thead th {\n        text-align: right;\n    }\n</style>\n<table border=\"1\" class=\"dataframe\">\n  <thead>\n    <tr style=\"text-align: right;\">\n      <th></th>\n      <th>direction</th>\n      <th>strength</th>\n      <th>frequency</th>\n    </tr>\n  </thead>\n  <tbody>\n    <tr>\n      <th>0</th>\n      <td>N</td>\n      <td>0-1</td>\n      <td>0.50</td>\n    </tr>\n    <tr>\n      <th>1</th>\n      <td>NNE</td>\n      <td>0-1</td>\n      <td>0.60</td>\n    </tr>\n    <tr>\n      <th>2</th>\n      <td>NE</td>\n      <td>0-1</td>\n      <td>0.50</td>\n    </tr>\n    <tr>\n      <th>3</th>\n      <td>ENE</td>\n      <td>0-1</td>\n      <td>0.40</td>\n    </tr>\n    <tr>\n      <th>4</th>\n      <td>E</td>\n      <td>0-1</td>\n      <td>0.40</td>\n    </tr>\n    <tr>\n      <th>5</th>\n      <td>ESE</td>\n      <td>0-1</td>\n      <td>0.30</td>\n    </tr>\n    <tr>\n      <th>6</th>\n      <td>SE</td>\n      <td>0-1</td>\n      <td>0.40</td>\n    </tr>\n    <tr>\n      <th>7</th>\n      <td>SSE</td>\n      <td>0-1</td>\n      <td>0.40</td>\n    </tr>\n    <tr>\n      <th>8</th>\n      <td>S</td>\n      <td>0-1</td>\n      <td>0.60</td>\n    </tr>\n    <tr>\n      <th>9</th>\n      <td>SSW</td>\n      <td>0-1</td>\n      <td>0.40</td>\n    </tr>\n    <tr>\n      <th>10</th>\n      <td>SW</td>\n      <td>0-1</td>\n      <td>0.50</td>\n    </tr>\n    <tr>\n      <th>11</th>\n      <td>WSW</td>\n      <td>0-1</td>\n      <td>0.60</td>\n    </tr>\n    <tr>\n      <th>12</th>\n      <td>W</td>\n      <td>0-1</td>\n      <td>0.60</td>\n    </tr>\n    <tr>\n      <th>13</th>\n      <td>WNW</td>\n      <td>0-1</td>\n      <td>0.50</td>\n    </tr>\n    <tr>\n      <th>14</th>\n      <td>NW</td>\n      <td>0-1</td>\n      <td>0.40</td>\n    </tr>\n    <tr>\n      <th>15</th>\n      <td>NNW</td>\n      <td>0-1</td>\n      <td>0.10</td>\n    </tr>\n    <tr>\n      <th>16</th>\n      <td>N</td>\n      <td>1-2</td>\n      <td>1.60</td>\n    </tr>\n    <tr>\n      <th>17</th>\n      <td>NNE</td>\n      <td>1-2</td>\n      <td>1.80</td>\n    </tr>\n    <tr>\n      <th>18</th>\n      <td>NE</td>\n      <td>1-2</td>\n      <td>1.50</td>\n    </tr>\n    <tr>\n      <th>19</th>\n      <td>ENE</td>\n      <td>1-2</td>\n      <td>1.60</td>\n    </tr>\n    <tr>\n      <th>20</th>\n      <td>E</td>\n      <td>1-2</td>\n      <td>1.60</td>\n    </tr>\n    <tr>\n      <th>21</th>\n      <td>ESE</td>\n      <td>1-2</td>\n      <td>1.20</td>\n    </tr>\n    <tr>\n      <th>22</th>\n      <td>SE</td>\n      <td>1-2</td>\n      <td>1.50</td>\n    </tr>\n    <tr>\n      <th>23</th>\n      <td>SSE</td>\n      <td>1-2</td>\n      <td>1.70</td>\n    </tr>\n    <tr>\n      <th>24</th>\n      <td>S</td>\n      <td>1-2</td>\n      <td>2.20</td>\n    </tr>\n    <tr>\n      <th>25</th>\n      <td>SSW</td>\n      <td>1-2</td>\n      <td>2.00</td>\n    </tr>\n    <tr>\n      <th>26</th>\n      <td>SW</td>\n      <td>1-2</td>\n      <td>2.30</td>\n    </tr>\n    <tr>\n      <th>27</th>\n      <td>WSW</td>\n      <td>1-2</td>\n      <td>2.40</td>\n    </tr>\n    <tr>\n      <th>28</th>\n      <td>W</td>\n      <td>1-2</td>\n      <td>2.30</td>\n    </tr>\n    <tr>\n      <th>29</th>\n      <td>WNW</td>\n      <td>1-2</td>\n      <td>2.60</td>\n    </tr>\n    <tr>\n      <th>30</th>\n      <td>NW</td>\n      <td>1-2</td>\n      <td>2.30</td>\n    </tr>\n    <tr>\n      <th>31</th>\n      <td>NNW</td>\n      <td>1-2</td>\n      <td>0.80</td>\n    </tr>\n    <tr>\n      <th>32</th>\n      <td>N</td>\n      <td>2-3</td>\n      <td>0.90</td>\n    </tr>\n    <tr>\n      <th>33</th>\n      <td>NNE</td>\n      <td>2-3</td>\n      <td>1.30</td>\n    </tr>\n    <tr>\n      <th>34</th>\n      <td>NE</td>\n      <td>2-3</td>\n      <td>1.60</td>\n    </tr>\n    <tr>\n      <th>35</th>\n      <td>ENE</td>\n      <td>2-3</td>\n      <td>0.90</td>\n    </tr>\n    <tr>\n      <th>36</th>\n      <td>E</td>\n      <td>2-3</td>\n      <td>1.00</td>\n    </tr>\n    <tr>\n      <th>37</th>\n      <td>ESE</td>\n      <td>2-3</td>\n      <td>0.60</td>\n    </tr>\n    <tr>\n      <th>38</th>\n      <td>SE</td>\n      <td>2-3</td>\n      <td>0.60</td>\n    </tr>\n    <tr>\n      <th>39</th>\n      <td>SSE</td>\n      <td>2-3</td>\n      <td>0.90</td>\n    </tr>\n    <tr>\n      <th>40</th>\n      <td>S</td>\n      <td>2-3</td>\n      <td>1.40</td>\n    </tr>\n    <tr>\n      <th>41</th>\n      <td>SSW</td>\n      <td>2-3</td>\n      <td>1.70</td>\n    </tr>\n    <tr>\n      <th>42</th>\n      <td>SW</td>\n      <td>2-3</td>\n      <td>1.90</td>\n    </tr>\n    <tr>\n      <th>43</th>\n      <td>WSW</td>\n      <td>2-3</td>\n      <td>2.20</td>\n    </tr>\n    <tr>\n      <th>44</th>\n      <td>W</td>\n      <td>2-3</td>\n      <td>1.80</td>\n    </tr>\n    <tr>\n      <th>45</th>\n      <td>WNW</td>\n      <td>2-3</td>\n      <td>1.70</td>\n    </tr>\n    <tr>\n      <th>46</th>\n      <td>NW</td>\n      <td>2-3</td>\n      <td>1.80</td>\n    </tr>\n    <tr>\n      <th>47</th>\n      <td>NNW</td>\n      <td>2-3</td>\n      <td>0.80</td>\n    </tr>\n    <tr>\n      <th>48</th>\n      <td>N</td>\n      <td>3-4</td>\n      <td>0.90</td>\n    </tr>\n    <tr>\n      <th>49</th>\n      <td>NNE</td>\n      <td>3-4</td>\n      <td>0.80</td>\n    </tr>\n    <tr>\n      <th>50</th>\n      <td>NE</td>\n      <td>3-4</td>\n      <td>1.20</td>\n    </tr>\n    <tr>\n      <th>51</th>\n      <td>ENE</td>\n      <td>3-4</td>\n      <td>1.00</td>\n    </tr>\n    <tr>\n      <th>52</th>\n      <td>E</td>\n      <td>3-4</td>\n      <td>0.80</td>\n    </tr>\n    <tr>\n      <th>53</th>\n      <td>ESE</td>\n      <td>3-4</td>\n      <td>0.40</td>\n    </tr>\n    <tr>\n      <th>54</th>\n      <td>SE</td>\n      <td>3-4</td>\n      <td>0.50</td>\n    </tr>\n    <tr>\n      <th>55</th>\n      <td>SSE</td>\n      <td>3-4</td>\n      <td>0.50</td>\n    </tr>\n    <tr>\n      <th>56</th>\n      <td>S</td>\n      <td>3-4</td>\n      <td>0.80</td>\n    </tr>\n    <tr>\n      <th>57</th>\n      <td>SSW</td>\n      <td>3-4</td>\n      <td>0.90</td>\n    </tr>\n    <tr>\n      <th>58</th>\n      <td>SW</td>\n      <td>3-4</td>\n      <td>1.30</td>\n    </tr>\n    <tr>\n      <th>59</th>\n      <td>WSW</td>\n      <td>3-4</td>\n      <td>1.10</td>\n    </tr>\n    <tr>\n      <th>60</th>\n      <td>W</td>\n      <td>3-4</td>\n      <td>1.20</td>\n    </tr>\n    <tr>\n      <th>61</th>\n      <td>WNW</td>\n      <td>3-4</td>\n      <td>1.20</td>\n    </tr>\n    <tr>\n      <th>62</th>\n      <td>NW</td>\n      <td>3-4</td>\n      <td>1.30</td>\n    </tr>\n    <tr>\n      <th>63</th>\n      <td>NNW</td>\n      <td>3-4</td>\n      <td>1.00</td>\n    </tr>\n    <tr>\n      <th>64</th>\n      <td>N</td>\n      <td>4-4</td>\n      <td>0.40</td>\n    </tr>\n    <tr>\n      <th>65</th>\n      <td>NNE</td>\n      <td>4-4</td>\n      <td>0.50</td>\n    </tr>\n    <tr>\n      <th>66</th>\n      <td>NE</td>\n      <td>4-4</td>\n      <td>1.20</td>\n    </tr>\n    <tr>\n      <th>67</th>\n      <td>ENE</td>\n      <td>4-4</td>\n      <td>0.50</td>\n    </tr>\n    <tr>\n      <th>68</th>\n      <td>E</td>\n      <td>4-4</td>\n      <td>0.40</td>\n    </tr>\n    <tr>\n      <th>69</th>\n      <td>ESE</td>\n      <td>4-4</td>\n      <td>0.20</td>\n    </tr>\n    <tr>\n      <th>70</th>\n      <td>SE</td>\n      <td>4-4</td>\n      <td>0.40</td>\n    </tr>\n    <tr>\n      <th>71</th>\n      <td>SSE</td>\n      <td>4-4</td>\n      <td>0.40</td>\n    </tr>\n    <tr>\n      <th>72</th>\n      <td>S</td>\n      <td>4-4</td>\n      <td>0.70</td>\n    </tr>\n    <tr>\n      <th>73</th>\n      <td>SSW</td>\n      <td>4-4</td>\n      <td>0.60</td>\n    </tr>\n    <tr>\n      <th>74</th>\n      <td>SW</td>\n      <td>4-4</td>\n      <td>0.70</td>\n    </tr>\n    <tr>\n      <th>75</th>\n      <td>WSW</td>\n      <td>4-4</td>\n      <td>0.80</td>\n    </tr>\n    <tr>\n      <th>76</th>\n      <td>W</td>\n      <td>4-4</td>\n      <td>0.90</td>\n    </tr>\n    <tr>\n      <th>77</th>\n      <td>WNW</td>\n      <td>4-4</td>\n      <td>1.00</td>\n    </tr>\n    <tr>\n      <th>78</th>\n      <td>NW</td>\n      <td>4-4</td>\n      <td>1.00</td>\n    </tr>\n    <tr>\n      <th>79</th>\n      <td>NNW</td>\n      <td>4-4</td>\n      <td>0.70</td>\n    </tr>\n    <tr>\n      <th>80</th>\n      <td>N</td>\n      <td>4-5</td>\n      <td>0.30</td>\n    </tr>\n    <tr>\n      <th>81</th>\n      <td>NNE</td>\n      <td>4-5</td>\n      <td>0.30</td>\n    </tr>\n    <tr>\n      <th>82</th>\n      <td>NE</td>\n      <td>4-5</td>\n      <td>0.60</td>\n    </tr>\n    <tr>\n      <th>83</th>\n      <td>ENE</td>\n      <td>4-5</td>\n      <td>0.20</td>\n    </tr>\n    <tr>\n      <th>84</th>\n      <td>E</td>\n      <td>4-5</td>\n      <td>0.10</td>\n    </tr>\n    <tr>\n      <th>85</th>\n      <td>ESE</td>\n      <td>4-5</td>\n      <td>0.10</td>\n    </tr>\n    <tr>\n      <th>86</th>\n      <td>SE</td>\n      <td>4-5</td>\n      <td>0.05</td>\n    </tr>\n    <tr>\n      <th>87</th>\n      <td>SSE</td>\n      <td>4-5</td>\n      <td>0.10</td>\n    </tr>\n    <tr>\n      <th>88</th>\n      <td>S</td>\n      <td>4-5</td>\n      <td>0.10</td>\n    </tr>\n    <tr>\n      <th>89</th>\n      <td>SSW</td>\n      <td>4-5</td>\n      <td>0.20</td>\n    </tr>\n    <tr>\n      <th>90</th>\n      <td>SW</td>\n      <td>4-5</td>\n      <td>0.30</td>\n    </tr>\n    <tr>\n      <th>91</th>\n      <td>WSW</td>\n      <td>4-5</td>\n      <td>0.40</td>\n    </tr>\n    <tr>\n      <th>92</th>\n      <td>W</td>\n      <td>4-5</td>\n      <td>0.90</td>\n    </tr>\n    <tr>\n      <th>93</th>\n      <td>WNW</td>\n      <td>4-5</td>\n      <td>0.90</td>\n    </tr>\n    <tr>\n      <th>94</th>\n      <td>NW</td>\n      <td>4-5</td>\n      <td>0.90</td>\n    </tr>\n    <tr>\n      <th>95</th>\n      <td>NNW</td>\n      <td>4-5</td>\n      <td>0.30</td>\n    </tr>\n    <tr>\n      <th>96</th>\n      <td>N</td>\n      <td>5-6</td>\n      <td>0.20</td>\n    </tr>\n    <tr>\n      <th>97</th>\n      <td>NNE</td>\n      <td>5-6</td>\n      <td>0.10</td>\n    </tr>\n    <tr>\n      <th>98</th>\n      <td>NE</td>\n      <td>5-6</td>\n      <td>0.10</td>\n    </tr>\n    <tr>\n      <th>99</th>\n      <td>ENE</td>\n      <td>5-6</td>\n      <td>0.10</td>\n    </tr>\n    <tr>\n      <th>100</th>\n      <td>E</td>\n      <td>5-6</td>\n      <td>0.10</td>\n    </tr>\n    <tr>\n      <th>101</th>\n      <td>ESE</td>\n      <td>5-6</td>\n      <td>0.10</td>\n    </tr>\n    <tr>\n      <th>102</th>\n      <td>SE</td>\n      <td>5-6</td>\n      <td>0.05</td>\n    </tr>\n    <tr>\n      <th>103</th>\n      <td>SSE</td>\n      <td>5-6</td>\n      <td>0.05</td>\n    </tr>\n    <tr>\n      <th>104</th>\n      <td>S</td>\n      <td>5-6</td>\n      <td>0.10</td>\n    </tr>\n    <tr>\n      <th>105</th>\n      <td>SSW</td>\n      <td>5-6</td>\n      <td>0.05</td>\n    </tr>\n    <tr>\n      <th>106</th>\n      <td>SW</td>\n      <td>5-6</td>\n      <td>0.20</td>\n    </tr>\n    <tr>\n      <th>107</th>\n      <td>WSW</td>\n      <td>5-6</td>\n      <td>0.20</td>\n    </tr>\n    <tr>\n      <th>108</th>\n      <td>W</td>\n      <td>5-6</td>\n      <td>0.40</td>\n    </tr>\n    <tr>\n      <th>109</th>\n      <td>WNW</td>\n      <td>5-6</td>\n      <td>0.70</td>\n    </tr>\n    <tr>\n      <th>110</th>\n      <td>NW</td>\n      <td>5-6</td>\n      <td>0.70</td>\n    </tr>\n    <tr>\n      <th>111</th>\n      <td>NNW</td>\n      <td>5-6</td>\n      <td>0.40</td>\n    </tr>\n    <tr>\n      <th>112</th>\n      <td>N</td>\n      <td>6+</td>\n      <td>0.10</td>\n    </tr>\n    <tr>\n      <th>113</th>\n      <td>NNE</td>\n      <td>6+</td>\n      <td>0.10</td>\n    </tr>\n    <tr>\n      <th>114</th>\n      <td>NE</td>\n      <td>6+</td>\n      <td>0.10</td>\n    </tr>\n    <tr>\n      <th>115</th>\n      <td>ENE</td>\n      <td>6+</td>\n      <td>0.10</td>\n    </tr>\n    <tr>\n      <th>116</th>\n      <td>E</td>\n      <td>6+</td>\n      <td>0.10</td>\n    </tr>\n    <tr>\n      <th>117</th>\n      <td>ESE</td>\n      <td>6+</td>\n      <td>0.05</td>\n    </tr>\n    <tr>\n      <th>118</th>\n      <td>SE</td>\n      <td>6+</td>\n      <td>0.05</td>\n    </tr>\n    <tr>\n      <th>119</th>\n      <td>SSE</td>\n      <td>6+</td>\n      <td>0.05</td>\n    </tr>\n    <tr>\n      <th>120</th>\n      <td>S</td>\n      <td>6+</td>\n      <td>0.05</td>\n    </tr>\n    <tr>\n      <th>121</th>\n      <td>SSW</td>\n      <td>6+</td>\n      <td>0.10</td>\n    </tr>\n    <tr>\n      <th>122</th>\n      <td>SW</td>\n      <td>6+</td>\n      <td>0.10</td>\n    </tr>\n    <tr>\n      <th>123</th>\n      <td>WSW</td>\n      <td>6+</td>\n      <td>0.10</td>\n    </tr>\n    <tr>\n      <th>124</th>\n      <td>W</td>\n      <td>6+</td>\n      <td>0.90</td>\n    </tr>\n    <tr>\n      <th>125</th>\n      <td>WNW</td>\n      <td>6+</td>\n      <td>2.20</td>\n    </tr>\n    <tr>\n      <th>126</th>\n      <td>NW</td>\n      <td>6+</td>\n      <td>1.50</td>\n    </tr>\n    <tr>\n      <th>127</th>\n      <td>NNW</td>\n      <td>6+</td>\n      <td>0.20</td>\n    </tr>\n  </tbody>\n</table>\n</div>"
     },
     "execution_count": 14,
     "metadata": {},
     "output_type": "execute_result"
    }
   ],
   "source": [
    "pd.options.display.max_rows = 128\n",
    "px.data.wind()"
   ],
   "metadata": {
    "collapsed": false,
    "pycharm": {
     "name": "#%%\n"
    }
   }
  },
  {
   "cell_type": "code",
   "execution_count": 23,
   "outputs": [
    {
     "data": {
      "text/plain": "             Date Location  MinTemp    MaxTemp  Rainfall  Evaporation  \\\n0      2008-12-01   Albury     13.4  22.900000       0.6          1.4   \n1      2008-12-02   Albury      7.4  25.100000       0.0          0.8   \n2      2008-12-03   Albury     12.9  25.700000       0.0          6.2   \n3      2008-12-04   Albury      9.2  28.000000       0.0          3.8   \n4      2008-12-05   Albury     17.5  32.300000       1.0          3.6   \n...           ...      ...      ...        ...       ...          ...   \n145455 2017-06-21    Uluru      2.8  23.400000       0.0          5.0   \n145456 2017-06-22    Uluru      3.6  25.300000       0.0          5.4   \n145457 2017-06-23    Uluru      5.4  26.900000       0.0          3.2   \n145458 2017-06-24    Uluru      7.8  27.000000       0.0          1.6   \n145459 2017-06-25    Uluru     14.9  30.383195       0.0          8.0   \n\n        Sunshine WindGustDir  WindGustSpeed WindDir9am  ... Humidity3pm  \\\n0            9.5           W           44.0          W  ...        22.0   \n1            0.3         WNW           44.0        NNW  ...        25.0   \n2            4.7         WSW           46.0          W  ...        30.0   \n3            3.0          NE           24.0         SE  ...        16.0   \n4           11.6           W           41.0        ENE  ...        33.0   \n...          ...         ...            ...        ...  ...         ...   \n145455      10.8           E           31.0         SE  ...        24.0   \n145456       5.6         NNW           22.0         SE  ...        21.0   \n145457       0.0           N           37.0         SE  ...        24.0   \n145458       6.6          SE           28.0        SSE  ...        24.0   \n145459      10.9           E           54.0        ESE  ...        36.0   \n\n        Pressure9am  Pressure3pm  Cloud9am  Cloud3pm  Temp9am  Temp3pm  \\\n0            1007.7       1007.1       8.0       4.0     16.9     21.8   \n1            1010.6       1007.8       7.0       0.0     17.2     24.3   \n2            1007.6       1008.7       0.0       2.0     21.0     23.2   \n3            1017.6       1012.8       4.0       3.0     18.1     26.5   \n4            1010.8       1006.0       7.0       8.0     17.8     29.7   \n...             ...          ...       ...       ...      ...      ...   \n145455       1024.6       1020.3       8.0       7.0     10.1     22.4   \n145456       1023.5       1019.1       4.0       7.0     10.9     24.5   \n145457       1021.0       1016.8       4.0       0.0     12.5     26.1   \n145458       1019.4       1016.5       3.0       2.0     15.1     26.0   \n145459       1020.2       1017.9       8.0       8.0     15.0     20.9   \n\n        RainToday  RainTomorrow  sort_dir  \n0              No            No        12  \n1              No            No        13  \n2              No            No        11  \n3              No            No         2  \n4              No            No        12  \n...           ...           ...       ...  \n145455         No            No         4  \n145456         No            No        15  \n145457         No            No         0  \n145458         No            No         6  \n145459         No           Yes         4  \n\n[145460 rows x 24 columns]",
      "text/html": "<div>\n<style scoped>\n    .dataframe tbody tr th:only-of-type {\n        vertical-align: middle;\n    }\n\n    .dataframe tbody tr th {\n        vertical-align: top;\n    }\n\n    .dataframe thead th {\n        text-align: right;\n    }\n</style>\n<table border=\"1\" class=\"dataframe\">\n  <thead>\n    <tr style=\"text-align: right;\">\n      <th></th>\n      <th>Date</th>\n      <th>Location</th>\n      <th>MinTemp</th>\n      <th>MaxTemp</th>\n      <th>Rainfall</th>\n      <th>Evaporation</th>\n      <th>Sunshine</th>\n      <th>WindGustDir</th>\n      <th>WindGustSpeed</th>\n      <th>WindDir9am</th>\n      <th>...</th>\n      <th>Humidity3pm</th>\n      <th>Pressure9am</th>\n      <th>Pressure3pm</th>\n      <th>Cloud9am</th>\n      <th>Cloud3pm</th>\n      <th>Temp9am</th>\n      <th>Temp3pm</th>\n      <th>RainToday</th>\n      <th>RainTomorrow</th>\n      <th>sort_dir</th>\n    </tr>\n  </thead>\n  <tbody>\n    <tr>\n      <th>0</th>\n      <td>2008-12-01</td>\n      <td>Albury</td>\n      <td>13.4</td>\n      <td>22.900000</td>\n      <td>0.6</td>\n      <td>1.4</td>\n      <td>9.5</td>\n      <td>W</td>\n      <td>44.0</td>\n      <td>W</td>\n      <td>...</td>\n      <td>22.0</td>\n      <td>1007.7</td>\n      <td>1007.1</td>\n      <td>8.0</td>\n      <td>4.0</td>\n      <td>16.9</td>\n      <td>21.8</td>\n      <td>No</td>\n      <td>No</td>\n      <td>12</td>\n    </tr>\n    <tr>\n      <th>1</th>\n      <td>2008-12-02</td>\n      <td>Albury</td>\n      <td>7.4</td>\n      <td>25.100000</td>\n      <td>0.0</td>\n      <td>0.8</td>\n      <td>0.3</td>\n      <td>WNW</td>\n      <td>44.0</td>\n      <td>NNW</td>\n      <td>...</td>\n      <td>25.0</td>\n      <td>1010.6</td>\n      <td>1007.8</td>\n      <td>7.0</td>\n      <td>0.0</td>\n      <td>17.2</td>\n      <td>24.3</td>\n      <td>No</td>\n      <td>No</td>\n      <td>13</td>\n    </tr>\n    <tr>\n      <th>2</th>\n      <td>2008-12-03</td>\n      <td>Albury</td>\n      <td>12.9</td>\n      <td>25.700000</td>\n      <td>0.0</td>\n      <td>6.2</td>\n      <td>4.7</td>\n      <td>WSW</td>\n      <td>46.0</td>\n      <td>W</td>\n      <td>...</td>\n      <td>30.0</td>\n      <td>1007.6</td>\n      <td>1008.7</td>\n      <td>0.0</td>\n      <td>2.0</td>\n      <td>21.0</td>\n      <td>23.2</td>\n      <td>No</td>\n      <td>No</td>\n      <td>11</td>\n    </tr>\n    <tr>\n      <th>3</th>\n      <td>2008-12-04</td>\n      <td>Albury</td>\n      <td>9.2</td>\n      <td>28.000000</td>\n      <td>0.0</td>\n      <td>3.8</td>\n      <td>3.0</td>\n      <td>NE</td>\n      <td>24.0</td>\n      <td>SE</td>\n      <td>...</td>\n      <td>16.0</td>\n      <td>1017.6</td>\n      <td>1012.8</td>\n      <td>4.0</td>\n      <td>3.0</td>\n      <td>18.1</td>\n      <td>26.5</td>\n      <td>No</td>\n      <td>No</td>\n      <td>2</td>\n    </tr>\n    <tr>\n      <th>4</th>\n      <td>2008-12-05</td>\n      <td>Albury</td>\n      <td>17.5</td>\n      <td>32.300000</td>\n      <td>1.0</td>\n      <td>3.6</td>\n      <td>11.6</td>\n      <td>W</td>\n      <td>41.0</td>\n      <td>ENE</td>\n      <td>...</td>\n      <td>33.0</td>\n      <td>1010.8</td>\n      <td>1006.0</td>\n      <td>7.0</td>\n      <td>8.0</td>\n      <td>17.8</td>\n      <td>29.7</td>\n      <td>No</td>\n      <td>No</td>\n      <td>12</td>\n    </tr>\n    <tr>\n      <th>...</th>\n      <td>...</td>\n      <td>...</td>\n      <td>...</td>\n      <td>...</td>\n      <td>...</td>\n      <td>...</td>\n      <td>...</td>\n      <td>...</td>\n      <td>...</td>\n      <td>...</td>\n      <td>...</td>\n      <td>...</td>\n      <td>...</td>\n      <td>...</td>\n      <td>...</td>\n      <td>...</td>\n      <td>...</td>\n      <td>...</td>\n      <td>...</td>\n      <td>...</td>\n      <td>...</td>\n    </tr>\n    <tr>\n      <th>145455</th>\n      <td>2017-06-21</td>\n      <td>Uluru</td>\n      <td>2.8</td>\n      <td>23.400000</td>\n      <td>0.0</td>\n      <td>5.0</td>\n      <td>10.8</td>\n      <td>E</td>\n      <td>31.0</td>\n      <td>SE</td>\n      <td>...</td>\n      <td>24.0</td>\n      <td>1024.6</td>\n      <td>1020.3</td>\n      <td>8.0</td>\n      <td>7.0</td>\n      <td>10.1</td>\n      <td>22.4</td>\n      <td>No</td>\n      <td>No</td>\n      <td>4</td>\n    </tr>\n    <tr>\n      <th>145456</th>\n      <td>2017-06-22</td>\n      <td>Uluru</td>\n      <td>3.6</td>\n      <td>25.300000</td>\n      <td>0.0</td>\n      <td>5.4</td>\n      <td>5.6</td>\n      <td>NNW</td>\n      <td>22.0</td>\n      <td>SE</td>\n      <td>...</td>\n      <td>21.0</td>\n      <td>1023.5</td>\n      <td>1019.1</td>\n      <td>4.0</td>\n      <td>7.0</td>\n      <td>10.9</td>\n      <td>24.5</td>\n      <td>No</td>\n      <td>No</td>\n      <td>15</td>\n    </tr>\n    <tr>\n      <th>145457</th>\n      <td>2017-06-23</td>\n      <td>Uluru</td>\n      <td>5.4</td>\n      <td>26.900000</td>\n      <td>0.0</td>\n      <td>3.2</td>\n      <td>0.0</td>\n      <td>N</td>\n      <td>37.0</td>\n      <td>SE</td>\n      <td>...</td>\n      <td>24.0</td>\n      <td>1021.0</td>\n      <td>1016.8</td>\n      <td>4.0</td>\n      <td>0.0</td>\n      <td>12.5</td>\n      <td>26.1</td>\n      <td>No</td>\n      <td>No</td>\n      <td>0</td>\n    </tr>\n    <tr>\n      <th>145458</th>\n      <td>2017-06-24</td>\n      <td>Uluru</td>\n      <td>7.8</td>\n      <td>27.000000</td>\n      <td>0.0</td>\n      <td>1.6</td>\n      <td>6.6</td>\n      <td>SE</td>\n      <td>28.0</td>\n      <td>SSE</td>\n      <td>...</td>\n      <td>24.0</td>\n      <td>1019.4</td>\n      <td>1016.5</td>\n      <td>3.0</td>\n      <td>2.0</td>\n      <td>15.1</td>\n      <td>26.0</td>\n      <td>No</td>\n      <td>No</td>\n      <td>6</td>\n    </tr>\n    <tr>\n      <th>145459</th>\n      <td>2017-06-25</td>\n      <td>Uluru</td>\n      <td>14.9</td>\n      <td>30.383195</td>\n      <td>0.0</td>\n      <td>8.0</td>\n      <td>10.9</td>\n      <td>E</td>\n      <td>54.0</td>\n      <td>ESE</td>\n      <td>...</td>\n      <td>36.0</td>\n      <td>1020.2</td>\n      <td>1017.9</td>\n      <td>8.0</td>\n      <td>8.0</td>\n      <td>15.0</td>\n      <td>20.9</td>\n      <td>No</td>\n      <td>Yes</td>\n      <td>4</td>\n    </tr>\n  </tbody>\n</table>\n<p>145460 rows × 24 columns</p>\n</div>"
     },
     "execution_count": 23,
     "metadata": {},
     "output_type": "execute_result"
    }
   ],
   "source": [
    "weather_data.drop('Year',axis=1,inplace=True)\n",
    "weather_data"
   ],
   "metadata": {
    "collapsed": false,
    "pycharm": {
     "name": "#%%\n"
    }
   }
  },
  {
   "cell_type": "code",
   "execution_count": 25,
   "outputs": [],
   "source": [
    "pd.to_pickle(weather_data,'data/aus_weather_cln_without_encoding.pkl')"
   ],
   "metadata": {
    "collapsed": false,
    "pycharm": {
     "name": "#%%\n"
    }
   }
  },
  {
   "cell_type": "code",
   "execution_count": null,
   "outputs": [],
   "source": [],
   "metadata": {
    "collapsed": false,
    "pycharm": {
     "name": "#%%\n"
    }
   }
  }
 ],
 "metadata": {
  "kernelspec": {
   "display_name": "Python 3",
   "language": "python",
   "name": "python3"
  },
  "language_info": {
   "codemirror_mode": {
    "name": "ipython",
    "version": 2
   },
   "file_extension": ".py",
   "mimetype": "text/x-python",
   "name": "python",
   "nbconvert_exporter": "python",
   "pygments_lexer": "ipython2",
   "version": "2.7.6"
  }
 },
 "nbformat": 4,
 "nbformat_minor": 0
}