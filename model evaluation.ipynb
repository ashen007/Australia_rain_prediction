{
 "cells": [
  {
   "cell_type": "code",
   "execution_count": 45,
   "outputs": [],
   "source": [
    "import numpy as np\n",
    "import pandas as pd\n",
    "import numpy as n\n",
    "from feature_engine.encoding import OrdinalEncoder\n",
    "from sklearn.neighbors import KNeighborsClassifier as KNN\n",
    "from sklearn.tree import DecisionTreeClassifier\n",
    "from sklearn.linear_model import LogisticRegression\n",
    "from sklearn.feature_selection import SelectKBest, f_regression\n",
    "from sklearn.model_selection import train_test_split, RepeatedStratifiedKFold, cross_val_score\n",
    "from sklearn.metrics import roc_curve, auc"
   ],
   "metadata": {
    "collapsed": false,
    "pycharm": {
     "name": "#%%\n"
    }
   }
  },
  {
   "cell_type": "code",
   "execution_count": 46,
   "outputs": [
    {
     "data": {
      "text/plain": "              Date Location  MinTemp    MaxTemp  Rainfall  Evaporation  \\\n0       2008-12-01   Albury     13.4  22.900000       0.6          1.4   \n1       2008-12-02   Albury      7.4  25.100000       0.0          0.8   \n2       2008-12-03   Albury     12.9  25.700000       0.0          6.2   \n3       2008-12-04   Albury      9.2  28.000000       0.0          3.8   \n4       2008-12-05   Albury     17.5  32.300000       1.0          3.6   \n...            ...      ...      ...        ...       ...          ...   \n145455  2017-06-21    Uluru      2.8  23.400000       0.0          5.0   \n145456  2017-06-22    Uluru      3.6  25.300000       0.0          5.4   \n145457  2017-06-23    Uluru      5.4  26.900000       0.0          3.2   \n145458  2017-06-24    Uluru      7.8  27.000000       0.0          1.6   \n145459  2017-06-25    Uluru     14.9  30.383195       0.0          8.0   \n\n        Sunshine  WindGustDir  WindGustSpeed  WindDir9am  ...  Humidity9am  \\\n0            9.5     0.073518           44.0    0.062725  ...         71.0   \n1            0.3     0.060821           44.0    0.059164  ...         44.0   \n2            4.7     0.067063           46.0    0.062725  ...         38.0   \n3            3.0     0.052729           24.0    0.068892  ...         45.0   \n4           11.6     0.073518           41.0    0.058243  ...         82.0   \n...          ...          ...            ...         ...  ...          ...   \n145455      10.8     0.068074           31.0    0.068892  ...         51.0   \n145456       5.6     0.048900           22.0    0.068892  ...         56.0   \n145457       0.0     0.068747           37.0    0.068892  ...         53.0   \n145458       6.6     0.069847           28.0    0.067737  ...         51.0   \n145459      10.9     0.068074           54.0    0.056359  ...         62.0   \n\n        Humidity3pm  Pressure9am  Pressure3pm  Cloud9am  Cloud3pm  Temp9am  \\\n0              22.0       1007.7       1007.1       8.0       4.0     16.9   \n1              25.0       1010.6       1007.8       7.0       0.0     17.2   \n2              30.0       1007.6       1008.7       0.0       2.0     21.0   \n3              16.0       1017.6       1012.8       4.0       3.0     18.1   \n4              33.0       1010.8       1006.0       7.0       8.0     17.8   \n...             ...          ...          ...       ...       ...      ...   \n145455         24.0       1024.6       1020.3       8.0       7.0     10.1   \n145456         21.0       1023.5       1019.1       4.0       7.0     10.9   \n145457         24.0       1021.0       1016.8       4.0       0.0     12.5   \n145458         24.0       1019.4       1016.5       3.0       2.0     15.1   \n145459         36.0       1020.2       1017.9       8.0       8.0     15.0   \n\n        Temp3pm  RainToday  RainTomorrow  \n0          21.8         No            No  \n1          24.3         No            No  \n2          23.2         No            No  \n3          26.5         No            No  \n4          29.7         No            No  \n...         ...        ...           ...  \n145455     22.4         No            No  \n145456     24.5         No            No  \n145457     26.1         No            No  \n145458     26.0         No            No  \n145459     20.9         No           Yes  \n\n[145460 rows x 23 columns]",
      "text/html": "<div>\n<style scoped>\n    .dataframe tbody tr th:only-of-type {\n        vertical-align: middle;\n    }\n\n    .dataframe tbody tr th {\n        vertical-align: top;\n    }\n\n    .dataframe thead th {\n        text-align: right;\n    }\n</style>\n<table border=\"1\" class=\"dataframe\">\n  <thead>\n    <tr style=\"text-align: right;\">\n      <th></th>\n      <th>Date</th>\n      <th>Location</th>\n      <th>MinTemp</th>\n      <th>MaxTemp</th>\n      <th>Rainfall</th>\n      <th>Evaporation</th>\n      <th>Sunshine</th>\n      <th>WindGustDir</th>\n      <th>WindGustSpeed</th>\n      <th>WindDir9am</th>\n      <th>...</th>\n      <th>Humidity9am</th>\n      <th>Humidity3pm</th>\n      <th>Pressure9am</th>\n      <th>Pressure3pm</th>\n      <th>Cloud9am</th>\n      <th>Cloud3pm</th>\n      <th>Temp9am</th>\n      <th>Temp3pm</th>\n      <th>RainToday</th>\n      <th>RainTomorrow</th>\n    </tr>\n  </thead>\n  <tbody>\n    <tr>\n      <th>0</th>\n      <td>2008-12-01</td>\n      <td>Albury</td>\n      <td>13.4</td>\n      <td>22.900000</td>\n      <td>0.6</td>\n      <td>1.4</td>\n      <td>9.5</td>\n      <td>0.073518</td>\n      <td>44.0</td>\n      <td>0.062725</td>\n      <td>...</td>\n      <td>71.0</td>\n      <td>22.0</td>\n      <td>1007.7</td>\n      <td>1007.1</td>\n      <td>8.0</td>\n      <td>4.0</td>\n      <td>16.9</td>\n      <td>21.8</td>\n      <td>No</td>\n      <td>No</td>\n    </tr>\n    <tr>\n      <th>1</th>\n      <td>2008-12-02</td>\n      <td>Albury</td>\n      <td>7.4</td>\n      <td>25.100000</td>\n      <td>0.0</td>\n      <td>0.8</td>\n      <td>0.3</td>\n      <td>0.060821</td>\n      <td>44.0</td>\n      <td>0.059164</td>\n      <td>...</td>\n      <td>44.0</td>\n      <td>25.0</td>\n      <td>1010.6</td>\n      <td>1007.8</td>\n      <td>7.0</td>\n      <td>0.0</td>\n      <td>17.2</td>\n      <td>24.3</td>\n      <td>No</td>\n      <td>No</td>\n    </tr>\n    <tr>\n      <th>2</th>\n      <td>2008-12-03</td>\n      <td>Albury</td>\n      <td>12.9</td>\n      <td>25.700000</td>\n      <td>0.0</td>\n      <td>6.2</td>\n      <td>4.7</td>\n      <td>0.067063</td>\n      <td>46.0</td>\n      <td>0.062725</td>\n      <td>...</td>\n      <td>38.0</td>\n      <td>30.0</td>\n      <td>1007.6</td>\n      <td>1008.7</td>\n      <td>0.0</td>\n      <td>2.0</td>\n      <td>21.0</td>\n      <td>23.2</td>\n      <td>No</td>\n      <td>No</td>\n    </tr>\n    <tr>\n      <th>3</th>\n      <td>2008-12-04</td>\n      <td>Albury</td>\n      <td>9.2</td>\n      <td>28.000000</td>\n      <td>0.0</td>\n      <td>3.8</td>\n      <td>3.0</td>\n      <td>0.052729</td>\n      <td>24.0</td>\n      <td>0.068892</td>\n      <td>...</td>\n      <td>45.0</td>\n      <td>16.0</td>\n      <td>1017.6</td>\n      <td>1012.8</td>\n      <td>4.0</td>\n      <td>3.0</td>\n      <td>18.1</td>\n      <td>26.5</td>\n      <td>No</td>\n      <td>No</td>\n    </tr>\n    <tr>\n      <th>4</th>\n      <td>2008-12-05</td>\n      <td>Albury</td>\n      <td>17.5</td>\n      <td>32.300000</td>\n      <td>1.0</td>\n      <td>3.6</td>\n      <td>11.6</td>\n      <td>0.073518</td>\n      <td>41.0</td>\n      <td>0.058243</td>\n      <td>...</td>\n      <td>82.0</td>\n      <td>33.0</td>\n      <td>1010.8</td>\n      <td>1006.0</td>\n      <td>7.0</td>\n      <td>8.0</td>\n      <td>17.8</td>\n      <td>29.7</td>\n      <td>No</td>\n      <td>No</td>\n    </tr>\n    <tr>\n      <th>...</th>\n      <td>...</td>\n      <td>...</td>\n      <td>...</td>\n      <td>...</td>\n      <td>...</td>\n      <td>...</td>\n      <td>...</td>\n      <td>...</td>\n      <td>...</td>\n      <td>...</td>\n      <td>...</td>\n      <td>...</td>\n      <td>...</td>\n      <td>...</td>\n      <td>...</td>\n      <td>...</td>\n      <td>...</td>\n      <td>...</td>\n      <td>...</td>\n      <td>...</td>\n      <td>...</td>\n    </tr>\n    <tr>\n      <th>145455</th>\n      <td>2017-06-21</td>\n      <td>Uluru</td>\n      <td>2.8</td>\n      <td>23.400000</td>\n      <td>0.0</td>\n      <td>5.0</td>\n      <td>10.8</td>\n      <td>0.068074</td>\n      <td>31.0</td>\n      <td>0.068892</td>\n      <td>...</td>\n      <td>51.0</td>\n      <td>24.0</td>\n      <td>1024.6</td>\n      <td>1020.3</td>\n      <td>8.0</td>\n      <td>7.0</td>\n      <td>10.1</td>\n      <td>22.4</td>\n      <td>No</td>\n      <td>No</td>\n    </tr>\n    <tr>\n      <th>145456</th>\n      <td>2017-06-22</td>\n      <td>Uluru</td>\n      <td>3.6</td>\n      <td>25.300000</td>\n      <td>0.0</td>\n      <td>5.4</td>\n      <td>5.6</td>\n      <td>0.048900</td>\n      <td>22.0</td>\n      <td>0.068892</td>\n      <td>...</td>\n      <td>56.0</td>\n      <td>21.0</td>\n      <td>1023.5</td>\n      <td>1019.1</td>\n      <td>4.0</td>\n      <td>7.0</td>\n      <td>10.9</td>\n      <td>24.5</td>\n      <td>No</td>\n      <td>No</td>\n    </tr>\n    <tr>\n      <th>145457</th>\n      <td>2017-06-23</td>\n      <td>Uluru</td>\n      <td>5.4</td>\n      <td>26.900000</td>\n      <td>0.0</td>\n      <td>3.2</td>\n      <td>0.0</td>\n      <td>0.068747</td>\n      <td>37.0</td>\n      <td>0.068892</td>\n      <td>...</td>\n      <td>53.0</td>\n      <td>24.0</td>\n      <td>1021.0</td>\n      <td>1016.8</td>\n      <td>4.0</td>\n      <td>0.0</td>\n      <td>12.5</td>\n      <td>26.1</td>\n      <td>No</td>\n      <td>No</td>\n    </tr>\n    <tr>\n      <th>145458</th>\n      <td>2017-06-24</td>\n      <td>Uluru</td>\n      <td>7.8</td>\n      <td>27.000000</td>\n      <td>0.0</td>\n      <td>1.6</td>\n      <td>6.6</td>\n      <td>0.069847</td>\n      <td>28.0</td>\n      <td>0.067737</td>\n      <td>...</td>\n      <td>51.0</td>\n      <td>24.0</td>\n      <td>1019.4</td>\n      <td>1016.5</td>\n      <td>3.0</td>\n      <td>2.0</td>\n      <td>15.1</td>\n      <td>26.0</td>\n      <td>No</td>\n      <td>No</td>\n    </tr>\n    <tr>\n      <th>145459</th>\n      <td>2017-06-25</td>\n      <td>Uluru</td>\n      <td>14.9</td>\n      <td>30.383195</td>\n      <td>0.0</td>\n      <td>8.0</td>\n      <td>10.9</td>\n      <td>0.068074</td>\n      <td>54.0</td>\n      <td>0.056359</td>\n      <td>...</td>\n      <td>62.0</td>\n      <td>36.0</td>\n      <td>1020.2</td>\n      <td>1017.9</td>\n      <td>8.0</td>\n      <td>8.0</td>\n      <td>15.0</td>\n      <td>20.9</td>\n      <td>No</td>\n      <td>Yes</td>\n    </tr>\n  </tbody>\n</table>\n<p>145460 rows × 23 columns</p>\n</div>"
     },
     "execution_count": 46,
     "metadata": {},
     "output_type": "execute_result"
    }
   ],
   "source": [
    "data = pd.read_pickle('data/aus_weather_cln.pkl')\n",
    "data"
   ],
   "metadata": {
    "collapsed": false,
    "pycharm": {
     "name": "#%%\n"
    }
   }
  },
  {
   "cell_type": "code",
   "execution_count": 47,
   "outputs": [],
   "source": [
    "data['Date'] = pd.to_datetime(data['Date'])"
   ],
   "metadata": {
    "collapsed": false,
    "pycharm": {
     "name": "#%%\n"
    }
   }
  },
  {
   "cell_type": "code",
   "execution_count": 48,
   "outputs": [
    {
     "data": {
      "text/plain": "        RainToday  RainTomorrow\n0               0             0\n1               0             0\n2               0             0\n3               0             0\n4               0             0\n...           ...           ...\n145455          0             0\n145456          0             0\n145457          0             0\n145458          0             0\n145459          0             1\n\n[145460 rows x 2 columns]",
      "text/html": "<div>\n<style scoped>\n    .dataframe tbody tr th:only-of-type {\n        vertical-align: middle;\n    }\n\n    .dataframe tbody tr th {\n        vertical-align: top;\n    }\n\n    .dataframe thead th {\n        text-align: right;\n    }\n</style>\n<table border=\"1\" class=\"dataframe\">\n  <thead>\n    <tr style=\"text-align: right;\">\n      <th></th>\n      <th>RainToday</th>\n      <th>RainTomorrow</th>\n    </tr>\n  </thead>\n  <tbody>\n    <tr>\n      <th>0</th>\n      <td>0</td>\n      <td>0</td>\n    </tr>\n    <tr>\n      <th>1</th>\n      <td>0</td>\n      <td>0</td>\n    </tr>\n    <tr>\n      <th>2</th>\n      <td>0</td>\n      <td>0</td>\n    </tr>\n    <tr>\n      <th>3</th>\n      <td>0</td>\n      <td>0</td>\n    </tr>\n    <tr>\n      <th>4</th>\n      <td>0</td>\n      <td>0</td>\n    </tr>\n    <tr>\n      <th>...</th>\n      <td>...</td>\n      <td>...</td>\n    </tr>\n    <tr>\n      <th>145455</th>\n      <td>0</td>\n      <td>0</td>\n    </tr>\n    <tr>\n      <th>145456</th>\n      <td>0</td>\n      <td>0</td>\n    </tr>\n    <tr>\n      <th>145457</th>\n      <td>0</td>\n      <td>0</td>\n    </tr>\n    <tr>\n      <th>145458</th>\n      <td>0</td>\n      <td>0</td>\n    </tr>\n    <tr>\n      <th>145459</th>\n      <td>0</td>\n      <td>1</td>\n    </tr>\n  </tbody>\n</table>\n<p>145460 rows × 2 columns</p>\n</div>"
     },
     "execution_count": 48,
     "metadata": {},
     "output_type": "execute_result"
    }
   ],
   "source": [
    "data['RainToday'] = data['RainToday'].apply(lambda x: 1 if x == 'Yes' else 0)\n",
    "data['RainTomorrow'] = data['RainTomorrow'].apply(lambda x: 1 if x == 'Yes' else 0)\n",
    "data[['RainToday', 'RainTomorrow']]"
   ],
   "metadata": {
    "collapsed": false,
    "pycharm": {
     "name": "#%%\n"
    }
   }
  },
  {
   "cell_type": "code",
   "execution_count": 49,
   "outputs": [
    {
     "data": {
      "text/plain": "       Location  MinTemp    MaxTemp  Rainfall  Evaporation  Sunshine  \\\n0        Albury     13.4  22.900000       0.6          1.4       9.5   \n1        Albury      7.4  25.100000       0.0          0.8       0.3   \n2        Albury     12.9  25.700000       0.0          6.2       4.7   \n3        Albury      9.2  28.000000       0.0          3.8       3.0   \n4        Albury     17.5  32.300000       1.0          3.6      11.6   \n...         ...      ...        ...       ...          ...       ...   \n145455    Uluru      2.8  23.400000       0.0          5.0      10.8   \n145456    Uluru      3.6  25.300000       0.0          5.4       5.6   \n145457    Uluru      5.4  26.900000       0.0          3.2       0.0   \n145458    Uluru      7.8  27.000000       0.0          1.6       6.6   \n145459    Uluru     14.9  30.383195       0.0          8.0      10.9   \n\n        WindGustDir  WindGustSpeed  WindDir9am  WindDir3pm  ...  Pressure3pm  \\\n0          0.073518           44.0    0.062725    0.062739  ...       1007.1   \n1          0.060821           44.0    0.059164    0.067469  ...       1007.8   \n2          0.067063           46.0    0.062725    0.067469  ...       1008.7   \n3          0.052729           24.0    0.068892    0.059989  ...       1012.8   \n4          0.073518           41.0    0.058243    0.060876  ...       1006.0   \n...             ...            ...         ...         ...  ...          ...   \n145455     0.068074           31.0    0.068892    0.055685  ...       1020.3   \n145456     0.048900           22.0    0.068892    0.062849  ...       1019.1   \n145457     0.068747           37.0    0.068892    0.062739  ...       1016.8   \n145458     0.069847           28.0    0.067737    0.062849  ...       1016.5   \n145459     0.068074           54.0    0.056359    0.060126  ...       1017.9   \n\n        Cloud9am  Cloud3pm  Temp9am  Temp3pm  RainToday  RainTomorrow  Year  \\\n0            8.0       4.0     16.9     21.8          0             0  2008   \n1            7.0       0.0     17.2     24.3          0             0  2008   \n2            0.0       2.0     21.0     23.2          0             0  2008   \n3            4.0       3.0     18.1     26.5          0             0  2008   \n4            7.0       8.0     17.8     29.7          0             0  2008   \n...          ...       ...      ...      ...        ...           ...   ...   \n145455       8.0       7.0     10.1     22.4          0             0  2017   \n145456       4.0       7.0     10.9     24.5          0             0  2017   \n145457       4.0       0.0     12.5     26.1          0             0  2017   \n145458       3.0       2.0     15.1     26.0          0             0  2017   \n145459       8.0       8.0     15.0     20.9          0             1  2017   \n\n        Month  Quarter  \n0          12        4  \n1          12        4  \n2          12        4  \n3          12        4  \n4          12        4  \n...       ...      ...  \n145455      6        2  \n145456      6        2  \n145457      6        2  \n145458      6        2  \n145459      6        2  \n\n[145460 rows x 25 columns]",
      "text/html": "<div>\n<style scoped>\n    .dataframe tbody tr th:only-of-type {\n        vertical-align: middle;\n    }\n\n    .dataframe tbody tr th {\n        vertical-align: top;\n    }\n\n    .dataframe thead th {\n        text-align: right;\n    }\n</style>\n<table border=\"1\" class=\"dataframe\">\n  <thead>\n    <tr style=\"text-align: right;\">\n      <th></th>\n      <th>Location</th>\n      <th>MinTemp</th>\n      <th>MaxTemp</th>\n      <th>Rainfall</th>\n      <th>Evaporation</th>\n      <th>Sunshine</th>\n      <th>WindGustDir</th>\n      <th>WindGustSpeed</th>\n      <th>WindDir9am</th>\n      <th>WindDir3pm</th>\n      <th>...</th>\n      <th>Pressure3pm</th>\n      <th>Cloud9am</th>\n      <th>Cloud3pm</th>\n      <th>Temp9am</th>\n      <th>Temp3pm</th>\n      <th>RainToday</th>\n      <th>RainTomorrow</th>\n      <th>Year</th>\n      <th>Month</th>\n      <th>Quarter</th>\n    </tr>\n  </thead>\n  <tbody>\n    <tr>\n      <th>0</th>\n      <td>Albury</td>\n      <td>13.4</td>\n      <td>22.900000</td>\n      <td>0.6</td>\n      <td>1.4</td>\n      <td>9.5</td>\n      <td>0.073518</td>\n      <td>44.0</td>\n      <td>0.062725</td>\n      <td>0.062739</td>\n      <td>...</td>\n      <td>1007.1</td>\n      <td>8.0</td>\n      <td>4.0</td>\n      <td>16.9</td>\n      <td>21.8</td>\n      <td>0</td>\n      <td>0</td>\n      <td>2008</td>\n      <td>12</td>\n      <td>4</td>\n    </tr>\n    <tr>\n      <th>1</th>\n      <td>Albury</td>\n      <td>7.4</td>\n      <td>25.100000</td>\n      <td>0.0</td>\n      <td>0.8</td>\n      <td>0.3</td>\n      <td>0.060821</td>\n      <td>44.0</td>\n      <td>0.059164</td>\n      <td>0.067469</td>\n      <td>...</td>\n      <td>1007.8</td>\n      <td>7.0</td>\n      <td>0.0</td>\n      <td>17.2</td>\n      <td>24.3</td>\n      <td>0</td>\n      <td>0</td>\n      <td>2008</td>\n      <td>12</td>\n      <td>4</td>\n    </tr>\n    <tr>\n      <th>2</th>\n      <td>Albury</td>\n      <td>12.9</td>\n      <td>25.700000</td>\n      <td>0.0</td>\n      <td>6.2</td>\n      <td>4.7</td>\n      <td>0.067063</td>\n      <td>46.0</td>\n      <td>0.062725</td>\n      <td>0.067469</td>\n      <td>...</td>\n      <td>1008.7</td>\n      <td>0.0</td>\n      <td>2.0</td>\n      <td>21.0</td>\n      <td>23.2</td>\n      <td>0</td>\n      <td>0</td>\n      <td>2008</td>\n      <td>12</td>\n      <td>4</td>\n    </tr>\n    <tr>\n      <th>3</th>\n      <td>Albury</td>\n      <td>9.2</td>\n      <td>28.000000</td>\n      <td>0.0</td>\n      <td>3.8</td>\n      <td>3.0</td>\n      <td>0.052729</td>\n      <td>24.0</td>\n      <td>0.068892</td>\n      <td>0.059989</td>\n      <td>...</td>\n      <td>1012.8</td>\n      <td>4.0</td>\n      <td>3.0</td>\n      <td>18.1</td>\n      <td>26.5</td>\n      <td>0</td>\n      <td>0</td>\n      <td>2008</td>\n      <td>12</td>\n      <td>4</td>\n    </tr>\n    <tr>\n      <th>4</th>\n      <td>Albury</td>\n      <td>17.5</td>\n      <td>32.300000</td>\n      <td>1.0</td>\n      <td>3.6</td>\n      <td>11.6</td>\n      <td>0.073518</td>\n      <td>41.0</td>\n      <td>0.058243</td>\n      <td>0.060876</td>\n      <td>...</td>\n      <td>1006.0</td>\n      <td>7.0</td>\n      <td>8.0</td>\n      <td>17.8</td>\n      <td>29.7</td>\n      <td>0</td>\n      <td>0</td>\n      <td>2008</td>\n      <td>12</td>\n      <td>4</td>\n    </tr>\n    <tr>\n      <th>...</th>\n      <td>...</td>\n      <td>...</td>\n      <td>...</td>\n      <td>...</td>\n      <td>...</td>\n      <td>...</td>\n      <td>...</td>\n      <td>...</td>\n      <td>...</td>\n      <td>...</td>\n      <td>...</td>\n      <td>...</td>\n      <td>...</td>\n      <td>...</td>\n      <td>...</td>\n      <td>...</td>\n      <td>...</td>\n      <td>...</td>\n      <td>...</td>\n      <td>...</td>\n      <td>...</td>\n    </tr>\n    <tr>\n      <th>145455</th>\n      <td>Uluru</td>\n      <td>2.8</td>\n      <td>23.400000</td>\n      <td>0.0</td>\n      <td>5.0</td>\n      <td>10.8</td>\n      <td>0.068074</td>\n      <td>31.0</td>\n      <td>0.068892</td>\n      <td>0.055685</td>\n      <td>...</td>\n      <td>1020.3</td>\n      <td>8.0</td>\n      <td>7.0</td>\n      <td>10.1</td>\n      <td>22.4</td>\n      <td>0</td>\n      <td>0</td>\n      <td>2017</td>\n      <td>6</td>\n      <td>2</td>\n    </tr>\n    <tr>\n      <th>145456</th>\n      <td>Uluru</td>\n      <td>3.6</td>\n      <td>25.300000</td>\n      <td>0.0</td>\n      <td>5.4</td>\n      <td>5.6</td>\n      <td>0.048900</td>\n      <td>22.0</td>\n      <td>0.068892</td>\n      <td>0.062849</td>\n      <td>...</td>\n      <td>1019.1</td>\n      <td>4.0</td>\n      <td>7.0</td>\n      <td>10.9</td>\n      <td>24.5</td>\n      <td>0</td>\n      <td>0</td>\n      <td>2017</td>\n      <td>6</td>\n      <td>2</td>\n    </tr>\n    <tr>\n      <th>145457</th>\n      <td>Uluru</td>\n      <td>5.4</td>\n      <td>26.900000</td>\n      <td>0.0</td>\n      <td>3.2</td>\n      <td>0.0</td>\n      <td>0.068747</td>\n      <td>37.0</td>\n      <td>0.068892</td>\n      <td>0.062739</td>\n      <td>...</td>\n      <td>1016.8</td>\n      <td>4.0</td>\n      <td>0.0</td>\n      <td>12.5</td>\n      <td>26.1</td>\n      <td>0</td>\n      <td>0</td>\n      <td>2017</td>\n      <td>6</td>\n      <td>2</td>\n    </tr>\n    <tr>\n      <th>145458</th>\n      <td>Uluru</td>\n      <td>7.8</td>\n      <td>27.000000</td>\n      <td>0.0</td>\n      <td>1.6</td>\n      <td>6.6</td>\n      <td>0.069847</td>\n      <td>28.0</td>\n      <td>0.067737</td>\n      <td>0.062849</td>\n      <td>...</td>\n      <td>1016.5</td>\n      <td>3.0</td>\n      <td>2.0</td>\n      <td>15.1</td>\n      <td>26.0</td>\n      <td>0</td>\n      <td>0</td>\n      <td>2017</td>\n      <td>6</td>\n      <td>2</td>\n    </tr>\n    <tr>\n      <th>145459</th>\n      <td>Uluru</td>\n      <td>14.9</td>\n      <td>30.383195</td>\n      <td>0.0</td>\n      <td>8.0</td>\n      <td>10.9</td>\n      <td>0.068074</td>\n      <td>54.0</td>\n      <td>0.056359</td>\n      <td>0.060126</td>\n      <td>...</td>\n      <td>1017.9</td>\n      <td>8.0</td>\n      <td>8.0</td>\n      <td>15.0</td>\n      <td>20.9</td>\n      <td>0</td>\n      <td>1</td>\n      <td>2017</td>\n      <td>6</td>\n      <td>2</td>\n    </tr>\n  </tbody>\n</table>\n<p>145460 rows × 25 columns</p>\n</div>"
     },
     "execution_count": 49,
     "metadata": {},
     "output_type": "execute_result"
    }
   ],
   "source": [
    "data['Year'] = data['Date'].dt.year\n",
    "data['Month'] = data['Date'].dt.month\n",
    "data['Quarter'] = data['Date'].dt.quarter\n",
    "data.drop('Date', axis=1, inplace=True)\n",
    "data"
   ],
   "metadata": {
    "collapsed": false,
    "pycharm": {
     "name": "#%%\n"
    }
   }
  },
  {
   "cell_type": "code",
   "execution_count": 50,
   "outputs": [
    {
     "data": {
      "text/plain": "        Location  MinTemp    MaxTemp  Rainfall  Evaporation  Sunshine  \\\n0              0     13.4  22.900000       0.6          1.4       9.5   \n1              0      7.4  25.100000       0.0          0.8       0.3   \n2              0     12.9  25.700000       0.0          6.2       4.7   \n3              0      9.2  28.000000       0.0          3.8       3.0   \n4              0     17.5  32.300000       1.0          3.6      11.6   \n...          ...      ...        ...       ...          ...       ...   \n145455        48      2.8  23.400000       0.0          5.0      10.8   \n145456        48      3.6  25.300000       0.0          5.4       5.6   \n145457        48      5.4  26.900000       0.0          3.2       0.0   \n145458        48      7.8  27.000000       0.0          1.6       6.6   \n145459        48     14.9  30.383195       0.0          8.0      10.9   \n\n        WindGustDir  WindGustSpeed  WindDir9am  WindDir3pm  ...  Pressure3pm  \\\n0          0.073518           44.0    0.062725    0.062739  ...       1007.1   \n1          0.060821           44.0    0.059164    0.067469  ...       1007.8   \n2          0.067063           46.0    0.062725    0.067469  ...       1008.7   \n3          0.052729           24.0    0.068892    0.059989  ...       1012.8   \n4          0.073518           41.0    0.058243    0.060876  ...       1006.0   \n...             ...            ...         ...         ...  ...          ...   \n145455     0.068074           31.0    0.068892    0.055685  ...       1020.3   \n145456     0.048900           22.0    0.068892    0.062849  ...       1019.1   \n145457     0.068747           37.0    0.068892    0.062739  ...       1016.8   \n145458     0.069847           28.0    0.067737    0.062849  ...       1016.5   \n145459     0.068074           54.0    0.056359    0.060126  ...       1017.9   \n\n        Cloud9am  Cloud3pm  Temp9am  Temp3pm  RainToday  RainTomorrow  Year  \\\n0            8.0       4.0     16.9     21.8          0             0  2008   \n1            7.0       0.0     17.2     24.3          0             0  2008   \n2            0.0       2.0     21.0     23.2          0             0  2008   \n3            4.0       3.0     18.1     26.5          0             0  2008   \n4            7.0       8.0     17.8     29.7          0             0  2008   \n...          ...       ...      ...      ...        ...           ...   ...   \n145455       8.0       7.0     10.1     22.4          0             0  2017   \n145456       4.0       7.0     10.9     24.5          0             0  2017   \n145457       4.0       0.0     12.5     26.1          0             0  2017   \n145458       3.0       2.0     15.1     26.0          0             0  2017   \n145459       8.0       8.0     15.0     20.9          0             1  2017   \n\n        Month  Quarter  \n0          12        4  \n1          12        4  \n2          12        4  \n3          12        4  \n4          12        4  \n...       ...      ...  \n145455      6        2  \n145456      6        2  \n145457      6        2  \n145458      6        2  \n145459      6        2  \n\n[145460 rows x 25 columns]",
      "text/html": "<div>\n<style scoped>\n    .dataframe tbody tr th:only-of-type {\n        vertical-align: middle;\n    }\n\n    .dataframe tbody tr th {\n        vertical-align: top;\n    }\n\n    .dataframe thead th {\n        text-align: right;\n    }\n</style>\n<table border=\"1\" class=\"dataframe\">\n  <thead>\n    <tr style=\"text-align: right;\">\n      <th></th>\n      <th>Location</th>\n      <th>MinTemp</th>\n      <th>MaxTemp</th>\n      <th>Rainfall</th>\n      <th>Evaporation</th>\n      <th>Sunshine</th>\n      <th>WindGustDir</th>\n      <th>WindGustSpeed</th>\n      <th>WindDir9am</th>\n      <th>WindDir3pm</th>\n      <th>...</th>\n      <th>Pressure3pm</th>\n      <th>Cloud9am</th>\n      <th>Cloud3pm</th>\n      <th>Temp9am</th>\n      <th>Temp3pm</th>\n      <th>RainToday</th>\n      <th>RainTomorrow</th>\n      <th>Year</th>\n      <th>Month</th>\n      <th>Quarter</th>\n    </tr>\n  </thead>\n  <tbody>\n    <tr>\n      <th>0</th>\n      <td>0</td>\n      <td>13.4</td>\n      <td>22.900000</td>\n      <td>0.6</td>\n      <td>1.4</td>\n      <td>9.5</td>\n      <td>0.073518</td>\n      <td>44.0</td>\n      <td>0.062725</td>\n      <td>0.062739</td>\n      <td>...</td>\n      <td>1007.1</td>\n      <td>8.0</td>\n      <td>4.0</td>\n      <td>16.9</td>\n      <td>21.8</td>\n      <td>0</td>\n      <td>0</td>\n      <td>2008</td>\n      <td>12</td>\n      <td>4</td>\n    </tr>\n    <tr>\n      <th>1</th>\n      <td>0</td>\n      <td>7.4</td>\n      <td>25.100000</td>\n      <td>0.0</td>\n      <td>0.8</td>\n      <td>0.3</td>\n      <td>0.060821</td>\n      <td>44.0</td>\n      <td>0.059164</td>\n      <td>0.067469</td>\n      <td>...</td>\n      <td>1007.8</td>\n      <td>7.0</td>\n      <td>0.0</td>\n      <td>17.2</td>\n      <td>24.3</td>\n      <td>0</td>\n      <td>0</td>\n      <td>2008</td>\n      <td>12</td>\n      <td>4</td>\n    </tr>\n    <tr>\n      <th>2</th>\n      <td>0</td>\n      <td>12.9</td>\n      <td>25.700000</td>\n      <td>0.0</td>\n      <td>6.2</td>\n      <td>4.7</td>\n      <td>0.067063</td>\n      <td>46.0</td>\n      <td>0.062725</td>\n      <td>0.067469</td>\n      <td>...</td>\n      <td>1008.7</td>\n      <td>0.0</td>\n      <td>2.0</td>\n      <td>21.0</td>\n      <td>23.2</td>\n      <td>0</td>\n      <td>0</td>\n      <td>2008</td>\n      <td>12</td>\n      <td>4</td>\n    </tr>\n    <tr>\n      <th>3</th>\n      <td>0</td>\n      <td>9.2</td>\n      <td>28.000000</td>\n      <td>0.0</td>\n      <td>3.8</td>\n      <td>3.0</td>\n      <td>0.052729</td>\n      <td>24.0</td>\n      <td>0.068892</td>\n      <td>0.059989</td>\n      <td>...</td>\n      <td>1012.8</td>\n      <td>4.0</td>\n      <td>3.0</td>\n      <td>18.1</td>\n      <td>26.5</td>\n      <td>0</td>\n      <td>0</td>\n      <td>2008</td>\n      <td>12</td>\n      <td>4</td>\n    </tr>\n    <tr>\n      <th>4</th>\n      <td>0</td>\n      <td>17.5</td>\n      <td>32.300000</td>\n      <td>1.0</td>\n      <td>3.6</td>\n      <td>11.6</td>\n      <td>0.073518</td>\n      <td>41.0</td>\n      <td>0.058243</td>\n      <td>0.060876</td>\n      <td>...</td>\n      <td>1006.0</td>\n      <td>7.0</td>\n      <td>8.0</td>\n      <td>17.8</td>\n      <td>29.7</td>\n      <td>0</td>\n      <td>0</td>\n      <td>2008</td>\n      <td>12</td>\n      <td>4</td>\n    </tr>\n    <tr>\n      <th>...</th>\n      <td>...</td>\n      <td>...</td>\n      <td>...</td>\n      <td>...</td>\n      <td>...</td>\n      <td>...</td>\n      <td>...</td>\n      <td>...</td>\n      <td>...</td>\n      <td>...</td>\n      <td>...</td>\n      <td>...</td>\n      <td>...</td>\n      <td>...</td>\n      <td>...</td>\n      <td>...</td>\n      <td>...</td>\n      <td>...</td>\n      <td>...</td>\n      <td>...</td>\n      <td>...</td>\n    </tr>\n    <tr>\n      <th>145455</th>\n      <td>48</td>\n      <td>2.8</td>\n      <td>23.400000</td>\n      <td>0.0</td>\n      <td>5.0</td>\n      <td>10.8</td>\n      <td>0.068074</td>\n      <td>31.0</td>\n      <td>0.068892</td>\n      <td>0.055685</td>\n      <td>...</td>\n      <td>1020.3</td>\n      <td>8.0</td>\n      <td>7.0</td>\n      <td>10.1</td>\n      <td>22.4</td>\n      <td>0</td>\n      <td>0</td>\n      <td>2017</td>\n      <td>6</td>\n      <td>2</td>\n    </tr>\n    <tr>\n      <th>145456</th>\n      <td>48</td>\n      <td>3.6</td>\n      <td>25.300000</td>\n      <td>0.0</td>\n      <td>5.4</td>\n      <td>5.6</td>\n      <td>0.048900</td>\n      <td>22.0</td>\n      <td>0.068892</td>\n      <td>0.062849</td>\n      <td>...</td>\n      <td>1019.1</td>\n      <td>4.0</td>\n      <td>7.0</td>\n      <td>10.9</td>\n      <td>24.5</td>\n      <td>0</td>\n      <td>0</td>\n      <td>2017</td>\n      <td>6</td>\n      <td>2</td>\n    </tr>\n    <tr>\n      <th>145457</th>\n      <td>48</td>\n      <td>5.4</td>\n      <td>26.900000</td>\n      <td>0.0</td>\n      <td>3.2</td>\n      <td>0.0</td>\n      <td>0.068747</td>\n      <td>37.0</td>\n      <td>0.068892</td>\n      <td>0.062739</td>\n      <td>...</td>\n      <td>1016.8</td>\n      <td>4.0</td>\n      <td>0.0</td>\n      <td>12.5</td>\n      <td>26.1</td>\n      <td>0</td>\n      <td>0</td>\n      <td>2017</td>\n      <td>6</td>\n      <td>2</td>\n    </tr>\n    <tr>\n      <th>145458</th>\n      <td>48</td>\n      <td>7.8</td>\n      <td>27.000000</td>\n      <td>0.0</td>\n      <td>1.6</td>\n      <td>6.6</td>\n      <td>0.069847</td>\n      <td>28.0</td>\n      <td>0.067737</td>\n      <td>0.062849</td>\n      <td>...</td>\n      <td>1016.5</td>\n      <td>3.0</td>\n      <td>2.0</td>\n      <td>15.1</td>\n      <td>26.0</td>\n      <td>0</td>\n      <td>0</td>\n      <td>2017</td>\n      <td>6</td>\n      <td>2</td>\n    </tr>\n    <tr>\n      <th>145459</th>\n      <td>48</td>\n      <td>14.9</td>\n      <td>30.383195</td>\n      <td>0.0</td>\n      <td>8.0</td>\n      <td>10.9</td>\n      <td>0.068074</td>\n      <td>54.0</td>\n      <td>0.056359</td>\n      <td>0.060126</td>\n      <td>...</td>\n      <td>1017.9</td>\n      <td>8.0</td>\n      <td>8.0</td>\n      <td>15.0</td>\n      <td>20.9</td>\n      <td>0</td>\n      <td>1</td>\n      <td>2017</td>\n      <td>6</td>\n      <td>2</td>\n    </tr>\n  </tbody>\n</table>\n<p>145460 rows × 25 columns</p>\n</div>"
     },
     "execution_count": 50,
     "metadata": {},
     "output_type": "execute_result"
    }
   ],
   "source": [
    "location_encoder = OrdinalEncoder(encoding_method='arbitrary',\n",
    "                                  variables=['Location'])\n",
    "location_encoder.fit(data)\n",
    "# location_encoder.encoder_dict_\n",
    "data = location_encoder.transform(data)\n",
    "data"
   ],
   "metadata": {
    "collapsed": false,
    "pycharm": {
     "name": "#%%\n"
    }
   }
  },
  {
   "cell_type": "code",
   "execution_count": 77,
   "outputs": [
    {
     "data": {
      "text/plain": "{'Location': {'Albury': 0,\n  'BadgerysCreek': 1,\n  'Cobar': 2,\n  'CoffsHarbour': 3,\n  'Moree': 4,\n  'Newcastle': 5,\n  'NorahHead': 6,\n  'NorfolkIsland': 7,\n  'Penrith': 8,\n  'Richmond': 9,\n  'Sydney': 10,\n  'SydneyAirport': 11,\n  'WaggaWagga': 12,\n  'Williamtown': 13,\n  'Wollongong': 14,\n  'Canberra': 15,\n  'Tuggeranong': 16,\n  'MountGinini': 17,\n  'Ballarat': 18,\n  'Bendigo': 19,\n  'Sale': 20,\n  'MelbourneAirport': 21,\n  'Melbourne': 22,\n  'Mildura': 23,\n  'Nhil': 24,\n  'Portland': 25,\n  'Watsonia': 26,\n  'Dartmoor': 27,\n  'Brisbane': 28,\n  'Cairns': 29,\n  'GoldCoast': 30,\n  'Townsville': 31,\n  'Adelaide': 32,\n  'MountGambier': 33,\n  'Nuriootpa': 34,\n  'Woomera': 35,\n  'Albany': 36,\n  'Witchcliffe': 37,\n  'PearceRAAF': 38,\n  'PerthAirport': 39,\n  'Perth': 40,\n  'SalmonGums': 41,\n  'Walpole': 42,\n  'Hobart': 43,\n  'Launceston': 44,\n  'AliceSprings': 45,\n  'Darwin': 46,\n  'Katherine': 47,\n  'Uluru': 48}}"
     },
     "execution_count": 77,
     "metadata": {},
     "output_type": "execute_result"
    }
   ],
   "source": [
    "location_encoder.encoder_dict_"
   ],
   "metadata": {
    "collapsed": false,
    "pycharm": {
     "name": "#%%\n"
    }
   }
  },
  {
   "cell_type": "markdown",
   "source": [
    "### regression feature selection"
   ],
   "metadata": {
    "collapsed": false
   }
  },
  {
   "cell_type": "code",
   "execution_count": 51,
   "outputs": [
    {
     "data": {
      "text/plain": "array([[ 0.6,  9.5, 44. , ...,  8. ,  4. ,  0. ],\n       [ 0. ,  0.3, 44. , ...,  7. ,  0. ,  0. ],\n       [ 0. ,  4.7, 46. , ...,  0. ,  2. ,  0. ],\n       ...,\n       [ 0. ,  0. , 37. , ...,  4. ,  0. ,  0. ],\n       [ 0. ,  6.6, 28. , ...,  3. ,  2. ,  0. ],\n       [ 0. , 10.9, 54. , ...,  8. ,  8. ,  0. ]])"
     },
     "execution_count": 51,
     "metadata": {},
     "output_type": "execute_result"
    }
   ],
   "source": [
    "temp = data.drop('RainTomorrow', axis=1)\n",
    "y = data['RainTomorrow']\n",
    "features = SelectKBest(score_func=f_regression, k=10)\n",
    "selected_features = features.fit_transform(temp, y)\n",
    "selected_features"
   ],
   "metadata": {
    "collapsed": false,
    "pycharm": {
     "name": "#%%\n"
    }
   }
  },
  {
   "cell_type": "code",
   "execution_count": 52,
   "outputs": [
    {
     "data": {
      "text/plain": "((116368, 11), (29092, 11))"
     },
     "execution_count": 52,
     "metadata": {},
     "output_type": "execute_result"
    }
   ],
   "source": [
    "input_feature = ['Location', 'Rainfall', 'Sunshine', 'WindGustSpeed', 'Humidity9am', 'Humidity3pm',\n",
    "                 'Pressure9am', 'Pressure3pm', 'Cloud9am', 'Cloud3pm', 'RainToday']\n",
    "train_x, test_x, train_y, test_y = train_test_split(temp[input_feature], y, test_size=0.2, random_state=64)\n",
    "train_x.shape, test_x.shape"
   ],
   "metadata": {
    "collapsed": false,
    "pycharm": {
     "name": "#%%\n"
    }
   }
  },
  {
   "cell_type": "code",
   "execution_count": 53,
   "outputs": [],
   "source": [
    "with open('model/rain_logistic_model.pkl', 'rb') as file:\n",
    "    logistic_model = pd.read_pickle(file)\n",
    "\n",
    "with open('model/rain_knn_model.pkl', 'rb') as file:\n",
    "    knn_model = pd.read_pickle(file)\n",
    "\n",
    "with open('model/rain_tree_model.pkl', 'rb') as file:\n",
    "    tree_model = pd.read_pickle(file)"
   ],
   "metadata": {
    "collapsed": false,
    "pycharm": {
     "name": "#%%\n"
    }
   }
  },
  {
   "cell_type": "code",
   "execution_count": 54,
   "outputs": [
    {
     "data": {
      "text/plain": "(array([0.        , 0.        , 0.        , ..., 0.99605426, 0.99605426,\n        1.        ]),\n array([0.00000000e+00, 1.52998776e-04, 2.90697674e-03, ...,\n        9.99847001e-01, 1.00000000e+00, 1.00000000e+00]),\n array([1.99740932, 0.99740932, 0.98717314, ..., 0.00595758, 0.0059552 ,\n        0.0028481 ]))"
     },
     "execution_count": 54,
     "metadata": {},
     "output_type": "execute_result"
    }
   ],
   "source": [
    "lp = logistic_model.predict_proba(test_x)[:, 1]\n",
    "roc_curve(test_y, lp)"
   ],
   "metadata": {
    "collapsed": false,
    "pycharm": {
     "name": "#%%\n"
    }
   }
  },
  {
   "cell_type": "code",
   "execution_count": 55,
   "outputs": [],
   "source": [
    "kp = knn_model.predict_proba(test_x)[:, 1]\n",
    "fpr, tpr, thresholds = roc_curve(test_y, kp)"
   ],
   "metadata": {
    "collapsed": false,
    "pycharm": {
     "name": "#%%\n"
    }
   }
  },
  {
   "cell_type": "code",
   "execution_count": 56,
   "outputs": [
    {
     "data": {
      "text/plain": "(array([0.        , 0.00230537, 0.00261571, 0.00687179, 0.0078028 ,\n        0.01064018, 0.0117042 , 0.01578294, 0.01870899, 0.02633446,\n        0.03076787, 0.03635396, 0.04380209, 0.05160489, 0.05878702,\n        0.06401844, 0.07355027, 0.08698351, 0.10928356, 0.12475616,\n        0.13898741, 0.16700656, 0.17245966, 0.21998581, 0.24272921,\n        0.26746764, 0.35081575, 0.44773009, 0.47326654, 0.50691612,\n        0.62515517, 0.93305551, 1.        ]),\n array([0.        , 0.07986536, 0.09761322, 0.17258262, 0.19186047,\n        0.22154223, 0.23087515, 0.26132191, 0.28044676, 0.31716646,\n        0.34195226, 0.36735006, 0.40559976, 0.42350061, 0.44430845,\n        0.45945532, 0.4869951 , 0.52019584, 0.56777846, 0.59669523,\n        0.62423501, 0.65636475, 0.66126071, 0.70807834, 0.72796818,\n        0.74847001, 0.82114443, 0.875153  , 0.8875459 , 0.90100979,\n        0.94706242, 0.98944308, 1.        ]),\n array([1.92300885, 0.92300885, 0.8875969 , 0.8384755 , 0.8304    ,\n        0.77843302, 0.70926518, 0.69114878, 0.69027611, 0.65755054,\n        0.6189536 , 0.58312655, 0.57912844, 0.48392415, 0.44959857,\n        0.44314185, 0.4306096 , 0.38680589, 0.37273277, 0.3547221 ,\n        0.35348837, 0.24862385, 0.23639191, 0.22175656, 0.21653972,\n        0.19976636, 0.19890607, 0.13341275, 0.1070723 , 0.09965955,\n        0.09641068, 0.03798075, 0.03559871]))"
     },
     "execution_count": 56,
     "metadata": {},
     "output_type": "execute_result"
    }
   ],
   "source": [
    "tp = tree_model.predict_proba(test_x)[:, 1]\n",
    "roc_curve(test_y, tp)"
   ],
   "metadata": {
    "collapsed": false,
    "pycharm": {
     "name": "#%%\n"
    }
   }
  },
  {
   "cell_type": "code",
   "execution_count": 57,
   "outputs": [
    {
     "data": {
      "text/plain": "array([0, 0, 0, ..., 0, 0, 0], dtype=int64)"
     },
     "execution_count": 57,
     "metadata": {},
     "output_type": "execute_result"
    }
   ],
   "source": [
    "pred = logistic_model.predict(test_x)\n",
    "pred"
   ],
   "metadata": {
    "collapsed": false,
    "pycharm": {
     "name": "#%%\n"
    }
   }
  },
  {
   "cell_type": "code",
   "execution_count": 69,
   "outputs": [
    {
     "data": {
      "text/plain": "       true label  predicted_label\n0               0                0\n1               0                0\n2               0                0\n3               0                0\n4               0                0\n...           ...              ...\n29087           0                0\n29088           0                0\n29089           0                0\n29090           0                0\n29091           0                0\n\n[29092 rows x 2 columns]",
      "text/html": "<div>\n<style scoped>\n    .dataframe tbody tr th:only-of-type {\n        vertical-align: middle;\n    }\n\n    .dataframe tbody tr th {\n        vertical-align: top;\n    }\n\n    .dataframe thead th {\n        text-align: right;\n    }\n</style>\n<table border=\"1\" class=\"dataframe\">\n  <thead>\n    <tr style=\"text-align: right;\">\n      <th></th>\n      <th>true label</th>\n      <th>predicted_label</th>\n    </tr>\n  </thead>\n  <tbody>\n    <tr>\n      <th>0</th>\n      <td>0</td>\n      <td>0</td>\n    </tr>\n    <tr>\n      <th>1</th>\n      <td>0</td>\n      <td>0</td>\n    </tr>\n    <tr>\n      <th>2</th>\n      <td>0</td>\n      <td>0</td>\n    </tr>\n    <tr>\n      <th>3</th>\n      <td>0</td>\n      <td>0</td>\n    </tr>\n    <tr>\n      <th>4</th>\n      <td>0</td>\n      <td>0</td>\n    </tr>\n    <tr>\n      <th>...</th>\n      <td>...</td>\n      <td>...</td>\n    </tr>\n    <tr>\n      <th>29087</th>\n      <td>0</td>\n      <td>0</td>\n    </tr>\n    <tr>\n      <th>29088</th>\n      <td>0</td>\n      <td>0</td>\n    </tr>\n    <tr>\n      <th>29089</th>\n      <td>0</td>\n      <td>0</td>\n    </tr>\n    <tr>\n      <th>29090</th>\n      <td>0</td>\n      <td>0</td>\n    </tr>\n    <tr>\n      <th>29091</th>\n      <td>0</td>\n      <td>0</td>\n    </tr>\n  </tbody>\n</table>\n<p>29092 rows × 2 columns</p>\n</div>"
     },
     "execution_count": 69,
     "metadata": {},
     "output_type": "execute_result"
    }
   ],
   "source": [
    "comp_df = pd.DataFrame(np.array(test_y), columns=['true label'])\n",
    "comp_df['predicted_label'] = list(pred)"
   ],
   "metadata": {
    "collapsed": false,
    "pycharm": {
     "name": "#%%\n"
    }
   }
  },
  {
   "cell_type": "code",
   "execution_count": 70,
   "outputs": [
    {
     "data": {
      "text/plain": "((6536, 2), (22556, 2))"
     },
     "execution_count": 70,
     "metadata": {},
     "output_type": "execute_result"
    }
   ],
   "source": [
    "true_labels = comp_df[comp_df['true label'] == 1]\n",
    "false_labels = comp_df[comp_df['true label'] == 0]"
   ],
   "metadata": {
    "collapsed": false,
    "pycharm": {
     "name": "#%%\n"
    }
   }
  },
  {
   "cell_type": "code",
   "execution_count": 75,
   "outputs": [
    {
     "data": {
      "text/plain": "(6536, 0, 21361, 1195)"
     },
     "execution_count": 75,
     "metadata": {},
     "output_type": "execute_result"
    }
   ],
   "source": [
    "tp = np.sum(true_labels['true label'] == true_labels['predicted_label'])\n",
    "tn = true_labels.shape[0] - tp\n",
    "fp = np.sum(false_labels['true label'] == false_labels['predicted_label'])\n",
    "fn = false_labels.shape[0] - fp\n",
    "\n",
    "tp, tn, fp, fn"
   ],
   "metadata": {
    "collapsed": false,
    "pycharm": {
     "name": "#%%\n"
    }
   }
  },
  {
   "cell_type": "code",
   "execution_count": 81,
   "outputs": [
    {
     "data": {
      "text/plain": "0.5156439490362514"
     },
     "execution_count": 81,
     "metadata": {},
     "output_type": "execute_result"
    }
   ],
   "source": [
    "logistic_model.predict_proba(np.asarray([20, 6.2, 10.5, 98.0, 48.0, 32.0, 1002.900000, 999.300000, 2.0, 3.0, 1]).reshape(1, -1))[0][1]"
   ],
   "metadata": {
    "collapsed": false,
    "pycharm": {
     "name": "#%%\n"
    }
   }
  }
 ],
 "metadata": {
  "kernelspec": {
   "display_name": "Python 3",
   "language": "python",
   "name": "python3"
  },
  "language_info": {
   "codemirror_mode": {
    "name": "ipython",
    "version": 2
   },
   "file_extension": ".py",
   "mimetype": "text/x-python",
   "name": "python",
   "nbconvert_exporter": "python",
   "pygments_lexer": "ipython2",
   "version": "2.7.6"
  }
 },
 "nbformat": 4,
 "nbformat_minor": 0
}