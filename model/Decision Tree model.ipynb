{
 "cells": [
  {
   "cell_type": "code",
   "execution_count": 156,
   "metadata": {
    "collapsed": true
   },
   "outputs": [],
   "source": [
    "import random\n",
    "import pandas as pd\n",
    "import numpy as np\n",
    "import scipy.stats as ss\n",
    "import seaborn as sns\n",
    "from matplotlib import pyplot as plt\n",
    "from feature_engine.encoding import OrdinalEncoder\n",
    "from sklearn.neighbors import KNeighborsClassifier as KNN\n",
    "from sklearn.feature_selection import SelectKBest, f_regression\n",
    "from sklearn.model_selection import train_test_split, RepeatedStratifiedKFold, cross_val_score"
   ]
  },
  {
   "cell_type": "code",
   "execution_count": 13,
   "outputs": [
    {
     "data": {
      "text/plain": "              Date Location  MinTemp    MaxTemp  Rainfall  Evaporation  \\\n0       2008-12-01   Albury     13.4  22.900000       0.6          1.4   \n1       2008-12-02   Albury      7.4  25.100000       0.0          0.8   \n2       2008-12-03   Albury     12.9  25.700000       0.0          6.2   \n3       2008-12-04   Albury      9.2  28.000000       0.0          3.8   \n4       2008-12-05   Albury     17.5  32.300000       1.0          3.6   \n...            ...      ...      ...        ...       ...          ...   \n145455  2017-06-21    Uluru      2.8  23.400000       0.0          5.0   \n145456  2017-06-22    Uluru      3.6  25.300000       0.0          5.4   \n145457  2017-06-23    Uluru      5.4  26.900000       0.0          3.2   \n145458  2017-06-24    Uluru      7.8  27.000000       0.0          1.6   \n145459  2017-06-25    Uluru     14.9  30.383195       0.0          8.0   \n\n        Sunshine  WindGustDir  WindGustSpeed  WindDir9am  ...  Humidity9am  \\\n0            9.5     0.073518           44.0    0.062725  ...         71.0   \n1            0.3     0.060821           44.0    0.059164  ...         44.0   \n2            4.7     0.067063           46.0    0.062725  ...         38.0   \n3            3.0     0.052729           24.0    0.068892  ...         45.0   \n4           11.6     0.073518           41.0    0.058243  ...         82.0   \n...          ...          ...            ...         ...  ...          ...   \n145455      10.8     0.068074           31.0    0.068892  ...         51.0   \n145456       5.6     0.048900           22.0    0.068892  ...         56.0   \n145457       0.0     0.068747           37.0    0.068892  ...         53.0   \n145458       6.6     0.069847           28.0    0.067737  ...         51.0   \n145459      10.9     0.068074           54.0    0.056359  ...         62.0   \n\n        Humidity3pm  Pressure9am  Pressure3pm  Cloud9am  Cloud3pm  Temp9am  \\\n0              22.0       1007.7       1007.1       8.0       4.0     16.9   \n1              25.0       1010.6       1007.8       7.0       0.0     17.2   \n2              30.0       1007.6       1008.7       0.0       2.0     21.0   \n3              16.0       1017.6       1012.8       4.0       3.0     18.1   \n4              33.0       1010.8       1006.0       7.0       8.0     17.8   \n...             ...          ...          ...       ...       ...      ...   \n145455         24.0       1024.6       1020.3       8.0       7.0     10.1   \n145456         21.0       1023.5       1019.1       4.0       7.0     10.9   \n145457         24.0       1021.0       1016.8       4.0       0.0     12.5   \n145458         24.0       1019.4       1016.5       3.0       2.0     15.1   \n145459         36.0       1020.2       1017.9       8.0       8.0     15.0   \n\n        Temp3pm  RainToday  RainTomorrow  \n0          21.8         No            No  \n1          24.3         No            No  \n2          23.2         No            No  \n3          26.5         No            No  \n4          29.7         No            No  \n...         ...        ...           ...  \n145455     22.4         No            No  \n145456     24.5         No            No  \n145457     26.1         No            No  \n145458     26.0         No            No  \n145459     20.9         No           Yes  \n\n[145460 rows x 23 columns]",
      "text/html": "<div>\n<style scoped>\n    .dataframe tbody tr th:only-of-type {\n        vertical-align: middle;\n    }\n\n    .dataframe tbody tr th {\n        vertical-align: top;\n    }\n\n    .dataframe thead th {\n        text-align: right;\n    }\n</style>\n<table border=\"1\" class=\"dataframe\">\n  <thead>\n    <tr style=\"text-align: right;\">\n      <th></th>\n      <th>Date</th>\n      <th>Location</th>\n      <th>MinTemp</th>\n      <th>MaxTemp</th>\n      <th>Rainfall</th>\n      <th>Evaporation</th>\n      <th>Sunshine</th>\n      <th>WindGustDir</th>\n      <th>WindGustSpeed</th>\n      <th>WindDir9am</th>\n      <th>...</th>\n      <th>Humidity9am</th>\n      <th>Humidity3pm</th>\n      <th>Pressure9am</th>\n      <th>Pressure3pm</th>\n      <th>Cloud9am</th>\n      <th>Cloud3pm</th>\n      <th>Temp9am</th>\n      <th>Temp3pm</th>\n      <th>RainToday</th>\n      <th>RainTomorrow</th>\n    </tr>\n  </thead>\n  <tbody>\n    <tr>\n      <th>0</th>\n      <td>2008-12-01</td>\n      <td>Albury</td>\n      <td>13.4</td>\n      <td>22.900000</td>\n      <td>0.6</td>\n      <td>1.4</td>\n      <td>9.5</td>\n      <td>0.073518</td>\n      <td>44.0</td>\n      <td>0.062725</td>\n      <td>...</td>\n      <td>71.0</td>\n      <td>22.0</td>\n      <td>1007.7</td>\n      <td>1007.1</td>\n      <td>8.0</td>\n      <td>4.0</td>\n      <td>16.9</td>\n      <td>21.8</td>\n      <td>No</td>\n      <td>No</td>\n    </tr>\n    <tr>\n      <th>1</th>\n      <td>2008-12-02</td>\n      <td>Albury</td>\n      <td>7.4</td>\n      <td>25.100000</td>\n      <td>0.0</td>\n      <td>0.8</td>\n      <td>0.3</td>\n      <td>0.060821</td>\n      <td>44.0</td>\n      <td>0.059164</td>\n      <td>...</td>\n      <td>44.0</td>\n      <td>25.0</td>\n      <td>1010.6</td>\n      <td>1007.8</td>\n      <td>7.0</td>\n      <td>0.0</td>\n      <td>17.2</td>\n      <td>24.3</td>\n      <td>No</td>\n      <td>No</td>\n    </tr>\n    <tr>\n      <th>2</th>\n      <td>2008-12-03</td>\n      <td>Albury</td>\n      <td>12.9</td>\n      <td>25.700000</td>\n      <td>0.0</td>\n      <td>6.2</td>\n      <td>4.7</td>\n      <td>0.067063</td>\n      <td>46.0</td>\n      <td>0.062725</td>\n      <td>...</td>\n      <td>38.0</td>\n      <td>30.0</td>\n      <td>1007.6</td>\n      <td>1008.7</td>\n      <td>0.0</td>\n      <td>2.0</td>\n      <td>21.0</td>\n      <td>23.2</td>\n      <td>No</td>\n      <td>No</td>\n    </tr>\n    <tr>\n      <th>3</th>\n      <td>2008-12-04</td>\n      <td>Albury</td>\n      <td>9.2</td>\n      <td>28.000000</td>\n      <td>0.0</td>\n      <td>3.8</td>\n      <td>3.0</td>\n      <td>0.052729</td>\n      <td>24.0</td>\n      <td>0.068892</td>\n      <td>...</td>\n      <td>45.0</td>\n      <td>16.0</td>\n      <td>1017.6</td>\n      <td>1012.8</td>\n      <td>4.0</td>\n      <td>3.0</td>\n      <td>18.1</td>\n      <td>26.5</td>\n      <td>No</td>\n      <td>No</td>\n    </tr>\n    <tr>\n      <th>4</th>\n      <td>2008-12-05</td>\n      <td>Albury</td>\n      <td>17.5</td>\n      <td>32.300000</td>\n      <td>1.0</td>\n      <td>3.6</td>\n      <td>11.6</td>\n      <td>0.073518</td>\n      <td>41.0</td>\n      <td>0.058243</td>\n      <td>...</td>\n      <td>82.0</td>\n      <td>33.0</td>\n      <td>1010.8</td>\n      <td>1006.0</td>\n      <td>7.0</td>\n      <td>8.0</td>\n      <td>17.8</td>\n      <td>29.7</td>\n      <td>No</td>\n      <td>No</td>\n    </tr>\n    <tr>\n      <th>...</th>\n      <td>...</td>\n      <td>...</td>\n      <td>...</td>\n      <td>...</td>\n      <td>...</td>\n      <td>...</td>\n      <td>...</td>\n      <td>...</td>\n      <td>...</td>\n      <td>...</td>\n      <td>...</td>\n      <td>...</td>\n      <td>...</td>\n      <td>...</td>\n      <td>...</td>\n      <td>...</td>\n      <td>...</td>\n      <td>...</td>\n      <td>...</td>\n      <td>...</td>\n      <td>...</td>\n    </tr>\n    <tr>\n      <th>145455</th>\n      <td>2017-06-21</td>\n      <td>Uluru</td>\n      <td>2.8</td>\n      <td>23.400000</td>\n      <td>0.0</td>\n      <td>5.0</td>\n      <td>10.8</td>\n      <td>0.068074</td>\n      <td>31.0</td>\n      <td>0.068892</td>\n      <td>...</td>\n      <td>51.0</td>\n      <td>24.0</td>\n      <td>1024.6</td>\n      <td>1020.3</td>\n      <td>8.0</td>\n      <td>7.0</td>\n      <td>10.1</td>\n      <td>22.4</td>\n      <td>No</td>\n      <td>No</td>\n    </tr>\n    <tr>\n      <th>145456</th>\n      <td>2017-06-22</td>\n      <td>Uluru</td>\n      <td>3.6</td>\n      <td>25.300000</td>\n      <td>0.0</td>\n      <td>5.4</td>\n      <td>5.6</td>\n      <td>0.048900</td>\n      <td>22.0</td>\n      <td>0.068892</td>\n      <td>...</td>\n      <td>56.0</td>\n      <td>21.0</td>\n      <td>1023.5</td>\n      <td>1019.1</td>\n      <td>4.0</td>\n      <td>7.0</td>\n      <td>10.9</td>\n      <td>24.5</td>\n      <td>No</td>\n      <td>No</td>\n    </tr>\n    <tr>\n      <th>145457</th>\n      <td>2017-06-23</td>\n      <td>Uluru</td>\n      <td>5.4</td>\n      <td>26.900000</td>\n      <td>0.0</td>\n      <td>3.2</td>\n      <td>0.0</td>\n      <td>0.068747</td>\n      <td>37.0</td>\n      <td>0.068892</td>\n      <td>...</td>\n      <td>53.0</td>\n      <td>24.0</td>\n      <td>1021.0</td>\n      <td>1016.8</td>\n      <td>4.0</td>\n      <td>0.0</td>\n      <td>12.5</td>\n      <td>26.1</td>\n      <td>No</td>\n      <td>No</td>\n    </tr>\n    <tr>\n      <th>145458</th>\n      <td>2017-06-24</td>\n      <td>Uluru</td>\n      <td>7.8</td>\n      <td>27.000000</td>\n      <td>0.0</td>\n      <td>1.6</td>\n      <td>6.6</td>\n      <td>0.069847</td>\n      <td>28.0</td>\n      <td>0.067737</td>\n      <td>...</td>\n      <td>51.0</td>\n      <td>24.0</td>\n      <td>1019.4</td>\n      <td>1016.5</td>\n      <td>3.0</td>\n      <td>2.0</td>\n      <td>15.1</td>\n      <td>26.0</td>\n      <td>No</td>\n      <td>No</td>\n    </tr>\n    <tr>\n      <th>145459</th>\n      <td>2017-06-25</td>\n      <td>Uluru</td>\n      <td>14.9</td>\n      <td>30.383195</td>\n      <td>0.0</td>\n      <td>8.0</td>\n      <td>10.9</td>\n      <td>0.068074</td>\n      <td>54.0</td>\n      <td>0.056359</td>\n      <td>...</td>\n      <td>62.0</td>\n      <td>36.0</td>\n      <td>1020.2</td>\n      <td>1017.9</td>\n      <td>8.0</td>\n      <td>8.0</td>\n      <td>15.0</td>\n      <td>20.9</td>\n      <td>No</td>\n      <td>Yes</td>\n    </tr>\n  </tbody>\n</table>\n<p>145460 rows × 23 columns</p>\n</div>"
     },
     "execution_count": 13,
     "metadata": {},
     "output_type": "execute_result"
    }
   ],
   "source": [
    "data = pd.read_pickle('../data/aus_weather_cln.pkl')\n",
    "data"
   ],
   "metadata": {
    "collapsed": false,
    "pycharm": {
     "name": "#%%\n"
    }
   }
  },
  {
   "cell_type": "code",
   "execution_count": 14,
   "outputs": [],
   "source": [
    "data['Date'] = pd.to_datetime(data['Date'])"
   ],
   "metadata": {
    "collapsed": false,
    "pycharm": {
     "name": "#%%\n"
    }
   }
  },
  {
   "cell_type": "code",
   "execution_count": 15,
   "outputs": [
    {
     "data": {
      "text/plain": "        RainToday  RainTomorrow\n0               0             0\n1               0             0\n2               0             0\n3               0             0\n4               0             0\n...           ...           ...\n145455          0             0\n145456          0             0\n145457          0             0\n145458          0             0\n145459          0             1\n\n[145460 rows x 2 columns]",
      "text/html": "<div>\n<style scoped>\n    .dataframe tbody tr th:only-of-type {\n        vertical-align: middle;\n    }\n\n    .dataframe tbody tr th {\n        vertical-align: top;\n    }\n\n    .dataframe thead th {\n        text-align: right;\n    }\n</style>\n<table border=\"1\" class=\"dataframe\">\n  <thead>\n    <tr style=\"text-align: right;\">\n      <th></th>\n      <th>RainToday</th>\n      <th>RainTomorrow</th>\n    </tr>\n  </thead>\n  <tbody>\n    <tr>\n      <th>0</th>\n      <td>0</td>\n      <td>0</td>\n    </tr>\n    <tr>\n      <th>1</th>\n      <td>0</td>\n      <td>0</td>\n    </tr>\n    <tr>\n      <th>2</th>\n      <td>0</td>\n      <td>0</td>\n    </tr>\n    <tr>\n      <th>3</th>\n      <td>0</td>\n      <td>0</td>\n    </tr>\n    <tr>\n      <th>4</th>\n      <td>0</td>\n      <td>0</td>\n    </tr>\n    <tr>\n      <th>...</th>\n      <td>...</td>\n      <td>...</td>\n    </tr>\n    <tr>\n      <th>145455</th>\n      <td>0</td>\n      <td>0</td>\n    </tr>\n    <tr>\n      <th>145456</th>\n      <td>0</td>\n      <td>0</td>\n    </tr>\n    <tr>\n      <th>145457</th>\n      <td>0</td>\n      <td>0</td>\n    </tr>\n    <tr>\n      <th>145458</th>\n      <td>0</td>\n      <td>0</td>\n    </tr>\n    <tr>\n      <th>145459</th>\n      <td>0</td>\n      <td>1</td>\n    </tr>\n  </tbody>\n</table>\n<p>145460 rows × 2 columns</p>\n</div>"
     },
     "execution_count": 15,
     "metadata": {},
     "output_type": "execute_result"
    }
   ],
   "source": [
    "data['RainToday'] = data['RainToday'].apply(lambda x: 1 if x == 'Yes' else 0)\n",
    "data['RainTomorrow'] = data['RainTomorrow'].apply(lambda x: 1 if x == 'Yes' else 0)\n",
    "data[['RainToday', 'RainTomorrow']]"
   ],
   "metadata": {
    "collapsed": false,
    "pycharm": {
     "name": "#%%\n"
    }
   }
  },
  {
   "cell_type": "code",
   "execution_count": 16,
   "outputs": [
    {
     "data": {
      "text/plain": "             Date Location  MinTemp    MaxTemp  Rainfall  Evaporation  \\\n0      2008-12-01   Albury     13.4  22.900000       0.6          1.4   \n1      2008-12-02   Albury      7.4  25.100000       0.0          0.8   \n2      2008-12-03   Albury     12.9  25.700000       0.0          6.2   \n3      2008-12-04   Albury      9.2  28.000000       0.0          3.8   \n4      2008-12-05   Albury     17.5  32.300000       1.0          3.6   \n...           ...      ...      ...        ...       ...          ...   \n145455 2017-06-21    Uluru      2.8  23.400000       0.0          5.0   \n145456 2017-06-22    Uluru      3.6  25.300000       0.0          5.4   \n145457 2017-06-23    Uluru      5.4  26.900000       0.0          3.2   \n145458 2017-06-24    Uluru      7.8  27.000000       0.0          1.6   \n145459 2017-06-25    Uluru     14.9  30.383195       0.0          8.0   \n\n        Sunshine  WindGustDir  WindGustSpeed  WindDir9am  ...  Pressure3pm  \\\n0            9.5     0.073518           44.0    0.062725  ...       1007.1   \n1            0.3     0.060821           44.0    0.059164  ...       1007.8   \n2            4.7     0.067063           46.0    0.062725  ...       1008.7   \n3            3.0     0.052729           24.0    0.068892  ...       1012.8   \n4           11.6     0.073518           41.0    0.058243  ...       1006.0   \n...          ...          ...            ...         ...  ...          ...   \n145455      10.8     0.068074           31.0    0.068892  ...       1020.3   \n145456       5.6     0.048900           22.0    0.068892  ...       1019.1   \n145457       0.0     0.068747           37.0    0.068892  ...       1016.8   \n145458       6.6     0.069847           28.0    0.067737  ...       1016.5   \n145459      10.9     0.068074           54.0    0.056359  ...       1017.9   \n\n        Cloud9am  Cloud3pm  Temp9am  Temp3pm  RainToday  RainTomorrow  Year  \\\n0            8.0       4.0     16.9     21.8          0             0  2008   \n1            7.0       0.0     17.2     24.3          0             0  2008   \n2            0.0       2.0     21.0     23.2          0             0  2008   \n3            4.0       3.0     18.1     26.5          0             0  2008   \n4            7.0       8.0     17.8     29.7          0             0  2008   \n...          ...       ...      ...      ...        ...           ...   ...   \n145455       8.0       7.0     10.1     22.4          0             0  2017   \n145456       4.0       7.0     10.9     24.5          0             0  2017   \n145457       4.0       0.0     12.5     26.1          0             0  2017   \n145458       3.0       2.0     15.1     26.0          0             0  2017   \n145459       8.0       8.0     15.0     20.9          0             1  2017   \n\n        Month  Quarter  \n0          12        4  \n1          12        4  \n2          12        4  \n3          12        4  \n4          12        4  \n...       ...      ...  \n145455      6        2  \n145456      6        2  \n145457      6        2  \n145458      6        2  \n145459      6        2  \n\n[145460 rows x 26 columns]",
      "text/html": "<div>\n<style scoped>\n    .dataframe tbody tr th:only-of-type {\n        vertical-align: middle;\n    }\n\n    .dataframe tbody tr th {\n        vertical-align: top;\n    }\n\n    .dataframe thead th {\n        text-align: right;\n    }\n</style>\n<table border=\"1\" class=\"dataframe\">\n  <thead>\n    <tr style=\"text-align: right;\">\n      <th></th>\n      <th>Date</th>\n      <th>Location</th>\n      <th>MinTemp</th>\n      <th>MaxTemp</th>\n      <th>Rainfall</th>\n      <th>Evaporation</th>\n      <th>Sunshine</th>\n      <th>WindGustDir</th>\n      <th>WindGustSpeed</th>\n      <th>WindDir9am</th>\n      <th>...</th>\n      <th>Pressure3pm</th>\n      <th>Cloud9am</th>\n      <th>Cloud3pm</th>\n      <th>Temp9am</th>\n      <th>Temp3pm</th>\n      <th>RainToday</th>\n      <th>RainTomorrow</th>\n      <th>Year</th>\n      <th>Month</th>\n      <th>Quarter</th>\n    </tr>\n  </thead>\n  <tbody>\n    <tr>\n      <th>0</th>\n      <td>2008-12-01</td>\n      <td>Albury</td>\n      <td>13.4</td>\n      <td>22.900000</td>\n      <td>0.6</td>\n      <td>1.4</td>\n      <td>9.5</td>\n      <td>0.073518</td>\n      <td>44.0</td>\n      <td>0.062725</td>\n      <td>...</td>\n      <td>1007.1</td>\n      <td>8.0</td>\n      <td>4.0</td>\n      <td>16.9</td>\n      <td>21.8</td>\n      <td>0</td>\n      <td>0</td>\n      <td>2008</td>\n      <td>12</td>\n      <td>4</td>\n    </tr>\n    <tr>\n      <th>1</th>\n      <td>2008-12-02</td>\n      <td>Albury</td>\n      <td>7.4</td>\n      <td>25.100000</td>\n      <td>0.0</td>\n      <td>0.8</td>\n      <td>0.3</td>\n      <td>0.060821</td>\n      <td>44.0</td>\n      <td>0.059164</td>\n      <td>...</td>\n      <td>1007.8</td>\n      <td>7.0</td>\n      <td>0.0</td>\n      <td>17.2</td>\n      <td>24.3</td>\n      <td>0</td>\n      <td>0</td>\n      <td>2008</td>\n      <td>12</td>\n      <td>4</td>\n    </tr>\n    <tr>\n      <th>2</th>\n      <td>2008-12-03</td>\n      <td>Albury</td>\n      <td>12.9</td>\n      <td>25.700000</td>\n      <td>0.0</td>\n      <td>6.2</td>\n      <td>4.7</td>\n      <td>0.067063</td>\n      <td>46.0</td>\n      <td>0.062725</td>\n      <td>...</td>\n      <td>1008.7</td>\n      <td>0.0</td>\n      <td>2.0</td>\n      <td>21.0</td>\n      <td>23.2</td>\n      <td>0</td>\n      <td>0</td>\n      <td>2008</td>\n      <td>12</td>\n      <td>4</td>\n    </tr>\n    <tr>\n      <th>3</th>\n      <td>2008-12-04</td>\n      <td>Albury</td>\n      <td>9.2</td>\n      <td>28.000000</td>\n      <td>0.0</td>\n      <td>3.8</td>\n      <td>3.0</td>\n      <td>0.052729</td>\n      <td>24.0</td>\n      <td>0.068892</td>\n      <td>...</td>\n      <td>1012.8</td>\n      <td>4.0</td>\n      <td>3.0</td>\n      <td>18.1</td>\n      <td>26.5</td>\n      <td>0</td>\n      <td>0</td>\n      <td>2008</td>\n      <td>12</td>\n      <td>4</td>\n    </tr>\n    <tr>\n      <th>4</th>\n      <td>2008-12-05</td>\n      <td>Albury</td>\n      <td>17.5</td>\n      <td>32.300000</td>\n      <td>1.0</td>\n      <td>3.6</td>\n      <td>11.6</td>\n      <td>0.073518</td>\n      <td>41.0</td>\n      <td>0.058243</td>\n      <td>...</td>\n      <td>1006.0</td>\n      <td>7.0</td>\n      <td>8.0</td>\n      <td>17.8</td>\n      <td>29.7</td>\n      <td>0</td>\n      <td>0</td>\n      <td>2008</td>\n      <td>12</td>\n      <td>4</td>\n    </tr>\n    <tr>\n      <th>...</th>\n      <td>...</td>\n      <td>...</td>\n      <td>...</td>\n      <td>...</td>\n      <td>...</td>\n      <td>...</td>\n      <td>...</td>\n      <td>...</td>\n      <td>...</td>\n      <td>...</td>\n      <td>...</td>\n      <td>...</td>\n      <td>...</td>\n      <td>...</td>\n      <td>...</td>\n      <td>...</td>\n      <td>...</td>\n      <td>...</td>\n      <td>...</td>\n      <td>...</td>\n      <td>...</td>\n    </tr>\n    <tr>\n      <th>145455</th>\n      <td>2017-06-21</td>\n      <td>Uluru</td>\n      <td>2.8</td>\n      <td>23.400000</td>\n      <td>0.0</td>\n      <td>5.0</td>\n      <td>10.8</td>\n      <td>0.068074</td>\n      <td>31.0</td>\n      <td>0.068892</td>\n      <td>...</td>\n      <td>1020.3</td>\n      <td>8.0</td>\n      <td>7.0</td>\n      <td>10.1</td>\n      <td>22.4</td>\n      <td>0</td>\n      <td>0</td>\n      <td>2017</td>\n      <td>6</td>\n      <td>2</td>\n    </tr>\n    <tr>\n      <th>145456</th>\n      <td>2017-06-22</td>\n      <td>Uluru</td>\n      <td>3.6</td>\n      <td>25.300000</td>\n      <td>0.0</td>\n      <td>5.4</td>\n      <td>5.6</td>\n      <td>0.048900</td>\n      <td>22.0</td>\n      <td>0.068892</td>\n      <td>...</td>\n      <td>1019.1</td>\n      <td>4.0</td>\n      <td>7.0</td>\n      <td>10.9</td>\n      <td>24.5</td>\n      <td>0</td>\n      <td>0</td>\n      <td>2017</td>\n      <td>6</td>\n      <td>2</td>\n    </tr>\n    <tr>\n      <th>145457</th>\n      <td>2017-06-23</td>\n      <td>Uluru</td>\n      <td>5.4</td>\n      <td>26.900000</td>\n      <td>0.0</td>\n      <td>3.2</td>\n      <td>0.0</td>\n      <td>0.068747</td>\n      <td>37.0</td>\n      <td>0.068892</td>\n      <td>...</td>\n      <td>1016.8</td>\n      <td>4.0</td>\n      <td>0.0</td>\n      <td>12.5</td>\n      <td>26.1</td>\n      <td>0</td>\n      <td>0</td>\n      <td>2017</td>\n      <td>6</td>\n      <td>2</td>\n    </tr>\n    <tr>\n      <th>145458</th>\n      <td>2017-06-24</td>\n      <td>Uluru</td>\n      <td>7.8</td>\n      <td>27.000000</td>\n      <td>0.0</td>\n      <td>1.6</td>\n      <td>6.6</td>\n      <td>0.069847</td>\n      <td>28.0</td>\n      <td>0.067737</td>\n      <td>...</td>\n      <td>1016.5</td>\n      <td>3.0</td>\n      <td>2.0</td>\n      <td>15.1</td>\n      <td>26.0</td>\n      <td>0</td>\n      <td>0</td>\n      <td>2017</td>\n      <td>6</td>\n      <td>2</td>\n    </tr>\n    <tr>\n      <th>145459</th>\n      <td>2017-06-25</td>\n      <td>Uluru</td>\n      <td>14.9</td>\n      <td>30.383195</td>\n      <td>0.0</td>\n      <td>8.0</td>\n      <td>10.9</td>\n      <td>0.068074</td>\n      <td>54.0</td>\n      <td>0.056359</td>\n      <td>...</td>\n      <td>1017.9</td>\n      <td>8.0</td>\n      <td>8.0</td>\n      <td>15.0</td>\n      <td>20.9</td>\n      <td>0</td>\n      <td>1</td>\n      <td>2017</td>\n      <td>6</td>\n      <td>2</td>\n    </tr>\n  </tbody>\n</table>\n<p>145460 rows × 26 columns</p>\n</div>"
     },
     "execution_count": 16,
     "metadata": {},
     "output_type": "execute_result"
    }
   ],
   "source": [
    "data['Year'] = data['Date'].dt.year\n",
    "data['Month'] = data['Date'].dt.month\n",
    "data['Quarter'] = data['Date'].dt.quarter\n",
    "data"
   ],
   "metadata": {
    "collapsed": false,
    "pycharm": {
     "name": "#%%\n"
    }
   }
  },
  {
   "cell_type": "code",
   "execution_count": 6,
   "outputs": [
    {
     "data": {
      "text/plain": "           Location  MinTemp    MaxTemp  Rainfall  Evaporation  Sunshine  \\\nDate                                                                       \n2008-12-01   Albury     13.4  22.900000       0.6          1.4       9.5   \n2008-12-02   Albury      7.4  25.100000       0.0          0.8       0.3   \n2008-12-03   Albury     12.9  25.700000       0.0          6.2       4.7   \n2008-12-04   Albury      9.2  28.000000       0.0          3.8       3.0   \n2008-12-05   Albury     17.5  32.300000       1.0          3.6      11.6   \n...             ...      ...        ...       ...          ...       ...   \n2017-06-21    Uluru      2.8  23.400000       0.0          5.0      10.8   \n2017-06-22    Uluru      3.6  25.300000       0.0          5.4       5.6   \n2017-06-23    Uluru      5.4  26.900000       0.0          3.2       0.0   \n2017-06-24    Uluru      7.8  27.000000       0.0          1.6       6.6   \n2017-06-25    Uluru     14.9  30.383195       0.0          8.0      10.9   \n\n            WindGustDir  WindGustSpeed  WindDir9am  WindDir3pm  ...  \\\nDate                                                            ...   \n2008-12-01     0.073518           44.0    0.062725    0.062739  ...   \n2008-12-02     0.060821           44.0    0.059164    0.067469  ...   \n2008-12-03     0.067063           46.0    0.062725    0.067469  ...   \n2008-12-04     0.052729           24.0    0.068892    0.059989  ...   \n2008-12-05     0.073518           41.0    0.058243    0.060876  ...   \n...                 ...            ...         ...         ...  ...   \n2017-06-21     0.068074           31.0    0.068892    0.055685  ...   \n2017-06-22     0.048900           22.0    0.068892    0.062849  ...   \n2017-06-23     0.068747           37.0    0.068892    0.062739  ...   \n2017-06-24     0.069847           28.0    0.067737    0.062849  ...   \n2017-06-25     0.068074           54.0    0.056359    0.060126  ...   \n\n            Pressure3pm  Cloud9am  Cloud3pm  Temp9am  Temp3pm  RainToday  \\\nDate                                                                       \n2008-12-01       1007.1       8.0       4.0     16.9     21.8          0   \n2008-12-02       1007.8       7.0       0.0     17.2     24.3          0   \n2008-12-03       1008.7       0.0       2.0     21.0     23.2          0   \n2008-12-04       1012.8       4.0       3.0     18.1     26.5          0   \n2008-12-05       1006.0       7.0       8.0     17.8     29.7          0   \n...                 ...       ...       ...      ...      ...        ...   \n2017-06-21       1020.3       8.0       7.0     10.1     22.4          0   \n2017-06-22       1019.1       4.0       7.0     10.9     24.5          0   \n2017-06-23       1016.8       4.0       0.0     12.5     26.1          0   \n2017-06-24       1016.5       3.0       2.0     15.1     26.0          0   \n2017-06-25       1017.9       8.0       8.0     15.0     20.9          0   \n\n            RainTomorrow  Year  Month  Quarter  \nDate                                            \n2008-12-01             0  2008     12        4  \n2008-12-02             0  2008     12        4  \n2008-12-03             0  2008     12        4  \n2008-12-04             0  2008     12        4  \n2008-12-05             0  2008     12        4  \n...                  ...   ...    ...      ...  \n2017-06-21             0  2017      6        2  \n2017-06-22             0  2017      6        2  \n2017-06-23             0  2017      6        2  \n2017-06-24             0  2017      6        2  \n2017-06-25             1  2017      6        2  \n\n[145460 rows x 25 columns]",
      "text/html": "<div>\n<style scoped>\n    .dataframe tbody tr th:only-of-type {\n        vertical-align: middle;\n    }\n\n    .dataframe tbody tr th {\n        vertical-align: top;\n    }\n\n    .dataframe thead th {\n        text-align: right;\n    }\n</style>\n<table border=\"1\" class=\"dataframe\">\n  <thead>\n    <tr style=\"text-align: right;\">\n      <th></th>\n      <th>Location</th>\n      <th>MinTemp</th>\n      <th>MaxTemp</th>\n      <th>Rainfall</th>\n      <th>Evaporation</th>\n      <th>Sunshine</th>\n      <th>WindGustDir</th>\n      <th>WindGustSpeed</th>\n      <th>WindDir9am</th>\n      <th>WindDir3pm</th>\n      <th>...</th>\n      <th>Pressure3pm</th>\n      <th>Cloud9am</th>\n      <th>Cloud3pm</th>\n      <th>Temp9am</th>\n      <th>Temp3pm</th>\n      <th>RainToday</th>\n      <th>RainTomorrow</th>\n      <th>Year</th>\n      <th>Month</th>\n      <th>Quarter</th>\n    </tr>\n    <tr>\n      <th>Date</th>\n      <th></th>\n      <th></th>\n      <th></th>\n      <th></th>\n      <th></th>\n      <th></th>\n      <th></th>\n      <th></th>\n      <th></th>\n      <th></th>\n      <th></th>\n      <th></th>\n      <th></th>\n      <th></th>\n      <th></th>\n      <th></th>\n      <th></th>\n      <th></th>\n      <th></th>\n      <th></th>\n      <th></th>\n    </tr>\n  </thead>\n  <tbody>\n    <tr>\n      <th>2008-12-01</th>\n      <td>Albury</td>\n      <td>13.4</td>\n      <td>22.900000</td>\n      <td>0.6</td>\n      <td>1.4</td>\n      <td>9.5</td>\n      <td>0.073518</td>\n      <td>44.0</td>\n      <td>0.062725</td>\n      <td>0.062739</td>\n      <td>...</td>\n      <td>1007.1</td>\n      <td>8.0</td>\n      <td>4.0</td>\n      <td>16.9</td>\n      <td>21.8</td>\n      <td>0</td>\n      <td>0</td>\n      <td>2008</td>\n      <td>12</td>\n      <td>4</td>\n    </tr>\n    <tr>\n      <th>2008-12-02</th>\n      <td>Albury</td>\n      <td>7.4</td>\n      <td>25.100000</td>\n      <td>0.0</td>\n      <td>0.8</td>\n      <td>0.3</td>\n      <td>0.060821</td>\n      <td>44.0</td>\n      <td>0.059164</td>\n      <td>0.067469</td>\n      <td>...</td>\n      <td>1007.8</td>\n      <td>7.0</td>\n      <td>0.0</td>\n      <td>17.2</td>\n      <td>24.3</td>\n      <td>0</td>\n      <td>0</td>\n      <td>2008</td>\n      <td>12</td>\n      <td>4</td>\n    </tr>\n    <tr>\n      <th>2008-12-03</th>\n      <td>Albury</td>\n      <td>12.9</td>\n      <td>25.700000</td>\n      <td>0.0</td>\n      <td>6.2</td>\n      <td>4.7</td>\n      <td>0.067063</td>\n      <td>46.0</td>\n      <td>0.062725</td>\n      <td>0.067469</td>\n      <td>...</td>\n      <td>1008.7</td>\n      <td>0.0</td>\n      <td>2.0</td>\n      <td>21.0</td>\n      <td>23.2</td>\n      <td>0</td>\n      <td>0</td>\n      <td>2008</td>\n      <td>12</td>\n      <td>4</td>\n    </tr>\n    <tr>\n      <th>2008-12-04</th>\n      <td>Albury</td>\n      <td>9.2</td>\n      <td>28.000000</td>\n      <td>0.0</td>\n      <td>3.8</td>\n      <td>3.0</td>\n      <td>0.052729</td>\n      <td>24.0</td>\n      <td>0.068892</td>\n      <td>0.059989</td>\n      <td>...</td>\n      <td>1012.8</td>\n      <td>4.0</td>\n      <td>3.0</td>\n      <td>18.1</td>\n      <td>26.5</td>\n      <td>0</td>\n      <td>0</td>\n      <td>2008</td>\n      <td>12</td>\n      <td>4</td>\n    </tr>\n    <tr>\n      <th>2008-12-05</th>\n      <td>Albury</td>\n      <td>17.5</td>\n      <td>32.300000</td>\n      <td>1.0</td>\n      <td>3.6</td>\n      <td>11.6</td>\n      <td>0.073518</td>\n      <td>41.0</td>\n      <td>0.058243</td>\n      <td>0.060876</td>\n      <td>...</td>\n      <td>1006.0</td>\n      <td>7.0</td>\n      <td>8.0</td>\n      <td>17.8</td>\n      <td>29.7</td>\n      <td>0</td>\n      <td>0</td>\n      <td>2008</td>\n      <td>12</td>\n      <td>4</td>\n    </tr>\n    <tr>\n      <th>...</th>\n      <td>...</td>\n      <td>...</td>\n      <td>...</td>\n      <td>...</td>\n      <td>...</td>\n      <td>...</td>\n      <td>...</td>\n      <td>...</td>\n      <td>...</td>\n      <td>...</td>\n      <td>...</td>\n      <td>...</td>\n      <td>...</td>\n      <td>...</td>\n      <td>...</td>\n      <td>...</td>\n      <td>...</td>\n      <td>...</td>\n      <td>...</td>\n      <td>...</td>\n      <td>...</td>\n    </tr>\n    <tr>\n      <th>2017-06-21</th>\n      <td>Uluru</td>\n      <td>2.8</td>\n      <td>23.400000</td>\n      <td>0.0</td>\n      <td>5.0</td>\n      <td>10.8</td>\n      <td>0.068074</td>\n      <td>31.0</td>\n      <td>0.068892</td>\n      <td>0.055685</td>\n      <td>...</td>\n      <td>1020.3</td>\n      <td>8.0</td>\n      <td>7.0</td>\n      <td>10.1</td>\n      <td>22.4</td>\n      <td>0</td>\n      <td>0</td>\n      <td>2017</td>\n      <td>6</td>\n      <td>2</td>\n    </tr>\n    <tr>\n      <th>2017-06-22</th>\n      <td>Uluru</td>\n      <td>3.6</td>\n      <td>25.300000</td>\n      <td>0.0</td>\n      <td>5.4</td>\n      <td>5.6</td>\n      <td>0.048900</td>\n      <td>22.0</td>\n      <td>0.068892</td>\n      <td>0.062849</td>\n      <td>...</td>\n      <td>1019.1</td>\n      <td>4.0</td>\n      <td>7.0</td>\n      <td>10.9</td>\n      <td>24.5</td>\n      <td>0</td>\n      <td>0</td>\n      <td>2017</td>\n      <td>6</td>\n      <td>2</td>\n    </tr>\n    <tr>\n      <th>2017-06-23</th>\n      <td>Uluru</td>\n      <td>5.4</td>\n      <td>26.900000</td>\n      <td>0.0</td>\n      <td>3.2</td>\n      <td>0.0</td>\n      <td>0.068747</td>\n      <td>37.0</td>\n      <td>0.068892</td>\n      <td>0.062739</td>\n      <td>...</td>\n      <td>1016.8</td>\n      <td>4.0</td>\n      <td>0.0</td>\n      <td>12.5</td>\n      <td>26.1</td>\n      <td>0</td>\n      <td>0</td>\n      <td>2017</td>\n      <td>6</td>\n      <td>2</td>\n    </tr>\n    <tr>\n      <th>2017-06-24</th>\n      <td>Uluru</td>\n      <td>7.8</td>\n      <td>27.000000</td>\n      <td>0.0</td>\n      <td>1.6</td>\n      <td>6.6</td>\n      <td>0.069847</td>\n      <td>28.0</td>\n      <td>0.067737</td>\n      <td>0.062849</td>\n      <td>...</td>\n      <td>1016.5</td>\n      <td>3.0</td>\n      <td>2.0</td>\n      <td>15.1</td>\n      <td>26.0</td>\n      <td>0</td>\n      <td>0</td>\n      <td>2017</td>\n      <td>6</td>\n      <td>2</td>\n    </tr>\n    <tr>\n      <th>2017-06-25</th>\n      <td>Uluru</td>\n      <td>14.9</td>\n      <td>30.383195</td>\n      <td>0.0</td>\n      <td>8.0</td>\n      <td>10.9</td>\n      <td>0.068074</td>\n      <td>54.0</td>\n      <td>0.056359</td>\n      <td>0.060126</td>\n      <td>...</td>\n      <td>1017.9</td>\n      <td>8.0</td>\n      <td>8.0</td>\n      <td>15.0</td>\n      <td>20.9</td>\n      <td>0</td>\n      <td>1</td>\n      <td>2017</td>\n      <td>6</td>\n      <td>2</td>\n    </tr>\n  </tbody>\n</table>\n<p>145460 rows × 25 columns</p>\n</div>"
     },
     "execution_count": 6,
     "metadata": {},
     "output_type": "execute_result"
    }
   ],
   "source": [
    "data.set_index('Date', inplace=True)\n",
    "data"
   ],
   "metadata": {
    "collapsed": false,
    "pycharm": {
     "name": "#%%\n"
    }
   }
  },
  {
   "cell_type": "code",
   "execution_count": 17,
   "outputs": [
    {
     "data": {
      "text/plain": "             Date  Location  MinTemp    MaxTemp  Rainfall  Evaporation  \\\n0      2008-12-01         0     13.4  22.900000       0.6          1.4   \n1      2008-12-02         0      7.4  25.100000       0.0          0.8   \n2      2008-12-03         0     12.9  25.700000       0.0          6.2   \n3      2008-12-04         0      9.2  28.000000       0.0          3.8   \n4      2008-12-05         0     17.5  32.300000       1.0          3.6   \n...           ...       ...      ...        ...       ...          ...   \n145455 2017-06-21        48      2.8  23.400000       0.0          5.0   \n145456 2017-06-22        48      3.6  25.300000       0.0          5.4   \n145457 2017-06-23        48      5.4  26.900000       0.0          3.2   \n145458 2017-06-24        48      7.8  27.000000       0.0          1.6   \n145459 2017-06-25        48     14.9  30.383195       0.0          8.0   \n\n        Sunshine  WindGustDir  WindGustSpeed  WindDir9am  ...  Pressure3pm  \\\n0            9.5     0.073518           44.0    0.062725  ...       1007.1   \n1            0.3     0.060821           44.0    0.059164  ...       1007.8   \n2            4.7     0.067063           46.0    0.062725  ...       1008.7   \n3            3.0     0.052729           24.0    0.068892  ...       1012.8   \n4           11.6     0.073518           41.0    0.058243  ...       1006.0   \n...          ...          ...            ...         ...  ...          ...   \n145455      10.8     0.068074           31.0    0.068892  ...       1020.3   \n145456       5.6     0.048900           22.0    0.068892  ...       1019.1   \n145457       0.0     0.068747           37.0    0.068892  ...       1016.8   \n145458       6.6     0.069847           28.0    0.067737  ...       1016.5   \n145459      10.9     0.068074           54.0    0.056359  ...       1017.9   \n\n        Cloud9am  Cloud3pm  Temp9am  Temp3pm  RainToday  RainTomorrow  Year  \\\n0            8.0       4.0     16.9     21.8          0             0  2008   \n1            7.0       0.0     17.2     24.3          0             0  2008   \n2            0.0       2.0     21.0     23.2          0             0  2008   \n3            4.0       3.0     18.1     26.5          0             0  2008   \n4            7.0       8.0     17.8     29.7          0             0  2008   \n...          ...       ...      ...      ...        ...           ...   ...   \n145455       8.0       7.0     10.1     22.4          0             0  2017   \n145456       4.0       7.0     10.9     24.5          0             0  2017   \n145457       4.0       0.0     12.5     26.1          0             0  2017   \n145458       3.0       2.0     15.1     26.0          0             0  2017   \n145459       8.0       8.0     15.0     20.9          0             1  2017   \n\n        Month  Quarter  \n0          12        4  \n1          12        4  \n2          12        4  \n3          12        4  \n4          12        4  \n...       ...      ...  \n145455      6        2  \n145456      6        2  \n145457      6        2  \n145458      6        2  \n145459      6        2  \n\n[145460 rows x 26 columns]",
      "text/html": "<div>\n<style scoped>\n    .dataframe tbody tr th:only-of-type {\n        vertical-align: middle;\n    }\n\n    .dataframe tbody tr th {\n        vertical-align: top;\n    }\n\n    .dataframe thead th {\n        text-align: right;\n    }\n</style>\n<table border=\"1\" class=\"dataframe\">\n  <thead>\n    <tr style=\"text-align: right;\">\n      <th></th>\n      <th>Date</th>\n      <th>Location</th>\n      <th>MinTemp</th>\n      <th>MaxTemp</th>\n      <th>Rainfall</th>\n      <th>Evaporation</th>\n      <th>Sunshine</th>\n      <th>WindGustDir</th>\n      <th>WindGustSpeed</th>\n      <th>WindDir9am</th>\n      <th>...</th>\n      <th>Pressure3pm</th>\n      <th>Cloud9am</th>\n      <th>Cloud3pm</th>\n      <th>Temp9am</th>\n      <th>Temp3pm</th>\n      <th>RainToday</th>\n      <th>RainTomorrow</th>\n      <th>Year</th>\n      <th>Month</th>\n      <th>Quarter</th>\n    </tr>\n  </thead>\n  <tbody>\n    <tr>\n      <th>0</th>\n      <td>2008-12-01</td>\n      <td>0</td>\n      <td>13.4</td>\n      <td>22.900000</td>\n      <td>0.6</td>\n      <td>1.4</td>\n      <td>9.5</td>\n      <td>0.073518</td>\n      <td>44.0</td>\n      <td>0.062725</td>\n      <td>...</td>\n      <td>1007.1</td>\n      <td>8.0</td>\n      <td>4.0</td>\n      <td>16.9</td>\n      <td>21.8</td>\n      <td>0</td>\n      <td>0</td>\n      <td>2008</td>\n      <td>12</td>\n      <td>4</td>\n    </tr>\n    <tr>\n      <th>1</th>\n      <td>2008-12-02</td>\n      <td>0</td>\n      <td>7.4</td>\n      <td>25.100000</td>\n      <td>0.0</td>\n      <td>0.8</td>\n      <td>0.3</td>\n      <td>0.060821</td>\n      <td>44.0</td>\n      <td>0.059164</td>\n      <td>...</td>\n      <td>1007.8</td>\n      <td>7.0</td>\n      <td>0.0</td>\n      <td>17.2</td>\n      <td>24.3</td>\n      <td>0</td>\n      <td>0</td>\n      <td>2008</td>\n      <td>12</td>\n      <td>4</td>\n    </tr>\n    <tr>\n      <th>2</th>\n      <td>2008-12-03</td>\n      <td>0</td>\n      <td>12.9</td>\n      <td>25.700000</td>\n      <td>0.0</td>\n      <td>6.2</td>\n      <td>4.7</td>\n      <td>0.067063</td>\n      <td>46.0</td>\n      <td>0.062725</td>\n      <td>...</td>\n      <td>1008.7</td>\n      <td>0.0</td>\n      <td>2.0</td>\n      <td>21.0</td>\n      <td>23.2</td>\n      <td>0</td>\n      <td>0</td>\n      <td>2008</td>\n      <td>12</td>\n      <td>4</td>\n    </tr>\n    <tr>\n      <th>3</th>\n      <td>2008-12-04</td>\n      <td>0</td>\n      <td>9.2</td>\n      <td>28.000000</td>\n      <td>0.0</td>\n      <td>3.8</td>\n      <td>3.0</td>\n      <td>0.052729</td>\n      <td>24.0</td>\n      <td>0.068892</td>\n      <td>...</td>\n      <td>1012.8</td>\n      <td>4.0</td>\n      <td>3.0</td>\n      <td>18.1</td>\n      <td>26.5</td>\n      <td>0</td>\n      <td>0</td>\n      <td>2008</td>\n      <td>12</td>\n      <td>4</td>\n    </tr>\n    <tr>\n      <th>4</th>\n      <td>2008-12-05</td>\n      <td>0</td>\n      <td>17.5</td>\n      <td>32.300000</td>\n      <td>1.0</td>\n      <td>3.6</td>\n      <td>11.6</td>\n      <td>0.073518</td>\n      <td>41.0</td>\n      <td>0.058243</td>\n      <td>...</td>\n      <td>1006.0</td>\n      <td>7.0</td>\n      <td>8.0</td>\n      <td>17.8</td>\n      <td>29.7</td>\n      <td>0</td>\n      <td>0</td>\n      <td>2008</td>\n      <td>12</td>\n      <td>4</td>\n    </tr>\n    <tr>\n      <th>...</th>\n      <td>...</td>\n      <td>...</td>\n      <td>...</td>\n      <td>...</td>\n      <td>...</td>\n      <td>...</td>\n      <td>...</td>\n      <td>...</td>\n      <td>...</td>\n      <td>...</td>\n      <td>...</td>\n      <td>...</td>\n      <td>...</td>\n      <td>...</td>\n      <td>...</td>\n      <td>...</td>\n      <td>...</td>\n      <td>...</td>\n      <td>...</td>\n      <td>...</td>\n      <td>...</td>\n    </tr>\n    <tr>\n      <th>145455</th>\n      <td>2017-06-21</td>\n      <td>48</td>\n      <td>2.8</td>\n      <td>23.400000</td>\n      <td>0.0</td>\n      <td>5.0</td>\n      <td>10.8</td>\n      <td>0.068074</td>\n      <td>31.0</td>\n      <td>0.068892</td>\n      <td>...</td>\n      <td>1020.3</td>\n      <td>8.0</td>\n      <td>7.0</td>\n      <td>10.1</td>\n      <td>22.4</td>\n      <td>0</td>\n      <td>0</td>\n      <td>2017</td>\n      <td>6</td>\n      <td>2</td>\n    </tr>\n    <tr>\n      <th>145456</th>\n      <td>2017-06-22</td>\n      <td>48</td>\n      <td>3.6</td>\n      <td>25.300000</td>\n      <td>0.0</td>\n      <td>5.4</td>\n      <td>5.6</td>\n      <td>0.048900</td>\n      <td>22.0</td>\n      <td>0.068892</td>\n      <td>...</td>\n      <td>1019.1</td>\n      <td>4.0</td>\n      <td>7.0</td>\n      <td>10.9</td>\n      <td>24.5</td>\n      <td>0</td>\n      <td>0</td>\n      <td>2017</td>\n      <td>6</td>\n      <td>2</td>\n    </tr>\n    <tr>\n      <th>145457</th>\n      <td>2017-06-23</td>\n      <td>48</td>\n      <td>5.4</td>\n      <td>26.900000</td>\n      <td>0.0</td>\n      <td>3.2</td>\n      <td>0.0</td>\n      <td>0.068747</td>\n      <td>37.0</td>\n      <td>0.068892</td>\n      <td>...</td>\n      <td>1016.8</td>\n      <td>4.0</td>\n      <td>0.0</td>\n      <td>12.5</td>\n      <td>26.1</td>\n      <td>0</td>\n      <td>0</td>\n      <td>2017</td>\n      <td>6</td>\n      <td>2</td>\n    </tr>\n    <tr>\n      <th>145458</th>\n      <td>2017-06-24</td>\n      <td>48</td>\n      <td>7.8</td>\n      <td>27.000000</td>\n      <td>0.0</td>\n      <td>1.6</td>\n      <td>6.6</td>\n      <td>0.069847</td>\n      <td>28.0</td>\n      <td>0.067737</td>\n      <td>...</td>\n      <td>1016.5</td>\n      <td>3.0</td>\n      <td>2.0</td>\n      <td>15.1</td>\n      <td>26.0</td>\n      <td>0</td>\n      <td>0</td>\n      <td>2017</td>\n      <td>6</td>\n      <td>2</td>\n    </tr>\n    <tr>\n      <th>145459</th>\n      <td>2017-06-25</td>\n      <td>48</td>\n      <td>14.9</td>\n      <td>30.383195</td>\n      <td>0.0</td>\n      <td>8.0</td>\n      <td>10.9</td>\n      <td>0.068074</td>\n      <td>54.0</td>\n      <td>0.056359</td>\n      <td>...</td>\n      <td>1017.9</td>\n      <td>8.0</td>\n      <td>8.0</td>\n      <td>15.0</td>\n      <td>20.9</td>\n      <td>0</td>\n      <td>1</td>\n      <td>2017</td>\n      <td>6</td>\n      <td>2</td>\n    </tr>\n  </tbody>\n</table>\n<p>145460 rows × 26 columns</p>\n</div>"
     },
     "execution_count": 17,
     "metadata": {},
     "output_type": "execute_result"
    }
   ],
   "source": [
    "location_encoder = OrdinalEncoder(encoding_method='arbitrary',\n",
    "                                  variables=['Location'])\n",
    "location_encoder.fit(data)\n",
    "# location_encoder.encoder_dict_\n",
    "data = location_encoder.transform(data)\n",
    "data"
   ],
   "metadata": {
    "collapsed": false,
    "pycharm": {
     "name": "#%%\n"
    }
   }
  },
  {
   "cell_type": "markdown",
   "source": [
    "### regression feature selection"
   ],
   "metadata": {
    "collapsed": false
   }
  },
  {
   "cell_type": "code",
   "execution_count": 64,
   "outputs": [
    {
     "data": {
      "text/plain": "             Date  Location  MinTemp  MaxTemp  Rainfall  Evaporation  \\\n74386  2015-11-10        24     15.9     21.9       0.0         10.8   \n43445  2011-06-17        14      9.5     18.2       0.0          4.0   \n7497   2013-03-18         2     11.0     27.2       0.0          8.4   \n18422  2009-11-04         6     19.1     21.0       0.0          4.6   \n50156  2012-02-08        16     15.8     22.3       0.0          6.4   \n...           ...       ...      ...      ...       ...          ...   \n44198  2013-09-06        14     16.1     20.3       0.0          4.2   \n34751  2012-06-15        11     10.8     21.5       0.0          1.6   \n13189  2012-02-27         4     19.7     30.5       3.2          2.6   \n38549  2014-10-11        12      6.4     30.1       0.0          5.2   \n141509 2015-04-23        46     24.1     33.5       0.0          5.6   \n\n        Sunshine  WindGustDir  WindGustSpeed  WindDir9am  ...  Pressure3pm  \\\n74386        0.9     0.067757           41.0    0.064018  ...       1017.4   \n43445       10.3     0.067063           76.0    0.056249  ...       1005.1   \n7497         9.7     0.052729           26.0    0.068892  ...       1016.2   \n18422        9.6     0.067757           44.0    0.068892  ...       1015.5   \n50156        1.9     0.059975           33.0    0.058243  ...       1010.1   \n...          ...          ...            ...         ...  ...          ...   \n44198        4.3     0.067757           31.0    0.064018  ...       1023.3   \n34751        3.5     0.068747           30.0    0.064733  ...       1013.0   \n13189        6.0     0.048563           43.0    0.058243  ...       1015.3   \n38549       12.0     0.068074           22.0    0.067895  ...       1013.2   \n141509      10.9     0.052729           30.0    0.067895  ...       1007.7   \n\n        Cloud9am  Cloud3pm  Temp9am  Temp3pm  RainToday  RainTomorrow  Year  \\\n74386        1.0       8.0     16.5     19.7          0             0  2015   \n43445        5.0       5.0     14.3     15.4          0             0  2011   \n7497         1.0       2.0     15.7     25.7          0             0  2013   \n18422        1.0       3.0     19.7     19.3          0             0  2009   \n50156        8.0       8.0     16.7     21.0          0             0  2012   \n...          ...       ...      ...      ...        ...           ...   ...   \n44198        0.0       4.0     18.3     19.6          0             0  2013   \n34751        7.0       5.0     13.3     21.0          0             0  2012   \n13189        7.0       7.0     22.7     28.7          1             0  2012   \n38549        1.0       1.0     16.6     29.2          0             0  2014   \n141509       6.0       4.0     27.5     32.8          0             0  2015   \n\n        Month  Quarter  \n74386      11        4  \n43445       6        2  \n7497        3        1  \n18422      11        4  \n50156       2        1  \n...       ...      ...  \n44198       9        3  \n34751       6        2  \n13189       2        1  \n38549      10        4  \n141509      4        2  \n\n[1000 rows x 26 columns]",
      "text/html": "<div>\n<style scoped>\n    .dataframe tbody tr th:only-of-type {\n        vertical-align: middle;\n    }\n\n    .dataframe tbody tr th {\n        vertical-align: top;\n    }\n\n    .dataframe thead th {\n        text-align: right;\n    }\n</style>\n<table border=\"1\" class=\"dataframe\">\n  <thead>\n    <tr style=\"text-align: right;\">\n      <th></th>\n      <th>Date</th>\n      <th>Location</th>\n      <th>MinTemp</th>\n      <th>MaxTemp</th>\n      <th>Rainfall</th>\n      <th>Evaporation</th>\n      <th>Sunshine</th>\n      <th>WindGustDir</th>\n      <th>WindGustSpeed</th>\n      <th>WindDir9am</th>\n      <th>...</th>\n      <th>Pressure3pm</th>\n      <th>Cloud9am</th>\n      <th>Cloud3pm</th>\n      <th>Temp9am</th>\n      <th>Temp3pm</th>\n      <th>RainToday</th>\n      <th>RainTomorrow</th>\n      <th>Year</th>\n      <th>Month</th>\n      <th>Quarter</th>\n    </tr>\n  </thead>\n  <tbody>\n    <tr>\n      <th>74386</th>\n      <td>2015-11-10</td>\n      <td>24</td>\n      <td>15.9</td>\n      <td>21.9</td>\n      <td>0.0</td>\n      <td>10.8</td>\n      <td>0.9</td>\n      <td>0.067757</td>\n      <td>41.0</td>\n      <td>0.064018</td>\n      <td>...</td>\n      <td>1017.4</td>\n      <td>1.0</td>\n      <td>8.0</td>\n      <td>16.5</td>\n      <td>19.7</td>\n      <td>0</td>\n      <td>0</td>\n      <td>2015</td>\n      <td>11</td>\n      <td>4</td>\n    </tr>\n    <tr>\n      <th>43445</th>\n      <td>2011-06-17</td>\n      <td>14</td>\n      <td>9.5</td>\n      <td>18.2</td>\n      <td>0.0</td>\n      <td>4.0</td>\n      <td>10.3</td>\n      <td>0.067063</td>\n      <td>76.0</td>\n      <td>0.056249</td>\n      <td>...</td>\n      <td>1005.1</td>\n      <td>5.0</td>\n      <td>5.0</td>\n      <td>14.3</td>\n      <td>15.4</td>\n      <td>0</td>\n      <td>0</td>\n      <td>2011</td>\n      <td>6</td>\n      <td>2</td>\n    </tr>\n    <tr>\n      <th>7497</th>\n      <td>2013-03-18</td>\n      <td>2</td>\n      <td>11.0</td>\n      <td>27.2</td>\n      <td>0.0</td>\n      <td>8.4</td>\n      <td>9.7</td>\n      <td>0.052729</td>\n      <td>26.0</td>\n      <td>0.068892</td>\n      <td>...</td>\n      <td>1016.2</td>\n      <td>1.0</td>\n      <td>2.0</td>\n      <td>15.7</td>\n      <td>25.7</td>\n      <td>0</td>\n      <td>0</td>\n      <td>2013</td>\n      <td>3</td>\n      <td>1</td>\n    </tr>\n    <tr>\n      <th>18422</th>\n      <td>2009-11-04</td>\n      <td>6</td>\n      <td>19.1</td>\n      <td>21.0</td>\n      <td>0.0</td>\n      <td>4.6</td>\n      <td>9.6</td>\n      <td>0.067757</td>\n      <td>44.0</td>\n      <td>0.068892</td>\n      <td>...</td>\n      <td>1015.5</td>\n      <td>1.0</td>\n      <td>3.0</td>\n      <td>19.7</td>\n      <td>19.3</td>\n      <td>0</td>\n      <td>0</td>\n      <td>2009</td>\n      <td>11</td>\n      <td>4</td>\n    </tr>\n    <tr>\n      <th>50156</th>\n      <td>2012-02-08</td>\n      <td>16</td>\n      <td>15.8</td>\n      <td>22.3</td>\n      <td>0.0</td>\n      <td>6.4</td>\n      <td>1.9</td>\n      <td>0.059975</td>\n      <td>33.0</td>\n      <td>0.058243</td>\n      <td>...</td>\n      <td>1010.1</td>\n      <td>8.0</td>\n      <td>8.0</td>\n      <td>16.7</td>\n      <td>21.0</td>\n      <td>0</td>\n      <td>0</td>\n      <td>2012</td>\n      <td>2</td>\n      <td>1</td>\n    </tr>\n    <tr>\n      <th>...</th>\n      <td>...</td>\n      <td>...</td>\n      <td>...</td>\n      <td>...</td>\n      <td>...</td>\n      <td>...</td>\n      <td>...</td>\n      <td>...</td>\n      <td>...</td>\n      <td>...</td>\n      <td>...</td>\n      <td>...</td>\n      <td>...</td>\n      <td>...</td>\n      <td>...</td>\n      <td>...</td>\n      <td>...</td>\n      <td>...</td>\n      <td>...</td>\n      <td>...</td>\n      <td>...</td>\n    </tr>\n    <tr>\n      <th>44198</th>\n      <td>2013-09-06</td>\n      <td>14</td>\n      <td>16.1</td>\n      <td>20.3</td>\n      <td>0.0</td>\n      <td>4.2</td>\n      <td>4.3</td>\n      <td>0.067757</td>\n      <td>31.0</td>\n      <td>0.064018</td>\n      <td>...</td>\n      <td>1023.3</td>\n      <td>0.0</td>\n      <td>4.0</td>\n      <td>18.3</td>\n      <td>19.6</td>\n      <td>0</td>\n      <td>0</td>\n      <td>2013</td>\n      <td>9</td>\n      <td>3</td>\n    </tr>\n    <tr>\n      <th>34751</th>\n      <td>2012-06-15</td>\n      <td>11</td>\n      <td>10.8</td>\n      <td>21.5</td>\n      <td>0.0</td>\n      <td>1.6</td>\n      <td>3.5</td>\n      <td>0.068747</td>\n      <td>30.0</td>\n      <td>0.064733</td>\n      <td>...</td>\n      <td>1013.0</td>\n      <td>7.0</td>\n      <td>5.0</td>\n      <td>13.3</td>\n      <td>21.0</td>\n      <td>0</td>\n      <td>0</td>\n      <td>2012</td>\n      <td>6</td>\n      <td>2</td>\n    </tr>\n    <tr>\n      <th>13189</th>\n      <td>2012-02-27</td>\n      <td>4</td>\n      <td>19.7</td>\n      <td>30.5</td>\n      <td>3.2</td>\n      <td>2.6</td>\n      <td>6.0</td>\n      <td>0.048563</td>\n      <td>43.0</td>\n      <td>0.058243</td>\n      <td>...</td>\n      <td>1015.3</td>\n      <td>7.0</td>\n      <td>7.0</td>\n      <td>22.7</td>\n      <td>28.7</td>\n      <td>1</td>\n      <td>0</td>\n      <td>2012</td>\n      <td>2</td>\n      <td>1</td>\n    </tr>\n    <tr>\n      <th>38549</th>\n      <td>2014-10-11</td>\n      <td>12</td>\n      <td>6.4</td>\n      <td>30.1</td>\n      <td>0.0</td>\n      <td>5.2</td>\n      <td>12.0</td>\n      <td>0.068074</td>\n      <td>22.0</td>\n      <td>0.067895</td>\n      <td>...</td>\n      <td>1013.2</td>\n      <td>1.0</td>\n      <td>1.0</td>\n      <td>16.6</td>\n      <td>29.2</td>\n      <td>0</td>\n      <td>0</td>\n      <td>2014</td>\n      <td>10</td>\n      <td>4</td>\n    </tr>\n    <tr>\n      <th>141509</th>\n      <td>2015-04-23</td>\n      <td>46</td>\n      <td>24.1</td>\n      <td>33.5</td>\n      <td>0.0</td>\n      <td>5.6</td>\n      <td>10.9</td>\n      <td>0.052729</td>\n      <td>30.0</td>\n      <td>0.067895</td>\n      <td>...</td>\n      <td>1007.7</td>\n      <td>6.0</td>\n      <td>4.0</td>\n      <td>27.5</td>\n      <td>32.8</td>\n      <td>0</td>\n      <td>0</td>\n      <td>2015</td>\n      <td>4</td>\n      <td>2</td>\n    </tr>\n  </tbody>\n</table>\n<p>1000 rows × 26 columns</p>\n</div>"
     },
     "execution_count": 64,
     "metadata": {},
     "output_type": "execute_result"
    }
   ],
   "source": [
    "# for testing get small sample\n",
    "data_copy = data.sample(n=1000, random_state=64)\n",
    "data_copy"
   ],
   "metadata": {
    "collapsed": false,
    "pycharm": {
     "name": "#%%\n"
    }
   }
  },
  {
   "cell_type": "code",
   "execution_count": 67,
   "outputs": [
    {
     "data": {
      "text/plain": "array([[ 0. ,  0.9, 41. , ...,  1. , 19.7,  0. ],\n       [ 0. , 10.3, 76. , ...,  5. , 15.4,  0. ],\n       [ 0. ,  9.7, 26. , ...,  1. , 25.7,  0. ],\n       ...,\n       [ 3.2,  6. , 43. , ...,  7. , 28.7,  1. ],\n       [ 0. , 12. , 22. , ...,  1. , 29.2,  0. ],\n       [ 0. , 10.9, 30. , ...,  6. , 32.8,  0. ]])"
     },
     "execution_count": 67,
     "metadata": {},
     "output_type": "execute_result"
    }
   ],
   "source": [
    "temp = data_copy.drop(['RainTomorrow', 'Date'], axis=1)\n",
    "y = data_copy['RainTomorrow']\n",
    "features = SelectKBest(score_func=f_regression, k=10)\n",
    "selected_features = features.fit_transform(temp, y)\n",
    "selected_features"
   ],
   "metadata": {
    "collapsed": false,
    "pycharm": {
     "name": "#%%\n"
    }
   }
  },
  {
   "cell_type": "code",
   "execution_count": 197,
   "outputs": [
    {
     "data": {
      "text/plain": "((800, 10), (200, 10))"
     },
     "execution_count": 197,
     "metadata": {},
     "output_type": "execute_result"
    }
   ],
   "source": [
    "input_feature = ['Rainfall', 'Sunshine', 'WindGustSpeed', 'Humidity9am', 'Humidity3pm',\n",
    "                 'Pressure9am', 'Pressure3pm', 'Cloud9am', 'Cloud3pm', 'RainToday']\n",
    "train_x, test_x, train_y, test_y = train_test_split(temp[input_feature], y, test_size=0.2, random_state=64)\n",
    "train_x.shape, test_x.shape"
   ],
   "metadata": {
    "collapsed": false,
    "pycharm": {
     "name": "#%%\n"
    }
   }
  },
  {
   "cell_type": "markdown",
   "source": [
    "## CART implementation"
   ],
   "metadata": {
    "collapsed": false
   }
  },
  {
   "cell_type": "markdown",
   "source": [
    "- calculate GINI index"
   ],
   "metadata": {
    "collapsed": false,
    "pycharm": {
     "name": "#%% md\n"
    }
   }
  },
  {
   "cell_type": "code",
   "execution_count": null,
   "outputs": [],
   "source": [
    "def gini_score(groups, classes):\n",
    "    score = 0.0\n",
    "    n_instance = np.sum([len(group) for group in groups])\n",
    "    for group in groups:\n",
    "        class_values = 0.0\n",
    "\n",
    "        if len(group) == 0:\n",
    "            continue\n",
    "\n",
    "        for cls in classes:\n",
    "            class_values += np.power(np.sum(group.iloc[:, -1] == cls) / len(group), 2)\n",
    "\n",
    "        # weighted score\n",
    "        score += (len(group) / n_instance) * (1 - class_values)\n",
    "\n",
    "    return score"
   ],
   "metadata": {
    "collapsed": false,
    "pycharm": {
     "name": "#%%\n"
    }
   }
  },
  {
   "cell_type": "markdown",
   "source": [
    "- splitter function"
   ],
   "metadata": {
    "collapsed": false
   }
  },
  {
   "cell_type": "code",
   "execution_count": null,
   "outputs": [],
   "source": [
    "def splitter(index, column, dataset):\n",
    "    left = dataset[dataset.iloc[:, column] < dataset.iloc[index, column]]\n",
    "    right = dataset[dataset.iloc[:, column] >= dataset.iloc[index, column]]\n",
    "\n",
    "    return left, right"
   ],
   "metadata": {
    "collapsed": false,
    "pycharm": {
     "name": "#%%\n"
    }
   }
  },
  {
   "cell_type": "markdown",
   "source": [
    "- find best split point"
   ],
   "metadata": {
    "collapsed": false
   }
  },
  {
   "cell_type": "code",
   "execution_count": null,
   "outputs": [],
   "source": [
    "def find_split_point(dataset):\n",
    "    classes = set(dataset.iloc[:, -1])\n",
    "    features = list(dataset.columns)\n",
    "    dataset = dataset.reset_index().drop('index', axis=1)\n",
    "    t_index, t_value, t_score, t_groups = 99999, 99999, 99999, None\n",
    "\n",
    "    for col in range(len(features) - 1):\n",
    "        for index in dataset.index:\n",
    "            groups = splitter(index, col, dataset)\n",
    "            score = gini_score(groups, classes)\n",
    "\n",
    "            if score < t_score:\n",
    "                t_index, t_score, t_value, t_groups = col, score, dataset.iloc[index, col], groups\n",
    "\n",
    "    return {\"index\": t_index,\n",
    "            \"value\": t_value,\n",
    "            \"groups\": t_groups}"
   ],
   "metadata": {
    "collapsed": false,
    "pycharm": {
     "name": "#%%\n"
    }
   }
  },
  {
   "cell_type": "markdown",
   "source": [
    "- terminator function to stop growing tree when stopping criteria reached"
   ],
   "metadata": {
    "collapsed": false
   }
  },
  {
   "cell_type": "code",
   "execution_count": null,
   "outputs": [],
   "source": [
    "def to_terminal(group):\n",
    "    outcome = list(group.iloc[:, -1])\n",
    "\n",
    "    return max(outcome, key=outcome.count)"
   ],
   "metadata": {
    "collapsed": false,
    "pycharm": {
     "name": "#%%\n"
    }
   }
  },
  {
   "cell_type": "code",
   "execution_count": null,
   "outputs": [],
   "source": [],
   "metadata": {
    "collapsed": false,
    "pycharm": {
     "name": "#%%\n"
    }
   }
  }
 ],
 "metadata": {
  "kernelspec": {
   "display_name": "Python 3",
   "language": "python",
   "name": "python3"
  },
  "language_info": {
   "codemirror_mode": {
    "name": "ipython",
    "version": 2
   },
   "file_extension": ".py",
   "mimetype": "text/x-python",
   "name": "python",
   "nbconvert_exporter": "python",
   "pygments_lexer": "ipython2",
   "version": "2.7.6"
  }
 },
 "nbformat": 4,
 "nbformat_minor": 0
}