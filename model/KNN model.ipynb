{
 "cells": [
  {
   "cell_type": "code",
   "execution_count": 7,
   "metadata": {
    "collapsed": true,
    "pycharm": {
     "name": "#%%\n"
    }
   },
   "outputs": [],
   "source": [
    "import random\n",
    "import pandas as pd\n",
    "import numpy as np\n",
    "import scipy.stats as ss\n",
    "import seaborn as sns\n",
    "import plotly.graph_objs as go\n",
    "from plotly.offline import plot\n",
    "from feature_engine.encoding import OrdinalEncoder\n",
    "from sklearn.neighbors import KNeighborsClassifier as KNN\n",
    "from sklearn.feature_selection import SelectKBest, f_regression\n",
    "from sklearn.model_selection import train_test_split, RepeatedStratifiedKFold, cross_val_score"
   ]
  },
  {
   "cell_type": "code",
   "execution_count": 2,
   "outputs": [
    {
     "data": {
      "text/plain": "              Date Location  MinTemp    MaxTemp  Rainfall  Evaporation  \\\n0       2008-12-01   Albury     13.4  22.900000       0.6          1.4   \n1       2008-12-02   Albury      7.4  25.100000       0.0          0.8   \n2       2008-12-03   Albury     12.9  25.700000       0.0          6.2   \n3       2008-12-04   Albury      9.2  28.000000       0.0          3.8   \n4       2008-12-05   Albury     17.5  32.300000       1.0          3.6   \n...            ...      ...      ...        ...       ...          ...   \n145455  2017-06-21    Uluru      2.8  23.400000       0.0          5.0   \n145456  2017-06-22    Uluru      3.6  25.300000       0.0          5.4   \n145457  2017-06-23    Uluru      5.4  26.900000       0.0          3.2   \n145458  2017-06-24    Uluru      7.8  27.000000       0.0          1.6   \n145459  2017-06-25    Uluru     14.9  30.383195       0.0          8.0   \n\n        Sunshine  WindGustDir  WindGustSpeed  WindDir9am  ...  Humidity9am  \\\n0            9.5     0.073518           44.0    0.062725  ...         71.0   \n1            0.3     0.060821           44.0    0.059164  ...         44.0   \n2            4.7     0.067063           46.0    0.062725  ...         38.0   \n3            3.0     0.052729           24.0    0.068892  ...         45.0   \n4           11.6     0.073518           41.0    0.058243  ...         82.0   \n...          ...          ...            ...         ...  ...          ...   \n145455      10.8     0.068074           31.0    0.068892  ...         51.0   \n145456       5.6     0.048900           22.0    0.068892  ...         56.0   \n145457       0.0     0.068747           37.0    0.068892  ...         53.0   \n145458       6.6     0.069847           28.0    0.067737  ...         51.0   \n145459      10.9     0.068074           54.0    0.056359  ...         62.0   \n\n        Humidity3pm  Pressure9am  Pressure3pm  Cloud9am  Cloud3pm  Temp9am  \\\n0              22.0       1007.7       1007.1       8.0       4.0     16.9   \n1              25.0       1010.6       1007.8       7.0       0.0     17.2   \n2              30.0       1007.6       1008.7       0.0       2.0     21.0   \n3              16.0       1017.6       1012.8       4.0       3.0     18.1   \n4              33.0       1010.8       1006.0       7.0       8.0     17.8   \n...             ...          ...          ...       ...       ...      ...   \n145455         24.0       1024.6       1020.3       8.0       7.0     10.1   \n145456         21.0       1023.5       1019.1       4.0       7.0     10.9   \n145457         24.0       1021.0       1016.8       4.0       0.0     12.5   \n145458         24.0       1019.4       1016.5       3.0       2.0     15.1   \n145459         36.0       1020.2       1017.9       8.0       8.0     15.0   \n\n        Temp3pm  RainToday  RainTomorrow  \n0          21.8         No            No  \n1          24.3         No            No  \n2          23.2         No            No  \n3          26.5         No            No  \n4          29.7         No            No  \n...         ...        ...           ...  \n145455     22.4         No            No  \n145456     24.5         No            No  \n145457     26.1         No            No  \n145458     26.0         No            No  \n145459     20.9         No           Yes  \n\n[145460 rows x 23 columns]",
      "text/html": "<div>\n<style scoped>\n    .dataframe tbody tr th:only-of-type {\n        vertical-align: middle;\n    }\n\n    .dataframe tbody tr th {\n        vertical-align: top;\n    }\n\n    .dataframe thead th {\n        text-align: right;\n    }\n</style>\n<table border=\"1\" class=\"dataframe\">\n  <thead>\n    <tr style=\"text-align: right;\">\n      <th></th>\n      <th>Date</th>\n      <th>Location</th>\n      <th>MinTemp</th>\n      <th>MaxTemp</th>\n      <th>Rainfall</th>\n      <th>Evaporation</th>\n      <th>Sunshine</th>\n      <th>WindGustDir</th>\n      <th>WindGustSpeed</th>\n      <th>WindDir9am</th>\n      <th>...</th>\n      <th>Humidity9am</th>\n      <th>Humidity3pm</th>\n      <th>Pressure9am</th>\n      <th>Pressure3pm</th>\n      <th>Cloud9am</th>\n      <th>Cloud3pm</th>\n      <th>Temp9am</th>\n      <th>Temp3pm</th>\n      <th>RainToday</th>\n      <th>RainTomorrow</th>\n    </tr>\n  </thead>\n  <tbody>\n    <tr>\n      <th>0</th>\n      <td>2008-12-01</td>\n      <td>Albury</td>\n      <td>13.4</td>\n      <td>22.900000</td>\n      <td>0.6</td>\n      <td>1.4</td>\n      <td>9.5</td>\n      <td>0.073518</td>\n      <td>44.0</td>\n      <td>0.062725</td>\n      <td>...</td>\n      <td>71.0</td>\n      <td>22.0</td>\n      <td>1007.7</td>\n      <td>1007.1</td>\n      <td>8.0</td>\n      <td>4.0</td>\n      <td>16.9</td>\n      <td>21.8</td>\n      <td>No</td>\n      <td>No</td>\n    </tr>\n    <tr>\n      <th>1</th>\n      <td>2008-12-02</td>\n      <td>Albury</td>\n      <td>7.4</td>\n      <td>25.100000</td>\n      <td>0.0</td>\n      <td>0.8</td>\n      <td>0.3</td>\n      <td>0.060821</td>\n      <td>44.0</td>\n      <td>0.059164</td>\n      <td>...</td>\n      <td>44.0</td>\n      <td>25.0</td>\n      <td>1010.6</td>\n      <td>1007.8</td>\n      <td>7.0</td>\n      <td>0.0</td>\n      <td>17.2</td>\n      <td>24.3</td>\n      <td>No</td>\n      <td>No</td>\n    </tr>\n    <tr>\n      <th>2</th>\n      <td>2008-12-03</td>\n      <td>Albury</td>\n      <td>12.9</td>\n      <td>25.700000</td>\n      <td>0.0</td>\n      <td>6.2</td>\n      <td>4.7</td>\n      <td>0.067063</td>\n      <td>46.0</td>\n      <td>0.062725</td>\n      <td>...</td>\n      <td>38.0</td>\n      <td>30.0</td>\n      <td>1007.6</td>\n      <td>1008.7</td>\n      <td>0.0</td>\n      <td>2.0</td>\n      <td>21.0</td>\n      <td>23.2</td>\n      <td>No</td>\n      <td>No</td>\n    </tr>\n    <tr>\n      <th>3</th>\n      <td>2008-12-04</td>\n      <td>Albury</td>\n      <td>9.2</td>\n      <td>28.000000</td>\n      <td>0.0</td>\n      <td>3.8</td>\n      <td>3.0</td>\n      <td>0.052729</td>\n      <td>24.0</td>\n      <td>0.068892</td>\n      <td>...</td>\n      <td>45.0</td>\n      <td>16.0</td>\n      <td>1017.6</td>\n      <td>1012.8</td>\n      <td>4.0</td>\n      <td>3.0</td>\n      <td>18.1</td>\n      <td>26.5</td>\n      <td>No</td>\n      <td>No</td>\n    </tr>\n    <tr>\n      <th>4</th>\n      <td>2008-12-05</td>\n      <td>Albury</td>\n      <td>17.5</td>\n      <td>32.300000</td>\n      <td>1.0</td>\n      <td>3.6</td>\n      <td>11.6</td>\n      <td>0.073518</td>\n      <td>41.0</td>\n      <td>0.058243</td>\n      <td>...</td>\n      <td>82.0</td>\n      <td>33.0</td>\n      <td>1010.8</td>\n      <td>1006.0</td>\n      <td>7.0</td>\n      <td>8.0</td>\n      <td>17.8</td>\n      <td>29.7</td>\n      <td>No</td>\n      <td>No</td>\n    </tr>\n    <tr>\n      <th>...</th>\n      <td>...</td>\n      <td>...</td>\n      <td>...</td>\n      <td>...</td>\n      <td>...</td>\n      <td>...</td>\n      <td>...</td>\n      <td>...</td>\n      <td>...</td>\n      <td>...</td>\n      <td>...</td>\n      <td>...</td>\n      <td>...</td>\n      <td>...</td>\n      <td>...</td>\n      <td>...</td>\n      <td>...</td>\n      <td>...</td>\n      <td>...</td>\n      <td>...</td>\n      <td>...</td>\n    </tr>\n    <tr>\n      <th>145455</th>\n      <td>2017-06-21</td>\n      <td>Uluru</td>\n      <td>2.8</td>\n      <td>23.400000</td>\n      <td>0.0</td>\n      <td>5.0</td>\n      <td>10.8</td>\n      <td>0.068074</td>\n      <td>31.0</td>\n      <td>0.068892</td>\n      <td>...</td>\n      <td>51.0</td>\n      <td>24.0</td>\n      <td>1024.6</td>\n      <td>1020.3</td>\n      <td>8.0</td>\n      <td>7.0</td>\n      <td>10.1</td>\n      <td>22.4</td>\n      <td>No</td>\n      <td>No</td>\n    </tr>\n    <tr>\n      <th>145456</th>\n      <td>2017-06-22</td>\n      <td>Uluru</td>\n      <td>3.6</td>\n      <td>25.300000</td>\n      <td>0.0</td>\n      <td>5.4</td>\n      <td>5.6</td>\n      <td>0.048900</td>\n      <td>22.0</td>\n      <td>0.068892</td>\n      <td>...</td>\n      <td>56.0</td>\n      <td>21.0</td>\n      <td>1023.5</td>\n      <td>1019.1</td>\n      <td>4.0</td>\n      <td>7.0</td>\n      <td>10.9</td>\n      <td>24.5</td>\n      <td>No</td>\n      <td>No</td>\n    </tr>\n    <tr>\n      <th>145457</th>\n      <td>2017-06-23</td>\n      <td>Uluru</td>\n      <td>5.4</td>\n      <td>26.900000</td>\n      <td>0.0</td>\n      <td>3.2</td>\n      <td>0.0</td>\n      <td>0.068747</td>\n      <td>37.0</td>\n      <td>0.068892</td>\n      <td>...</td>\n      <td>53.0</td>\n      <td>24.0</td>\n      <td>1021.0</td>\n      <td>1016.8</td>\n      <td>4.0</td>\n      <td>0.0</td>\n      <td>12.5</td>\n      <td>26.1</td>\n      <td>No</td>\n      <td>No</td>\n    </tr>\n    <tr>\n      <th>145458</th>\n      <td>2017-06-24</td>\n      <td>Uluru</td>\n      <td>7.8</td>\n      <td>27.000000</td>\n      <td>0.0</td>\n      <td>1.6</td>\n      <td>6.6</td>\n      <td>0.069847</td>\n      <td>28.0</td>\n      <td>0.067737</td>\n      <td>...</td>\n      <td>51.0</td>\n      <td>24.0</td>\n      <td>1019.4</td>\n      <td>1016.5</td>\n      <td>3.0</td>\n      <td>2.0</td>\n      <td>15.1</td>\n      <td>26.0</td>\n      <td>No</td>\n      <td>No</td>\n    </tr>\n    <tr>\n      <th>145459</th>\n      <td>2017-06-25</td>\n      <td>Uluru</td>\n      <td>14.9</td>\n      <td>30.383195</td>\n      <td>0.0</td>\n      <td>8.0</td>\n      <td>10.9</td>\n      <td>0.068074</td>\n      <td>54.0</td>\n      <td>0.056359</td>\n      <td>...</td>\n      <td>62.0</td>\n      <td>36.0</td>\n      <td>1020.2</td>\n      <td>1017.9</td>\n      <td>8.0</td>\n      <td>8.0</td>\n      <td>15.0</td>\n      <td>20.9</td>\n      <td>No</td>\n      <td>Yes</td>\n    </tr>\n  </tbody>\n</table>\n<p>145460 rows × 23 columns</p>\n</div>"
     },
     "execution_count": 2,
     "metadata": {},
     "output_type": "execute_result"
    }
   ],
   "source": [
    "data = pd.read_pickle('../data/aus_weather_cln.pkl')\n",
    "data"
   ],
   "metadata": {
    "collapsed": false,
    "pycharm": {
     "name": "#%%\n"
    }
   }
  },
  {
   "cell_type": "code",
   "execution_count": 3,
   "outputs": [],
   "source": [
    "data['Date'] = pd.to_datetime(data['Date'])"
   ],
   "metadata": {
    "collapsed": false,
    "pycharm": {
     "name": "#%%\n"
    }
   }
  },
  {
   "cell_type": "code",
   "execution_count": 4,
   "outputs": [
    {
     "data": {
      "text/plain": "        RainToday  RainTomorrow\n0               0             0\n1               0             0\n2               0             0\n3               0             0\n4               0             0\n...           ...           ...\n145455          0             0\n145456          0             0\n145457          0             0\n145458          0             0\n145459          0             1\n\n[145460 rows x 2 columns]",
      "text/html": "<div>\n<style scoped>\n    .dataframe tbody tr th:only-of-type {\n        vertical-align: middle;\n    }\n\n    .dataframe tbody tr th {\n        vertical-align: top;\n    }\n\n    .dataframe thead th {\n        text-align: right;\n    }\n</style>\n<table border=\"1\" class=\"dataframe\">\n  <thead>\n    <tr style=\"text-align: right;\">\n      <th></th>\n      <th>RainToday</th>\n      <th>RainTomorrow</th>\n    </tr>\n  </thead>\n  <tbody>\n    <tr>\n      <th>0</th>\n      <td>0</td>\n      <td>0</td>\n    </tr>\n    <tr>\n      <th>1</th>\n      <td>0</td>\n      <td>0</td>\n    </tr>\n    <tr>\n      <th>2</th>\n      <td>0</td>\n      <td>0</td>\n    </tr>\n    <tr>\n      <th>3</th>\n      <td>0</td>\n      <td>0</td>\n    </tr>\n    <tr>\n      <th>4</th>\n      <td>0</td>\n      <td>0</td>\n    </tr>\n    <tr>\n      <th>...</th>\n      <td>...</td>\n      <td>...</td>\n    </tr>\n    <tr>\n      <th>145455</th>\n      <td>0</td>\n      <td>0</td>\n    </tr>\n    <tr>\n      <th>145456</th>\n      <td>0</td>\n      <td>0</td>\n    </tr>\n    <tr>\n      <th>145457</th>\n      <td>0</td>\n      <td>0</td>\n    </tr>\n    <tr>\n      <th>145458</th>\n      <td>0</td>\n      <td>0</td>\n    </tr>\n    <tr>\n      <th>145459</th>\n      <td>0</td>\n      <td>1</td>\n    </tr>\n  </tbody>\n</table>\n<p>145460 rows × 2 columns</p>\n</div>"
     },
     "execution_count": 4,
     "metadata": {},
     "output_type": "execute_result"
    }
   ],
   "source": [
    "data['RainToday'] = data['RainToday'].apply(lambda x: 1 if x == 'Yes' else 0)\n",
    "data['RainTomorrow'] = data['RainTomorrow'].apply(lambda x: 1 if x == 'Yes' else 0)\n",
    "data[['RainToday', 'RainTomorrow']]"
   ],
   "metadata": {
    "collapsed": false,
    "pycharm": {
     "name": "#%%\n"
    }
   }
  },
  {
   "cell_type": "code",
   "execution_count": 5,
   "outputs": [
    {
     "data": {
      "text/plain": "             Date Location  MinTemp    MaxTemp  Rainfall  Evaporation  \\\n0      2008-12-01   Albury     13.4  22.900000       0.6          1.4   \n1      2008-12-02   Albury      7.4  25.100000       0.0          0.8   \n2      2008-12-03   Albury     12.9  25.700000       0.0          6.2   \n3      2008-12-04   Albury      9.2  28.000000       0.0          3.8   \n4      2008-12-05   Albury     17.5  32.300000       1.0          3.6   \n...           ...      ...      ...        ...       ...          ...   \n145455 2017-06-21    Uluru      2.8  23.400000       0.0          5.0   \n145456 2017-06-22    Uluru      3.6  25.300000       0.0          5.4   \n145457 2017-06-23    Uluru      5.4  26.900000       0.0          3.2   \n145458 2017-06-24    Uluru      7.8  27.000000       0.0          1.6   \n145459 2017-06-25    Uluru     14.9  30.383195       0.0          8.0   \n\n        Sunshine  WindGustDir  WindGustSpeed  WindDir9am  ...  Pressure3pm  \\\n0            9.5     0.073518           44.0    0.062725  ...       1007.1   \n1            0.3     0.060821           44.0    0.059164  ...       1007.8   \n2            4.7     0.067063           46.0    0.062725  ...       1008.7   \n3            3.0     0.052729           24.0    0.068892  ...       1012.8   \n4           11.6     0.073518           41.0    0.058243  ...       1006.0   \n...          ...          ...            ...         ...  ...          ...   \n145455      10.8     0.068074           31.0    0.068892  ...       1020.3   \n145456       5.6     0.048900           22.0    0.068892  ...       1019.1   \n145457       0.0     0.068747           37.0    0.068892  ...       1016.8   \n145458       6.6     0.069847           28.0    0.067737  ...       1016.5   \n145459      10.9     0.068074           54.0    0.056359  ...       1017.9   \n\n        Cloud9am  Cloud3pm  Temp9am  Temp3pm  RainToday  RainTomorrow  Year  \\\n0            8.0       4.0     16.9     21.8          0             0  2008   \n1            7.0       0.0     17.2     24.3          0             0  2008   \n2            0.0       2.0     21.0     23.2          0             0  2008   \n3            4.0       3.0     18.1     26.5          0             0  2008   \n4            7.0       8.0     17.8     29.7          0             0  2008   \n...          ...       ...      ...      ...        ...           ...   ...   \n145455       8.0       7.0     10.1     22.4          0             0  2017   \n145456       4.0       7.0     10.9     24.5          0             0  2017   \n145457       4.0       0.0     12.5     26.1          0             0  2017   \n145458       3.0       2.0     15.1     26.0          0             0  2017   \n145459       8.0       8.0     15.0     20.9          0             1  2017   \n\n        Month  Quarter  \n0          12        4  \n1          12        4  \n2          12        4  \n3          12        4  \n4          12        4  \n...       ...      ...  \n145455      6        2  \n145456      6        2  \n145457      6        2  \n145458      6        2  \n145459      6        2  \n\n[145460 rows x 26 columns]",
      "text/html": "<div>\n<style scoped>\n    .dataframe tbody tr th:only-of-type {\n        vertical-align: middle;\n    }\n\n    .dataframe tbody tr th {\n        vertical-align: top;\n    }\n\n    .dataframe thead th {\n        text-align: right;\n    }\n</style>\n<table border=\"1\" class=\"dataframe\">\n  <thead>\n    <tr style=\"text-align: right;\">\n      <th></th>\n      <th>Date</th>\n      <th>Location</th>\n      <th>MinTemp</th>\n      <th>MaxTemp</th>\n      <th>Rainfall</th>\n      <th>Evaporation</th>\n      <th>Sunshine</th>\n      <th>WindGustDir</th>\n      <th>WindGustSpeed</th>\n      <th>WindDir9am</th>\n      <th>...</th>\n      <th>Pressure3pm</th>\n      <th>Cloud9am</th>\n      <th>Cloud3pm</th>\n      <th>Temp9am</th>\n      <th>Temp3pm</th>\n      <th>RainToday</th>\n      <th>RainTomorrow</th>\n      <th>Year</th>\n      <th>Month</th>\n      <th>Quarter</th>\n    </tr>\n  </thead>\n  <tbody>\n    <tr>\n      <th>0</th>\n      <td>2008-12-01</td>\n      <td>Albury</td>\n      <td>13.4</td>\n      <td>22.900000</td>\n      <td>0.6</td>\n      <td>1.4</td>\n      <td>9.5</td>\n      <td>0.073518</td>\n      <td>44.0</td>\n      <td>0.062725</td>\n      <td>...</td>\n      <td>1007.1</td>\n      <td>8.0</td>\n      <td>4.0</td>\n      <td>16.9</td>\n      <td>21.8</td>\n      <td>0</td>\n      <td>0</td>\n      <td>2008</td>\n      <td>12</td>\n      <td>4</td>\n    </tr>\n    <tr>\n      <th>1</th>\n      <td>2008-12-02</td>\n      <td>Albury</td>\n      <td>7.4</td>\n      <td>25.100000</td>\n      <td>0.0</td>\n      <td>0.8</td>\n      <td>0.3</td>\n      <td>0.060821</td>\n      <td>44.0</td>\n      <td>0.059164</td>\n      <td>...</td>\n      <td>1007.8</td>\n      <td>7.0</td>\n      <td>0.0</td>\n      <td>17.2</td>\n      <td>24.3</td>\n      <td>0</td>\n      <td>0</td>\n      <td>2008</td>\n      <td>12</td>\n      <td>4</td>\n    </tr>\n    <tr>\n      <th>2</th>\n      <td>2008-12-03</td>\n      <td>Albury</td>\n      <td>12.9</td>\n      <td>25.700000</td>\n      <td>0.0</td>\n      <td>6.2</td>\n      <td>4.7</td>\n      <td>0.067063</td>\n      <td>46.0</td>\n      <td>0.062725</td>\n      <td>...</td>\n      <td>1008.7</td>\n      <td>0.0</td>\n      <td>2.0</td>\n      <td>21.0</td>\n      <td>23.2</td>\n      <td>0</td>\n      <td>0</td>\n      <td>2008</td>\n      <td>12</td>\n      <td>4</td>\n    </tr>\n    <tr>\n      <th>3</th>\n      <td>2008-12-04</td>\n      <td>Albury</td>\n      <td>9.2</td>\n      <td>28.000000</td>\n      <td>0.0</td>\n      <td>3.8</td>\n      <td>3.0</td>\n      <td>0.052729</td>\n      <td>24.0</td>\n      <td>0.068892</td>\n      <td>...</td>\n      <td>1012.8</td>\n      <td>4.0</td>\n      <td>3.0</td>\n      <td>18.1</td>\n      <td>26.5</td>\n      <td>0</td>\n      <td>0</td>\n      <td>2008</td>\n      <td>12</td>\n      <td>4</td>\n    </tr>\n    <tr>\n      <th>4</th>\n      <td>2008-12-05</td>\n      <td>Albury</td>\n      <td>17.5</td>\n      <td>32.300000</td>\n      <td>1.0</td>\n      <td>3.6</td>\n      <td>11.6</td>\n      <td>0.073518</td>\n      <td>41.0</td>\n      <td>0.058243</td>\n      <td>...</td>\n      <td>1006.0</td>\n      <td>7.0</td>\n      <td>8.0</td>\n      <td>17.8</td>\n      <td>29.7</td>\n      <td>0</td>\n      <td>0</td>\n      <td>2008</td>\n      <td>12</td>\n      <td>4</td>\n    </tr>\n    <tr>\n      <th>...</th>\n      <td>...</td>\n      <td>...</td>\n      <td>...</td>\n      <td>...</td>\n      <td>...</td>\n      <td>...</td>\n      <td>...</td>\n      <td>...</td>\n      <td>...</td>\n      <td>...</td>\n      <td>...</td>\n      <td>...</td>\n      <td>...</td>\n      <td>...</td>\n      <td>...</td>\n      <td>...</td>\n      <td>...</td>\n      <td>...</td>\n      <td>...</td>\n      <td>...</td>\n      <td>...</td>\n    </tr>\n    <tr>\n      <th>145455</th>\n      <td>2017-06-21</td>\n      <td>Uluru</td>\n      <td>2.8</td>\n      <td>23.400000</td>\n      <td>0.0</td>\n      <td>5.0</td>\n      <td>10.8</td>\n      <td>0.068074</td>\n      <td>31.0</td>\n      <td>0.068892</td>\n      <td>...</td>\n      <td>1020.3</td>\n      <td>8.0</td>\n      <td>7.0</td>\n      <td>10.1</td>\n      <td>22.4</td>\n      <td>0</td>\n      <td>0</td>\n      <td>2017</td>\n      <td>6</td>\n      <td>2</td>\n    </tr>\n    <tr>\n      <th>145456</th>\n      <td>2017-06-22</td>\n      <td>Uluru</td>\n      <td>3.6</td>\n      <td>25.300000</td>\n      <td>0.0</td>\n      <td>5.4</td>\n      <td>5.6</td>\n      <td>0.048900</td>\n      <td>22.0</td>\n      <td>0.068892</td>\n      <td>...</td>\n      <td>1019.1</td>\n      <td>4.0</td>\n      <td>7.0</td>\n      <td>10.9</td>\n      <td>24.5</td>\n      <td>0</td>\n      <td>0</td>\n      <td>2017</td>\n      <td>6</td>\n      <td>2</td>\n    </tr>\n    <tr>\n      <th>145457</th>\n      <td>2017-06-23</td>\n      <td>Uluru</td>\n      <td>5.4</td>\n      <td>26.900000</td>\n      <td>0.0</td>\n      <td>3.2</td>\n      <td>0.0</td>\n      <td>0.068747</td>\n      <td>37.0</td>\n      <td>0.068892</td>\n      <td>...</td>\n      <td>1016.8</td>\n      <td>4.0</td>\n      <td>0.0</td>\n      <td>12.5</td>\n      <td>26.1</td>\n      <td>0</td>\n      <td>0</td>\n      <td>2017</td>\n      <td>6</td>\n      <td>2</td>\n    </tr>\n    <tr>\n      <th>145458</th>\n      <td>2017-06-24</td>\n      <td>Uluru</td>\n      <td>7.8</td>\n      <td>27.000000</td>\n      <td>0.0</td>\n      <td>1.6</td>\n      <td>6.6</td>\n      <td>0.069847</td>\n      <td>28.0</td>\n      <td>0.067737</td>\n      <td>...</td>\n      <td>1016.5</td>\n      <td>3.0</td>\n      <td>2.0</td>\n      <td>15.1</td>\n      <td>26.0</td>\n      <td>0</td>\n      <td>0</td>\n      <td>2017</td>\n      <td>6</td>\n      <td>2</td>\n    </tr>\n    <tr>\n      <th>145459</th>\n      <td>2017-06-25</td>\n      <td>Uluru</td>\n      <td>14.9</td>\n      <td>30.383195</td>\n      <td>0.0</td>\n      <td>8.0</td>\n      <td>10.9</td>\n      <td>0.068074</td>\n      <td>54.0</td>\n      <td>0.056359</td>\n      <td>...</td>\n      <td>1017.9</td>\n      <td>8.0</td>\n      <td>8.0</td>\n      <td>15.0</td>\n      <td>20.9</td>\n      <td>0</td>\n      <td>1</td>\n      <td>2017</td>\n      <td>6</td>\n      <td>2</td>\n    </tr>\n  </tbody>\n</table>\n<p>145460 rows × 26 columns</p>\n</div>"
     },
     "execution_count": 5,
     "metadata": {},
     "output_type": "execute_result"
    }
   ],
   "source": [
    "data['Year'] = data['Date'].dt.year\n",
    "data['Month'] = data['Date'].dt.month\n",
    "data['Quarter'] = data['Date'].dt.quarter\n",
    "data"
   ],
   "metadata": {
    "collapsed": false,
    "pycharm": {
     "name": "#%%\n"
    }
   }
  },
  {
   "cell_type": "code",
   "execution_count": 6,
   "outputs": [
    {
     "data": {
      "text/plain": "           Location  MinTemp    MaxTemp  Rainfall  Evaporation  Sunshine  \\\nDate                                                                       \n2008-12-01   Albury     13.4  22.900000       0.6          1.4       9.5   \n2008-12-02   Albury      7.4  25.100000       0.0          0.8       0.3   \n2008-12-03   Albury     12.9  25.700000       0.0          6.2       4.7   \n2008-12-04   Albury      9.2  28.000000       0.0          3.8       3.0   \n2008-12-05   Albury     17.5  32.300000       1.0          3.6      11.6   \n...             ...      ...        ...       ...          ...       ...   \n2017-06-21    Uluru      2.8  23.400000       0.0          5.0      10.8   \n2017-06-22    Uluru      3.6  25.300000       0.0          5.4       5.6   \n2017-06-23    Uluru      5.4  26.900000       0.0          3.2       0.0   \n2017-06-24    Uluru      7.8  27.000000       0.0          1.6       6.6   \n2017-06-25    Uluru     14.9  30.383195       0.0          8.0      10.9   \n\n            WindGustDir  WindGustSpeed  WindDir9am  WindDir3pm  ...  \\\nDate                                                            ...   \n2008-12-01     0.073518           44.0    0.062725    0.062739  ...   \n2008-12-02     0.060821           44.0    0.059164    0.067469  ...   \n2008-12-03     0.067063           46.0    0.062725    0.067469  ...   \n2008-12-04     0.052729           24.0    0.068892    0.059989  ...   \n2008-12-05     0.073518           41.0    0.058243    0.060876  ...   \n...                 ...            ...         ...         ...  ...   \n2017-06-21     0.068074           31.0    0.068892    0.055685  ...   \n2017-06-22     0.048900           22.0    0.068892    0.062849  ...   \n2017-06-23     0.068747           37.0    0.068892    0.062739  ...   \n2017-06-24     0.069847           28.0    0.067737    0.062849  ...   \n2017-06-25     0.068074           54.0    0.056359    0.060126  ...   \n\n            Pressure3pm  Cloud9am  Cloud3pm  Temp9am  Temp3pm  RainToday  \\\nDate                                                                       \n2008-12-01       1007.1       8.0       4.0     16.9     21.8          0   \n2008-12-02       1007.8       7.0       0.0     17.2     24.3          0   \n2008-12-03       1008.7       0.0       2.0     21.0     23.2          0   \n2008-12-04       1012.8       4.0       3.0     18.1     26.5          0   \n2008-12-05       1006.0       7.0       8.0     17.8     29.7          0   \n...                 ...       ...       ...      ...      ...        ...   \n2017-06-21       1020.3       8.0       7.0     10.1     22.4          0   \n2017-06-22       1019.1       4.0       7.0     10.9     24.5          0   \n2017-06-23       1016.8       4.0       0.0     12.5     26.1          0   \n2017-06-24       1016.5       3.0       2.0     15.1     26.0          0   \n2017-06-25       1017.9       8.0       8.0     15.0     20.9          0   \n\n            RainTomorrow  Year  Month  Quarter  \nDate                                            \n2008-12-01             0  2008     12        4  \n2008-12-02             0  2008     12        4  \n2008-12-03             0  2008     12        4  \n2008-12-04             0  2008     12        4  \n2008-12-05             0  2008     12        4  \n...                  ...   ...    ...      ...  \n2017-06-21             0  2017      6        2  \n2017-06-22             0  2017      6        2  \n2017-06-23             0  2017      6        2  \n2017-06-24             0  2017      6        2  \n2017-06-25             1  2017      6        2  \n\n[145460 rows x 25 columns]",
      "text/html": "<div>\n<style scoped>\n    .dataframe tbody tr th:only-of-type {\n        vertical-align: middle;\n    }\n\n    .dataframe tbody tr th {\n        vertical-align: top;\n    }\n\n    .dataframe thead th {\n        text-align: right;\n    }\n</style>\n<table border=\"1\" class=\"dataframe\">\n  <thead>\n    <tr style=\"text-align: right;\">\n      <th></th>\n      <th>Location</th>\n      <th>MinTemp</th>\n      <th>MaxTemp</th>\n      <th>Rainfall</th>\n      <th>Evaporation</th>\n      <th>Sunshine</th>\n      <th>WindGustDir</th>\n      <th>WindGustSpeed</th>\n      <th>WindDir9am</th>\n      <th>WindDir3pm</th>\n      <th>...</th>\n      <th>Pressure3pm</th>\n      <th>Cloud9am</th>\n      <th>Cloud3pm</th>\n      <th>Temp9am</th>\n      <th>Temp3pm</th>\n      <th>RainToday</th>\n      <th>RainTomorrow</th>\n      <th>Year</th>\n      <th>Month</th>\n      <th>Quarter</th>\n    </tr>\n    <tr>\n      <th>Date</th>\n      <th></th>\n      <th></th>\n      <th></th>\n      <th></th>\n      <th></th>\n      <th></th>\n      <th></th>\n      <th></th>\n      <th></th>\n      <th></th>\n      <th></th>\n      <th></th>\n      <th></th>\n      <th></th>\n      <th></th>\n      <th></th>\n      <th></th>\n      <th></th>\n      <th></th>\n      <th></th>\n      <th></th>\n    </tr>\n  </thead>\n  <tbody>\n    <tr>\n      <th>2008-12-01</th>\n      <td>Albury</td>\n      <td>13.4</td>\n      <td>22.900000</td>\n      <td>0.6</td>\n      <td>1.4</td>\n      <td>9.5</td>\n      <td>0.073518</td>\n      <td>44.0</td>\n      <td>0.062725</td>\n      <td>0.062739</td>\n      <td>...</td>\n      <td>1007.1</td>\n      <td>8.0</td>\n      <td>4.0</td>\n      <td>16.9</td>\n      <td>21.8</td>\n      <td>0</td>\n      <td>0</td>\n      <td>2008</td>\n      <td>12</td>\n      <td>4</td>\n    </tr>\n    <tr>\n      <th>2008-12-02</th>\n      <td>Albury</td>\n      <td>7.4</td>\n      <td>25.100000</td>\n      <td>0.0</td>\n      <td>0.8</td>\n      <td>0.3</td>\n      <td>0.060821</td>\n      <td>44.0</td>\n      <td>0.059164</td>\n      <td>0.067469</td>\n      <td>...</td>\n      <td>1007.8</td>\n      <td>7.0</td>\n      <td>0.0</td>\n      <td>17.2</td>\n      <td>24.3</td>\n      <td>0</td>\n      <td>0</td>\n      <td>2008</td>\n      <td>12</td>\n      <td>4</td>\n    </tr>\n    <tr>\n      <th>2008-12-03</th>\n      <td>Albury</td>\n      <td>12.9</td>\n      <td>25.700000</td>\n      <td>0.0</td>\n      <td>6.2</td>\n      <td>4.7</td>\n      <td>0.067063</td>\n      <td>46.0</td>\n      <td>0.062725</td>\n      <td>0.067469</td>\n      <td>...</td>\n      <td>1008.7</td>\n      <td>0.0</td>\n      <td>2.0</td>\n      <td>21.0</td>\n      <td>23.2</td>\n      <td>0</td>\n      <td>0</td>\n      <td>2008</td>\n      <td>12</td>\n      <td>4</td>\n    </tr>\n    <tr>\n      <th>2008-12-04</th>\n      <td>Albury</td>\n      <td>9.2</td>\n      <td>28.000000</td>\n      <td>0.0</td>\n      <td>3.8</td>\n      <td>3.0</td>\n      <td>0.052729</td>\n      <td>24.0</td>\n      <td>0.068892</td>\n      <td>0.059989</td>\n      <td>...</td>\n      <td>1012.8</td>\n      <td>4.0</td>\n      <td>3.0</td>\n      <td>18.1</td>\n      <td>26.5</td>\n      <td>0</td>\n      <td>0</td>\n      <td>2008</td>\n      <td>12</td>\n      <td>4</td>\n    </tr>\n    <tr>\n      <th>2008-12-05</th>\n      <td>Albury</td>\n      <td>17.5</td>\n      <td>32.300000</td>\n      <td>1.0</td>\n      <td>3.6</td>\n      <td>11.6</td>\n      <td>0.073518</td>\n      <td>41.0</td>\n      <td>0.058243</td>\n      <td>0.060876</td>\n      <td>...</td>\n      <td>1006.0</td>\n      <td>7.0</td>\n      <td>8.0</td>\n      <td>17.8</td>\n      <td>29.7</td>\n      <td>0</td>\n      <td>0</td>\n      <td>2008</td>\n      <td>12</td>\n      <td>4</td>\n    </tr>\n    <tr>\n      <th>...</th>\n      <td>...</td>\n      <td>...</td>\n      <td>...</td>\n      <td>...</td>\n      <td>...</td>\n      <td>...</td>\n      <td>...</td>\n      <td>...</td>\n      <td>...</td>\n      <td>...</td>\n      <td>...</td>\n      <td>...</td>\n      <td>...</td>\n      <td>...</td>\n      <td>...</td>\n      <td>...</td>\n      <td>...</td>\n      <td>...</td>\n      <td>...</td>\n      <td>...</td>\n      <td>...</td>\n    </tr>\n    <tr>\n      <th>2017-06-21</th>\n      <td>Uluru</td>\n      <td>2.8</td>\n      <td>23.400000</td>\n      <td>0.0</td>\n      <td>5.0</td>\n      <td>10.8</td>\n      <td>0.068074</td>\n      <td>31.0</td>\n      <td>0.068892</td>\n      <td>0.055685</td>\n      <td>...</td>\n      <td>1020.3</td>\n      <td>8.0</td>\n      <td>7.0</td>\n      <td>10.1</td>\n      <td>22.4</td>\n      <td>0</td>\n      <td>0</td>\n      <td>2017</td>\n      <td>6</td>\n      <td>2</td>\n    </tr>\n    <tr>\n      <th>2017-06-22</th>\n      <td>Uluru</td>\n      <td>3.6</td>\n      <td>25.300000</td>\n      <td>0.0</td>\n      <td>5.4</td>\n      <td>5.6</td>\n      <td>0.048900</td>\n      <td>22.0</td>\n      <td>0.068892</td>\n      <td>0.062849</td>\n      <td>...</td>\n      <td>1019.1</td>\n      <td>4.0</td>\n      <td>7.0</td>\n      <td>10.9</td>\n      <td>24.5</td>\n      <td>0</td>\n      <td>0</td>\n      <td>2017</td>\n      <td>6</td>\n      <td>2</td>\n    </tr>\n    <tr>\n      <th>2017-06-23</th>\n      <td>Uluru</td>\n      <td>5.4</td>\n      <td>26.900000</td>\n      <td>0.0</td>\n      <td>3.2</td>\n      <td>0.0</td>\n      <td>0.068747</td>\n      <td>37.0</td>\n      <td>0.068892</td>\n      <td>0.062739</td>\n      <td>...</td>\n      <td>1016.8</td>\n      <td>4.0</td>\n      <td>0.0</td>\n      <td>12.5</td>\n      <td>26.1</td>\n      <td>0</td>\n      <td>0</td>\n      <td>2017</td>\n      <td>6</td>\n      <td>2</td>\n    </tr>\n    <tr>\n      <th>2017-06-24</th>\n      <td>Uluru</td>\n      <td>7.8</td>\n      <td>27.000000</td>\n      <td>0.0</td>\n      <td>1.6</td>\n      <td>6.6</td>\n      <td>0.069847</td>\n      <td>28.0</td>\n      <td>0.067737</td>\n      <td>0.062849</td>\n      <td>...</td>\n      <td>1016.5</td>\n      <td>3.0</td>\n      <td>2.0</td>\n      <td>15.1</td>\n      <td>26.0</td>\n      <td>0</td>\n      <td>0</td>\n      <td>2017</td>\n      <td>6</td>\n      <td>2</td>\n    </tr>\n    <tr>\n      <th>2017-06-25</th>\n      <td>Uluru</td>\n      <td>14.9</td>\n      <td>30.383195</td>\n      <td>0.0</td>\n      <td>8.0</td>\n      <td>10.9</td>\n      <td>0.068074</td>\n      <td>54.0</td>\n      <td>0.056359</td>\n      <td>0.060126</td>\n      <td>...</td>\n      <td>1017.9</td>\n      <td>8.0</td>\n      <td>8.0</td>\n      <td>15.0</td>\n      <td>20.9</td>\n      <td>0</td>\n      <td>1</td>\n      <td>2017</td>\n      <td>6</td>\n      <td>2</td>\n    </tr>\n  </tbody>\n</table>\n<p>145460 rows × 25 columns</p>\n</div>"
     },
     "execution_count": 6,
     "metadata": {},
     "output_type": "execute_result"
    }
   ],
   "source": [
    "data.set_index('Date', inplace=True)\n",
    "data"
   ],
   "metadata": {
    "collapsed": false,
    "pycharm": {
     "name": "#%%\n"
    }
   }
  },
  {
   "cell_type": "code",
   "execution_count": 8,
   "outputs": [
    {
     "data": {
      "text/plain": "            Location  MinTemp    MaxTemp  Rainfall  Evaporation  Sunshine  \\\nDate                                                                        \n2008-12-01         0     13.4  22.900000       0.6          1.4       9.5   \n2008-12-02         0      7.4  25.100000       0.0          0.8       0.3   \n2008-12-03         0     12.9  25.700000       0.0          6.2       4.7   \n2008-12-04         0      9.2  28.000000       0.0          3.8       3.0   \n2008-12-05         0     17.5  32.300000       1.0          3.6      11.6   \n...              ...      ...        ...       ...          ...       ...   \n2017-06-21        48      2.8  23.400000       0.0          5.0      10.8   \n2017-06-22        48      3.6  25.300000       0.0          5.4       5.6   \n2017-06-23        48      5.4  26.900000       0.0          3.2       0.0   \n2017-06-24        48      7.8  27.000000       0.0          1.6       6.6   \n2017-06-25        48     14.9  30.383195       0.0          8.0      10.9   \n\n            WindGustDir  WindGustSpeed  WindDir9am  WindDir3pm  ...  \\\nDate                                                            ...   \n2008-12-01     0.073518           44.0    0.062725    0.062739  ...   \n2008-12-02     0.060821           44.0    0.059164    0.067469  ...   \n2008-12-03     0.067063           46.0    0.062725    0.067469  ...   \n2008-12-04     0.052729           24.0    0.068892    0.059989  ...   \n2008-12-05     0.073518           41.0    0.058243    0.060876  ...   \n...                 ...            ...         ...         ...  ...   \n2017-06-21     0.068074           31.0    0.068892    0.055685  ...   \n2017-06-22     0.048900           22.0    0.068892    0.062849  ...   \n2017-06-23     0.068747           37.0    0.068892    0.062739  ...   \n2017-06-24     0.069847           28.0    0.067737    0.062849  ...   \n2017-06-25     0.068074           54.0    0.056359    0.060126  ...   \n\n            Pressure3pm  Cloud9am  Cloud3pm  Temp9am  Temp3pm  RainToday  \\\nDate                                                                       \n2008-12-01       1007.1       8.0       4.0     16.9     21.8          0   \n2008-12-02       1007.8       7.0       0.0     17.2     24.3          0   \n2008-12-03       1008.7       0.0       2.0     21.0     23.2          0   \n2008-12-04       1012.8       4.0       3.0     18.1     26.5          0   \n2008-12-05       1006.0       7.0       8.0     17.8     29.7          0   \n...                 ...       ...       ...      ...      ...        ...   \n2017-06-21       1020.3       8.0       7.0     10.1     22.4          0   \n2017-06-22       1019.1       4.0       7.0     10.9     24.5          0   \n2017-06-23       1016.8       4.0       0.0     12.5     26.1          0   \n2017-06-24       1016.5       3.0       2.0     15.1     26.0          0   \n2017-06-25       1017.9       8.0       8.0     15.0     20.9          0   \n\n            RainTomorrow  Year  Month  Quarter  \nDate                                            \n2008-12-01             0  2008     12        4  \n2008-12-02             0  2008     12        4  \n2008-12-03             0  2008     12        4  \n2008-12-04             0  2008     12        4  \n2008-12-05             0  2008     12        4  \n...                  ...   ...    ...      ...  \n2017-06-21             0  2017      6        2  \n2017-06-22             0  2017      6        2  \n2017-06-23             0  2017      6        2  \n2017-06-24             0  2017      6        2  \n2017-06-25             1  2017      6        2  \n\n[145460 rows x 25 columns]",
      "text/html": "<div>\n<style scoped>\n    .dataframe tbody tr th:only-of-type {\n        vertical-align: middle;\n    }\n\n    .dataframe tbody tr th {\n        vertical-align: top;\n    }\n\n    .dataframe thead th {\n        text-align: right;\n    }\n</style>\n<table border=\"1\" class=\"dataframe\">\n  <thead>\n    <tr style=\"text-align: right;\">\n      <th></th>\n      <th>Location</th>\n      <th>MinTemp</th>\n      <th>MaxTemp</th>\n      <th>Rainfall</th>\n      <th>Evaporation</th>\n      <th>Sunshine</th>\n      <th>WindGustDir</th>\n      <th>WindGustSpeed</th>\n      <th>WindDir9am</th>\n      <th>WindDir3pm</th>\n      <th>...</th>\n      <th>Pressure3pm</th>\n      <th>Cloud9am</th>\n      <th>Cloud3pm</th>\n      <th>Temp9am</th>\n      <th>Temp3pm</th>\n      <th>RainToday</th>\n      <th>RainTomorrow</th>\n      <th>Year</th>\n      <th>Month</th>\n      <th>Quarter</th>\n    </tr>\n    <tr>\n      <th>Date</th>\n      <th></th>\n      <th></th>\n      <th></th>\n      <th></th>\n      <th></th>\n      <th></th>\n      <th></th>\n      <th></th>\n      <th></th>\n      <th></th>\n      <th></th>\n      <th></th>\n      <th></th>\n      <th></th>\n      <th></th>\n      <th></th>\n      <th></th>\n      <th></th>\n      <th></th>\n      <th></th>\n      <th></th>\n    </tr>\n  </thead>\n  <tbody>\n    <tr>\n      <th>2008-12-01</th>\n      <td>0</td>\n      <td>13.4</td>\n      <td>22.900000</td>\n      <td>0.6</td>\n      <td>1.4</td>\n      <td>9.5</td>\n      <td>0.073518</td>\n      <td>44.0</td>\n      <td>0.062725</td>\n      <td>0.062739</td>\n      <td>...</td>\n      <td>1007.1</td>\n      <td>8.0</td>\n      <td>4.0</td>\n      <td>16.9</td>\n      <td>21.8</td>\n      <td>0</td>\n      <td>0</td>\n      <td>2008</td>\n      <td>12</td>\n      <td>4</td>\n    </tr>\n    <tr>\n      <th>2008-12-02</th>\n      <td>0</td>\n      <td>7.4</td>\n      <td>25.100000</td>\n      <td>0.0</td>\n      <td>0.8</td>\n      <td>0.3</td>\n      <td>0.060821</td>\n      <td>44.0</td>\n      <td>0.059164</td>\n      <td>0.067469</td>\n      <td>...</td>\n      <td>1007.8</td>\n      <td>7.0</td>\n      <td>0.0</td>\n      <td>17.2</td>\n      <td>24.3</td>\n      <td>0</td>\n      <td>0</td>\n      <td>2008</td>\n      <td>12</td>\n      <td>4</td>\n    </tr>\n    <tr>\n      <th>2008-12-03</th>\n      <td>0</td>\n      <td>12.9</td>\n      <td>25.700000</td>\n      <td>0.0</td>\n      <td>6.2</td>\n      <td>4.7</td>\n      <td>0.067063</td>\n      <td>46.0</td>\n      <td>0.062725</td>\n      <td>0.067469</td>\n      <td>...</td>\n      <td>1008.7</td>\n      <td>0.0</td>\n      <td>2.0</td>\n      <td>21.0</td>\n      <td>23.2</td>\n      <td>0</td>\n      <td>0</td>\n      <td>2008</td>\n      <td>12</td>\n      <td>4</td>\n    </tr>\n    <tr>\n      <th>2008-12-04</th>\n      <td>0</td>\n      <td>9.2</td>\n      <td>28.000000</td>\n      <td>0.0</td>\n      <td>3.8</td>\n      <td>3.0</td>\n      <td>0.052729</td>\n      <td>24.0</td>\n      <td>0.068892</td>\n      <td>0.059989</td>\n      <td>...</td>\n      <td>1012.8</td>\n      <td>4.0</td>\n      <td>3.0</td>\n      <td>18.1</td>\n      <td>26.5</td>\n      <td>0</td>\n      <td>0</td>\n      <td>2008</td>\n      <td>12</td>\n      <td>4</td>\n    </tr>\n    <tr>\n      <th>2008-12-05</th>\n      <td>0</td>\n      <td>17.5</td>\n      <td>32.300000</td>\n      <td>1.0</td>\n      <td>3.6</td>\n      <td>11.6</td>\n      <td>0.073518</td>\n      <td>41.0</td>\n      <td>0.058243</td>\n      <td>0.060876</td>\n      <td>...</td>\n      <td>1006.0</td>\n      <td>7.0</td>\n      <td>8.0</td>\n      <td>17.8</td>\n      <td>29.7</td>\n      <td>0</td>\n      <td>0</td>\n      <td>2008</td>\n      <td>12</td>\n      <td>4</td>\n    </tr>\n    <tr>\n      <th>...</th>\n      <td>...</td>\n      <td>...</td>\n      <td>...</td>\n      <td>...</td>\n      <td>...</td>\n      <td>...</td>\n      <td>...</td>\n      <td>...</td>\n      <td>...</td>\n      <td>...</td>\n      <td>...</td>\n      <td>...</td>\n      <td>...</td>\n      <td>...</td>\n      <td>...</td>\n      <td>...</td>\n      <td>...</td>\n      <td>...</td>\n      <td>...</td>\n      <td>...</td>\n      <td>...</td>\n    </tr>\n    <tr>\n      <th>2017-06-21</th>\n      <td>48</td>\n      <td>2.8</td>\n      <td>23.400000</td>\n      <td>0.0</td>\n      <td>5.0</td>\n      <td>10.8</td>\n      <td>0.068074</td>\n      <td>31.0</td>\n      <td>0.068892</td>\n      <td>0.055685</td>\n      <td>...</td>\n      <td>1020.3</td>\n      <td>8.0</td>\n      <td>7.0</td>\n      <td>10.1</td>\n      <td>22.4</td>\n      <td>0</td>\n      <td>0</td>\n      <td>2017</td>\n      <td>6</td>\n      <td>2</td>\n    </tr>\n    <tr>\n      <th>2017-06-22</th>\n      <td>48</td>\n      <td>3.6</td>\n      <td>25.300000</td>\n      <td>0.0</td>\n      <td>5.4</td>\n      <td>5.6</td>\n      <td>0.048900</td>\n      <td>22.0</td>\n      <td>0.068892</td>\n      <td>0.062849</td>\n      <td>...</td>\n      <td>1019.1</td>\n      <td>4.0</td>\n      <td>7.0</td>\n      <td>10.9</td>\n      <td>24.5</td>\n      <td>0</td>\n      <td>0</td>\n      <td>2017</td>\n      <td>6</td>\n      <td>2</td>\n    </tr>\n    <tr>\n      <th>2017-06-23</th>\n      <td>48</td>\n      <td>5.4</td>\n      <td>26.900000</td>\n      <td>0.0</td>\n      <td>3.2</td>\n      <td>0.0</td>\n      <td>0.068747</td>\n      <td>37.0</td>\n      <td>0.068892</td>\n      <td>0.062739</td>\n      <td>...</td>\n      <td>1016.8</td>\n      <td>4.0</td>\n      <td>0.0</td>\n      <td>12.5</td>\n      <td>26.1</td>\n      <td>0</td>\n      <td>0</td>\n      <td>2017</td>\n      <td>6</td>\n      <td>2</td>\n    </tr>\n    <tr>\n      <th>2017-06-24</th>\n      <td>48</td>\n      <td>7.8</td>\n      <td>27.000000</td>\n      <td>0.0</td>\n      <td>1.6</td>\n      <td>6.6</td>\n      <td>0.069847</td>\n      <td>28.0</td>\n      <td>0.067737</td>\n      <td>0.062849</td>\n      <td>...</td>\n      <td>1016.5</td>\n      <td>3.0</td>\n      <td>2.0</td>\n      <td>15.1</td>\n      <td>26.0</td>\n      <td>0</td>\n      <td>0</td>\n      <td>2017</td>\n      <td>6</td>\n      <td>2</td>\n    </tr>\n    <tr>\n      <th>2017-06-25</th>\n      <td>48</td>\n      <td>14.9</td>\n      <td>30.383195</td>\n      <td>0.0</td>\n      <td>8.0</td>\n      <td>10.9</td>\n      <td>0.068074</td>\n      <td>54.0</td>\n      <td>0.056359</td>\n      <td>0.060126</td>\n      <td>...</td>\n      <td>1017.9</td>\n      <td>8.0</td>\n      <td>8.0</td>\n      <td>15.0</td>\n      <td>20.9</td>\n      <td>0</td>\n      <td>1</td>\n      <td>2017</td>\n      <td>6</td>\n      <td>2</td>\n    </tr>\n  </tbody>\n</table>\n<p>145460 rows × 25 columns</p>\n</div>"
     },
     "execution_count": 8,
     "metadata": {},
     "output_type": "execute_result"
    }
   ],
   "source": [
    "location_encoder = OrdinalEncoder(encoding_method='arbitrary',\n",
    "                                  variables=['Location'])\n",
    "location_encoder.fit(data)\n",
    "# location_encoder.encoder_dict_\n",
    "data = location_encoder.transform(data)\n",
    "data"
   ],
   "metadata": {
    "collapsed": false,
    "pycharm": {
     "name": "#%%\n"
    }
   }
  },
  {
   "cell_type": "markdown",
   "source": [
    "### regression feature selection"
   ],
   "metadata": {
    "collapsed": false
   }
  },
  {
   "cell_type": "code",
   "execution_count": 9,
   "outputs": [
    {
     "data": {
      "text/plain": "array([[ 0.6,  9.5, 44. , ...,  8. ,  4. ,  0. ],\n       [ 0. ,  0.3, 44. , ...,  7. ,  0. ,  0. ],\n       [ 0. ,  4.7, 46. , ...,  0. ,  2. ,  0. ],\n       ...,\n       [ 0. ,  0. , 37. , ...,  4. ,  0. ,  0. ],\n       [ 0. ,  6.6, 28. , ...,  3. ,  2. ,  0. ],\n       [ 0. , 10.9, 54. , ...,  8. ,  8. ,  0. ]])"
     },
     "execution_count": 9,
     "metadata": {},
     "output_type": "execute_result"
    }
   ],
   "source": [
    "temp = data.drop('RainTomorrow', axis=1)\n",
    "y = data['RainTomorrow']\n",
    "features = SelectKBest(score_func=f_regression, k=10)\n",
    "selected_features = features.fit_transform(temp, y)\n",
    "selected_features"
   ],
   "metadata": {
    "collapsed": false,
    "pycharm": {
     "name": "#%%\n"
    }
   }
  },
  {
   "cell_type": "code",
   "execution_count": 10,
   "outputs": [
    {
     "data": {
      "text/plain": "((116368, 11), (29092, 11))"
     },
     "execution_count": 10,
     "metadata": {},
     "output_type": "execute_result"
    }
   ],
   "source": [
    "input_feature = ['Location', 'Rainfall', 'Sunshine', 'WindGustSpeed', 'Humidity9am', 'Humidity3pm',\n",
    "                 'Pressure9am', 'Pressure3pm', 'Cloud9am', 'Cloud3pm', 'RainToday']\n",
    "train_x, test_x, train_y, test_y = train_test_split(temp[input_feature], y, test_size=0.2, random_state=64)\n",
    "train_x.shape, test_x.shape"
   ],
   "metadata": {
    "collapsed": false,
    "pycharm": {
     "name": "#%%\n"
    }
   }
  },
  {
   "cell_type": "markdown",
   "source": [
    "### model building"
   ],
   "metadata": {
    "collapsed": false,
    "pycharm": {
     "name": "#%% md\n"
    }
   }
  },
  {
   "cell_type": "code",
   "execution_count": 11,
   "outputs": [
    {
     "data": {
      "text/plain": "KNeighborsClassifier(n_neighbors=3)"
     },
     "execution_count": 11,
     "metadata": {},
     "output_type": "execute_result"
    }
   ],
   "source": [
    "# baseline model - n_neighbors = 3\n",
    "model_b = KNN(n_neighbors=3)\n",
    "model_b.fit(train_x,train_y)"
   ],
   "metadata": {
    "collapsed": false,
    "pycharm": {
     "name": "#%%\n"
    }
   }
  },
  {
   "cell_type": "code",
   "execution_count": 13,
   "outputs": [
    {
     "data": {
      "text/plain": "0.8911900178743297"
     },
     "execution_count": 13,
     "metadata": {},
     "output_type": "execute_result"
    }
   ],
   "source": [
    "# score with train set\n",
    "model_b.score(train_x,train_y)"
   ],
   "metadata": {
    "collapsed": false,
    "pycharm": {
     "name": "#%%\n"
    }
   }
  },
  {
   "cell_type": "code",
   "execution_count": 14,
   "outputs": [
    {
     "data": {
      "text/plain": "0.8158600302488657"
     },
     "execution_count": 14,
     "metadata": {},
     "output_type": "execute_result"
    }
   ],
   "source": [
    "# score with test set\n",
    "model_b.score(test_x,test_y)"
   ],
   "metadata": {
    "collapsed": false,
    "pycharm": {
     "name": "#%%\n"
    }
   }
  },
  {
   "cell_type": "code",
   "execution_count": null,
   "outputs": [],
   "source": [],
   "metadata": {
    "collapsed": false,
    "pycharm": {
     "name": "#%%\n"
    }
   }
  }
 ],
 "metadata": {
  "kernelspec": {
   "display_name": "Python 3",
   "language": "python",
   "name": "python3"
  },
  "language_info": {
   "codemirror_mode": {
    "name": "ipython",
    "version": 2
   },
   "file_extension": ".py",
   "mimetype": "text/x-python",
   "name": "python",
   "nbconvert_exporter": "python",
   "pygments_lexer": "ipython2",
   "version": "2.7.6"
  }
 },
 "nbformat": 4,
 "nbformat_minor": 0
}