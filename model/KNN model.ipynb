{
 "cells": [
  {
   "cell_type": "code",
   "execution_count": 7,
   "metadata": {
    "collapsed": true,
    "pycharm": {
     "name": "#%%\n"
    }
   },
   "outputs": [],
   "source": [
    "import random\n",
    "import pandas as pd\n",
    "import numpy as np\n",
    "import scipy.stats as ss\n",
    "import seaborn as sns\n",
    "import plotly.graph_objs as go\n",
    "from plotly.offline import plot\n",
    "from feature_engine.encoding import OrdinalEncoder\n",
    "from sklearn.neighbors import KNeighborsClassifier as KNN\n",
    "from sklearn.feature_selection import SelectKBest, f_regression\n",
    "from sklearn.model_selection import train_test_split, RepeatedStratifiedKFold, cross_val_score"
   ]
  },
  {
   "cell_type": "code",
   "execution_count": 2,
   "outputs": [
    {
     "data": {
      "text/plain": "              Date Location  MinTemp    MaxTemp  Rainfall  Evaporation  \\\n0       2008-12-01   Albury     13.4  22.900000       0.6          1.4   \n1       2008-12-02   Albury      7.4  25.100000       0.0          0.8   \n2       2008-12-03   Albury     12.9  25.700000       0.0          6.2   \n3       2008-12-04   Albury      9.2  28.000000       0.0          3.8   \n4       2008-12-05   Albury     17.5  32.300000       1.0          3.6   \n...            ...      ...      ...        ...       ...          ...   \n145455  2017-06-21    Uluru      2.8  23.400000       0.0          5.0   \n145456  2017-06-22    Uluru      3.6  25.300000       0.0          5.4   \n145457  2017-06-23    Uluru      5.4  26.900000       0.0          3.2   \n145458  2017-06-24    Uluru      7.8  27.000000       0.0          1.6   \n145459  2017-06-25    Uluru     14.9  30.383195       0.0          8.0   \n\n        Sunshine  WindGustDir  WindGustSpeed  WindDir9am  ...  Humidity9am  \\\n0            9.5     0.073518           44.0    0.062725  ...         71.0   \n1            0.3     0.060821           44.0    0.059164  ...         44.0   \n2            4.7     0.067063           46.0    0.062725  ...         38.0   \n3            3.0     0.052729           24.0    0.068892  ...         45.0   \n4           11.6     0.073518           41.0    0.058243  ...         82.0   \n...          ...          ...            ...         ...  ...          ...   \n145455      10.8     0.068074           31.0    0.068892  ...         51.0   \n145456       5.6     0.048900           22.0    0.068892  ...         56.0   \n145457       0.0     0.068747           37.0    0.068892  ...         53.0   \n145458       6.6     0.069847           28.0    0.067737  ...         51.0   \n145459      10.9     0.068074           54.0    0.056359  ...         62.0   \n\n        Humidity3pm  Pressure9am  Pressure3pm  Cloud9am  Cloud3pm  Temp9am  \\\n0              22.0       1007.7       1007.1       8.0       4.0     16.9   \n1              25.0       1010.6       1007.8       7.0       0.0     17.2   \n2              30.0       1007.6       1008.7       0.0       2.0     21.0   \n3              16.0       1017.6       1012.8       4.0       3.0     18.1   \n4              33.0       1010.8       1006.0       7.0       8.0     17.8   \n...             ...          ...          ...       ...       ...      ...   \n145455         24.0       1024.6       1020.3       8.0       7.0     10.1   \n145456         21.0       1023.5       1019.1       4.0       7.0     10.9   \n145457         24.0       1021.0       1016.8       4.0       0.0     12.5   \n145458         24.0       1019.4       1016.5       3.0       2.0     15.1   \n145459         36.0       1020.2       1017.9       8.0       8.0     15.0   \n\n        Temp3pm  RainToday  RainTomorrow  \n0          21.8         No            No  \n1          24.3         No            No  \n2          23.2         No            No  \n3          26.5         No            No  \n4          29.7         No            No  \n...         ...        ...           ...  \n145455     22.4         No            No  \n145456     24.5         No            No  \n145457     26.1         No            No  \n145458     26.0         No            No  \n145459     20.9         No           Yes  \n\n[145460 rows x 23 columns]",
      "text/html": "<div>\n<style scoped>\n    .dataframe tbody tr th:only-of-type {\n        vertical-align: middle;\n    }\n\n    .dataframe tbody tr th {\n        vertical-align: top;\n    }\n\n    .dataframe thead th {\n        text-align: right;\n    }\n</style>\n<table border=\"1\" class=\"dataframe\">\n  <thead>\n    <tr style=\"text-align: right;\">\n      <th></th>\n      <th>Date</th>\n      <th>Location</th>\n      <th>MinTemp</th>\n      <th>MaxTemp</th>\n      <th>Rainfall</th>\n      <th>Evaporation</th>\n      <th>Sunshine</th>\n      <th>WindGustDir</th>\n      <th>WindGustSpeed</th>\n      <th>WindDir9am</th>\n      <th>...</th>\n      <th>Humidity9am</th>\n      <th>Humidity3pm</th>\n      <th>Pressure9am</th>\n      <th>Pressure3pm</th>\n      <th>Cloud9am</th>\n      <th>Cloud3pm</th>\n      <th>Temp9am</th>\n      <th>Temp3pm</th>\n      <th>RainToday</th>\n      <th>RainTomorrow</th>\n    </tr>\n  </thead>\n  <tbody>\n    <tr>\n      <th>0</th>\n      <td>2008-12-01</td>\n      <td>Albury</td>\n      <td>13.4</td>\n      <td>22.900000</td>\n      <td>0.6</td>\n      <td>1.4</td>\n      <td>9.5</td>\n      <td>0.073518</td>\n      <td>44.0</td>\n      <td>0.062725</td>\n      <td>...</td>\n      <td>71.0</td>\n      <td>22.0</td>\n      <td>1007.7</td>\n      <td>1007.1</td>\n      <td>8.0</td>\n      <td>4.0</td>\n      <td>16.9</td>\n      <td>21.8</td>\n      <td>No</td>\n      <td>No</td>\n    </tr>\n    <tr>\n      <th>1</th>\n      <td>2008-12-02</td>\n      <td>Albury</td>\n      <td>7.4</td>\n      <td>25.100000</td>\n      <td>0.0</td>\n      <td>0.8</td>\n      <td>0.3</td>\n      <td>0.060821</td>\n      <td>44.0</td>\n      <td>0.059164</td>\n      <td>...</td>\n      <td>44.0</td>\n      <td>25.0</td>\n      <td>1010.6</td>\n      <td>1007.8</td>\n      <td>7.0</td>\n      <td>0.0</td>\n      <td>17.2</td>\n      <td>24.3</td>\n      <td>No</td>\n      <td>No</td>\n    </tr>\n    <tr>\n      <th>2</th>\n      <td>2008-12-03</td>\n      <td>Albury</td>\n      <td>12.9</td>\n      <td>25.700000</td>\n      <td>0.0</td>\n      <td>6.2</td>\n      <td>4.7</td>\n      <td>0.067063</td>\n      <td>46.0</td>\n      <td>0.062725</td>\n      <td>...</td>\n      <td>38.0</td>\n      <td>30.0</td>\n      <td>1007.6</td>\n      <td>1008.7</td>\n      <td>0.0</td>\n      <td>2.0</td>\n      <td>21.0</td>\n      <td>23.2</td>\n      <td>No</td>\n      <td>No</td>\n    </tr>\n    <tr>\n      <th>3</th>\n      <td>2008-12-04</td>\n      <td>Albury</td>\n      <td>9.2</td>\n      <td>28.000000</td>\n      <td>0.0</td>\n      <td>3.8</td>\n      <td>3.0</td>\n      <td>0.052729</td>\n      <td>24.0</td>\n      <td>0.068892</td>\n      <td>...</td>\n      <td>45.0</td>\n      <td>16.0</td>\n      <td>1017.6</td>\n      <td>1012.8</td>\n      <td>4.0</td>\n      <td>3.0</td>\n      <td>18.1</td>\n      <td>26.5</td>\n      <td>No</td>\n      <td>No</td>\n    </tr>\n    <tr>\n      <th>4</th>\n      <td>2008-12-05</td>\n      <td>Albury</td>\n      <td>17.5</td>\n      <td>32.300000</td>\n      <td>1.0</td>\n      <td>3.6</td>\n      <td>11.6</td>\n      <td>0.073518</td>\n      <td>41.0</td>\n      <td>0.058243</td>\n      <td>...</td>\n      <td>82.0</td>\n      <td>33.0</td>\n      <td>1010.8</td>\n      <td>1006.0</td>\n      <td>7.0</td>\n      <td>8.0</td>\n      <td>17.8</td>\n      <td>29.7</td>\n      <td>No</td>\n      <td>No</td>\n    </tr>\n    <tr>\n      <th>...</th>\n      <td>...</td>\n      <td>...</td>\n      <td>...</td>\n      <td>...</td>\n      <td>...</td>\n      <td>...</td>\n      <td>...</td>\n      <td>...</td>\n      <td>...</td>\n      <td>...</td>\n      <td>...</td>\n      <td>...</td>\n      <td>...</td>\n      <td>...</td>\n      <td>...</td>\n      <td>...</td>\n      <td>...</td>\n      <td>...</td>\n      <td>...</td>\n      <td>...</td>\n      <td>...</td>\n    </tr>\n    <tr>\n      <th>145455</th>\n      <td>2017-06-21</td>\n      <td>Uluru</td>\n      <td>2.8</td>\n      <td>23.400000</td>\n      <td>0.0</td>\n      <td>5.0</td>\n      <td>10.8</td>\n      <td>0.068074</td>\n      <td>31.0</td>\n      <td>0.068892</td>\n      <td>...</td>\n      <td>51.0</td>\n      <td>24.0</td>\n      <td>1024.6</td>\n      <td>1020.3</td>\n      <td>8.0</td>\n      <td>7.0</td>\n      <td>10.1</td>\n      <td>22.4</td>\n      <td>No</td>\n      <td>No</td>\n    </tr>\n    <tr>\n      <th>145456</th>\n      <td>2017-06-22</td>\n      <td>Uluru</td>\n      <td>3.6</td>\n      <td>25.300000</td>\n      <td>0.0</td>\n      <td>5.4</td>\n      <td>5.6</td>\n      <td>0.048900</td>\n      <td>22.0</td>\n      <td>0.068892</td>\n      <td>...</td>\n      <td>56.0</td>\n      <td>21.0</td>\n      <td>1023.5</td>\n      <td>1019.1</td>\n      <td>4.0</td>\n      <td>7.0</td>\n      <td>10.9</td>\n      <td>24.5</td>\n      <td>No</td>\n      <td>No</td>\n    </tr>\n    <tr>\n      <th>145457</th>\n      <td>2017-06-23</td>\n      <td>Uluru</td>\n      <td>5.4</td>\n      <td>26.900000</td>\n      <td>0.0</td>\n      <td>3.2</td>\n      <td>0.0</td>\n      <td>0.068747</td>\n      <td>37.0</td>\n      <td>0.068892</td>\n      <td>...</td>\n      <td>53.0</td>\n      <td>24.0</td>\n      <td>1021.0</td>\n      <td>1016.8</td>\n      <td>4.0</td>\n      <td>0.0</td>\n      <td>12.5</td>\n      <td>26.1</td>\n      <td>No</td>\n      <td>No</td>\n    </tr>\n    <tr>\n      <th>145458</th>\n      <td>2017-06-24</td>\n      <td>Uluru</td>\n      <td>7.8</td>\n      <td>27.000000</td>\n      <td>0.0</td>\n      <td>1.6</td>\n      <td>6.6</td>\n      <td>0.069847</td>\n      <td>28.0</td>\n      <td>0.067737</td>\n      <td>...</td>\n      <td>51.0</td>\n      <td>24.0</td>\n      <td>1019.4</td>\n      <td>1016.5</td>\n      <td>3.0</td>\n      <td>2.0</td>\n      <td>15.1</td>\n      <td>26.0</td>\n      <td>No</td>\n      <td>No</td>\n    </tr>\n    <tr>\n      <th>145459</th>\n      <td>2017-06-25</td>\n      <td>Uluru</td>\n      <td>14.9</td>\n      <td>30.383195</td>\n      <td>0.0</td>\n      <td>8.0</td>\n      <td>10.9</td>\n      <td>0.068074</td>\n      <td>54.0</td>\n      <td>0.056359</td>\n      <td>...</td>\n      <td>62.0</td>\n      <td>36.0</td>\n      <td>1020.2</td>\n      <td>1017.9</td>\n      <td>8.0</td>\n      <td>8.0</td>\n      <td>15.0</td>\n      <td>20.9</td>\n      <td>No</td>\n      <td>Yes</td>\n    </tr>\n  </tbody>\n</table>\n<p>145460 rows × 23 columns</p>\n</div>"
     },
     "execution_count": 2,
     "metadata": {},
     "output_type": "execute_result"
    }
   ],
   "source": [
    "data = pd.read_pickle('../data/aus_weather_cln.pkl')\n",
    "data"
   ],
   "metadata": {
    "collapsed": false,
    "pycharm": {
     "name": "#%%\n"
    }
   }
  },
  {
   "cell_type": "code",
   "execution_count": 3,
   "outputs": [],
   "source": [
    "data['Date'] = pd.to_datetime(data['Date'])"
   ],
   "metadata": {
    "collapsed": false,
    "pycharm": {
     "name": "#%%\n"
    }
   }
  },
  {
   "cell_type": "code",
   "execution_count": 4,
   "outputs": [
    {
     "data": {
      "text/plain": "        RainToday  RainTomorrow\n0               0             0\n1               0             0\n2               0             0\n3               0             0\n4               0             0\n...           ...           ...\n145455          0             0\n145456          0             0\n145457          0             0\n145458          0             0\n145459          0             1\n\n[145460 rows x 2 columns]",
      "text/html": "<div>\n<style scoped>\n    .dataframe tbody tr th:only-of-type {\n        vertical-align: middle;\n    }\n\n    .dataframe tbody tr th {\n        vertical-align: top;\n    }\n\n    .dataframe thead th {\n        text-align: right;\n    }\n</style>\n<table border=\"1\" class=\"dataframe\">\n  <thead>\n    <tr style=\"text-align: right;\">\n      <th></th>\n      <th>RainToday</th>\n      <th>RainTomorrow</th>\n    </tr>\n  </thead>\n  <tbody>\n    <tr>\n      <th>0</th>\n      <td>0</td>\n      <td>0</td>\n    </tr>\n    <tr>\n      <th>1</th>\n      <td>0</td>\n      <td>0</td>\n    </tr>\n    <tr>\n      <th>2</th>\n      <td>0</td>\n      <td>0</td>\n    </tr>\n    <tr>\n      <th>3</th>\n      <td>0</td>\n      <td>0</td>\n    </tr>\n    <tr>\n      <th>4</th>\n      <td>0</td>\n      <td>0</td>\n    </tr>\n    <tr>\n      <th>...</th>\n      <td>...</td>\n      <td>...</td>\n    </tr>\n    <tr>\n      <th>145455</th>\n      <td>0</td>\n      <td>0</td>\n    </tr>\n    <tr>\n      <th>145456</th>\n      <td>0</td>\n      <td>0</td>\n    </tr>\n    <tr>\n      <th>145457</th>\n      <td>0</td>\n      <td>0</td>\n    </tr>\n    <tr>\n      <th>145458</th>\n      <td>0</td>\n      <td>0</td>\n    </tr>\n    <tr>\n      <th>145459</th>\n      <td>0</td>\n      <td>1</td>\n    </tr>\n  </tbody>\n</table>\n<p>145460 rows × 2 columns</p>\n</div>"
     },
     "execution_count": 4,
     "metadata": {},
     "output_type": "execute_result"
    }
   ],
   "source": [
    "data['RainToday'] = data['RainToday'].apply(lambda x: 1 if x == 'Yes' else 0)\n",
    "data['RainTomorrow'] = data['RainTomorrow'].apply(lambda x: 1 if x == 'Yes' else 0)\n",
    "data[['RainToday', 'RainTomorrow']]"
   ],
   "metadata": {
    "collapsed": false,
    "pycharm": {
     "name": "#%%\n"
    }
   }
  },
  {
   "cell_type": "code",
   "execution_count": 5,
   "outputs": [
    {
     "data": {
      "text/plain": "             Date Location  MinTemp    MaxTemp  Rainfall  Evaporation  \\\n0      2008-12-01   Albury     13.4  22.900000       0.6          1.4   \n1      2008-12-02   Albury      7.4  25.100000       0.0          0.8   \n2      2008-12-03   Albury     12.9  25.700000       0.0          6.2   \n3      2008-12-04   Albury      9.2  28.000000       0.0          3.8   \n4      2008-12-05   Albury     17.5  32.300000       1.0          3.6   \n...           ...      ...      ...        ...       ...          ...   \n145455 2017-06-21    Uluru      2.8  23.400000       0.0          5.0   \n145456 2017-06-22    Uluru      3.6  25.300000       0.0          5.4   \n145457 2017-06-23    Uluru      5.4  26.900000       0.0          3.2   \n145458 2017-06-24    Uluru      7.8  27.000000       0.0          1.6   \n145459 2017-06-25    Uluru     14.9  30.383195       0.0          8.0   \n\n        Sunshine  WindGustDir  WindGustSpeed  WindDir9am  ...  Pressure3pm  \\\n0            9.5     0.073518           44.0    0.062725  ...       1007.1   \n1            0.3     0.060821           44.0    0.059164  ...       1007.8   \n2            4.7     0.067063           46.0    0.062725  ...       1008.7   \n3            3.0     0.052729           24.0    0.068892  ...       1012.8   \n4           11.6     0.073518           41.0    0.058243  ...       1006.0   \n...          ...          ...            ...         ...  ...          ...   \n145455      10.8     0.068074           31.0    0.068892  ...       1020.3   \n145456       5.6     0.048900           22.0    0.068892  ...       1019.1   \n145457       0.0     0.068747           37.0    0.068892  ...       1016.8   \n145458       6.6     0.069847           28.0    0.067737  ...       1016.5   \n145459      10.9     0.068074           54.0    0.056359  ...       1017.9   \n\n        Cloud9am  Cloud3pm  Temp9am  Temp3pm  RainToday  RainTomorrow  Year  \\\n0            8.0       4.0     16.9     21.8          0             0  2008   \n1            7.0       0.0     17.2     24.3          0             0  2008   \n2            0.0       2.0     21.0     23.2          0             0  2008   \n3            4.0       3.0     18.1     26.5          0             0  2008   \n4            7.0       8.0     17.8     29.7          0             0  2008   \n...          ...       ...      ...      ...        ...           ...   ...   \n145455       8.0       7.0     10.1     22.4          0             0  2017   \n145456       4.0       7.0     10.9     24.5          0             0  2017   \n145457       4.0       0.0     12.5     26.1          0             0  2017   \n145458       3.0       2.0     15.1     26.0          0             0  2017   \n145459       8.0       8.0     15.0     20.9          0             1  2017   \n\n        Month  Quarter  \n0          12        4  \n1          12        4  \n2          12        4  \n3          12        4  \n4          12        4  \n...       ...      ...  \n145455      6        2  \n145456      6        2  \n145457      6        2  \n145458      6        2  \n145459      6        2  \n\n[145460 rows x 26 columns]",
      "text/html": "<div>\n<style scoped>\n    .dataframe tbody tr th:only-of-type {\n        vertical-align: middle;\n    }\n\n    .dataframe tbody tr th {\n        vertical-align: top;\n    }\n\n    .dataframe thead th {\n        text-align: right;\n    }\n</style>\n<table border=\"1\" class=\"dataframe\">\n  <thead>\n    <tr style=\"text-align: right;\">\n      <th></th>\n      <th>Date</th>\n      <th>Location</th>\n      <th>MinTemp</th>\n      <th>MaxTemp</th>\n      <th>Rainfall</th>\n      <th>Evaporation</th>\n      <th>Sunshine</th>\n      <th>WindGustDir</th>\n      <th>WindGustSpeed</th>\n      <th>WindDir9am</th>\n      <th>...</th>\n      <th>Pressure3pm</th>\n      <th>Cloud9am</th>\n      <th>Cloud3pm</th>\n      <th>Temp9am</th>\n      <th>Temp3pm</th>\n      <th>RainToday</th>\n      <th>RainTomorrow</th>\n      <th>Year</th>\n      <th>Month</th>\n      <th>Quarter</th>\n    </tr>\n  </thead>\n  <tbody>\n    <tr>\n      <th>0</th>\n      <td>2008-12-01</td>\n      <td>Albury</td>\n      <td>13.4</td>\n      <td>22.900000</td>\n      <td>0.6</td>\n      <td>1.4</td>\n      <td>9.5</td>\n      <td>0.073518</td>\n      <td>44.0</td>\n      <td>0.062725</td>\n      <td>...</td>\n      <td>1007.1</td>\n      <td>8.0</td>\n      <td>4.0</td>\n      <td>16.9</td>\n      <td>21.8</td>\n      <td>0</td>\n      <td>0</td>\n      <td>2008</td>\n      <td>12</td>\n      <td>4</td>\n    </tr>\n    <tr>\n      <th>1</th>\n      <td>2008-12-02</td>\n      <td>Albury</td>\n      <td>7.4</td>\n      <td>25.100000</td>\n      <td>0.0</td>\n      <td>0.8</td>\n      <td>0.3</td>\n      <td>0.060821</td>\n      <td>44.0</td>\n      <td>0.059164</td>\n      <td>...</td>\n      <td>1007.8</td>\n      <td>7.0</td>\n      <td>0.0</td>\n      <td>17.2</td>\n      <td>24.3</td>\n      <td>0</td>\n      <td>0</td>\n      <td>2008</td>\n      <td>12</td>\n      <td>4</td>\n    </tr>\n    <tr>\n      <th>2</th>\n      <td>2008-12-03</td>\n      <td>Albury</td>\n      <td>12.9</td>\n      <td>25.700000</td>\n      <td>0.0</td>\n      <td>6.2</td>\n      <td>4.7</td>\n      <td>0.067063</td>\n      <td>46.0</td>\n      <td>0.062725</td>\n      <td>...</td>\n      <td>1008.7</td>\n      <td>0.0</td>\n      <td>2.0</td>\n      <td>21.0</td>\n      <td>23.2</td>\n      <td>0</td>\n      <td>0</td>\n      <td>2008</td>\n      <td>12</td>\n      <td>4</td>\n    </tr>\n    <tr>\n      <th>3</th>\n      <td>2008-12-04</td>\n      <td>Albury</td>\n      <td>9.2</td>\n      <td>28.000000</td>\n      <td>0.0</td>\n      <td>3.8</td>\n      <td>3.0</td>\n      <td>0.052729</td>\n      <td>24.0</td>\n      <td>0.068892</td>\n      <td>...</td>\n      <td>1012.8</td>\n      <td>4.0</td>\n      <td>3.0</td>\n      <td>18.1</td>\n      <td>26.5</td>\n      <td>0</td>\n      <td>0</td>\n      <td>2008</td>\n      <td>12</td>\n      <td>4</td>\n    </tr>\n    <tr>\n      <th>4</th>\n      <td>2008-12-05</td>\n      <td>Albury</td>\n      <td>17.5</td>\n      <td>32.300000</td>\n      <td>1.0</td>\n      <td>3.6</td>\n      <td>11.6</td>\n      <td>0.073518</td>\n      <td>41.0</td>\n      <td>0.058243</td>\n      <td>...</td>\n      <td>1006.0</td>\n      <td>7.0</td>\n      <td>8.0</td>\n      <td>17.8</td>\n      <td>29.7</td>\n      <td>0</td>\n      <td>0</td>\n      <td>2008</td>\n      <td>12</td>\n      <td>4</td>\n    </tr>\n    <tr>\n      <th>...</th>\n      <td>...</td>\n      <td>...</td>\n      <td>...</td>\n      <td>...</td>\n      <td>...</td>\n      <td>...</td>\n      <td>...</td>\n      <td>...</td>\n      <td>...</td>\n      <td>...</td>\n      <td>...</td>\n      <td>...</td>\n      <td>...</td>\n      <td>...</td>\n      <td>...</td>\n      <td>...</td>\n      <td>...</td>\n      <td>...</td>\n      <td>...</td>\n      <td>...</td>\n      <td>...</td>\n    </tr>\n    <tr>\n      <th>145455</th>\n      <td>2017-06-21</td>\n      <td>Uluru</td>\n      <td>2.8</td>\n      <td>23.400000</td>\n      <td>0.0</td>\n      <td>5.0</td>\n      <td>10.8</td>\n      <td>0.068074</td>\n      <td>31.0</td>\n      <td>0.068892</td>\n      <td>...</td>\n      <td>1020.3</td>\n      <td>8.0</td>\n      <td>7.0</td>\n      <td>10.1</td>\n      <td>22.4</td>\n      <td>0</td>\n      <td>0</td>\n      <td>2017</td>\n      <td>6</td>\n      <td>2</td>\n    </tr>\n    <tr>\n      <th>145456</th>\n      <td>2017-06-22</td>\n      <td>Uluru</td>\n      <td>3.6</td>\n      <td>25.300000</td>\n      <td>0.0</td>\n      <td>5.4</td>\n      <td>5.6</td>\n      <td>0.048900</td>\n      <td>22.0</td>\n      <td>0.068892</td>\n      <td>...</td>\n      <td>1019.1</td>\n      <td>4.0</td>\n      <td>7.0</td>\n      <td>10.9</td>\n      <td>24.5</td>\n      <td>0</td>\n      <td>0</td>\n      <td>2017</td>\n      <td>6</td>\n      <td>2</td>\n    </tr>\n    <tr>\n      <th>145457</th>\n      <td>2017-06-23</td>\n      <td>Uluru</td>\n      <td>5.4</td>\n      <td>26.900000</td>\n      <td>0.0</td>\n      <td>3.2</td>\n      <td>0.0</td>\n      <td>0.068747</td>\n      <td>37.0</td>\n      <td>0.068892</td>\n      <td>...</td>\n      <td>1016.8</td>\n      <td>4.0</td>\n      <td>0.0</td>\n      <td>12.5</td>\n      <td>26.1</td>\n      <td>0</td>\n      <td>0</td>\n      <td>2017</td>\n      <td>6</td>\n      <td>2</td>\n    </tr>\n    <tr>\n      <th>145458</th>\n      <td>2017-06-24</td>\n      <td>Uluru</td>\n      <td>7.8</td>\n      <td>27.000000</td>\n      <td>0.0</td>\n      <td>1.6</td>\n      <td>6.6</td>\n      <td>0.069847</td>\n      <td>28.0</td>\n      <td>0.067737</td>\n      <td>...</td>\n      <td>1016.5</td>\n      <td>3.0</td>\n      <td>2.0</td>\n      <td>15.1</td>\n      <td>26.0</td>\n      <td>0</td>\n      <td>0</td>\n      <td>2017</td>\n      <td>6</td>\n      <td>2</td>\n    </tr>\n    <tr>\n      <th>145459</th>\n      <td>2017-06-25</td>\n      <td>Uluru</td>\n      <td>14.9</td>\n      <td>30.383195</td>\n      <td>0.0</td>\n      <td>8.0</td>\n      <td>10.9</td>\n      <td>0.068074</td>\n      <td>54.0</td>\n      <td>0.056359</td>\n      <td>...</td>\n      <td>1017.9</td>\n      <td>8.0</td>\n      <td>8.0</td>\n      <td>15.0</td>\n      <td>20.9</td>\n      <td>0</td>\n      <td>1</td>\n      <td>2017</td>\n      <td>6</td>\n      <td>2</td>\n    </tr>\n  </tbody>\n</table>\n<p>145460 rows × 26 columns</p>\n</div>"
     },
     "execution_count": 5,
     "metadata": {},
     "output_type": "execute_result"
    }
   ],
   "source": [
    "data['Year'] = data['Date'].dt.year\n",
    "data['Month'] = data['Date'].dt.month\n",
    "data['Quarter'] = data['Date'].dt.quarter\n",
    "data"
   ],
   "metadata": {
    "collapsed": false,
    "pycharm": {
     "name": "#%%\n"
    }
   }
  },
  {
   "cell_type": "code",
   "execution_count": 6,
   "outputs": [
    {
     "data": {
      "text/plain": "           Location  MinTemp    MaxTemp  Rainfall  Evaporation  Sunshine  \\\nDate                                                                       \n2008-12-01   Albury     13.4  22.900000       0.6          1.4       9.5   \n2008-12-02   Albury      7.4  25.100000       0.0          0.8       0.3   \n2008-12-03   Albury     12.9  25.700000       0.0          6.2       4.7   \n2008-12-04   Albury      9.2  28.000000       0.0          3.8       3.0   \n2008-12-05   Albury     17.5  32.300000       1.0          3.6      11.6   \n...             ...      ...        ...       ...          ...       ...   \n2017-06-21    Uluru      2.8  23.400000       0.0          5.0      10.8   \n2017-06-22    Uluru      3.6  25.300000       0.0          5.4       5.6   \n2017-06-23    Uluru      5.4  26.900000       0.0          3.2       0.0   \n2017-06-24    Uluru      7.8  27.000000       0.0          1.6       6.6   \n2017-06-25    Uluru     14.9  30.383195       0.0          8.0      10.9   \n\n            WindGustDir  WindGustSpeed  WindDir9am  WindDir3pm  ...  \\\nDate                                                            ...   \n2008-12-01     0.073518           44.0    0.062725    0.062739  ...   \n2008-12-02     0.060821           44.0    0.059164    0.067469  ...   \n2008-12-03     0.067063           46.0    0.062725    0.067469  ...   \n2008-12-04     0.052729           24.0    0.068892    0.059989  ...   \n2008-12-05     0.073518           41.0    0.058243    0.060876  ...   \n...                 ...            ...         ...         ...  ...   \n2017-06-21     0.068074           31.0    0.068892    0.055685  ...   \n2017-06-22     0.048900           22.0    0.068892    0.062849  ...   \n2017-06-23     0.068747           37.0    0.068892    0.062739  ...   \n2017-06-24     0.069847           28.0    0.067737    0.062849  ...   \n2017-06-25     0.068074           54.0    0.056359    0.060126  ...   \n\n            Pressure3pm  Cloud9am  Cloud3pm  Temp9am  Temp3pm  RainToday  \\\nDate                                                                       \n2008-12-01       1007.1       8.0       4.0     16.9     21.8          0   \n2008-12-02       1007.8       7.0       0.0     17.2     24.3          0   \n2008-12-03       1008.7       0.0       2.0     21.0     23.2          0   \n2008-12-04       1012.8       4.0       3.0     18.1     26.5          0   \n2008-12-05       1006.0       7.0       8.0     17.8     29.7          0   \n...                 ...       ...       ...      ...      ...        ...   \n2017-06-21       1020.3       8.0       7.0     10.1     22.4          0   \n2017-06-22       1019.1       4.0       7.0     10.9     24.5          0   \n2017-06-23       1016.8       4.0       0.0     12.5     26.1          0   \n2017-06-24       1016.5       3.0       2.0     15.1     26.0          0   \n2017-06-25       1017.9       8.0       8.0     15.0     20.9          0   \n\n            RainTomorrow  Year  Month  Quarter  \nDate                                            \n2008-12-01             0  2008     12        4  \n2008-12-02             0  2008     12        4  \n2008-12-03             0  2008     12        4  \n2008-12-04             0  2008     12        4  \n2008-12-05             0  2008     12        4  \n...                  ...   ...    ...      ...  \n2017-06-21             0  2017      6        2  \n2017-06-22             0  2017      6        2  \n2017-06-23             0  2017      6        2  \n2017-06-24             0  2017      6        2  \n2017-06-25             1  2017      6        2  \n\n[145460 rows x 25 columns]",
      "text/html": "<div>\n<style scoped>\n    .dataframe tbody tr th:only-of-type {\n        vertical-align: middle;\n    }\n\n    .dataframe tbody tr th {\n        vertical-align: top;\n    }\n\n    .dataframe thead th {\n        text-align: right;\n    }\n</style>\n<table border=\"1\" class=\"dataframe\">\n  <thead>\n    <tr style=\"text-align: right;\">\n      <th></th>\n      <th>Location</th>\n      <th>MinTemp</th>\n      <th>MaxTemp</th>\n      <th>Rainfall</th>\n      <th>Evaporation</th>\n      <th>Sunshine</th>\n      <th>WindGustDir</th>\n      <th>WindGustSpeed</th>\n      <th>WindDir9am</th>\n      <th>WindDir3pm</th>\n      <th>...</th>\n      <th>Pressure3pm</th>\n      <th>Cloud9am</th>\n      <th>Cloud3pm</th>\n      <th>Temp9am</th>\n      <th>Temp3pm</th>\n      <th>RainToday</th>\n      <th>RainTomorrow</th>\n      <th>Year</th>\n      <th>Month</th>\n      <th>Quarter</th>\n    </tr>\n    <tr>\n      <th>Date</th>\n      <th></th>\n      <th></th>\n      <th></th>\n      <th></th>\n      <th></th>\n      <th></th>\n      <th></th>\n      <th></th>\n      <th></th>\n      <th></th>\n      <th></th>\n      <th></th>\n      <th></th>\n      <th></th>\n      <th></th>\n      <th></th>\n      <th></th>\n      <th></th>\n      <th></th>\n      <th></th>\n      <th></th>\n    </tr>\n  </thead>\n  <tbody>\n    <tr>\n      <th>2008-12-01</th>\n      <td>Albury</td>\n      <td>13.4</td>\n      <td>22.900000</td>\n      <td>0.6</td>\n      <td>1.4</td>\n      <td>9.5</td>\n      <td>0.073518</td>\n      <td>44.0</td>\n      <td>0.062725</td>\n      <td>0.062739</td>\n      <td>...</td>\n      <td>1007.1</td>\n      <td>8.0</td>\n      <td>4.0</td>\n      <td>16.9</td>\n      <td>21.8</td>\n      <td>0</td>\n      <td>0</td>\n      <td>2008</td>\n      <td>12</td>\n      <td>4</td>\n    </tr>\n    <tr>\n      <th>2008-12-02</th>\n      <td>Albury</td>\n      <td>7.4</td>\n      <td>25.100000</td>\n      <td>0.0</td>\n      <td>0.8</td>\n      <td>0.3</td>\n      <td>0.060821</td>\n      <td>44.0</td>\n      <td>0.059164</td>\n      <td>0.067469</td>\n      <td>...</td>\n      <td>1007.8</td>\n      <td>7.0</td>\n      <td>0.0</td>\n      <td>17.2</td>\n      <td>24.3</td>\n      <td>0</td>\n      <td>0</td>\n      <td>2008</td>\n      <td>12</td>\n      <td>4</td>\n    </tr>\n    <tr>\n      <th>2008-12-03</th>\n      <td>Albury</td>\n      <td>12.9</td>\n      <td>25.700000</td>\n      <td>0.0</td>\n      <td>6.2</td>\n      <td>4.7</td>\n      <td>0.067063</td>\n      <td>46.0</td>\n      <td>0.062725</td>\n      <td>0.067469</td>\n      <td>...</td>\n      <td>1008.7</td>\n      <td>0.0</td>\n      <td>2.0</td>\n      <td>21.0</td>\n      <td>23.2</td>\n      <td>0</td>\n      <td>0</td>\n      <td>2008</td>\n      <td>12</td>\n      <td>4</td>\n    </tr>\n    <tr>\n      <th>2008-12-04</th>\n      <td>Albury</td>\n      <td>9.2</td>\n      <td>28.000000</td>\n      <td>0.0</td>\n      <td>3.8</td>\n      <td>3.0</td>\n      <td>0.052729</td>\n      <td>24.0</td>\n      <td>0.068892</td>\n      <td>0.059989</td>\n      <td>...</td>\n      <td>1012.8</td>\n      <td>4.0</td>\n      <td>3.0</td>\n      <td>18.1</td>\n      <td>26.5</td>\n      <td>0</td>\n      <td>0</td>\n      <td>2008</td>\n      <td>12</td>\n      <td>4</td>\n    </tr>\n    <tr>\n      <th>2008-12-05</th>\n      <td>Albury</td>\n      <td>17.5</td>\n      <td>32.300000</td>\n      <td>1.0</td>\n      <td>3.6</td>\n      <td>11.6</td>\n      <td>0.073518</td>\n      <td>41.0</td>\n      <td>0.058243</td>\n      <td>0.060876</td>\n      <td>...</td>\n      <td>1006.0</td>\n      <td>7.0</td>\n      <td>8.0</td>\n      <td>17.8</td>\n      <td>29.7</td>\n      <td>0</td>\n      <td>0</td>\n      <td>2008</td>\n      <td>12</td>\n      <td>4</td>\n    </tr>\n    <tr>\n      <th>...</th>\n      <td>...</td>\n      <td>...</td>\n      <td>...</td>\n      <td>...</td>\n      <td>...</td>\n      <td>...</td>\n      <td>...</td>\n      <td>...</td>\n      <td>...</td>\n      <td>...</td>\n      <td>...</td>\n      <td>...</td>\n      <td>...</td>\n      <td>...</td>\n      <td>...</td>\n      <td>...</td>\n      <td>...</td>\n      <td>...</td>\n      <td>...</td>\n      <td>...</td>\n      <td>...</td>\n    </tr>\n    <tr>\n      <th>2017-06-21</th>\n      <td>Uluru</td>\n      <td>2.8</td>\n      <td>23.400000</td>\n      <td>0.0</td>\n      <td>5.0</td>\n      <td>10.8</td>\n      <td>0.068074</td>\n      <td>31.0</td>\n      <td>0.068892</td>\n      <td>0.055685</td>\n      <td>...</td>\n      <td>1020.3</td>\n      <td>8.0</td>\n      <td>7.0</td>\n      <td>10.1</td>\n      <td>22.4</td>\n      <td>0</td>\n      <td>0</td>\n      <td>2017</td>\n      <td>6</td>\n      <td>2</td>\n    </tr>\n    <tr>\n      <th>2017-06-22</th>\n      <td>Uluru</td>\n      <td>3.6</td>\n      <td>25.300000</td>\n      <td>0.0</td>\n      <td>5.4</td>\n      <td>5.6</td>\n      <td>0.048900</td>\n      <td>22.0</td>\n      <td>0.068892</td>\n      <td>0.062849</td>\n      <td>...</td>\n      <td>1019.1</td>\n      <td>4.0</td>\n      <td>7.0</td>\n      <td>10.9</td>\n      <td>24.5</td>\n      <td>0</td>\n      <td>0</td>\n      <td>2017</td>\n      <td>6</td>\n      <td>2</td>\n    </tr>\n    <tr>\n      <th>2017-06-23</th>\n      <td>Uluru</td>\n      <td>5.4</td>\n      <td>26.900000</td>\n      <td>0.0</td>\n      <td>3.2</td>\n      <td>0.0</td>\n      <td>0.068747</td>\n      <td>37.0</td>\n      <td>0.068892</td>\n      <td>0.062739</td>\n      <td>...</td>\n      <td>1016.8</td>\n      <td>4.0</td>\n      <td>0.0</td>\n      <td>12.5</td>\n      <td>26.1</td>\n      <td>0</td>\n      <td>0</td>\n      <td>2017</td>\n      <td>6</td>\n      <td>2</td>\n    </tr>\n    <tr>\n      <th>2017-06-24</th>\n      <td>Uluru</td>\n      <td>7.8</td>\n      <td>27.000000</td>\n      <td>0.0</td>\n      <td>1.6</td>\n      <td>6.6</td>\n      <td>0.069847</td>\n      <td>28.0</td>\n      <td>0.067737</td>\n      <td>0.062849</td>\n      <td>...</td>\n      <td>1016.5</td>\n      <td>3.0</td>\n      <td>2.0</td>\n      <td>15.1</td>\n      <td>26.0</td>\n      <td>0</td>\n      <td>0</td>\n      <td>2017</td>\n      <td>6</td>\n      <td>2</td>\n    </tr>\n    <tr>\n      <th>2017-06-25</th>\n      <td>Uluru</td>\n      <td>14.9</td>\n      <td>30.383195</td>\n      <td>0.0</td>\n      <td>8.0</td>\n      <td>10.9</td>\n      <td>0.068074</td>\n      <td>54.0</td>\n      <td>0.056359</td>\n      <td>0.060126</td>\n      <td>...</td>\n      <td>1017.9</td>\n      <td>8.0</td>\n      <td>8.0</td>\n      <td>15.0</td>\n      <td>20.9</td>\n      <td>0</td>\n      <td>1</td>\n      <td>2017</td>\n      <td>6</td>\n      <td>2</td>\n    </tr>\n  </tbody>\n</table>\n<p>145460 rows × 25 columns</p>\n</div>"
     },
     "execution_count": 6,
     "metadata": {},
     "output_type": "execute_result"
    }
   ],
   "source": [
    "data.set_index('Date', inplace=True)\n",
    "data"
   ],
   "metadata": {
    "collapsed": false,
    "pycharm": {
     "name": "#%%\n"
    }
   }
  },
  {
   "cell_type": "code",
   "execution_count": 8,
   "outputs": [
    {
     "data": {
      "text/plain": "            Location  MinTemp    MaxTemp  Rainfall  Evaporation  Sunshine  \\\nDate                                                                        \n2008-12-01         0     13.4  22.900000       0.6          1.4       9.5   \n2008-12-02         0      7.4  25.100000       0.0          0.8       0.3   \n2008-12-03         0     12.9  25.700000       0.0          6.2       4.7   \n2008-12-04         0      9.2  28.000000       0.0          3.8       3.0   \n2008-12-05         0     17.5  32.300000       1.0          3.6      11.6   \n...              ...      ...        ...       ...          ...       ...   \n2017-06-21        48      2.8  23.400000       0.0          5.0      10.8   \n2017-06-22        48      3.6  25.300000       0.0          5.4       5.6   \n2017-06-23        48      5.4  26.900000       0.0          3.2       0.0   \n2017-06-24        48      7.8  27.000000       0.0          1.6       6.6   \n2017-06-25        48     14.9  30.383195       0.0          8.0      10.9   \n\n            WindGustDir  WindGustSpeed  WindDir9am  WindDir3pm  ...  \\\nDate                                                            ...   \n2008-12-01     0.073518           44.0    0.062725    0.062739  ...   \n2008-12-02     0.060821           44.0    0.059164    0.067469  ...   \n2008-12-03     0.067063           46.0    0.062725    0.067469  ...   \n2008-12-04     0.052729           24.0    0.068892    0.059989  ...   \n2008-12-05     0.073518           41.0    0.058243    0.060876  ...   \n...                 ...            ...         ...         ...  ...   \n2017-06-21     0.068074           31.0    0.068892    0.055685  ...   \n2017-06-22     0.048900           22.0    0.068892    0.062849  ...   \n2017-06-23     0.068747           37.0    0.068892    0.062739  ...   \n2017-06-24     0.069847           28.0    0.067737    0.062849  ...   \n2017-06-25     0.068074           54.0    0.056359    0.060126  ...   \n\n            Pressure3pm  Cloud9am  Cloud3pm  Temp9am  Temp3pm  RainToday  \\\nDate                                                                       \n2008-12-01       1007.1       8.0       4.0     16.9     21.8          0   \n2008-12-02       1007.8       7.0       0.0     17.2     24.3          0   \n2008-12-03       1008.7       0.0       2.0     21.0     23.2          0   \n2008-12-04       1012.8       4.0       3.0     18.1     26.5          0   \n2008-12-05       1006.0       7.0       8.0     17.8     29.7          0   \n...                 ...       ...       ...      ...      ...        ...   \n2017-06-21       1020.3       8.0       7.0     10.1     22.4          0   \n2017-06-22       1019.1       4.0       7.0     10.9     24.5          0   \n2017-06-23       1016.8       4.0       0.0     12.5     26.1          0   \n2017-06-24       1016.5       3.0       2.0     15.1     26.0          0   \n2017-06-25       1017.9       8.0       8.0     15.0     20.9          0   \n\n            RainTomorrow  Year  Month  Quarter  \nDate                                            \n2008-12-01             0  2008     12        4  \n2008-12-02             0  2008     12        4  \n2008-12-03             0  2008     12        4  \n2008-12-04             0  2008     12        4  \n2008-12-05             0  2008     12        4  \n...                  ...   ...    ...      ...  \n2017-06-21             0  2017      6        2  \n2017-06-22             0  2017      6        2  \n2017-06-23             0  2017      6        2  \n2017-06-24             0  2017      6        2  \n2017-06-25             1  2017      6        2  \n\n[145460 rows x 25 columns]",
      "text/html": "<div>\n<style scoped>\n    .dataframe tbody tr th:only-of-type {\n        vertical-align: middle;\n    }\n\n    .dataframe tbody tr th {\n        vertical-align: top;\n    }\n\n    .dataframe thead th {\n        text-align: right;\n    }\n</style>\n<table border=\"1\" class=\"dataframe\">\n  <thead>\n    <tr style=\"text-align: right;\">\n      <th></th>\n      <th>Location</th>\n      <th>MinTemp</th>\n      <th>MaxTemp</th>\n      <th>Rainfall</th>\n      <th>Evaporation</th>\n      <th>Sunshine</th>\n      <th>WindGustDir</th>\n      <th>WindGustSpeed</th>\n      <th>WindDir9am</th>\n      <th>WindDir3pm</th>\n      <th>...</th>\n      <th>Pressure3pm</th>\n      <th>Cloud9am</th>\n      <th>Cloud3pm</th>\n      <th>Temp9am</th>\n      <th>Temp3pm</th>\n      <th>RainToday</th>\n      <th>RainTomorrow</th>\n      <th>Year</th>\n      <th>Month</th>\n      <th>Quarter</th>\n    </tr>\n    <tr>\n      <th>Date</th>\n      <th></th>\n      <th></th>\n      <th></th>\n      <th></th>\n      <th></th>\n      <th></th>\n      <th></th>\n      <th></th>\n      <th></th>\n      <th></th>\n      <th></th>\n      <th></th>\n      <th></th>\n      <th></th>\n      <th></th>\n      <th></th>\n      <th></th>\n      <th></th>\n      <th></th>\n      <th></th>\n      <th></th>\n    </tr>\n  </thead>\n  <tbody>\n    <tr>\n      <th>2008-12-01</th>\n      <td>0</td>\n      <td>13.4</td>\n      <td>22.900000</td>\n      <td>0.6</td>\n      <td>1.4</td>\n      <td>9.5</td>\n      <td>0.073518</td>\n      <td>44.0</td>\n      <td>0.062725</td>\n      <td>0.062739</td>\n      <td>...</td>\n      <td>1007.1</td>\n      <td>8.0</td>\n      <td>4.0</td>\n      <td>16.9</td>\n      <td>21.8</td>\n      <td>0</td>\n      <td>0</td>\n      <td>2008</td>\n      <td>12</td>\n      <td>4</td>\n    </tr>\n    <tr>\n      <th>2008-12-02</th>\n      <td>0</td>\n      <td>7.4</td>\n      <td>25.100000</td>\n      <td>0.0</td>\n      <td>0.8</td>\n      <td>0.3</td>\n      <td>0.060821</td>\n      <td>44.0</td>\n      <td>0.059164</td>\n      <td>0.067469</td>\n      <td>...</td>\n      <td>1007.8</td>\n      <td>7.0</td>\n      <td>0.0</td>\n      <td>17.2</td>\n      <td>24.3</td>\n      <td>0</td>\n      <td>0</td>\n      <td>2008</td>\n      <td>12</td>\n      <td>4</td>\n    </tr>\n    <tr>\n      <th>2008-12-03</th>\n      <td>0</td>\n      <td>12.9</td>\n      <td>25.700000</td>\n      <td>0.0</td>\n      <td>6.2</td>\n      <td>4.7</td>\n      <td>0.067063</td>\n      <td>46.0</td>\n      <td>0.062725</td>\n      <td>0.067469</td>\n      <td>...</td>\n      <td>1008.7</td>\n      <td>0.0</td>\n      <td>2.0</td>\n      <td>21.0</td>\n      <td>23.2</td>\n      <td>0</td>\n      <td>0</td>\n      <td>2008</td>\n      <td>12</td>\n      <td>4</td>\n    </tr>\n    <tr>\n      <th>2008-12-04</th>\n      <td>0</td>\n      <td>9.2</td>\n      <td>28.000000</td>\n      <td>0.0</td>\n      <td>3.8</td>\n      <td>3.0</td>\n      <td>0.052729</td>\n      <td>24.0</td>\n      <td>0.068892</td>\n      <td>0.059989</td>\n      <td>...</td>\n      <td>1012.8</td>\n      <td>4.0</td>\n      <td>3.0</td>\n      <td>18.1</td>\n      <td>26.5</td>\n      <td>0</td>\n      <td>0</td>\n      <td>2008</td>\n      <td>12</td>\n      <td>4</td>\n    </tr>\n    <tr>\n      <th>2008-12-05</th>\n      <td>0</td>\n      <td>17.5</td>\n      <td>32.300000</td>\n      <td>1.0</td>\n      <td>3.6</td>\n      <td>11.6</td>\n      <td>0.073518</td>\n      <td>41.0</td>\n      <td>0.058243</td>\n      <td>0.060876</td>\n      <td>...</td>\n      <td>1006.0</td>\n      <td>7.0</td>\n      <td>8.0</td>\n      <td>17.8</td>\n      <td>29.7</td>\n      <td>0</td>\n      <td>0</td>\n      <td>2008</td>\n      <td>12</td>\n      <td>4</td>\n    </tr>\n    <tr>\n      <th>...</th>\n      <td>...</td>\n      <td>...</td>\n      <td>...</td>\n      <td>...</td>\n      <td>...</td>\n      <td>...</td>\n      <td>...</td>\n      <td>...</td>\n      <td>...</td>\n      <td>...</td>\n      <td>...</td>\n      <td>...</td>\n      <td>...</td>\n      <td>...</td>\n      <td>...</td>\n      <td>...</td>\n      <td>...</td>\n      <td>...</td>\n      <td>...</td>\n      <td>...</td>\n      <td>...</td>\n    </tr>\n    <tr>\n      <th>2017-06-21</th>\n      <td>48</td>\n      <td>2.8</td>\n      <td>23.400000</td>\n      <td>0.0</td>\n      <td>5.0</td>\n      <td>10.8</td>\n      <td>0.068074</td>\n      <td>31.0</td>\n      <td>0.068892</td>\n      <td>0.055685</td>\n      <td>...</td>\n      <td>1020.3</td>\n      <td>8.0</td>\n      <td>7.0</td>\n      <td>10.1</td>\n      <td>22.4</td>\n      <td>0</td>\n      <td>0</td>\n      <td>2017</td>\n      <td>6</td>\n      <td>2</td>\n    </tr>\n    <tr>\n      <th>2017-06-22</th>\n      <td>48</td>\n      <td>3.6</td>\n      <td>25.300000</td>\n      <td>0.0</td>\n      <td>5.4</td>\n      <td>5.6</td>\n      <td>0.048900</td>\n      <td>22.0</td>\n      <td>0.068892</td>\n      <td>0.062849</td>\n      <td>...</td>\n      <td>1019.1</td>\n      <td>4.0</td>\n      <td>7.0</td>\n      <td>10.9</td>\n      <td>24.5</td>\n      <td>0</td>\n      <td>0</td>\n      <td>2017</td>\n      <td>6</td>\n      <td>2</td>\n    </tr>\n    <tr>\n      <th>2017-06-23</th>\n      <td>48</td>\n      <td>5.4</td>\n      <td>26.900000</td>\n      <td>0.0</td>\n      <td>3.2</td>\n      <td>0.0</td>\n      <td>0.068747</td>\n      <td>37.0</td>\n      <td>0.068892</td>\n      <td>0.062739</td>\n      <td>...</td>\n      <td>1016.8</td>\n      <td>4.0</td>\n      <td>0.0</td>\n      <td>12.5</td>\n      <td>26.1</td>\n      <td>0</td>\n      <td>0</td>\n      <td>2017</td>\n      <td>6</td>\n      <td>2</td>\n    </tr>\n    <tr>\n      <th>2017-06-24</th>\n      <td>48</td>\n      <td>7.8</td>\n      <td>27.000000</td>\n      <td>0.0</td>\n      <td>1.6</td>\n      <td>6.6</td>\n      <td>0.069847</td>\n      <td>28.0</td>\n      <td>0.067737</td>\n      <td>0.062849</td>\n      <td>...</td>\n      <td>1016.5</td>\n      <td>3.0</td>\n      <td>2.0</td>\n      <td>15.1</td>\n      <td>26.0</td>\n      <td>0</td>\n      <td>0</td>\n      <td>2017</td>\n      <td>6</td>\n      <td>2</td>\n    </tr>\n    <tr>\n      <th>2017-06-25</th>\n      <td>48</td>\n      <td>14.9</td>\n      <td>30.383195</td>\n      <td>0.0</td>\n      <td>8.0</td>\n      <td>10.9</td>\n      <td>0.068074</td>\n      <td>54.0</td>\n      <td>0.056359</td>\n      <td>0.060126</td>\n      <td>...</td>\n      <td>1017.9</td>\n      <td>8.0</td>\n      <td>8.0</td>\n      <td>15.0</td>\n      <td>20.9</td>\n      <td>0</td>\n      <td>1</td>\n      <td>2017</td>\n      <td>6</td>\n      <td>2</td>\n    </tr>\n  </tbody>\n</table>\n<p>145460 rows × 25 columns</p>\n</div>"
     },
     "execution_count": 8,
     "metadata": {},
     "output_type": "execute_result"
    }
   ],
   "source": [
    "location_encoder = OrdinalEncoder(encoding_method='arbitrary',\n",
    "                                  variables=['Location'])\n",
    "location_encoder.fit(data)\n",
    "# location_encoder.encoder_dict_\n",
    "data = location_encoder.transform(data)\n",
    "data"
   ],
   "metadata": {
    "collapsed": false,
    "pycharm": {
     "name": "#%%\n"
    }
   }
  },
  {
   "cell_type": "markdown",
   "source": [
    "### regression feature selection"
   ],
   "metadata": {
    "collapsed": false
   }
  },
  {
   "cell_type": "code",
   "execution_count": 9,
   "outputs": [
    {
     "data": {
      "text/plain": "array([[ 0.6,  9.5, 44. , ...,  8. ,  4. ,  0. ],\n       [ 0. ,  0.3, 44. , ...,  7. ,  0. ,  0. ],\n       [ 0. ,  4.7, 46. , ...,  0. ,  2. ,  0. ],\n       ...,\n       [ 0. ,  0. , 37. , ...,  4. ,  0. ,  0. ],\n       [ 0. ,  6.6, 28. , ...,  3. ,  2. ,  0. ],\n       [ 0. , 10.9, 54. , ...,  8. ,  8. ,  0. ]])"
     },
     "execution_count": 9,
     "metadata": {},
     "output_type": "execute_result"
    }
   ],
   "source": [
    "temp = data.drop('RainTomorrow', axis=1)\n",
    "y = data['RainTomorrow']\n",
    "features = SelectKBest(score_func=f_regression, k=10)\n",
    "selected_features = features.fit_transform(temp, y)\n",
    "selected_features"
   ],
   "metadata": {
    "collapsed": false,
    "pycharm": {
     "name": "#%%\n"
    }
   }
  },
  {
   "cell_type": "code",
   "execution_count": 10,
   "outputs": [
    {
     "data": {
      "text/plain": "((116368, 11), (29092, 11))"
     },
     "execution_count": 10,
     "metadata": {},
     "output_type": "execute_result"
    }
   ],
   "source": [
    "input_feature = ['Location', 'Rainfall', 'Sunshine', 'WindGustSpeed', 'Humidity9am', 'Humidity3pm',\n",
    "                 'Pressure9am', 'Pressure3pm', 'Cloud9am', 'Cloud3pm', 'RainToday']\n",
    "train_x, test_x, train_y, test_y = train_test_split(temp[input_feature], y, test_size=0.2, random_state=64)\n",
    "train_x.shape, test_x.shape"
   ],
   "metadata": {
    "collapsed": false,
    "pycharm": {
     "name": "#%%\n"
    }
   }
  },
  {
   "cell_type": "markdown",
   "source": [
    "### model building"
   ],
   "metadata": {
    "collapsed": false,
    "pycharm": {
     "name": "#%% md\n"
    }
   }
  },
  {
   "cell_type": "code",
   "execution_count": 11,
   "outputs": [
    {
     "data": {
      "text/plain": "KNeighborsClassifier(n_neighbors=3)"
     },
     "execution_count": 11,
     "metadata": {},
     "output_type": "execute_result"
    }
   ],
   "source": [
    "# baseline model - n_neighbors = 3\n",
    "model_b = KNN(n_neighbors=3)\n",
    "model_b.fit(train_x,train_y)"
   ],
   "metadata": {
    "collapsed": false,
    "pycharm": {
     "name": "#%%\n"
    }
   }
  },
  {
   "cell_type": "code",
   "execution_count": 13,
   "outputs": [
    {
     "data": {
      "text/plain": "0.8911900178743297"
     },
     "execution_count": 13,
     "metadata": {},
     "output_type": "execute_result"
    }
   ],
   "source": [
    "# score with train set\n",
    "model_b.score(train_x,train_y)"
   ],
   "metadata": {
    "collapsed": false,
    "pycharm": {
     "name": "#%%\n"
    }
   }
  },
  {
   "cell_type": "code",
   "execution_count": 14,
   "outputs": [
    {
     "data": {
      "text/plain": "0.8158600302488657"
     },
     "execution_count": 14,
     "metadata": {},
     "output_type": "execute_result"
    }
   ],
   "source": [
    "# score with test set\n",
    "model_b.score(test_x,test_y)"
   ],
   "metadata": {
    "collapsed": false,
    "pycharm": {
     "name": "#%%\n"
    }
   }
  },
  {
   "cell_type": "code",
   "execution_count": 15,
   "outputs": [
    {
     "data": {
      "text/plain": "(0.8258627801457445, 0.8322562903891104, 0.834868692424034)"
     },
     "execution_count": 15,
     "metadata": {},
     "output_type": "execute_result"
    }
   ],
   "source": [
    "model_k5 = KNN(n_neighbors=5)\n",
    "model_k7 = KNN(n_neighbors=7)\n",
    "model_k9 = KNN(n_neighbors=9)\n",
    "\n",
    "model_k5.fit(train_x,train_y)\n",
    "model_k7.fit(train_x,train_y)\n",
    "model_k9.fit(train_x,train_y)\n",
    "\n",
    "model_k5.score(test_x,test_y), model_k7.score(test_x,test_y), model_k9.score(test_x,test_y)"
   ],
   "metadata": {
    "collapsed": false,
    "pycharm": {
     "name": "#%%\n"
    }
   }
  },
  {
   "cell_type": "markdown",
   "source": [
    "### use normalize data"
   ],
   "metadata": {
    "collapsed": false,
    "pycharm": {
     "name": "#%% md\n"
    }
   }
  },
  {
   "cell_type": "code",
   "execution_count": 16,
   "outputs": [],
   "source": [
    "def minmax_normalizer(dataframe):\n",
    "    norm_data = pd.DataFrame()\n",
    "    for col in dataframe:\n",
    "        col_min = np.min(dataframe[col])\n",
    "        col_max = np.max(dataframe[col])\n",
    "        norm_data[col] = (dataframe[col] - col_min)/(col_max - col_min)\n",
    "\n",
    "    return norm_data"
   ],
   "metadata": {
    "collapsed": false,
    "pycharm": {
     "name": "#%%\n"
    }
   }
  },
  {
   "cell_type": "code",
   "execution_count": 17,
   "outputs": [],
   "source": [
    "train_x = minmax_normalizer(train_x)\n",
    "test_x = minmax_normalizer(test_x)"
   ],
   "metadata": {
    "collapsed": false,
    "pycharm": {
     "name": "#%%\n"
    }
   }
  },
  {
   "cell_type": "code",
   "execution_count": 18,
   "outputs": [
    {
     "data": {
      "text/plain": "            Location  Rainfall  Sunshine  WindGustSpeed  Humidity9am  \\\nDate                                                                   \n2009-08-25  0.416667  0.016866  0.724138       0.713178     0.398023   \n2012-02-12  0.229167  0.010337  0.600000       0.209302     0.638495   \n2014-03-25  0.770833  0.000000  0.075862       0.155039     0.663372   \n2011-08-04  0.104167  0.001088  0.620690       0.286822     0.621911   \n2010-06-18  0.083333  0.019587  0.324138       0.139535     0.829215   \n...              ...       ...       ...            ...          ...   \n2012-04-04  0.875000  0.017410  0.365517       0.395349     0.820922   \n2009-06-02  0.333333  0.000000  0.275862       0.155039     0.671664   \n2011-09-10  0.604167  0.000000  0.737931       0.294574     0.240472   \n2016-12-22  0.583333  0.001632  0.496552       0.255814     0.489237   \n2017-01-03  0.250000  0.000000  0.317241       0.395349     0.406315   \n\n            Humidity3pm  Pressure9am  Pressure3pm  Cloud9am  Cloud3pm  \\\nDate                                                                    \n2009-08-25     0.370828     0.372712     0.355200  0.222222  0.333333   \n2012-02-12     0.676162     0.580699     0.585600  0.111111  0.777778   \n2014-03-25     0.944485     0.648918     0.692800  0.111111  0.333333   \n2011-08-04     0.454101     0.650590     0.616178  0.000000  0.000000   \n2010-06-18     0.472606     0.660566     0.644800  0.888889  0.555556   \n...                 ...          ...          ...       ...       ...   \n2012-04-04     0.805697     0.509151     0.539200  0.777778  0.000000   \n2009-06-02     0.629899     0.850250     0.819200  0.222222  0.666667   \n2011-09-10     0.407839     0.617304     0.596800  0.111111  0.666667   \n2016-12-22     0.611394     0.570715     0.593600  0.777778  0.777778   \n2017-01-03     0.278303     0.615641     0.588800  0.333333  0.888889   \n\n            RainToday  \nDate                   \n2009-08-25        1.0  \n2012-02-12        1.0  \n2014-03-25        0.0  \n2011-08-04        0.0  \n2010-06-18        1.0  \n...               ...  \n2012-04-04        1.0  \n2009-06-02        0.0  \n2011-09-10        0.0  \n2016-12-22        0.0  \n2017-01-03        0.0  \n\n[116368 rows x 11 columns]",
      "text/html": "<div>\n<style scoped>\n    .dataframe tbody tr th:only-of-type {\n        vertical-align: middle;\n    }\n\n    .dataframe tbody tr th {\n        vertical-align: top;\n    }\n\n    .dataframe thead th {\n        text-align: right;\n    }\n</style>\n<table border=\"1\" class=\"dataframe\">\n  <thead>\n    <tr style=\"text-align: right;\">\n      <th></th>\n      <th>Location</th>\n      <th>Rainfall</th>\n      <th>Sunshine</th>\n      <th>WindGustSpeed</th>\n      <th>Humidity9am</th>\n      <th>Humidity3pm</th>\n      <th>Pressure9am</th>\n      <th>Pressure3pm</th>\n      <th>Cloud9am</th>\n      <th>Cloud3pm</th>\n      <th>RainToday</th>\n    </tr>\n    <tr>\n      <th>Date</th>\n      <th></th>\n      <th></th>\n      <th></th>\n      <th></th>\n      <th></th>\n      <th></th>\n      <th></th>\n      <th></th>\n      <th></th>\n      <th></th>\n      <th></th>\n    </tr>\n  </thead>\n  <tbody>\n    <tr>\n      <th>2009-08-25</th>\n      <td>0.416667</td>\n      <td>0.016866</td>\n      <td>0.724138</td>\n      <td>0.713178</td>\n      <td>0.398023</td>\n      <td>0.370828</td>\n      <td>0.372712</td>\n      <td>0.355200</td>\n      <td>0.222222</td>\n      <td>0.333333</td>\n      <td>1.0</td>\n    </tr>\n    <tr>\n      <th>2012-02-12</th>\n      <td>0.229167</td>\n      <td>0.010337</td>\n      <td>0.600000</td>\n      <td>0.209302</td>\n      <td>0.638495</td>\n      <td>0.676162</td>\n      <td>0.580699</td>\n      <td>0.585600</td>\n      <td>0.111111</td>\n      <td>0.777778</td>\n      <td>1.0</td>\n    </tr>\n    <tr>\n      <th>2014-03-25</th>\n      <td>0.770833</td>\n      <td>0.000000</td>\n      <td>0.075862</td>\n      <td>0.155039</td>\n      <td>0.663372</td>\n      <td>0.944485</td>\n      <td>0.648918</td>\n      <td>0.692800</td>\n      <td>0.111111</td>\n      <td>0.333333</td>\n      <td>0.0</td>\n    </tr>\n    <tr>\n      <th>2011-08-04</th>\n      <td>0.104167</td>\n      <td>0.001088</td>\n      <td>0.620690</td>\n      <td>0.286822</td>\n      <td>0.621911</td>\n      <td>0.454101</td>\n      <td>0.650590</td>\n      <td>0.616178</td>\n      <td>0.000000</td>\n      <td>0.000000</td>\n      <td>0.0</td>\n    </tr>\n    <tr>\n      <th>2010-06-18</th>\n      <td>0.083333</td>\n      <td>0.019587</td>\n      <td>0.324138</td>\n      <td>0.139535</td>\n      <td>0.829215</td>\n      <td>0.472606</td>\n      <td>0.660566</td>\n      <td>0.644800</td>\n      <td>0.888889</td>\n      <td>0.555556</td>\n      <td>1.0</td>\n    </tr>\n    <tr>\n      <th>...</th>\n      <td>...</td>\n      <td>...</td>\n      <td>...</td>\n      <td>...</td>\n      <td>...</td>\n      <td>...</td>\n      <td>...</td>\n      <td>...</td>\n      <td>...</td>\n      <td>...</td>\n      <td>...</td>\n    </tr>\n    <tr>\n      <th>2012-04-04</th>\n      <td>0.875000</td>\n      <td>0.017410</td>\n      <td>0.365517</td>\n      <td>0.395349</td>\n      <td>0.820922</td>\n      <td>0.805697</td>\n      <td>0.509151</td>\n      <td>0.539200</td>\n      <td>0.777778</td>\n      <td>0.000000</td>\n      <td>1.0</td>\n    </tr>\n    <tr>\n      <th>2009-06-02</th>\n      <td>0.333333</td>\n      <td>0.000000</td>\n      <td>0.275862</td>\n      <td>0.155039</td>\n      <td>0.671664</td>\n      <td>0.629899</td>\n      <td>0.850250</td>\n      <td>0.819200</td>\n      <td>0.222222</td>\n      <td>0.666667</td>\n      <td>0.0</td>\n    </tr>\n    <tr>\n      <th>2011-09-10</th>\n      <td>0.604167</td>\n      <td>0.000000</td>\n      <td>0.737931</td>\n      <td>0.294574</td>\n      <td>0.240472</td>\n      <td>0.407839</td>\n      <td>0.617304</td>\n      <td>0.596800</td>\n      <td>0.111111</td>\n      <td>0.666667</td>\n      <td>0.0</td>\n    </tr>\n    <tr>\n      <th>2016-12-22</th>\n      <td>0.583333</td>\n      <td>0.001632</td>\n      <td>0.496552</td>\n      <td>0.255814</td>\n      <td>0.489237</td>\n      <td>0.611394</td>\n      <td>0.570715</td>\n      <td>0.593600</td>\n      <td>0.777778</td>\n      <td>0.777778</td>\n      <td>0.0</td>\n    </tr>\n    <tr>\n      <th>2017-01-03</th>\n      <td>0.250000</td>\n      <td>0.000000</td>\n      <td>0.317241</td>\n      <td>0.395349</td>\n      <td>0.406315</td>\n      <td>0.278303</td>\n      <td>0.615641</td>\n      <td>0.588800</td>\n      <td>0.333333</td>\n      <td>0.888889</td>\n      <td>0.0</td>\n    </tr>\n  </tbody>\n</table>\n<p>116368 rows × 11 columns</p>\n</div>"
     },
     "execution_count": 18,
     "metadata": {},
     "output_type": "execute_result"
    }
   ],
   "source": [
    "train_x"
   ],
   "metadata": {
    "collapsed": false,
    "pycharm": {
     "name": "#%%\n"
    }
   }
  },
  {
   "cell_type": "code",
   "execution_count": 19,
   "outputs": [
    {
     "data": {
      "text/plain": "            Location  Rainfall  Sunshine  WindGustSpeed  Humidity9am  \\\nDate                                                                   \n2015-11-10  0.500000  0.000000  0.062937       0.265625     0.609724   \n2011-06-17  0.291667  0.000000  0.720280       0.539062     0.508104   \n2013-03-18  0.041667  0.000000  0.678322       0.148438     0.332577   \n2009-11-04  0.125000  0.000000  0.671329       0.289062     0.711345   \n2012-02-08  0.333333  0.000000  0.132867       0.203125     0.711345   \n...              ...       ...       ...            ...          ...   \n2009-09-08  0.166667  0.000539  0.790210       0.281250     0.517342   \n2014-01-15  0.895833  0.000000  0.629371       0.234375     0.498865   \n2012-01-26  0.437500  0.000000  0.867133       0.335938     0.646677   \n2015-10-05  0.854167  0.000000  0.335664       0.367188     0.554295   \n2010-07-12  0.520833  0.000539  0.559441       0.250000     0.785251   \n\n            Humidity3pm  Pressure9am  Pressure3pm  Cloud9am  Cloud3pm  \\\nDate                                                                    \n2015-11-10     0.620772     0.577739     0.625899  0.111111     1.000   \n2011-06-17     0.494362     0.409894     0.404676  0.555556     0.625   \n2013-03-18     0.286690     0.598940     0.604317  0.111111     0.250   \n2009-11-04     0.801357     0.577739     0.591727  0.111111     0.375   \n2012-02-08     0.638830     0.468198     0.494604  0.888889     1.000   \n...                 ...          ...          ...       ...       ...   \n2009-09-08     0.413099     0.593061     0.603990  0.666667     0.750   \n2014-01-15     0.711064     0.492933     0.577338  0.888889     0.125   \n2012-01-26     0.539509     0.611307     0.620504  0.777778     0.125   \n2015-10-05     0.367953     0.581750     0.585605  0.777778     0.125   \n2010-07-12     0.611743     0.616608     0.598921  0.111111     0.500   \n\n            RainToday  \nDate                   \n2015-11-10        0.0  \n2011-06-17        0.0  \n2013-03-18        0.0  \n2009-11-04        0.0  \n2012-02-08        0.0  \n...               ...  \n2009-09-08        0.0  \n2014-01-15        0.0  \n2012-01-26        0.0  \n2015-10-05        0.0  \n2010-07-12        0.0  \n\n[29092 rows x 11 columns]",
      "text/html": "<div>\n<style scoped>\n    .dataframe tbody tr th:only-of-type {\n        vertical-align: middle;\n    }\n\n    .dataframe tbody tr th {\n        vertical-align: top;\n    }\n\n    .dataframe thead th {\n        text-align: right;\n    }\n</style>\n<table border=\"1\" class=\"dataframe\">\n  <thead>\n    <tr style=\"text-align: right;\">\n      <th></th>\n      <th>Location</th>\n      <th>Rainfall</th>\n      <th>Sunshine</th>\n      <th>WindGustSpeed</th>\n      <th>Humidity9am</th>\n      <th>Humidity3pm</th>\n      <th>Pressure9am</th>\n      <th>Pressure3pm</th>\n      <th>Cloud9am</th>\n      <th>Cloud3pm</th>\n      <th>RainToday</th>\n    </tr>\n    <tr>\n      <th>Date</th>\n      <th></th>\n      <th></th>\n      <th></th>\n      <th></th>\n      <th></th>\n      <th></th>\n      <th></th>\n      <th></th>\n      <th></th>\n      <th></th>\n      <th></th>\n    </tr>\n  </thead>\n  <tbody>\n    <tr>\n      <th>2015-11-10</th>\n      <td>0.500000</td>\n      <td>0.000000</td>\n      <td>0.062937</td>\n      <td>0.265625</td>\n      <td>0.609724</td>\n      <td>0.620772</td>\n      <td>0.577739</td>\n      <td>0.625899</td>\n      <td>0.111111</td>\n      <td>1.000</td>\n      <td>0.0</td>\n    </tr>\n    <tr>\n      <th>2011-06-17</th>\n      <td>0.291667</td>\n      <td>0.000000</td>\n      <td>0.720280</td>\n      <td>0.539062</td>\n      <td>0.508104</td>\n      <td>0.494362</td>\n      <td>0.409894</td>\n      <td>0.404676</td>\n      <td>0.555556</td>\n      <td>0.625</td>\n      <td>0.0</td>\n    </tr>\n    <tr>\n      <th>2013-03-18</th>\n      <td>0.041667</td>\n      <td>0.000000</td>\n      <td>0.678322</td>\n      <td>0.148438</td>\n      <td>0.332577</td>\n      <td>0.286690</td>\n      <td>0.598940</td>\n      <td>0.604317</td>\n      <td>0.111111</td>\n      <td>0.250</td>\n      <td>0.0</td>\n    </tr>\n    <tr>\n      <th>2009-11-04</th>\n      <td>0.125000</td>\n      <td>0.000000</td>\n      <td>0.671329</td>\n      <td>0.289062</td>\n      <td>0.711345</td>\n      <td>0.801357</td>\n      <td>0.577739</td>\n      <td>0.591727</td>\n      <td>0.111111</td>\n      <td>0.375</td>\n      <td>0.0</td>\n    </tr>\n    <tr>\n      <th>2012-02-08</th>\n      <td>0.333333</td>\n      <td>0.000000</td>\n      <td>0.132867</td>\n      <td>0.203125</td>\n      <td>0.711345</td>\n      <td>0.638830</td>\n      <td>0.468198</td>\n      <td>0.494604</td>\n      <td>0.888889</td>\n      <td>1.000</td>\n      <td>0.0</td>\n    </tr>\n    <tr>\n      <th>...</th>\n      <td>...</td>\n      <td>...</td>\n      <td>...</td>\n      <td>...</td>\n      <td>...</td>\n      <td>...</td>\n      <td>...</td>\n      <td>...</td>\n      <td>...</td>\n      <td>...</td>\n      <td>...</td>\n    </tr>\n    <tr>\n      <th>2009-09-08</th>\n      <td>0.166667</td>\n      <td>0.000539</td>\n      <td>0.790210</td>\n      <td>0.281250</td>\n      <td>0.517342</td>\n      <td>0.413099</td>\n      <td>0.593061</td>\n      <td>0.603990</td>\n      <td>0.666667</td>\n      <td>0.750</td>\n      <td>0.0</td>\n    </tr>\n    <tr>\n      <th>2014-01-15</th>\n      <td>0.895833</td>\n      <td>0.000000</td>\n      <td>0.629371</td>\n      <td>0.234375</td>\n      <td>0.498865</td>\n      <td>0.711064</td>\n      <td>0.492933</td>\n      <td>0.577338</td>\n      <td>0.888889</td>\n      <td>0.125</td>\n      <td>0.0</td>\n    </tr>\n    <tr>\n      <th>2012-01-26</th>\n      <td>0.437500</td>\n      <td>0.000000</td>\n      <td>0.867133</td>\n      <td>0.335938</td>\n      <td>0.646677</td>\n      <td>0.539509</td>\n      <td>0.611307</td>\n      <td>0.620504</td>\n      <td>0.777778</td>\n      <td>0.125</td>\n      <td>0.0</td>\n    </tr>\n    <tr>\n      <th>2015-10-05</th>\n      <td>0.854167</td>\n      <td>0.000000</td>\n      <td>0.335664</td>\n      <td>0.367188</td>\n      <td>0.554295</td>\n      <td>0.367953</td>\n      <td>0.581750</td>\n      <td>0.585605</td>\n      <td>0.777778</td>\n      <td>0.125</td>\n      <td>0.0</td>\n    </tr>\n    <tr>\n      <th>2010-07-12</th>\n      <td>0.520833</td>\n      <td>0.000539</td>\n      <td>0.559441</td>\n      <td>0.250000</td>\n      <td>0.785251</td>\n      <td>0.611743</td>\n      <td>0.616608</td>\n      <td>0.598921</td>\n      <td>0.111111</td>\n      <td>0.500</td>\n      <td>0.0</td>\n    </tr>\n  </tbody>\n</table>\n<p>29092 rows × 11 columns</p>\n</div>"
     },
     "execution_count": 19,
     "metadata": {},
     "output_type": "execute_result"
    }
   ],
   "source": [
    "test_x"
   ],
   "metadata": {
    "collapsed": false,
    "pycharm": {
     "name": "#%%\n"
    }
   }
  },
  {
   "cell_type": "markdown",
   "source": [
    "### training with diffrent k as well as normalize data"
   ],
   "metadata": {
    "collapsed": false,
    "pycharm": {
     "name": "#%% md\n"
    }
   }
  },
  {
   "cell_type": "code",
   "execution_count": 20,
   "outputs": [
    {
     "data": {
      "text/plain": "(0.806888491681562, 0.8188505431046336, 0.8236284889316651, 0.8263440120995462)"
     },
     "execution_count": 20,
     "metadata": {},
     "output_type": "execute_result"
    }
   ],
   "source": [
    "model_k3 = KNN(n_neighbors=3)\n",
    "model_k5 = KNN(n_neighbors=5)\n",
    "model_k7 = KNN(n_neighbors=7)\n",
    "model_k9 = KNN(n_neighbors=9)\n",
    "\n",
    "model_k3.fit(train_x,train_y)\n",
    "model_k5.fit(train_x,train_y)\n",
    "model_k7.fit(train_x,train_y)\n",
    "model_k9.fit(train_x,train_y)\n",
    "\n",
    "model_k3.score(test_x,test_y), model_k5.score(test_x,test_y), model_k7.score(test_x,test_y), model_k9.score(test_x,test_y)"
   ],
   "metadata": {
    "collapsed": false,
    "pycharm": {
     "name": "#%%\n"
    }
   }
  }
 ],
 "metadata": {
  "kernelspec": {
   "display_name": "Python 3",
   "language": "python",
   "name": "python3"
  },
  "language_info": {
   "codemirror_mode": {
    "name": "ipython",
    "version": 2
   },
   "file_extension": ".py",
   "mimetype": "text/x-python",
   "name": "python",
   "nbconvert_exporter": "python",
   "pygments_lexer": "ipython2",
   "version": "2.7.6"
  }
 },
 "nbformat": 4,
 "nbformat_minor": 0
}