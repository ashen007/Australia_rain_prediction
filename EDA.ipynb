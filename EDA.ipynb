{
 "cells": [
  {
   "cell_type": "code",
   "execution_count": 1,
   "metadata": {
    "collapsed": true
   },
   "outputs": [],
   "source": [
    "import numpy as np\n",
    "import pandas as pd\n",
    "import scipy.stats as ss\n",
    "import plotly.express as px\n",
    "import seaborn as sns\n",
    "from matplotlib import pyplot as plt"
   ]
  },
  {
   "cell_type": "code",
   "execution_count": 2,
   "outputs": [
    {
     "data": {
      "text/plain": "              Date Location  MinTemp  MaxTemp  Rainfall  Evaporation  \\\n0       2008-12-01   Albury     13.4     22.9       0.6          NaN   \n1       2008-12-02   Albury      7.4     25.1       0.0          NaN   \n2       2008-12-03   Albury     12.9     25.7       0.0          NaN   \n3       2008-12-04   Albury      9.2     28.0       0.0          NaN   \n4       2008-12-05   Albury     17.5     32.3       1.0          NaN   \n...            ...      ...      ...      ...       ...          ...   \n145455  2017-06-21    Uluru      2.8     23.4       0.0          NaN   \n145456  2017-06-22    Uluru      3.6     25.3       0.0          NaN   \n145457  2017-06-23    Uluru      5.4     26.9       0.0          NaN   \n145458  2017-06-24    Uluru      7.8     27.0       0.0          NaN   \n145459  2017-06-25    Uluru     14.9      NaN       0.0          NaN   \n\n        Sunshine WindGustDir  WindGustSpeed WindDir9am  ... Humidity9am  \\\n0            NaN           W           44.0          W  ...        71.0   \n1            NaN         WNW           44.0        NNW  ...        44.0   \n2            NaN         WSW           46.0          W  ...        38.0   \n3            NaN          NE           24.0         SE  ...        45.0   \n4            NaN           W           41.0        ENE  ...        82.0   \n...          ...         ...            ...        ...  ...         ...   \n145455       NaN           E           31.0         SE  ...        51.0   \n145456       NaN         NNW           22.0         SE  ...        56.0   \n145457       NaN           N           37.0         SE  ...        53.0   \n145458       NaN          SE           28.0        SSE  ...        51.0   \n145459       NaN         NaN            NaN        ESE  ...        62.0   \n\n        Humidity3pm  Pressure9am  Pressure3pm  Cloud9am  Cloud3pm  Temp9am  \\\n0              22.0       1007.7       1007.1       8.0       NaN     16.9   \n1              25.0       1010.6       1007.8       NaN       NaN     17.2   \n2              30.0       1007.6       1008.7       NaN       2.0     21.0   \n3              16.0       1017.6       1012.8       NaN       NaN     18.1   \n4              33.0       1010.8       1006.0       7.0       8.0     17.8   \n...             ...          ...          ...       ...       ...      ...   \n145455         24.0       1024.6       1020.3       NaN       NaN     10.1   \n145456         21.0       1023.5       1019.1       NaN       NaN     10.9   \n145457         24.0       1021.0       1016.8       NaN       NaN     12.5   \n145458         24.0       1019.4       1016.5       3.0       2.0     15.1   \n145459         36.0       1020.2       1017.9       8.0       8.0     15.0   \n\n        Temp3pm  RainToday  RainTomorrow  \n0          21.8         No            No  \n1          24.3         No            No  \n2          23.2         No            No  \n3          26.5         No            No  \n4          29.7         No            No  \n...         ...        ...           ...  \n145455     22.4         No            No  \n145456     24.5         No            No  \n145457     26.1         No            No  \n145458     26.0         No            No  \n145459     20.9         No           NaN  \n\n[145460 rows x 23 columns]",
      "text/html": "<div>\n<style scoped>\n    .dataframe tbody tr th:only-of-type {\n        vertical-align: middle;\n    }\n\n    .dataframe tbody tr th {\n        vertical-align: top;\n    }\n\n    .dataframe thead th {\n        text-align: right;\n    }\n</style>\n<table border=\"1\" class=\"dataframe\">\n  <thead>\n    <tr style=\"text-align: right;\">\n      <th></th>\n      <th>Date</th>\n      <th>Location</th>\n      <th>MinTemp</th>\n      <th>MaxTemp</th>\n      <th>Rainfall</th>\n      <th>Evaporation</th>\n      <th>Sunshine</th>\n      <th>WindGustDir</th>\n      <th>WindGustSpeed</th>\n      <th>WindDir9am</th>\n      <th>...</th>\n      <th>Humidity9am</th>\n      <th>Humidity3pm</th>\n      <th>Pressure9am</th>\n      <th>Pressure3pm</th>\n      <th>Cloud9am</th>\n      <th>Cloud3pm</th>\n      <th>Temp9am</th>\n      <th>Temp3pm</th>\n      <th>RainToday</th>\n      <th>RainTomorrow</th>\n    </tr>\n  </thead>\n  <tbody>\n    <tr>\n      <th>0</th>\n      <td>2008-12-01</td>\n      <td>Albury</td>\n      <td>13.4</td>\n      <td>22.9</td>\n      <td>0.6</td>\n      <td>NaN</td>\n      <td>NaN</td>\n      <td>W</td>\n      <td>44.0</td>\n      <td>W</td>\n      <td>...</td>\n      <td>71.0</td>\n      <td>22.0</td>\n      <td>1007.7</td>\n      <td>1007.1</td>\n      <td>8.0</td>\n      <td>NaN</td>\n      <td>16.9</td>\n      <td>21.8</td>\n      <td>No</td>\n      <td>No</td>\n    </tr>\n    <tr>\n      <th>1</th>\n      <td>2008-12-02</td>\n      <td>Albury</td>\n      <td>7.4</td>\n      <td>25.1</td>\n      <td>0.0</td>\n      <td>NaN</td>\n      <td>NaN</td>\n      <td>WNW</td>\n      <td>44.0</td>\n      <td>NNW</td>\n      <td>...</td>\n      <td>44.0</td>\n      <td>25.0</td>\n      <td>1010.6</td>\n      <td>1007.8</td>\n      <td>NaN</td>\n      <td>NaN</td>\n      <td>17.2</td>\n      <td>24.3</td>\n      <td>No</td>\n      <td>No</td>\n    </tr>\n    <tr>\n      <th>2</th>\n      <td>2008-12-03</td>\n      <td>Albury</td>\n      <td>12.9</td>\n      <td>25.7</td>\n      <td>0.0</td>\n      <td>NaN</td>\n      <td>NaN</td>\n      <td>WSW</td>\n      <td>46.0</td>\n      <td>W</td>\n      <td>...</td>\n      <td>38.0</td>\n      <td>30.0</td>\n      <td>1007.6</td>\n      <td>1008.7</td>\n      <td>NaN</td>\n      <td>2.0</td>\n      <td>21.0</td>\n      <td>23.2</td>\n      <td>No</td>\n      <td>No</td>\n    </tr>\n    <tr>\n      <th>3</th>\n      <td>2008-12-04</td>\n      <td>Albury</td>\n      <td>9.2</td>\n      <td>28.0</td>\n      <td>0.0</td>\n      <td>NaN</td>\n      <td>NaN</td>\n      <td>NE</td>\n      <td>24.0</td>\n      <td>SE</td>\n      <td>...</td>\n      <td>45.0</td>\n      <td>16.0</td>\n      <td>1017.6</td>\n      <td>1012.8</td>\n      <td>NaN</td>\n      <td>NaN</td>\n      <td>18.1</td>\n      <td>26.5</td>\n      <td>No</td>\n      <td>No</td>\n    </tr>\n    <tr>\n      <th>4</th>\n      <td>2008-12-05</td>\n      <td>Albury</td>\n      <td>17.5</td>\n      <td>32.3</td>\n      <td>1.0</td>\n      <td>NaN</td>\n      <td>NaN</td>\n      <td>W</td>\n      <td>41.0</td>\n      <td>ENE</td>\n      <td>...</td>\n      <td>82.0</td>\n      <td>33.0</td>\n      <td>1010.8</td>\n      <td>1006.0</td>\n      <td>7.0</td>\n      <td>8.0</td>\n      <td>17.8</td>\n      <td>29.7</td>\n      <td>No</td>\n      <td>No</td>\n    </tr>\n    <tr>\n      <th>...</th>\n      <td>...</td>\n      <td>...</td>\n      <td>...</td>\n      <td>...</td>\n      <td>...</td>\n      <td>...</td>\n      <td>...</td>\n      <td>...</td>\n      <td>...</td>\n      <td>...</td>\n      <td>...</td>\n      <td>...</td>\n      <td>...</td>\n      <td>...</td>\n      <td>...</td>\n      <td>...</td>\n      <td>...</td>\n      <td>...</td>\n      <td>...</td>\n      <td>...</td>\n      <td>...</td>\n    </tr>\n    <tr>\n      <th>145455</th>\n      <td>2017-06-21</td>\n      <td>Uluru</td>\n      <td>2.8</td>\n      <td>23.4</td>\n      <td>0.0</td>\n      <td>NaN</td>\n      <td>NaN</td>\n      <td>E</td>\n      <td>31.0</td>\n      <td>SE</td>\n      <td>...</td>\n      <td>51.0</td>\n      <td>24.0</td>\n      <td>1024.6</td>\n      <td>1020.3</td>\n      <td>NaN</td>\n      <td>NaN</td>\n      <td>10.1</td>\n      <td>22.4</td>\n      <td>No</td>\n      <td>No</td>\n    </tr>\n    <tr>\n      <th>145456</th>\n      <td>2017-06-22</td>\n      <td>Uluru</td>\n      <td>3.6</td>\n      <td>25.3</td>\n      <td>0.0</td>\n      <td>NaN</td>\n      <td>NaN</td>\n      <td>NNW</td>\n      <td>22.0</td>\n      <td>SE</td>\n      <td>...</td>\n      <td>56.0</td>\n      <td>21.0</td>\n      <td>1023.5</td>\n      <td>1019.1</td>\n      <td>NaN</td>\n      <td>NaN</td>\n      <td>10.9</td>\n      <td>24.5</td>\n      <td>No</td>\n      <td>No</td>\n    </tr>\n    <tr>\n      <th>145457</th>\n      <td>2017-06-23</td>\n      <td>Uluru</td>\n      <td>5.4</td>\n      <td>26.9</td>\n      <td>0.0</td>\n      <td>NaN</td>\n      <td>NaN</td>\n      <td>N</td>\n      <td>37.0</td>\n      <td>SE</td>\n      <td>...</td>\n      <td>53.0</td>\n      <td>24.0</td>\n      <td>1021.0</td>\n      <td>1016.8</td>\n      <td>NaN</td>\n      <td>NaN</td>\n      <td>12.5</td>\n      <td>26.1</td>\n      <td>No</td>\n      <td>No</td>\n    </tr>\n    <tr>\n      <th>145458</th>\n      <td>2017-06-24</td>\n      <td>Uluru</td>\n      <td>7.8</td>\n      <td>27.0</td>\n      <td>0.0</td>\n      <td>NaN</td>\n      <td>NaN</td>\n      <td>SE</td>\n      <td>28.0</td>\n      <td>SSE</td>\n      <td>...</td>\n      <td>51.0</td>\n      <td>24.0</td>\n      <td>1019.4</td>\n      <td>1016.5</td>\n      <td>3.0</td>\n      <td>2.0</td>\n      <td>15.1</td>\n      <td>26.0</td>\n      <td>No</td>\n      <td>No</td>\n    </tr>\n    <tr>\n      <th>145459</th>\n      <td>2017-06-25</td>\n      <td>Uluru</td>\n      <td>14.9</td>\n      <td>NaN</td>\n      <td>0.0</td>\n      <td>NaN</td>\n      <td>NaN</td>\n      <td>NaN</td>\n      <td>NaN</td>\n      <td>ESE</td>\n      <td>...</td>\n      <td>62.0</td>\n      <td>36.0</td>\n      <td>1020.2</td>\n      <td>1017.9</td>\n      <td>8.0</td>\n      <td>8.0</td>\n      <td>15.0</td>\n      <td>20.9</td>\n      <td>No</td>\n      <td>NaN</td>\n    </tr>\n  </tbody>\n</table>\n<p>145460 rows × 23 columns</p>\n</div>"
     },
     "execution_count": 2,
     "metadata": {},
     "output_type": "execute_result"
    }
   ],
   "source": [
    "data = pd.read_csv('data/weatherAUS.csv')\n",
    "data"
   ],
   "metadata": {
    "collapsed": false,
    "pycharm": {
     "name": "#%%\n"
    }
   }
  },
  {
   "cell_type": "code",
   "execution_count": 3,
   "outputs": [
    {
     "data": {
      "text/plain": "           Location  MinTemp  MaxTemp  Rainfall  Evaporation  Sunshine  \\\nDate                                                                     \n2008-12-01   Albury     13.4     22.9       0.6          NaN       NaN   \n2008-12-02   Albury      7.4     25.1       0.0          NaN       NaN   \n2008-12-03   Albury     12.9     25.7       0.0          NaN       NaN   \n2008-12-04   Albury      9.2     28.0       0.0          NaN       NaN   \n2008-12-05   Albury     17.5     32.3       1.0          NaN       NaN   \n...             ...      ...      ...       ...          ...       ...   \n2017-06-21    Uluru      2.8     23.4       0.0          NaN       NaN   \n2017-06-22    Uluru      3.6     25.3       0.0          NaN       NaN   \n2017-06-23    Uluru      5.4     26.9       0.0          NaN       NaN   \n2017-06-24    Uluru      7.8     27.0       0.0          NaN       NaN   \n2017-06-25    Uluru     14.9      NaN       0.0          NaN       NaN   \n\n           WindGustDir  WindGustSpeed WindDir9am WindDir3pm  ...  Humidity9am  \\\nDate                                                         ...                \n2008-12-01           W           44.0          W        WNW  ...         71.0   \n2008-12-02         WNW           44.0        NNW        WSW  ...         44.0   \n2008-12-03         WSW           46.0          W        WSW  ...         38.0   \n2008-12-04          NE           24.0         SE          E  ...         45.0   \n2008-12-05           W           41.0        ENE         NW  ...         82.0   \n...                ...            ...        ...        ...  ...          ...   \n2017-06-21           E           31.0         SE        ENE  ...         51.0   \n2017-06-22         NNW           22.0         SE          N  ...         56.0   \n2017-06-23           N           37.0         SE        WNW  ...         53.0   \n2017-06-24          SE           28.0        SSE          N  ...         51.0   \n2017-06-25         NaN            NaN        ESE        ESE  ...         62.0   \n\n            Humidity3pm  Pressure9am  Pressure3pm  Cloud9am  Cloud3pm  \\\nDate                                                                    \n2008-12-01         22.0       1007.7       1007.1       8.0       NaN   \n2008-12-02         25.0       1010.6       1007.8       NaN       NaN   \n2008-12-03         30.0       1007.6       1008.7       NaN       2.0   \n2008-12-04         16.0       1017.6       1012.8       NaN       NaN   \n2008-12-05         33.0       1010.8       1006.0       7.0       8.0   \n...                 ...          ...          ...       ...       ...   \n2017-06-21         24.0       1024.6       1020.3       NaN       NaN   \n2017-06-22         21.0       1023.5       1019.1       NaN       NaN   \n2017-06-23         24.0       1021.0       1016.8       NaN       NaN   \n2017-06-24         24.0       1019.4       1016.5       3.0       2.0   \n2017-06-25         36.0       1020.2       1017.9       8.0       8.0   \n\n            Temp9am  Temp3pm  RainToday  RainTomorrow  \nDate                                                   \n2008-12-01     16.9     21.8         No            No  \n2008-12-02     17.2     24.3         No            No  \n2008-12-03     21.0     23.2         No            No  \n2008-12-04     18.1     26.5         No            No  \n2008-12-05     17.8     29.7         No            No  \n...             ...      ...        ...           ...  \n2017-06-21     10.1     22.4         No            No  \n2017-06-22     10.9     24.5         No            No  \n2017-06-23     12.5     26.1         No            No  \n2017-06-24     15.1     26.0         No            No  \n2017-06-25     15.0     20.9         No           NaN  \n\n[145460 rows x 22 columns]",
      "text/html": "<div>\n<style scoped>\n    .dataframe tbody tr th:only-of-type {\n        vertical-align: middle;\n    }\n\n    .dataframe tbody tr th {\n        vertical-align: top;\n    }\n\n    .dataframe thead th {\n        text-align: right;\n    }\n</style>\n<table border=\"1\" class=\"dataframe\">\n  <thead>\n    <tr style=\"text-align: right;\">\n      <th></th>\n      <th>Location</th>\n      <th>MinTemp</th>\n      <th>MaxTemp</th>\n      <th>Rainfall</th>\n      <th>Evaporation</th>\n      <th>Sunshine</th>\n      <th>WindGustDir</th>\n      <th>WindGustSpeed</th>\n      <th>WindDir9am</th>\n      <th>WindDir3pm</th>\n      <th>...</th>\n      <th>Humidity9am</th>\n      <th>Humidity3pm</th>\n      <th>Pressure9am</th>\n      <th>Pressure3pm</th>\n      <th>Cloud9am</th>\n      <th>Cloud3pm</th>\n      <th>Temp9am</th>\n      <th>Temp3pm</th>\n      <th>RainToday</th>\n      <th>RainTomorrow</th>\n    </tr>\n    <tr>\n      <th>Date</th>\n      <th></th>\n      <th></th>\n      <th></th>\n      <th></th>\n      <th></th>\n      <th></th>\n      <th></th>\n      <th></th>\n      <th></th>\n      <th></th>\n      <th></th>\n      <th></th>\n      <th></th>\n      <th></th>\n      <th></th>\n      <th></th>\n      <th></th>\n      <th></th>\n      <th></th>\n      <th></th>\n      <th></th>\n    </tr>\n  </thead>\n  <tbody>\n    <tr>\n      <th>2008-12-01</th>\n      <td>Albury</td>\n      <td>13.4</td>\n      <td>22.9</td>\n      <td>0.6</td>\n      <td>NaN</td>\n      <td>NaN</td>\n      <td>W</td>\n      <td>44.0</td>\n      <td>W</td>\n      <td>WNW</td>\n      <td>...</td>\n      <td>71.0</td>\n      <td>22.0</td>\n      <td>1007.7</td>\n      <td>1007.1</td>\n      <td>8.0</td>\n      <td>NaN</td>\n      <td>16.9</td>\n      <td>21.8</td>\n      <td>No</td>\n      <td>No</td>\n    </tr>\n    <tr>\n      <th>2008-12-02</th>\n      <td>Albury</td>\n      <td>7.4</td>\n      <td>25.1</td>\n      <td>0.0</td>\n      <td>NaN</td>\n      <td>NaN</td>\n      <td>WNW</td>\n      <td>44.0</td>\n      <td>NNW</td>\n      <td>WSW</td>\n      <td>...</td>\n      <td>44.0</td>\n      <td>25.0</td>\n      <td>1010.6</td>\n      <td>1007.8</td>\n      <td>NaN</td>\n      <td>NaN</td>\n      <td>17.2</td>\n      <td>24.3</td>\n      <td>No</td>\n      <td>No</td>\n    </tr>\n    <tr>\n      <th>2008-12-03</th>\n      <td>Albury</td>\n      <td>12.9</td>\n      <td>25.7</td>\n      <td>0.0</td>\n      <td>NaN</td>\n      <td>NaN</td>\n      <td>WSW</td>\n      <td>46.0</td>\n      <td>W</td>\n      <td>WSW</td>\n      <td>...</td>\n      <td>38.0</td>\n      <td>30.0</td>\n      <td>1007.6</td>\n      <td>1008.7</td>\n      <td>NaN</td>\n      <td>2.0</td>\n      <td>21.0</td>\n      <td>23.2</td>\n      <td>No</td>\n      <td>No</td>\n    </tr>\n    <tr>\n      <th>2008-12-04</th>\n      <td>Albury</td>\n      <td>9.2</td>\n      <td>28.0</td>\n      <td>0.0</td>\n      <td>NaN</td>\n      <td>NaN</td>\n      <td>NE</td>\n      <td>24.0</td>\n      <td>SE</td>\n      <td>E</td>\n      <td>...</td>\n      <td>45.0</td>\n      <td>16.0</td>\n      <td>1017.6</td>\n      <td>1012.8</td>\n      <td>NaN</td>\n      <td>NaN</td>\n      <td>18.1</td>\n      <td>26.5</td>\n      <td>No</td>\n      <td>No</td>\n    </tr>\n    <tr>\n      <th>2008-12-05</th>\n      <td>Albury</td>\n      <td>17.5</td>\n      <td>32.3</td>\n      <td>1.0</td>\n      <td>NaN</td>\n      <td>NaN</td>\n      <td>W</td>\n      <td>41.0</td>\n      <td>ENE</td>\n      <td>NW</td>\n      <td>...</td>\n      <td>82.0</td>\n      <td>33.0</td>\n      <td>1010.8</td>\n      <td>1006.0</td>\n      <td>7.0</td>\n      <td>8.0</td>\n      <td>17.8</td>\n      <td>29.7</td>\n      <td>No</td>\n      <td>No</td>\n    </tr>\n    <tr>\n      <th>...</th>\n      <td>...</td>\n      <td>...</td>\n      <td>...</td>\n      <td>...</td>\n      <td>...</td>\n      <td>...</td>\n      <td>...</td>\n      <td>...</td>\n      <td>...</td>\n      <td>...</td>\n      <td>...</td>\n      <td>...</td>\n      <td>...</td>\n      <td>...</td>\n      <td>...</td>\n      <td>...</td>\n      <td>...</td>\n      <td>...</td>\n      <td>...</td>\n      <td>...</td>\n      <td>...</td>\n    </tr>\n    <tr>\n      <th>2017-06-21</th>\n      <td>Uluru</td>\n      <td>2.8</td>\n      <td>23.4</td>\n      <td>0.0</td>\n      <td>NaN</td>\n      <td>NaN</td>\n      <td>E</td>\n      <td>31.0</td>\n      <td>SE</td>\n      <td>ENE</td>\n      <td>...</td>\n      <td>51.0</td>\n      <td>24.0</td>\n      <td>1024.6</td>\n      <td>1020.3</td>\n      <td>NaN</td>\n      <td>NaN</td>\n      <td>10.1</td>\n      <td>22.4</td>\n      <td>No</td>\n      <td>No</td>\n    </tr>\n    <tr>\n      <th>2017-06-22</th>\n      <td>Uluru</td>\n      <td>3.6</td>\n      <td>25.3</td>\n      <td>0.0</td>\n      <td>NaN</td>\n      <td>NaN</td>\n      <td>NNW</td>\n      <td>22.0</td>\n      <td>SE</td>\n      <td>N</td>\n      <td>...</td>\n      <td>56.0</td>\n      <td>21.0</td>\n      <td>1023.5</td>\n      <td>1019.1</td>\n      <td>NaN</td>\n      <td>NaN</td>\n      <td>10.9</td>\n      <td>24.5</td>\n      <td>No</td>\n      <td>No</td>\n    </tr>\n    <tr>\n      <th>2017-06-23</th>\n      <td>Uluru</td>\n      <td>5.4</td>\n      <td>26.9</td>\n      <td>0.0</td>\n      <td>NaN</td>\n      <td>NaN</td>\n      <td>N</td>\n      <td>37.0</td>\n      <td>SE</td>\n      <td>WNW</td>\n      <td>...</td>\n      <td>53.0</td>\n      <td>24.0</td>\n      <td>1021.0</td>\n      <td>1016.8</td>\n      <td>NaN</td>\n      <td>NaN</td>\n      <td>12.5</td>\n      <td>26.1</td>\n      <td>No</td>\n      <td>No</td>\n    </tr>\n    <tr>\n      <th>2017-06-24</th>\n      <td>Uluru</td>\n      <td>7.8</td>\n      <td>27.0</td>\n      <td>0.0</td>\n      <td>NaN</td>\n      <td>NaN</td>\n      <td>SE</td>\n      <td>28.0</td>\n      <td>SSE</td>\n      <td>N</td>\n      <td>...</td>\n      <td>51.0</td>\n      <td>24.0</td>\n      <td>1019.4</td>\n      <td>1016.5</td>\n      <td>3.0</td>\n      <td>2.0</td>\n      <td>15.1</td>\n      <td>26.0</td>\n      <td>No</td>\n      <td>No</td>\n    </tr>\n    <tr>\n      <th>2017-06-25</th>\n      <td>Uluru</td>\n      <td>14.9</td>\n      <td>NaN</td>\n      <td>0.0</td>\n      <td>NaN</td>\n      <td>NaN</td>\n      <td>NaN</td>\n      <td>NaN</td>\n      <td>ESE</td>\n      <td>ESE</td>\n      <td>...</td>\n      <td>62.0</td>\n      <td>36.0</td>\n      <td>1020.2</td>\n      <td>1017.9</td>\n      <td>8.0</td>\n      <td>8.0</td>\n      <td>15.0</td>\n      <td>20.9</td>\n      <td>No</td>\n      <td>NaN</td>\n    </tr>\n  </tbody>\n</table>\n<p>145460 rows × 22 columns</p>\n</div>"
     },
     "execution_count": 3,
     "metadata": {},
     "output_type": "execute_result"
    }
   ],
   "source": [
    "data['Date'] = pd.to_datetime(data['Date'])\n",
    "data.set_index('Date',inplace=True)\n",
    "data"
   ],
   "metadata": {
    "collapsed": false,
    "pycharm": {
     "name": "#%%\n"
    }
   }
  },
  {
   "cell_type": "markdown",
   "source": [
    "## Identify data types and measurement levels of dataset"
   ],
   "metadata": {
    "collapsed": false,
    "pycharm": {
     "name": "#%% md\n"
    }
   }
  },
  {
   "cell_type": "code",
   "execution_count": 4,
   "outputs": [],
   "source": [
    "numerical = data.select_dtypes(include=np.number)\n",
    "categorical = data.select_dtypes(include=np.object)"
   ],
   "metadata": {
    "collapsed": false,
    "pycharm": {
     "name": "#%%\n"
    }
   }
  },
  {
   "cell_type": "code",
   "execution_count": 5,
   "outputs": [
    {
     "data": {
      "text/plain": "Date           2008-12-01  2008-12-02  2008-12-03  2008-12-04  2008-12-05\nMinTemp              13.4         7.4        12.9         9.2        17.5\nMaxTemp              22.9        25.1        25.7        28.0        32.3\nRainfall              0.6         0.0         0.0         0.0         1.0\nEvaporation           NaN         NaN         NaN         NaN         NaN\nSunshine              NaN         NaN         NaN         NaN         NaN\nWindGustSpeed        44.0        44.0        46.0        24.0        41.0\nWindSpeed9am         20.0         4.0        19.0        11.0         7.0\nWindSpeed3pm         24.0        22.0        26.0         9.0        20.0\nHumidity9am          71.0        44.0        38.0        45.0        82.0\nHumidity3pm          22.0        25.0        30.0        16.0        33.0\nPressure9am        1007.7      1010.6      1007.6      1017.6      1010.8\nPressure3pm        1007.1      1007.8      1008.7      1012.8      1006.0\nCloud9am              8.0         NaN         NaN         NaN         7.0\nCloud3pm              NaN         NaN         2.0         NaN         8.0\nTemp9am              16.9        17.2        21.0        18.1        17.8\nTemp3pm              21.8        24.3        23.2        26.5        29.7",
      "text/html": "<div>\n<style scoped>\n    .dataframe tbody tr th:only-of-type {\n        vertical-align: middle;\n    }\n\n    .dataframe tbody tr th {\n        vertical-align: top;\n    }\n\n    .dataframe thead th {\n        text-align: right;\n    }\n</style>\n<table border=\"1\" class=\"dataframe\">\n  <thead>\n    <tr style=\"text-align: right;\">\n      <th>Date</th>\n      <th>2008-12-01</th>\n      <th>2008-12-02</th>\n      <th>2008-12-03</th>\n      <th>2008-12-04</th>\n      <th>2008-12-05</th>\n    </tr>\n  </thead>\n  <tbody>\n    <tr>\n      <th>MinTemp</th>\n      <td>13.4</td>\n      <td>7.4</td>\n      <td>12.9</td>\n      <td>9.2</td>\n      <td>17.5</td>\n    </tr>\n    <tr>\n      <th>MaxTemp</th>\n      <td>22.9</td>\n      <td>25.1</td>\n      <td>25.7</td>\n      <td>28.0</td>\n      <td>32.3</td>\n    </tr>\n    <tr>\n      <th>Rainfall</th>\n      <td>0.6</td>\n      <td>0.0</td>\n      <td>0.0</td>\n      <td>0.0</td>\n      <td>1.0</td>\n    </tr>\n    <tr>\n      <th>Evaporation</th>\n      <td>NaN</td>\n      <td>NaN</td>\n      <td>NaN</td>\n      <td>NaN</td>\n      <td>NaN</td>\n    </tr>\n    <tr>\n      <th>Sunshine</th>\n      <td>NaN</td>\n      <td>NaN</td>\n      <td>NaN</td>\n      <td>NaN</td>\n      <td>NaN</td>\n    </tr>\n    <tr>\n      <th>WindGustSpeed</th>\n      <td>44.0</td>\n      <td>44.0</td>\n      <td>46.0</td>\n      <td>24.0</td>\n      <td>41.0</td>\n    </tr>\n    <tr>\n      <th>WindSpeed9am</th>\n      <td>20.0</td>\n      <td>4.0</td>\n      <td>19.0</td>\n      <td>11.0</td>\n      <td>7.0</td>\n    </tr>\n    <tr>\n      <th>WindSpeed3pm</th>\n      <td>24.0</td>\n      <td>22.0</td>\n      <td>26.0</td>\n      <td>9.0</td>\n      <td>20.0</td>\n    </tr>\n    <tr>\n      <th>Humidity9am</th>\n      <td>71.0</td>\n      <td>44.0</td>\n      <td>38.0</td>\n      <td>45.0</td>\n      <td>82.0</td>\n    </tr>\n    <tr>\n      <th>Humidity3pm</th>\n      <td>22.0</td>\n      <td>25.0</td>\n      <td>30.0</td>\n      <td>16.0</td>\n      <td>33.0</td>\n    </tr>\n    <tr>\n      <th>Pressure9am</th>\n      <td>1007.7</td>\n      <td>1010.6</td>\n      <td>1007.6</td>\n      <td>1017.6</td>\n      <td>1010.8</td>\n    </tr>\n    <tr>\n      <th>Pressure3pm</th>\n      <td>1007.1</td>\n      <td>1007.8</td>\n      <td>1008.7</td>\n      <td>1012.8</td>\n      <td>1006.0</td>\n    </tr>\n    <tr>\n      <th>Cloud9am</th>\n      <td>8.0</td>\n      <td>NaN</td>\n      <td>NaN</td>\n      <td>NaN</td>\n      <td>7.0</td>\n    </tr>\n    <tr>\n      <th>Cloud3pm</th>\n      <td>NaN</td>\n      <td>NaN</td>\n      <td>2.0</td>\n      <td>NaN</td>\n      <td>8.0</td>\n    </tr>\n    <tr>\n      <th>Temp9am</th>\n      <td>16.9</td>\n      <td>17.2</td>\n      <td>21.0</td>\n      <td>18.1</td>\n      <td>17.8</td>\n    </tr>\n    <tr>\n      <th>Temp3pm</th>\n      <td>21.8</td>\n      <td>24.3</td>\n      <td>23.2</td>\n      <td>26.5</td>\n      <td>29.7</td>\n    </tr>\n  </tbody>\n</table>\n</div>"
     },
     "execution_count": 5,
     "metadata": {},
     "output_type": "execute_result"
    }
   ],
   "source": [
    "numerical.head(5).T"
   ],
   "metadata": {
    "collapsed": false,
    "pycharm": {
     "name": "#%%\n"
    }
   }
  },
  {
   "cell_type": "code",
   "execution_count": 6,
   "outputs": [
    {
     "data": {
      "text/plain": "Date         2008-12-01 2008-12-02 2008-12-03 2008-12-04 2008-12-05\nLocation         Albury     Albury     Albury     Albury     Albury\nWindGustDir           W        WNW        WSW         NE          W\nWindDir9am            W        NNW          W         SE        ENE\nWindDir3pm          WNW        WSW        WSW          E         NW\nRainToday            No         No         No         No         No\nRainTomorrow         No         No         No         No         No",
      "text/html": "<div>\n<style scoped>\n    .dataframe tbody tr th:only-of-type {\n        vertical-align: middle;\n    }\n\n    .dataframe tbody tr th {\n        vertical-align: top;\n    }\n\n    .dataframe thead th {\n        text-align: right;\n    }\n</style>\n<table border=\"1\" class=\"dataframe\">\n  <thead>\n    <tr style=\"text-align: right;\">\n      <th>Date</th>\n      <th>2008-12-01</th>\n      <th>2008-12-02</th>\n      <th>2008-12-03</th>\n      <th>2008-12-04</th>\n      <th>2008-12-05</th>\n    </tr>\n  </thead>\n  <tbody>\n    <tr>\n      <th>Location</th>\n      <td>Albury</td>\n      <td>Albury</td>\n      <td>Albury</td>\n      <td>Albury</td>\n      <td>Albury</td>\n    </tr>\n    <tr>\n      <th>WindGustDir</th>\n      <td>W</td>\n      <td>WNW</td>\n      <td>WSW</td>\n      <td>NE</td>\n      <td>W</td>\n    </tr>\n    <tr>\n      <th>WindDir9am</th>\n      <td>W</td>\n      <td>NNW</td>\n      <td>W</td>\n      <td>SE</td>\n      <td>ENE</td>\n    </tr>\n    <tr>\n      <th>WindDir3pm</th>\n      <td>WNW</td>\n      <td>WSW</td>\n      <td>WSW</td>\n      <td>E</td>\n      <td>NW</td>\n    </tr>\n    <tr>\n      <th>RainToday</th>\n      <td>No</td>\n      <td>No</td>\n      <td>No</td>\n      <td>No</td>\n      <td>No</td>\n    </tr>\n    <tr>\n      <th>RainTomorrow</th>\n      <td>No</td>\n      <td>No</td>\n      <td>No</td>\n      <td>No</td>\n      <td>No</td>\n    </tr>\n  </tbody>\n</table>\n</div>"
     },
     "execution_count": 6,
     "metadata": {},
     "output_type": "execute_result"
    }
   ],
   "source": [
    "categorical.head(5).T"
   ],
   "metadata": {
    "collapsed": false,
    "pycharm": {
     "name": "#%%\n"
    }
   }
  },
  {
   "cell_type": "code",
   "execution_count": null,
   "outputs": [],
   "source": [],
   "metadata": {
    "collapsed": false,
    "pycharm": {
     "name": "#%%\n"
    }
   }
  }
 ],
 "metadata": {
  "kernelspec": {
   "display_name": "Python 3",
   "language": "python",
   "name": "python3"
  },
  "language_info": {
   "codemirror_mode": {
    "name": "ipython",
    "version": 2
   },
   "file_extension": ".py",
   "mimetype": "text/x-python",
   "name": "python",
   "nbconvert_exporter": "python",
   "pygments_lexer": "ipython2",
   "version": "2.7.6"
  }
 },
 "nbformat": 4,
 "nbformat_minor": 0
}